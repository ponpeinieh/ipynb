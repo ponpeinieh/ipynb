{
 "cells": [
  {
   "cell_type": "code",
   "execution_count": null,
   "id": "091221d3",
   "metadata": {},
   "outputs": [],
   "source": [
    "name = \"maggie\"\n",
    "def modify_name(name):\n",
    "    uppercase_name = name.upper()\n",
    "    print(f\"in modify_name():{uppercase_name}\")\n",
    "    print(f\"in modify_name():{name}\")\n",
    "\n",
    "modify_name(name)\n",
    "print(name)"
   ]
  },
  {
   "cell_type": "code",
   "execution_count": null,
   "id": "f9761eaa",
   "metadata": {},
   "outputs": [],
   "source": [
    "mylist = ['green','purple']\n",
    "def modify_list(mylist):\n",
    "    mylist.append('black')\n",
    "    print(f\"In modify_list(): {mylist}\")\n",
    "\n",
    "modify_list(mylist)\n",
    "print(f\"In 主程式: {mylist}\")"
   ]
  },
  {
   "cell_type": "code",
   "execution_count": null,
   "id": "c63beb68",
   "metadata": {},
   "outputs": [],
   "source": [
    "mynumber = 100\n",
    "def modify_number(mynumber):\n",
    "    mynumber+=1\n",
    "    print(f\"In modify_number(): {mynumber}\")\n",
    "\n",
    "modify_number(mynumber)\n",
    "print(f\"In 主程式:{mynumber}\")"
   ]
  },
  {
   "cell_type": "code",
   "execution_count": null,
   "id": "d4d4c51b",
   "metadata": {},
   "outputs": [],
   "source": [
    "cards=[]\n",
    "#spade, heart, diamond, club\n",
    "\n",
    "def create_card(n):\n",
    "    suits=[0x2660, 0x2661, 0x2662, 0x2663]\n",
    "    ranks=['A','2','3','4','5','6','7','8','9','10','J','Q','K']\n",
    "    suit = n//13\n",
    "    rank = n%13\n",
    "    return {'suit':chr(suits[suit]),'rank':ranks[rank]}\n",
    "\n",
    "print(create_card(0))\n",
    "for n in range(52):\n",
    "    card = create_card(n)\n",
    "    print(f\"{card['suit']} {card['rank']}\",end=\" \")"
   ]
  },
  {
   "cell_type": "code",
   "execution_count": null,
   "id": "0820f875",
   "metadata": {},
   "outputs": [],
   "source": [
    "import random\n",
    "r_list = random.sample(list(range(52)),52)\n",
    "#print(r_list)\n",
    "for i in r_list:\n",
    "    card = create_card(i)\n",
    "    print(f\"{card['suit']}{card['rank']}\",end=\" \")"
   ]
  },
  {
   "cell_type": "code",
   "execution_count": null,
   "id": "9f999ee1",
   "metadata": {},
   "outputs": [],
   "source": [
    "import pet\n",
    "\n",
    "pet1 = pet.make_pet('dog','henry',color='black', age=5)\n",
    "print(pet1)\n",
    "pet2 = pet.make_pet('cat','bruce',weight=10, hair='long')\n",
    "print(pet2)\n",
    "pet3 = pet.make_pet('fish','golden')\n",
    "print(pet3)"
   ]
  }
 ],
 "metadata": {
  "kernelspec": {
   "display_name": "Python 3 (ipykernel)",
   "language": "python",
   "name": "python3"
  },
  "language_info": {
   "codemirror_mode": {
    "name": "ipython",
    "version": 3
   },
   "file_extension": ".py",
   "mimetype": "text/x-python",
   "name": "python",
   "nbconvert_exporter": "python",
   "pygments_lexer": "ipython3",
   "version": "3.11.4"
  }
 },
 "nbformat": 4,
 "nbformat_minor": 5
}
