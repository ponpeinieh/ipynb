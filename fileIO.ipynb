{
 "cells": [
  {
   "cell_type": "code",
   "execution_count": null,
   "id": "fccc0f19",
   "metadata": {},
   "outputs": [],
   "source": [
    "with open('data.txt','r') as file:\n",
    "    contents = file.read()\n",
    "print(contents)"
   ]
  },
  {
   "cell_type": "code",
   "execution_count": null,
   "id": "d9fba228",
   "metadata": {},
   "outputs": [],
   "source": [
    "file = open('data.txt')\n",
    "contents= file.read()\n",
    "contents"
   ]
  },
  {
   "cell_type": "code",
   "execution_count": null,
   "id": "d5829ef7",
   "metadata": {},
   "outputs": [],
   "source": [
    "# end of file(EOF) will return ''(empty string)\n",
    "file.read()"
   ]
  },
  {
   "cell_type": "code",
   "execution_count": null,
   "id": "dc1d35db",
   "metadata": {},
   "outputs": [],
   "source": [
    "# return the file position(in byte)\n",
    "file.tell() "
   ]
  },
  {
   "cell_type": "code",
   "execution_count": null,
   "id": "0b3859c0",
   "metadata": {},
   "outputs": [],
   "source": [
    "# set file postion to the beginning\n",
    "file.seek(0)"
   ]
  },
  {
   "cell_type": "code",
   "execution_count": null,
   "id": "eceda660",
   "metadata": {},
   "outputs": [],
   "source": [
    "file.read()"
   ]
  },
  {
   "cell_type": "code",
   "execution_count": null,
   "id": "bfb1de50",
   "metadata": {},
   "outputs": [],
   "source": [
    "file.seek(0)\n",
    "file.tell()"
   ]
  },
  {
   "cell_type": "code",
   "execution_count": null,
   "id": "91bfbcd5",
   "metadata": {},
   "outputs": [],
   "source": [
    "file.close()"
   ]
  },
  {
   "cell_type": "code",
   "execution_count": null,
   "id": "4d6b565b",
   "metadata": {},
   "outputs": [],
   "source": [
    "with open('data.txt') as file:\n",
    "    #loop over the file, so you can read lines from the file\n",
    "    for line in file:\n",
    "        print(line.rstrip())"
   ]
  },
  {
   "cell_type": "code",
   "execution_count": null,
   "id": "2746bbd3",
   "metadata": {},
   "outputs": [],
   "source": [
    "with open('data.txt') as file:\n",
    "    #read lines into list: two ways\n",
    "    #lines = file.readlines()\n",
    "    lines = list(file)\n",
    "for line in lines:\n",
    "    print(line.rstrip())\n",
    "digits=''\n",
    "for line in lines:\n",
    "    digits+=line.rstrip() #string concatenation\n",
    "print(digits)"
   ]
  },
  {
   "cell_type": "code",
   "execution_count": null,
   "id": "f333844d",
   "metadata": {},
   "outputs": [],
   "source": [
    "# another way to concat strings\n",
    "digits = ''.join(lines)\n",
    "print(digits)"
   ]
  },
  {
   "cell_type": "code",
   "execution_count": null,
   "id": "8de5b2d2",
   "metadata": {},
   "outputs": [],
   "source": [
    "with open('pi_million_digits.txt') as file:\n",
    "    lines = file.readlines()\n",
    "digits=''\n",
    "for line in lines:\n",
    "    digits+=line.strip()\n",
    "print(f'{digits[:100]}...')"
   ]
  },
  {
   "cell_type": "code",
   "execution_count": null,
   "id": "d2d7dacf",
   "metadata": {},
   "outputs": [],
   "source": [
    "birthdays = input('Enter your birthday, in the format of yyyymmdd:')\n",
    "if birthdays in digits:\n",
    "    print('Your birthday appears in the digits of PI')\n",
    "else:\n",
    "    print('Your birthday does not appear in the digits of PI')"
   ]
  },
  {
   "cell_type": "code",
   "execution_count": null,
   "id": "a520cdbe",
   "metadata": {},
   "outputs": [],
   "source": [
    "d_stats=[]\n",
    "for i in range(10):\n",
    "    d_stats.append(0)\n",
    "for d in digits[2:]:\n",
    "    d_stats[int(d)]+=1\n",
    "for i,n in enumerate(d_stats):\n",
    "    print(f'{i}:{n}')"
   ]
  },
  {
   "cell_type": "code",
   "execution_count": null,
   "id": "9c4af799",
   "metadata": {},
   "outputs": [],
   "source": [
    "with open(\"output.txt\",'w') as file:\n",
    "    num = file.write(\"Hello world!\\n\") #return number of chars written\n",
    "    print(num)\n",
    "    num = file.write(\"Welcome to Python world too!\\n\")\n",
    "    print(num)\n",
    "with open('output.txt') as file:\n",
    "    contents = file.read()\n",
    "    print(contents)"
   ]
  },
  {
   "cell_type": "code",
   "execution_count": null,
   "id": "b6a491b1",
   "metadata": {},
   "outputs": [],
   "source": [
    "with open(\"output.txt\",'a') as file:\n",
    "    file.write(\"Let's do some programming!\\n\") \n",
    "with open('output.txt') as file:\n",
    "    contents = file.read()\n",
    "    print(contents)"
   ]
  },
  {
   "cell_type": "code",
   "execution_count": null,
   "id": "0f318708",
   "metadata": {},
   "outputs": [],
   "source": [
    "with open(\"output.txt\",'w+') as file:\n",
    "    file.write(\"Let's take a break!\\n\")  \n",
    "    file.seek(0)\n",
    "    contents = file.read()\n",
    "    print(contents)"
   ]
  },
  {
   "cell_type": "code",
   "execution_count": null,
   "id": "b7d03700",
   "metadata": {},
   "outputs": [],
   "source": [
    "import struct\n",
    "with open(\"output.bin\",'wb+') as file:\n",
    "    file.write(struct.pack('>i', 1) )\n",
    "    file.write(struct.pack('>i', 2) )\n",
    "    file.write(struct.pack('>i', 3) )\n",
    "    file.seek(0)\n",
    "    contents = file.read()\n",
    "    print(contents) "
   ]
  },
  {
   "cell_type": "code",
   "execution_count": null,
   "id": "6ff64825",
   "metadata": {},
   "outputs": [],
   "source": [
    "class A:\n",
    "    def __init__(self):\n",
    "        self.a=100\n",
    "        self.b=200\n",
    "a = A()\n",
    "print(a.a, a.b)\n",
    "repr(a)"
   ]
  },
  {
   "cell_type": "code",
   "execution_count": null,
   "id": "7051401f",
   "metadata": {},
   "outputs": [],
   "source": [
    "repr(lines)"
   ]
  },
  {
   "cell_type": "code",
   "execution_count": null,
   "id": "6fd055b9",
   "metadata": {},
   "outputs": [],
   "source": [
    "str(lines)"
   ]
  },
  {
   "cell_type": "code",
   "execution_count": null,
   "id": "12c26e51",
   "metadata": {},
   "outputs": [],
   "source": [
    "format(lines)"
   ]
  },
  {
   "cell_type": "code",
   "execution_count": null,
   "id": "c87693e9",
   "metadata": {},
   "outputs": [],
   "source": [
    "with open('output.txt') as file:\n",
    "    contents = file.read()\n",
    "    print(len(contents))\n",
    "    file.seek(0,2)\n",
    "    print(file.tell())\n",
    "    file.seek(0,0)\n",
    "    contents = file.read(5)\n",
    "    print(contents)\n",
    "    print(file.tell())"
   ]
  }
 ],
 "metadata": {
  "kernelspec": {
   "display_name": "Python 3 (ipykernel)",
   "language": "python",
   "name": "python3"
  },
  "language_info": {
   "codemirror_mode": {
    "name": "ipython",
    "version": 3
   },
   "file_extension": ".py",
   "mimetype": "text/x-python",
   "name": "python",
   "nbconvert_exporter": "python",
   "pygments_lexer": "ipython3",
   "version": "3.10.0"
  }
 },
 "nbformat": 4,
 "nbformat_minor": 5
}
