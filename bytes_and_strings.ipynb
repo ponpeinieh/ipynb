{
 "cells": [
  {
   "cell_type": "markdown",
   "id": "449c7520",
   "metadata": {},
   "source": [
    "### Bytes vs Strings\n",
    "\n",
    "- Bytes are bytes; characters are an abstraction. \n",
    "- An immutable sequence of Unicode characters is called a string. \n",
    "- An immutable sequence of numbers-between-0-and-255 is called a bytes object.\n",
    "- To define a bytes object, use the **b'' “byte literal” syntax**. Each byte within the byte literal can be **an ascii character** or an encoded hexadecimal number from **\\x00 to \\xff (0–255)**.\n",
    "- The type of a bytes object is bytes.\n",
    "\n",
    "### Return the hexadecimal representation of the binary data. \n",
    "\n",
    "    - https://docs.python.org/3/library/binascii.html \n",
    "    - binascii.b2a_hex(data[, sep[, bytes_per_sep=1]]) or binascii.hexlify(data[, sep[, bytes_per_sep=1]])\n",
    "    - Every byte of data is converted into the corresponding 2-digit hex representation. The returned bytes object is therefore twice as long as the length of data.\n",
    "    \n",
    "### Return the binary data represented by the hexadecimal string \n",
    "\n",
    "    - binascii.a2b_hex(hexstr) or binascii.unhexlify(hexstr)\n",
    "    - This function is the inverse of b2a_hex(). \n",
    "    - hexstr must contain an even number of hexadecimal digits (which can be upper or lower case), otherwise an Error exception is raised."
   ]
  },
  {
   "cell_type": "code",
   "execution_count": null,
   "id": "ef5bfd23",
   "metadata": {},
   "outputs": [],
   "source": [
    "import binascii\n",
    "str1 = binascii.b2a_hex(b'\\xb9\\x01\\xef')\n",
    "str1"
   ]
  },
  {
   "cell_type": "code",
   "execution_count": null,
   "id": "b1a793aa",
   "metadata": {},
   "outputs": [],
   "source": [
    "by1 = binascii.a2b_hex(str1)\n",
    "by1"
   ]
  },
  {
   "cell_type": "code",
   "execution_count": null,
   "id": "c35b84c3",
   "metadata": {},
   "outputs": [],
   "source": [
    "str2 = binascii.b2a_hex(b'aXEk12') # a:\\x61, X:\\x58, E:\\x45, k:\\x6b, 1:\\x31, 2:\\x32\n",
    "#str2 = binascii.b2a_hex(b'\\x61\\x58\\x45\\x6b\\x31\\x32')\n",
    "str2"
   ]
  },
  {
   "cell_type": "code",
   "execution_count": null,
   "id": "97656ef8",
   "metadata": {},
   "outputs": [],
   "source": [
    "by2 = binascii.a2b_hex(str2)\n",
    "by2"
   ]
  },
  {
   "cell_type": "markdown",
   "id": "2dde5d0e",
   "metadata": {},
   "source": [
    "### Example\n",
    "- Checking if the given image is jpeg or not\n",
    "- reference： https://www.geeksforgeeks.org/working-with-binary-data-in-python/"
   ]
  },
  {
   "cell_type": "code",
   "execution_count": null,
   "id": "d5ee38ea",
   "metadata": {},
   "outputs": [],
   "source": [
    "import binascii\n",
    "  \n",
    "# use binascii.a2b_hex() function to generate bytes value or \n",
    "# directly generate byte values using the binary literal format\n",
    "\n",
    "jpeg_signatures = [\n",
    "    binascii.a2b_hex(b'FFD8FFD8'),\n",
    "    binascii.a2b_hex(b'FFD8FFE0'),\n",
    "    binascii.a2b_hex(b'FFD8FFE1')\n",
    "]\n",
    "\n",
    "'''\n",
    "jpeg_signatures = [\n",
    "    b'\\xFF\\xD8\\xFF\\xD8',\n",
    "    b'\\xFF\\xD8\\xFF\\xE0',\n",
    "    b'\\xFF\\xD8\\xFF\\xE1',\n",
    "]\n",
    "''' \n",
    "\n",
    "with open('metaverse.jpg', 'rb') as file:\n",
    "    first_four_bytes = file.read(4)\n",
    "  \n",
    "    if first_four_bytes in jpeg_signatures:\n",
    "        print(\"JPEG detected.\")\n",
    "    else:\n",
    "        print(\"File does not look like a JPEG.\")"
   ]
  },
  {
   "cell_type": "markdown",
   "id": "64b1e7d2",
   "metadata": {},
   "source": [
    "### Practice : check an image is png or not\n",
    "\n",
    "- eight byte signature : b'\\x89PNG\\r\\n\\x1a\\n'"
   ]
  },
  {
   "cell_type": "code",
   "execution_count": null,
   "id": "d9525d98",
   "metadata": {},
   "outputs": [],
   "source": [
    "png_signature = b'\\x89PNG\\r\\n\\x1a\\n'\n",
    "print(binascii.b2a_hex())\n",
    "#png_signature = binascii.a2b_hex('89504E470D0A1A0A')\n",
    "with open('line.png','rb') as img:\n",
    "    signature = img.read(8)\n",
    "    if signature == png_signature:\n",
    "        print('PNG file detected.')\n",
    "    else:\n",
    "        print('It is not a PNG image file.')"
   ]
  },
  {
   "cell_type": "markdown",
   "id": "7c23b3f7",
   "metadata": {},
   "source": [
    "### Python bytes concatenation\n",
    "\n",
    "- Bytes don't work quite like strings. \n",
    "    - When you index with a single value (rather than a slice), you get an integer, rather than a length-one bytes instance. \n",
    "    - a[0] gives you an int , 20 (hex 0x14).\n",
    "- bytes constructor. \n",
    "    - If you pass a single integer in as the argument (rather than an iterable), you get a bytes instance that consists of that many null bytes (\"\\x00\"). \n",
    "    - Using curly brackets works because it creates a set (which is iterable).\n",
    "- Using slicing to concat : a += a[0:1]\n",
    "    - rather than using indexing with a single value. \n",
    "    - This will give you a bytes instance that you can concatenate onto your existing value.\n"
   ]
  },
  {
   "cell_type": "code",
   "execution_count": null,
   "id": "b722bea2",
   "metadata": {},
   "outputs": [],
   "source": [
    "a = b'\\x14\\xf6' \n",
    "a += a[0]"
   ]
  },
  {
   "cell_type": "code",
   "execution_count": null,
   "id": "95f113cd",
   "metadata": {},
   "outputs": [],
   "source": [
    "bytes(a[0])"
   ]
  },
  {
   "cell_type": "code",
   "execution_count": null,
   "id": "92e3c350",
   "metadata": {},
   "outputs": [],
   "source": [
    "bytes({a[0]})"
   ]
  },
  {
   "cell_type": "code",
   "execution_count": null,
   "id": "de5ccace",
   "metadata": {},
   "outputs": [],
   "source": [
    "a += a[0:1]\n",
    "a"
   ]
  },
  {
   "cell_type": "markdown",
   "id": "3a505048",
   "metadata": {},
   "source": [
    "### transform between bytes and string\n",
    "\n",
    "- bytes objects have a decode() method that takes a character encoding and returns a string\n",
    "- strings have an encode() method that takes a character encoding and returns a bytes object. \n",
    "- ```by.decode('ascii')``` : converting a sequence of bytes in the ascii encoding into a string of characters. \n",
    "- But the same process works with any encoding that supports the characters of the string — even legacy (non-Unicode) encodings.\n"
   ]
  },
  {
   "cell_type": "code",
   "execution_count": null,
   "id": "46d94c21",
   "metadata": {},
   "outputs": [],
   "source": [
    "a_string = '深入 Python'  #\\u6df1\\u5165\n",
    "len(a_string) "
   ]
  },
  {
   "cell_type": "code",
   "execution_count": null,
   "id": "b8a9a970",
   "metadata": {},
   "outputs": [],
   "source": [
    "#The first 4 bytes, ff fe 00 00, are BOM in little-endian order\n",
    "by = a_string.encode('utf32') \n",
    "print(len(by))\n",
    "by"
   ]
  },
  {
   "cell_type": "code",
   "execution_count": null,
   "id": "c11c92aa",
   "metadata": {},
   "outputs": [],
   "source": [
    "#The first 2 bytes, ff fe, are BOM in little-endian order\n",
    "by = a_string.encode('utf16') \n",
    "print(len(by))\n",
    "by"
   ]
  },
  {
   "cell_type": "code",
   "execution_count": null,
   "id": "7887d331",
   "metadata": {},
   "outputs": [],
   "source": [
    "for b in by:\n",
    "    print(bin(b))"
   ]
  },
  {
   "cell_type": "code",
   "execution_count": null,
   "id": "f3ecee65",
   "metadata": {},
   "outputs": [],
   "source": [
    "by = a_string.encode('utf8') \n",
    "print(len(by))\n",
    "by"
   ]
  },
  {
   "cell_type": "code",
   "execution_count": null,
   "id": "b8a6a6ab",
   "metadata": {},
   "outputs": [],
   "source": [
    "for b in by:\n",
    "    print(f'{bin(b)} : {hex(b)}')"
   ]
  },
  {
   "cell_type": "code",
   "execution_count": null,
   "id": "b320175f",
   "metadata": {},
   "outputs": [],
   "source": [
    "b_string = by.decode('utf8')\n",
    "b_string"
   ]
  },
  {
   "cell_type": "markdown",
   "id": "b921bc21",
   "metadata": {},
   "source": [
    "### Unicode Literals in Python Source Code\n",
    "\n",
    "- In Python source code, specific Unicode code points can be written using the **\\u escape sequence**, which is followed by **four** hex digits giving the code point. \n",
    "- The **\\U escape sequence** is similar, but expects **eight** hex digits, not four:\n",
    "\n",
    "```\n",
    "s = \"a\\xac\\u1234\\u20ac\\U00008000\"\n",
    "#     ^^^^ two-digit hex escape\n",
    "#         ^^^^^^ four-digit Unicode escape\n",
    "#                     ^^^^^^^^^^ eight-digit Unicode escape\n",
    "[ord(c) for c in s]\n",
    "```"
   ]
  },
  {
   "cell_type": "code",
   "execution_count": 3,
   "id": "1f8e2dc4",
   "metadata": {},
   "outputs": [
    {
     "data": {
      "text/plain": [
       "[97, 172, 4660, 8364, 32768]"
      ]
     },
     "execution_count": 3,
     "metadata": {},
     "output_type": "execute_result"
    }
   ],
   "source": [
    "s = \"a\\xac\\u1234\\u20ac\\U00008000\"\n",
    "#     ^^^^ two-digit hex escape\n",
    "#         ^^^^^^ four-digit Unicode escape\n",
    "#                     ^^^^^^^^^^ eight-digit Unicode escape\n",
    "[ord(c) for c in s]"
   ]
  },
  {
   "cell_type": "code",
   "execution_count": 5,
   "id": "897539fc",
   "metadata": {},
   "outputs": [
    {
     "name": "stdout",
     "output_type": "stream",
     "text": [
      "😐\n",
      "b'\\xf0\\x9f\\x98\\x90'\n"
     ]
    }
   ],
   "source": [
    "face = '\\U0001F610'\n",
    "print(face)\n",
    "face_by = face.encode('utf-8')\n",
    "print(face_by)"
   ]
  },
  {
   "cell_type": "code",
   "execution_count": 7,
   "id": "bcf19950",
   "metadata": {},
   "outputs": [
    {
     "name": "stdout",
     "output_type": "stream",
     "text": [
      "😐\n"
     ]
    }
   ],
   "source": [
    "#U+1F610 😐 NEUTRAL FACE\n",
    "face_by = b'\\xf0\\x9f\\x98\\x90'\n",
    "face = face_by.decode('utf-8')\n",
    "print(face)"
   ]
  }
 ],
 "metadata": {
  "kernelspec": {
   "display_name": "Python 3 (ipykernel)",
   "language": "python",
   "name": "python3"
  },
  "language_info": {
   "codemirror_mode": {
    "name": "ipython",
    "version": 3
   },
   "file_extension": ".py",
   "mimetype": "text/x-python",
   "name": "python",
   "nbconvert_exporter": "python",
   "pygments_lexer": "ipython3",
   "version": "3.10.0"
  }
 },
 "nbformat": 4,
 "nbformat_minor": 5
}
