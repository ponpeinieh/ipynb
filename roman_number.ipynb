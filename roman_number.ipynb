{
 "cells": [
  {
   "cell_type": "markdown",
   "id": "a4bfaad1",
   "metadata": {},
   "source": [
    "I\tV\tX\tL\tC\tD\tM\n",
    "1\t5\t10\t50\t100\t500\t1000"
   ]
  },
  {
   "cell_type": "code",
   "execution_count": null,
   "id": "ab065340",
   "metadata": {},
   "outputs": [],
   "source": [
    "lookup_table = {3000:'MMM', 2000:'MM',1000:'M',900:'CM',800:'DCCC',700:'DCC',600:'DC',500:'D'\n",
    "               , 400:'CD', 300:'CCC', 200:'CC', 100:'C',90:'XC',80:'LXXX',70:'LXX',60:'LX',50:'L'\n",
    "               , 40:'XL', 30:'XXX', 20:'XX', 10:'X',9:'IX',8:'VIII',7:'VII',6:'VI',5:'V'\n",
    "               , 4:'IV', 3:'III', 2:'II', 1:'I', 0:''}\n",
    "table2 = {'M':1000, 'D':500, 'C':100, 'L':50, 'X':10, 'V':5, 'I':1}\n",
    "table3 = {'CM': -200, 'CD':-200, 'XC':-20, 'XL':-20, 'IX':-2, 'IV':-2}\n",
    "def toRoman(arabic):\n",
    "    thousand = arabic//1000*1000\n",
    "    hundred = arabic%1000//100*100\n",
    "    ten = arabic%100//10*10\n",
    "    one = arabic%10\n",
    "    #print(lookup_table[thousand],lookup_table[hundred],lookup_table[ten],lookup_table[one])\n",
    "    return f'{lookup_table[thousand]}{lookup_table[hundred]}{lookup_table[ten]}{lookup_table[one]}'\n",
    "\n",
    "def toArabic(roman):\n",
    "    #split it first\n",
    "    letters = [c for c in roman]\n",
    "    #print(letters)\n",
    "    arabic = 0\n",
    "    for letter in letters:\n",
    "        arabic=arabic+table2[letter]\n",
    "    for k in table3:\n",
    "        if roman.find(k)>=0:\n",
    "            arabic=arabic+table3[k]\n",
    "    return arabic\n",
    "    \n",
    "    \n",
    "i = input('Enter an Arabic number or a Roman number(less than 4000 please):')\n",
    "mode=0\n",
    "arabic=0\n",
    "roman=0\n",
    "try:\n",
    "    arabic = int(i)\n",
    "    mode=1\n",
    "except ValueError:\n",
    "    roman = i\n",
    "    mode=2 \n",
    "if mode==1:\n",
    "    roman = toRoman(arabic)\n",
    "    print(roman)\n",
    "    print(toArabic(roman))\n",
    "else:\n",
    "    arabic = toArabic(roman)\n",
    "    print(arabic)"
   ]
  },
  {
   "cell_type": "code",
   "execution_count": null,
   "id": "120c615c",
   "metadata": {},
   "outputs": [],
   "source": [
    "while True:\n",
    "    line = input()\n",
    "    if line!='#':\n",
    "        r1, r2 = line.split()\n",
    "        a1 = toArabic(r1)\n",
    "        a2 = toArabic(r2)\n",
    "        diff = abs(a1 - a2)\n",
    "        if diff==0:\n",
    "            print('ZERO')\n",
    "        else:\n",
    "            print(toRoman(diff))\n",
    "    else:\n",
    "        break"
   ]
  }
 ],
 "metadata": {
  "kernelspec": {
   "display_name": "Python 3",
   "language": "python",
   "name": "python3"
  },
  "language_info": {
   "codemirror_mode": {
    "name": "ipython",
    "version": 3
   },
   "file_extension": ".py",
   "mimetype": "text/x-python",
   "name": "python",
   "nbconvert_exporter": "python",
   "pygments_lexer": "ipython3",
   "version": "3.8.10"
  }
 },
 "nbformat": 4,
 "nbformat_minor": 5
}
