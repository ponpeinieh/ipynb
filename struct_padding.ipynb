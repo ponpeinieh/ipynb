{
 "cells": [
  {
   "cell_type": "code",
   "execution_count": null,
   "id": "c9141af2",
   "metadata": {},
   "outputs": [],
   "source": [
    "import struct\n",
    "# @ or not using it(ie. default) means using native byte order, size and alignment\n",
    "# on intel/ windows machine, the byte order is little-endian (lower byte at the lower address)\n",
    "struct.pack('@ci',b'x',0x01020304) "
   ]
  },
  {
   "cell_type": "markdown",
   "id": "c45686ef",
   "metadata": {},
   "source": [
    "### C struct padding\n",
    "\n",
    "- Before each individual member, there will be padding so that to make it start at an address that is divisible by its size.\n",
    "    - e.g on 64 bit system,int should start at address divisible by 4, and long by 8, short by 2.\n",
    "- char and char[] are special, could be any memory address, so they don't need padding before them.\n",
    "- For struct, other than the alignment need for each individual member, the size of whole struct itself will be aligned to a size divisible by size of largest individual member, by padding at end.\n",
    "    - e.g if struct's largest member is long then divisible by 8, int then by 4, short then by 2.\n",
    "\n",
    "### Python struct padding\n",
    "- Padding is only automatically added between successive structure members. \n",
    "- **No padding is added at the beginning or the end of the encoded struct**.\n",
    "- No padding is added when using non-native size and alignment, e.g. with ‘<’, ‘>’, ‘=’, and ‘!’.\n",
    "- To align the end of a structure to the alignment requirement of a particular type, end the format with the code for that type **with a repeat count of zero**.\n"
   ]
  },
  {
   "cell_type": "code",
   "execution_count": null,
   "id": "8938cac4",
   "metadata": {},
   "outputs": [],
   "source": [
    "# no padding at the end \n",
    "struct.pack('qc',0x01020304,b'x') "
   ]
  },
  {
   "cell_type": "code",
   "execution_count": null,
   "id": "820f2553",
   "metadata": {},
   "outputs": [],
   "source": [
    "# = means native byte order, standard size, and no alignment(padding)\n",
    "struct.pack('=ci',b'x',0x01020304) "
   ]
  },
  {
   "cell_type": "code",
   "execution_count": null,
   "id": "3c71f534",
   "metadata": {},
   "outputs": [],
   "source": [
    "# < means little-endian\n",
    "struct.pack('<ci',b'x',0x01020304)"
   ]
  },
  {
   "cell_type": "code",
   "execution_count": null,
   "id": "8c71b909",
   "metadata": {},
   "outputs": [],
   "source": [
    "# > means big-endian\n",
    "struct.pack('>ci',b'x',0x01020304)"
   ]
  },
  {
   "cell_type": "code",
   "execution_count": null,
   "id": "41648bda",
   "metadata": {},
   "outputs": [],
   "source": [
    "# ! means network byte order which is always big-endian\n",
    "struct.pack('!ci',b'x',0x01020304)"
   ]
  },
  {
   "cell_type": "code",
   "execution_count": null,
   "id": "6f9145ba",
   "metadata": {},
   "outputs": [],
   "source": [
    "# add padding at the end (need to use native alignment setting, ie. with @ or without any)\n",
    "# Here use 0i , it means align the end of a structure to the alignment requirement of an int\n",
    "struct.pack('qc0q',0x01020304,b'x')"
   ]
  }
 ],
 "metadata": {
  "kernelspec": {
   "display_name": "Python 3 (ipykernel)",
   "language": "python",
   "name": "python3"
  },
  "language_info": {
   "codemirror_mode": {
    "name": "ipython",
    "version": 3
   },
   "file_extension": ".py",
   "mimetype": "text/x-python",
   "name": "python",
   "nbconvert_exporter": "python",
   "pygments_lexer": "ipython3",
   "version": "3.10.0"
  }
 },
 "nbformat": 4,
 "nbformat_minor": 5
}
