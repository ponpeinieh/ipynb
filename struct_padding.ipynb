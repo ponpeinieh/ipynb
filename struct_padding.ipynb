{
 "cells": [
  {
   "cell_type": "code",
   "execution_count": 1,
   "id": "c9141af2",
   "metadata": {},
   "outputs": [
    {
     "data": {
      "text/plain": [
       "b'x\\x00\\x00\\x00\\x04\\x03\\x02\\x01'"
      ]
     },
     "execution_count": 1,
     "metadata": {},
     "output_type": "execute_result"
    }
   ],
   "source": [
    "import struct\n",
    "# @ or not using it(ie. default) means using native byte order, size and alignment\n",
    "# on intel/ windows machine, the byte order is little-endian (lower byte at the lower address)\n",
    "struct.pack('@ci',b'x',0x01020304) "
   ]
  },
  {
   "cell_type": "markdown",
   "id": "c45686ef",
   "metadata": {},
   "source": [
    "### C struct padding\n",
    "\n",
    "- Before each individual member, there will be padding so that to make it start at an address that is divisible by its size.\n",
    "    - e.g on 64 bit system,int should start at address divisible by 4, and long by 8, short by 2.\n",
    "- char and char[] are special, could be any memory address, so they don't need padding before them.\n",
    "- For struct, other than the alignment need for each individual member, the size of whole struct itself will be aligned to a size divisible by size of largest individual member, by padding at end.\n",
    "    - e.g if struct's largest member is long then divisible by 8, int then by 4, short then by 2.\n",
    "\n",
    "### Python struct padding\n",
    "- Padding is only automatically added between successive structure members. \n",
    "- **No padding is added at the beginning or the end of the encoded struct**.\n",
    "- No padding is added when using non-native size and alignment, e.g. with ‘<’, ‘>’, ‘=’, and ‘!’.\n",
    "- To align the end of a structure to the alignment requirement of a particular type, end the format with the code for that type **with a repeat count of zero**.\n"
   ]
  },
  {
   "cell_type": "code",
   "execution_count": null,
   "id": "8938cac4",
   "metadata": {},
   "outputs": [],
   "source": [
    "# no padding at the end \n",
    "struct.pack('qc',0x01020304,b'x') "
   ]
  },
  {
   "cell_type": "code",
   "execution_count": null,
   "id": "820f2553",
   "metadata": {},
   "outputs": [],
   "source": [
    "# = means native byte order, standard size, and no alignment(padding)\n",
    "struct.pack('=ci',b'x',0x01020304) "
   ]
  },
  {
   "cell_type": "code",
   "execution_count": null,
   "id": "3c71f534",
   "metadata": {},
   "outputs": [],
   "source": [
    "# < means little-endian\n",
    "struct.pack('<ci',b'x',0x01020304)"
   ]
  },
  {
   "cell_type": "code",
   "execution_count": null,
   "id": "8c71b909",
   "metadata": {},
   "outputs": [],
   "source": [
    "# > means big-endian\n",
    "struct.pack('>ci',b'x',0x01020304)"
   ]
  },
  {
   "cell_type": "code",
   "execution_count": null,
   "id": "41648bda",
   "metadata": {},
   "outputs": [],
   "source": [
    "# ! means network byte order which is always big-endian\n",
    "struct.pack('!ci',b'x',0x01020304)"
   ]
  },
  {
   "cell_type": "code",
   "execution_count": null,
   "id": "6f9145ba",
   "metadata": {},
   "outputs": [],
   "source": [
    "# add padding at the end (need to use native alignment setting, ie. with @ or without any)\n",
    "# Here use 0i , it means align the end of a structure to the alignment requirement of an int\n",
    "struct.pack('qc0q',0x01020304,b'x')"
   ]
  },
  {
   "cell_type": "code",
   "execution_count": 4,
   "id": "5fd3b94e-bcf9-4431-af6c-6cc90765ee9a",
   "metadata": {},
   "outputs": [
    {
     "name": "stdout",
     "output_type": "stream",
     "text": [
      "Width: 225 pixels\n",
      "Height: 225 pixels\n",
      "Bit Depth: 8\n",
      "Color Type: 3\n",
      "Compression Method: 0\n",
      "Filter Method: 0\n",
      "Interlace Method: 0\n"
     ]
    }
   ],
   "source": [
    "import struct\n",
    "\n",
    "def read_png_header(png_filename):\n",
    "    # Open the PNG file in binary mode\n",
    "    with open(png_filename, 'rb') as png_file:\n",
    "        # Read the first 8 bytes (PNG signature)\n",
    "        signature = png_file.read(8)\n",
    "        \n",
    "        # Check if the file is a valid PNG file by verifying the signature\n",
    "        if signature != b'\\x89PNG\\r\\n\\x1a\\n':\n",
    "            print(\"Not a valid PNG file!\")\n",
    "            return\n",
    "        \n",
    "        # Read the first chunk (IHDR chunk)\n",
    "        length_data = png_file.read(4)\n",
    "        chunk_type = png_file.read(4)\n",
    "        \n",
    "        # Check if it's the IHDR chunk\n",
    "        if chunk_type != b'IHDR':\n",
    "            print(\"IHDR chunk not found!\")\n",
    "            return\n",
    "        \n",
    "        # Unpack the IHDR data (13 bytes)\n",
    "        ihdr_data = png_file.read(13)\n",
    "        width, height, bit_depth, color_type, compression, filter_method, interlace = struct.unpack(\">IIBBBBB\", ihdr_data)\n",
    "        \n",
    "        # Read and ignore the CRC (4 bytes)\n",
    "        crc = png_file.read(4)\n",
    "        \n",
    "        # Print the parsed IHDR metadata\n",
    "        print(f\"Width: {width} pixels\")\n",
    "        print(f\"Height: {height} pixels\")\n",
    "        print(f\"Bit Depth: {bit_depth}\")\n",
    "        print(f\"Color Type: {color_type}\")\n",
    "        print(f\"Compression Method: {compression}\")\n",
    "        print(f\"Filter Method: {filter_method}\")\n",
    "        print(f\"Interlace Method: {interlace}\")\n",
    "\n",
    "# Example usage\n",
    "read_png_header('sample.png')\n"
   ]
  }
 ],
 "metadata": {
  "kernelspec": {
   "display_name": "Python 3 (ipykernel)",
   "language": "python",
   "name": "python3"
  },
  "language_info": {
   "codemirror_mode": {
    "name": "ipython",
    "version": 3
   },
   "file_extension": ".py",
   "mimetype": "text/x-python",
   "name": "python",
   "nbconvert_exporter": "python",
   "pygments_lexer": "ipython3",
   "version": "3.12.3"
  }
 },
 "nbformat": 4,
 "nbformat_minor": 5
}
