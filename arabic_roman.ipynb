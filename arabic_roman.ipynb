{
 "cells": [
  {
   "cell_type": "code",
   "execution_count": 1,
   "id": "eb1a5e46-0d57-437d-be84-b6c194677fa7",
   "metadata": {},
   "outputs": [
    {
     "name": "stdout",
     "output_type": "stream",
     "text": [
      "MCMXCVIII\n",
      "MXCVIII 900\n",
      "XCVIII 1900\n",
      "VIII 1990\n",
      "III 1995\n",
      "II 1996\n",
      "I 1997\n",
      " 1998\n"
     ]
    },
    {
     "data": {
      "text/plain": [
       "1998"
      ]
     },
     "execution_count": 1,
     "metadata": {},
     "output_type": "execute_result"
    }
   ],
   "source": [
    "# arabic to roman number\n",
    "def int_to_roman(num):\n",
    "    table_number = [1000, 900, 500, 400, 100, 90, 50, 40, 10,9, 5,4, 1]\n",
    "    table_symbol =['M','CM','D','CD','C','XC','L','XL','X','IX','V','IV','I']\n",
    "    roman = ''\n",
    "    i =0\n",
    "    while num>0:\n",
    "        for _ in range(num//table_number[i]):\n",
    "            roman+=table_symbol[i]\n",
    "            num-=table_number[i]\n",
    "        i+=1\n",
    "    return roman\n",
    "\n",
    "#呼叫\n",
    "print(int_to_roman(1998))\n",
    "\n",
    "# roman to arabic number\n",
    "def roman_to_int(rom):\n",
    "    table_number = [900, 1000, 400, 500,  90, 100,  40, 50, 9, 10, 4, 5, 1]\n",
    "    table_symbol =['CM','M','CD','D','XC','C','XL','L','IX','X','IV','V','I']\n",
    "    result=0\n",
    "    while len(rom)>0:\n",
    "        for i,n in enumerate(table_symbol):\n",
    "            if rom.find(n)>=0:\n",
    "                result+=table_number[i]\n",
    "                rom = rom.replace(n,'',1)\n",
    "                print(rom,result)\n",
    "                break\n",
    "    return result\n",
    "\n",
    "roman_to_int('MCMXCVIII')\n",
    "            "
   ]
  }
 ],
 "metadata": {
  "kernelspec": {
   "display_name": "Python 3 (ipykernel)",
   "language": "python",
   "name": "python3"
  },
  "language_info": {
   "codemirror_mode": {
    "name": "ipython",
    "version": 3
   },
   "file_extension": ".py",
   "mimetype": "text/x-python",
   "name": "python",
   "nbconvert_exporter": "python",
   "pygments_lexer": "ipython3",
   "version": "3.11.4"
  }
 },
 "nbformat": 4,
 "nbformat_minor": 5
}
