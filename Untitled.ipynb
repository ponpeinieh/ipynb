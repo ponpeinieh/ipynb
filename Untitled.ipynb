{
 "cells": [
  {
   "cell_type": "markdown",
   "id": "258aed32-35b9-4781-8191-19dfdb3b7872",
   "metadata": {},
   "source": [
    "INPUT = Draw a pie diagram of the Population of the USA and Canada, using millions as the unit\r\n",
    "\r\n",
    "OUTPUT = A pie diagram depicting the population distribution of the USA and Canada \\n ![Population Pie Chart](https://chart.googleapis.com/chart?chs=500x300&cht=p&chd=t:331,38&chl=USA|Canada)\r\n"
   ]
  },
  {
   "cell_type": "code",
   "execution_count": null,
   "id": "761190a0-3a9d-4310-9429-b7e682e20689",
   "metadata": {},
   "outputs": [],
   "source": []
  }
 ],
 "metadata": {
  "kernelspec": {
   "display_name": "Python 3 (ipykernel)",
   "language": "python",
   "name": "python3"
  },
  "language_info": {
   "codemirror_mode": {
    "name": "ipython",
    "version": 3
   },
   "file_extension": ".py",
   "mimetype": "text/x-python",
   "name": "python",
   "nbconvert_exporter": "python",
   "pygments_lexer": "ipython3",
   "version": "3.12.1"
  }
 },
 "nbformat": 4,
 "nbformat_minor": 5
}
