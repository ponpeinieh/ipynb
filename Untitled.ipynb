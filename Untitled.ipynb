{
 "cells": [
  {
   "cell_type": "markdown",
   "id": "258aed32-35b9-4781-8191-19dfdb3b7872",
   "metadata": {},
   "source": [
    "INPUT = Draw a pie diagram of the Population of the USA and Canada, using millions as the unit\r\n",
    "\r\n",
    "OUTPUT = A pie diagram depicting the population distribution of the USA and Canada \\n ![Population Pie Chart](https://chart.googleapis.com/chart?chs=500x300&cht=p&chd=t:331,38&chl=USA|Canada)\r\n"
   ]
  },
  {
   "cell_type": "code",
   "execution_count": null,
   "id": "761190a0-3a9d-4310-9429-b7e682e20689",
   "metadata": {},
   "outputs": [],
   "source": [
    "data=[1,2,3]\n",
    "data.update([4,5,6])\n",
    "print(data)\n",
    "myset=set(data)\n",
    "# data.discard(4)\n",
    "# myset.remove(4)\n",
    "myset.discard(4)\n",
    "myset.update({7, 8, 9})\n",
    "print(myset)"
   ]
  },
  {
   "cell_type": "code",
   "execution_count": null,
   "id": "61d6f7c9-ac91-4775-be69-eae160f8e715",
   "metadata": {},
   "outputs": [],
   "source": [
    "original_list = [1, 2, 3]\n",
    "repeated_list = original_list * 3\n",
    "\n",
    "# Alternatively, using list comprehension\n",
    "repeated_list_comprehension = [item  for _ in range(3) for item in original_list]\n",
    "\n",
    "print(repeated_list)\n",
    "print(repeated_list_comprehension)\n"
   ]
  },
  {
   "cell_type": "code",
   "execution_count": null,
   "id": "f4dce0b4-b621-4df2-bf6a-aa3a02126498",
   "metadata": {},
   "outputs": [],
   "source": [
    "a = [1,2,3]\n",
    "b=[2,3,6]\n",
    "a+=b\n",
    "a.extend(b)\n",
    "print(a)"
   ]
  },
  {
   "cell_type": "code",
   "execution_count": 29,
   "id": "53b08e11-a078-4ba3-a078-27bd25d9dbcf",
   "metadata": {},
   "outputs": [
    {
     "name": "stdout",
     "output_type": "stream",
     "text": [
      "55 False {55}\n",
      "34 False {34, 55}\n",
      "35 False {34, 35, 55}\n",
      "85 False {34, 35, 85, 55}\n",
      "89 False {34, 35, 85, 55, 89}\n",
      "10 False {34, 35, 10, 85, 55, 89}\n",
      "24 False {34, 35, 10, 85, 55, 24, 89}\n",
      "85 True {34, 35, 10, 85, 55, 24, 89}\n",
      "38 False {34, 35, 38, 10, 85, 55, 24, 89}\n",
      "53 False {34, 35, 38, 10, 85, 53, 55, 24, 89}\n",
      "44 False {34, 35, 38, 10, 44, 85, 53, 55, 24, 89}\n",
      "{34, 35, 38, 10, 44, 85, 53, 55, 24, 89}\n"
     ]
    }
   ],
   "source": [
    "import random\n",
    "y=set()\n",
    "while len(y)<10:\n",
    "    z = random.randint(1,100)\n",
    "    print(z, z in y, end=' ')\n",
    "    y.add(z)\n",
    "    print(y)\n",
    "print(y) "
   ]
  },
  {
   "cell_type": "code",
   "execution_count": 41,
   "id": "d5ea3ffb-0ffc-48cf-be0c-557efa5d494c",
   "metadata": {},
   "outputs": [
    {
     "name": "stdout",
     "output_type": "stream",
     "text": [
      "{11, 12, 13, 14, 15, 16, 17, 19}\n",
      "11\n",
      "12\n",
      "13\n",
      "14\n",
      "15\n",
      "16\n",
      "17\n",
      "19\n"
     ]
    }
   ],
   "source": [
    "a = {11,12,13,14,15,16,17,19}\n",
    "print(a)\n",
    "for b in a:\n",
    "    print(b)"
   ]
  }
 ],
 "metadata": {
  "kernelspec": {
   "display_name": "Python 3 (ipykernel)",
   "language": "python",
   "name": "python3"
  },
  "language_info": {
   "codemirror_mode": {
    "name": "ipython",
    "version": 3
   },
   "file_extension": ".py",
   "mimetype": "text/x-python",
   "name": "python",
   "nbconvert_exporter": "python",
   "pygments_lexer": "ipython3",
   "version": "3.12.3"
  }
 },
 "nbformat": 4,
 "nbformat_minor": 5
}
