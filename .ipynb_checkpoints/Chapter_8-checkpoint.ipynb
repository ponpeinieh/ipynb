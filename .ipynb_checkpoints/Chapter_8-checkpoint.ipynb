{
 "cells": [
  {
   "cell_type": "markdown",
   "id": "b9a8a943",
   "metadata": {},
   "source": [
    "## Files \n",
    "\n",
    "### Reading text files\n",
    "\n",
    "- prepare a text file , eg. containing 30 decimal places of pi\n",
    "    \n",
    "```\n",
    "pi_digits.txt \n",
    "\n",
    "3.1415926535\n",
    "8979323846\n",
    "2643383279\n",
    "```  \n",
    "\n",
    "- A program that opens this file, read it, and print it\n",
    "\n",
    "```\n",
    "with open('pi_digits.txt') as file_object:\n",
    "    contents = file_object.read()\n",
    "\n",
    "print(content)\n",
    "```\n",
    "\n",
    "- Note:\n",
    "    - open(): open the file to access it\n",
    "    - open() needs one argument - the name of the file, the path of the file is relative to the current program\n",
    "    - open() returns an object representing the file\n",
    "    - **with** keyword: it will close the file automatically once you've finished accessing the file（ie. leave the with block). No need to call close()\n",
    "        - You could call close() yourself, but if some error happens between open() and close(), then the file may never be closed.\n",
    "    - read(size): \n",
    "        - To read a file’s contents, which reads some quantity of data and returns it as a string (in text mode) or bytes object (in binary mode). \n",
    "        - size is an optional numeric argument. When size is omitted or negative, the entire contents of the file will be read and returned. Otherwise, at most size characters (in text mode) or size bytes (in binary mode) are read and returned. \n",
    "        - If the end of the file has been reached, f.read() will return **an empty string ('')**, which is equal to False.\n",
    "    "
   ]
  },
  {
   "cell_type": "code",
   "execution_count": null,
   "id": "906898e1",
   "metadata": {},
   "outputs": [],
   "source": [
    "with open('myfiles/pi_digits.txt') as file_object: # try a file name which doesn't exist, it will throw errors\n",
    "    contents=file_object.read()\n",
    "print(contents)"
   ]
  },
  {
   "cell_type": "code",
   "execution_count": null,
   "id": "2d35a872",
   "metadata": {},
   "outputs": [],
   "source": [
    "with open('myfiles/pi_digits.txt') as file_object:\n",
    "    while True:\n",
    "        contents = file_object.read(5)\n",
    "        if contents:\n",
    "            print(contents,end='')\n",
    "        else:\n",
    "            break"
   ]
  },
  {
   "cell_type": "code",
   "execution_count": null,
   "id": "3cb5c295",
   "metadata": {},
   "outputs": [],
   "source": [
    "# or use assignment expression (or named expression,  walrus operator)\n",
    "with open('myfiles/pi_digits.txt') as file_object:\n",
    "    while contents := file_object.read(5):\n",
    "        print(contents,end='')"
   ]
  },
  {
   "cell_type": "code",
   "execution_count": null,
   "id": "99c2b290",
   "metadata": {},
   "outputs": [],
   "source": [
    "# or use iter() and partial()\n",
    "from functools import partial\n",
    "with open('myfiles/pi_digits.txt') as file_object:\n",
    "    for contents in iter(partial(file_object.read,5), ''):\n",
    "        print(contents,end='')"
   ]
  },
  {
   "cell_type": "markdown",
   "id": "106d2d7d",
   "metadata": {},
   "source": [
    "### Read lines\n",
    "- For reading lines from a file, you can loop over the file object.\n",
    "- This is memory efficient, fast, and leads to simple code:\n",
    "\n",
    "```\n",
    "with open('myfiles/pi_digits.txt') as file_object:\n",
    "    for line in file_object:\n",
    "        print(line, end='')\n",
    "``` \n",
    "\n",
    "- If you want to read all the lines of a file in a list you can also use list(f) or f.readlines().\n",
    "\n",
    "```\n",
    "with open('myfiles/pi_digits.txt') as file_object:\n",
    "    #read lines into list: two ways\n",
    "    #lines = file_object.readlines()\n",
    "    lines = list(file_object)\n",
    "```"
   ]
  },
  {
   "cell_type": "code",
   "execution_count": null,
   "id": "f36205d5",
   "metadata": {},
   "outputs": [],
   "source": [
    "with open('myfiles/pi_digits.txt') as file_object:\n",
    "    for line in file_object:\n",
    "        print(line, end='')"
   ]
  },
  {
   "cell_type": "code",
   "execution_count": null,
   "id": "edf2d573",
   "metadata": {},
   "outputs": [],
   "source": [
    "with open('myfiles/pi_digits.txt') as file_object:\n",
    "    #read lines into list: two ways\n",
    "    #lines = file_object.readlines()\n",
    "    lines = list(file_object)\n",
    "for line in lines:\n",
    "    print(line,end='')\n",
    "digits=''\n",
    "for line in lines:\n",
    "    digits+=line.rstrip() #string concatenation\n",
    "print(digits)"
   ]
  },
  {
   "cell_type": "markdown",
   "id": "7ce3c118",
   "metadata": {},
   "source": [
    "### Writing text files\n",
    "\n",
    "```\n",
    "filename = 'programming.txt'\n",
    "\n",
    "with open(filename, 'w') as file_object:\n",
    "    file_object.write(\"I love programming.\\n\")\n",
    "```\n",
    "\n",
    "- note:\n",
    "    - 2nd parameter in open() : 'w' means open the file in the **write mode**\n",
    "    - Below are the possible mode : **read mode ('r'), write mode ('w'), append mode ('a')**, or a mode that allows you to **read and write** to the file **('r+')**. \n",
    "    - If you omit the mode argument, Python opens the file in read-only mode by default.\n",
    "    - The open() function in write mode automatically creates the file you’re writing to if it doesn’t already exist. \n",
    "    - However, be careful opening a file in write mode because if the file does exist, Python will erase the contents of the file before returning the file object.\n",
    "    - write() method: write a string to the file, return the number of characters written\n",
    "        - Python can only write strings to a text file. \n",
    "        - If you want to store other types of data in a text file, you’ll have to convert the data to string format( eg. using the **str() function**)\n",
    "        -  write() function doesn’t add any newlines to the text you write"
   ]
  },
  {
   "cell_type": "code",
   "execution_count": null,
   "id": "ec1cd293",
   "metadata": {},
   "outputs": [],
   "source": [
    "filename = 'programming.txt'\n",
    "\n",
    "with open(filename, 'w') as file_object:\n",
    "    file_object.write(\"I love programming.\\n\")\n",
    "    #write a tuple\n",
    "    value = ('the answer', 42)\n",
    "    s = str(value)  # convert the tuple to string\n",
    "    file_object.write(s)"
   ]
  },
  {
   "cell_type": "code",
   "execution_count": null,
   "id": "db1bf252",
   "metadata": {},
   "outputs": [],
   "source": [
    "# for writing unicode text into text file\n",
    "filename = 'chinexe_text.txt'\n",
    "with open(filename, 'w+',encoding='utf8') as file_object: #\n",
    "    file_object.write(\"世界大同!\\n\")\n",
    "    file_object.seek(0)\n",
    "    contents = file_object.read()\n",
    "    print(contents)"
   ]
  },
  {
   "cell_type": "markdown",
   "id": "6de167c0",
   "metadata": {},
   "source": [
    "### Append to a file\n",
    "\n",
    "- If you want to add content to a file instead of writing over existing content, you can open the file in **append mode ('a')**. \n",
    "- When you open a file in append mode, Python doesn’t erase the contents of the file before returning the file object.\n",
    "- Any lines you write to the file will be added at the end of the file. \n",
    "- If the file doesn’t exist yet, Python will create an empty file for you.\n",
    "\n",
    "```\n",
    "filename = 'programming.txt'\n",
    "\n",
    "with open(filename, 'a') as file_object:\n",
    "    file_object.write(\"I also love finding meaning in large datasets.\\n\")\n",
    "    file_object.write(\"I love creating apps that can run in a browser.\\n\")\n",
    "\n",
    "```"
   ]
  },
  {
   "cell_type": "code",
   "execution_count": null,
   "id": "bdd0a555",
   "metadata": {},
   "outputs": [],
   "source": [
    "filename = 'programming.txt'\n",
    "\n",
    "with open(filename, 'a') as file_object:\n",
    "    file_object.write(\"I also love finding meaning in large datasets.\\n\")\n",
    "    file_object.write(\"I love creating apps that can run in a browser.\\n\")\n"
   ]
  },
  {
   "cell_type": "markdown",
   "id": "55f05bd8",
   "metadata": {},
   "source": [
    "### Difference between r+ , w+ and a+ for open()\n",
    "\n",
    "- Both r+, w+ and a+ can read and write to a file. \n",
    "- r+ doesn't delete the content of the file and doesn't create a new file if such file doesn't exist\n",
    "- w+ deletes the content of the file if it exists(ie. truncates the file to zero length) and creates it if it doesn't exist.\n",
    "- a+ doesn't delete the content of the file if it exists and creates it if it doesn't exist. \n",
    "    - You are able to use seek() to move the read cursor to any position in the file, but for a write operation, it will move to the end of file and append the content.\n",
    "\n",
    "![file mode comparison](open_file_mode_2.png \"Open() file mode comparison\")\n",
    "\n",
    "![file mode comparison](open_file_mode.png \"Open() file mode comparison\")\n",
    "\n"
   ]
  },
  {
   "cell_type": "markdown",
   "id": "9617ad62",
   "metadata": {},
   "source": [
    "### Binary files\n",
    "\n",
    "- When a file is opened in text mode, you read and write strings from and to the file, which are encoded in a specific encoding. \n",
    "    - If encoding is not specified, the default is platform dependent \n",
    "- You can append **'b'** to the file mode, which opens the file in binary mode - it means the data is read or written in the form of **bytes** objects. \n",
    "    - This mode should be used for all files that don’t contain text, eg. images, audio files.\n",
    "- Both read() and write() can be used for binary data.\n",
    "\n",
    "```\n",
    "with open('myfiles/binary.bin','rb+') as file_object:\n",
    "    f.write(b'0123456789abcdef')\n",
    "```\n",
    "\n",
    "![binary_viewer_result](binary_viewer.PNG \"binary_viewer_result\")\n",
    "\n",
    "### Change file position\n",
    "\n",
    "- To change the file object’s position, use f.seek(offset, whence). \n",
    "- The position is computed from adding offset to a reference point, ie. the whence argument. \n",
    "    - A whence value of 0 measures from the beginning of the file, \n",
    "    - A whence value of 1 uses the current file position \n",
    "    - A whence value of 2 uses the end of the file as the reference point. \n",
    "    - whence can be omitted and defaults to 0, using the beginning of the file as the reference point.\n",
    "- For text files, only seeks relative to the beginning of the file are allowed \n",
    "    - the exception being seeking to the very file end with **seek(0, 2)**\n",
    "    - the only valid offset values are those returned from the **f.tell()**, or zero. \n",
    "    - Any other offset value produces ***undefined behaviour***."
   ]
  },
  {
   "cell_type": "code",
   "execution_count": null,
   "id": "3c14551d",
   "metadata": {},
   "outputs": [],
   "source": [
    "with open('myfiles/binary.bin','rb+') as file_object: # if file does not exist, 'r+' will throw FileNotFoundError\n",
    "    file_object.write(b'0123456789abcdef')\n",
    "    #rewind\n",
    "    file_object.seek(0,0)\n",
    "    #read the first 5 bytes\n",
    "    contents_by = file_object.read(5)\n",
    "    #transform bytes into characters using 'ascii' encoding\n",
    "    contents_str = contents_by.decode('ascii')\n",
    "    print(contents_str)"
   ]
  },
  {
   "cell_type": "code",
   "execution_count": null,
   "id": "c9d027bd",
   "metadata": {},
   "outputs": [],
   "source": [
    "with open('myfiles/binary.bin','wb+') as file_object: # if file does not exist, 'w+' will create it\n",
    "    file_object.write(b'0123456789abcdef')"
   ]
  },
  {
   "cell_type": "markdown",
   "id": "711c6579",
   "metadata": {},
   "source": [
    "### write an integer to a binary file\n",
    "\n",
    "1. first use ```int.to_bytes()``` function to get the array of bytes for the integer\n",
    "    - ```int.to_bytes(length, byteorder, *, signed=False)``` : Return an array of bytes representing an integer.\n",
    "        - The integer is represented using **length** bytes. An OverflowError is raised if the integer is not representable with the given number of bytes.\n",
    "        - The **byteorder** argument determines the byte order used to represent the integer. If byteorder is **\"big\"**, the most significant byte is at the beginning of the byte array. If byteorder is **\"little\"**, the most significant byte is at the end of the byte array. To request the native byte order of the host system, use **sys.byteorder** as the byte order value.\n",
    "        - The **signed** argument determines whether two’s complement is used to represent the integer. If signed is False and a negative integer is given, an OverflowError is raised. The default value for signed is False.\n",
    "\n",
    "2. call file.write()"
   ]
  },
  {
   "cell_type": "code",
   "execution_count": 2,
   "id": "21103ad7",
   "metadata": {},
   "outputs": [
    {
     "name": "stdout",
     "output_type": "stream",
     "text": [
      "0b1111111111111111111111111111111\n",
      "0b11111111\n",
      "0b11111111\n",
      "0b11111111\n",
      "0b1111111\n",
      "2147483647\n"
     ]
    }
   ],
   "source": [
    "import sys\n",
    "very_long_int = 2147483647\n",
    "print(bin(very_long_int))\n",
    "with open('myfiles/binary_int.bin','wb+') as file_object:\n",
    "    #file_object.write(very_long_int.to_bytes(4, byteorder=\"little\", signed=True))\n",
    "    file_object.write(very_long_int.to_bytes(4, byteorder=sys.byteorder, signed=True))\n",
    "    file_object.seek(0)\n",
    "    bs = file_object.read()\n",
    "    for b in bs:\n",
    "        print(bin(b))\n",
    "    #call the class method of int : from_bytes()\n",
    "    original = int.from_bytes(bs, byteorder=sys.byteorder, signed=True)\n",
    "    print(original)"
   ]
  },
  {
   "cell_type": "code",
   "execution_count": 6,
   "id": "742ec696",
   "metadata": {},
   "outputs": [
    {
     "name": "stdout",
     "output_type": "stream",
     "text": [
      "b'\\xff\\xff\\xfc\\x00'\n"
     ]
    }
   ],
   "source": [
    "x = (-1024).to_bytes(4, byteorder='sys.byteorder', signed=True)\n",
    "print(x)"
   ]
  },
  {
   "cell_type": "code",
   "execution_count": null,
   "id": "b5768452",
   "metadata": {},
   "outputs": [],
   "source": [
    "y = int.from_bytes(x,byteorder=sys.byteorder,signed=True) # from_bytes() is a class method\n",
    "print(y)"
   ]
  },
  {
   "cell_type": "markdown",
   "id": "f6998cd2",
   "metadata": {},
   "source": [
    "### JSON(JavaScript Object Notation)\n",
    "- JSON is an open standard file format and data interchange format \n",
    "- It uses human-readable text to *store and transmit* data objects consisting of **attribute–value pairs and arrays** (or other serializable values). \n",
    "- It is a common data format with diverse uses in electronic data interchange, eg for web applications with servers.\n",
    "- JSON is a language-independent data format. It was derived from JavaScript, but many modern programming languages include code to generate and parse JSON-format data. \n",
    "- JSON filenames use the extension .json\n",
    "\n",
    "```\n",
    "{\n",
    "  \"firstName\": \"John\",\n",
    "  \"lastName\": \"Smith\",\n",
    "  \"isAlive\": true,\n",
    "  \"age\": 27,\n",
    "  \"address\": {\n",
    "    \"streetAddress\": \"21 2nd Street\",\n",
    "    \"city\": \"New York\",\n",
    "    \"state\": \"NY\",\n",
    "    \"postalCode\": \"10021-3100\"\n",
    "  },\n",
    "  \"phoneNumbers\": [\n",
    "    {\n",
    "      \"type\": \"home\",\n",
    "      \"number\": \"212 555-1234\"\n",
    "    },\n",
    "    {\n",
    "      \"type\": \"office\",\n",
    "      \"number\": \"646 555-4567\"\n",
    "    }\n",
    "  ],\n",
    "  \"children\": [],\n",
    "  \"spouse\": null\n",
    "}\n",
    "```"
   ]
  }
 ],
 "metadata": {
  "kernelspec": {
   "display_name": "Python 3 (ipykernel)",
   "language": "python",
   "name": "python3"
  },
  "language_info": {
   "codemirror_mode": {
    "name": "ipython",
    "version": 3
   },
   "file_extension": ".py",
   "mimetype": "text/x-python",
   "name": "python",
   "nbconvert_exporter": "python",
   "pygments_lexer": "ipython3",
   "version": "3.10.2"
  }
 },
 "nbformat": 4,
 "nbformat_minor": 5
}
