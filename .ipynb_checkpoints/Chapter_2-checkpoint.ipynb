{
 "cells": [
  {
   "cell_type": "markdown",
   "id": "85839f49",
   "metadata": {},
   "source": [
    "### lists\n",
    "\n",
    "1. list(列表)用來儲存一系列的資料item(項目), 並具有順序\n",
    "2. 通常使用複數的變數名稱, 例如: names, items, digits等\n",
    "3. 語法: 使用中括號[ ], 例如:\n",
    "```\n",
    "colors=[\"red\",\"green\",\"blue\",\"black\"]\n",
    "```\n",
    "4. 每一個item具有一個號碼稱爲index(索引值), 從0開始算起"
   ]
  },
  {
   "cell_type": "code",
   "execution_count": null,
   "id": "f7e809f0",
   "metadata": {},
   "outputs": [],
   "source": [
    "colors=[\"red\",\"green\",\"blue\",\"black\"]\n",
    "colors"
   ]
  },
  {
   "cell_type": "code",
   "execution_count": null,
   "id": "4de87146",
   "metadata": {},
   "outputs": [],
   "source": [
    "colors[0]"
   ]
  },
  {
   "cell_type": "code",
   "execution_count": null,
   "id": "5e386552",
   "metadata": {},
   "outputs": [],
   "source": [
    "colors[3]"
   ]
  },
  {
   "cell_type": "code",
   "execution_count": null,
   "id": "56f5f304",
   "metadata": {},
   "outputs": [],
   "source": [
    "#colors[4]"
   ]
  },
  {
   "cell_type": "code",
   "execution_count": null,
   "id": "bbce9812",
   "metadata": {},
   "outputs": [],
   "source": [
    "colors[-1]"
   ]
  },
  {
   "cell_type": "code",
   "execution_count": null,
   "id": "26fedbd6",
   "metadata": {},
   "outputs": [],
   "source": [
    "colors[-2]"
   ]
  },
  {
   "cell_type": "code",
   "execution_count": null,
   "id": "638832a7",
   "metadata": {},
   "outputs": [],
   "source": [
    "# replace, append, insert, del, pop\n",
    "\n",
    "fruits = [\"apple\",\"orange\",\"banana\"]\n",
    "fruits[0]=\"kiwi\"\n",
    "fruits"
   ]
  },
  {
   "cell_type": "code",
   "execution_count": null,
   "id": "91c4c0bf",
   "metadata": {},
   "outputs": [],
   "source": [
    "# append() 方法\n",
    "fruits.append(\"apple\")\n",
    "fruits"
   ]
  },
  {
   "cell_type": "code",
   "execution_count": null,
   "id": "903f3475",
   "metadata": {},
   "outputs": [],
   "source": [
    "# insert() 方法\n",
    "fruits.insert(0,\"grape\")\n",
    "fruits"
   ]
  },
  {
   "cell_type": "code",
   "execution_count": null,
   "id": "b67bcdf9",
   "metadata": {},
   "outputs": [],
   "source": [
    "#del是一個statement(敘述)\n",
    "del fruits[0] \n",
    "fruits"
   ]
  },
  {
   "cell_type": "code",
   "execution_count": null,
   "id": "ce038df0",
   "metadata": {},
   "outputs": [],
   "source": [
    "# pop() 方法\n",
    "# 移除最後一個item, 並回傳該item\n",
    "popped_fruit = fruits.pop()\n",
    "popped_fruit"
   ]
  },
  {
   "cell_type": "code",
   "execution_count": null,
   "id": "5dccb9a6",
   "metadata": {},
   "outputs": [],
   "source": [
    "fruits"
   ]
  },
  {
   "cell_type": "code",
   "execution_count": null,
   "id": "b162e3b4",
   "metadata": {},
   "outputs": [],
   "source": [
    "# 移除某個位置的item, 並回傳該item\n",
    "popped_fruit = fruits.pop(1)\n",
    "popped_fruit"
   ]
  },
  {
   "cell_type": "code",
   "execution_count": null,
   "id": "d6ad64c4",
   "metadata": {},
   "outputs": [],
   "source": [
    "fruits"
   ]
  },
  {
   "cell_type": "code",
   "execution_count": null,
   "id": "6a6d0534",
   "metadata": {},
   "outputs": [],
   "source": [
    "# remove() 方法\n",
    "fruits.remove('kiwi')\n",
    "fruits"
   ]
  },
  {
   "cell_type": "markdown",
   "id": "2f8dc5b3",
   "metadata": {},
   "source": [
    "### 練習: Guest List\n",
    "\n",
    "1. 列一個名單列表, 邀請他們來晚餐\n",
    "   - 至少三位客人\n",
    "   - 並對於每一個客人, 列印邀請訊息\n",
    "2. 改變列表\n",
    "   - 有一位客人無法參加, 請替換成另一位客人\n",
    "   - 重新發出邀請訊息\n",
    "3. 買了一張大餐桌, 可以邀請更多的客人\n",
    "   - 再多邀請三位客人\n",
    "   - 放置在列表的最前面, 中間, 及最後面 (insert, append)\n",
    "   - 重新發出邀請訊息\n",
    "4. 這張大餐桌來不及到貨, 需要縮減列表名單\n",
    "   - 只能邀請二位客人\n",
    "   - 從列表的最後面開始移除, 直到剩下二位客人(pop)\n",
    "   - 發出取消的訊息給被移除的客人\n",
    "5. 最後因爲臨時有事, 取消晚餐\n",
    "   - 將僅存的二位客人從列表中移除(del)\n",
    "   - 列印最後空的名單列表"
   ]
  },
  {
   "cell_type": "code",
   "execution_count": null,
   "id": "cf8b329d",
   "metadata": {},
   "outputs": [],
   "source": [
    "# sort, sorted, reverse, len\n",
    "cars = ['bmw', 'audi', 'toyota', 'subaru']\n",
    "cars"
   ]
  },
  {
   "cell_type": "code",
   "execution_count": null,
   "id": "b65a1820",
   "metadata": {},
   "outputs": [],
   "source": [
    "# sort() 方法: 排序, 按照自然順序(文字:字母順序)\n",
    "cars.sort()\n",
    "cars"
   ]
  },
  {
   "cell_type": "code",
   "execution_count": null,
   "id": "b47bb80b",
   "metadata": {},
   "outputs": [],
   "source": [
    "# 反向排序\n",
    "cars.sort(reverse=True)\n",
    "cars"
   ]
  },
  {
   "cell_type": "code",
   "execution_count": null,
   "id": "7dccffd8",
   "metadata": {},
   "outputs": [],
   "source": [
    "cars = ['bmw', 'audi', 'toyota', 'subaru']\n",
    "cars"
   ]
  },
  {
   "cell_type": "code",
   "execution_count": null,
   "id": "e6d7f6f7",
   "metadata": {},
   "outputs": [],
   "source": [
    "# sorted() 函數, 不會改變原本list的順序\n",
    "sorted(cars) "
   ]
  },
  {
   "cell_type": "code",
   "execution_count": null,
   "id": "77a2b31c",
   "metadata": {},
   "outputs": [],
   "source": [
    "cars"
   ]
  },
  {
   "cell_type": "code",
   "execution_count": null,
   "id": "8aed0640",
   "metadata": {},
   "outputs": [],
   "source": [
    "sorted(cars, reverse=True)"
   ]
  },
  {
   "cell_type": "code",
   "execution_count": null,
   "id": "7fdf237f",
   "metadata": {},
   "outputs": [],
   "source": [
    "cars"
   ]
  },
  {
   "cell_type": "code",
   "execution_count": null,
   "id": "7d30ccb3",
   "metadata": {},
   "outputs": [],
   "source": [
    "# reverse() 方法: 顛倒原本的list item順序\n",
    "cars.reverse()\n",
    "cars"
   ]
  }
 ],
 "metadata": {
  "kernelspec": {
   "display_name": "Python 3",
   "language": "python",
   "name": "python3"
  },
  "language_info": {
   "codemirror_mode": {
    "name": "ipython",
    "version": 3
   },
   "file_extension": ".py",
   "mimetype": "text/x-python",
   "name": "python",
   "nbconvert_exporter": "python",
   "pygments_lexer": "ipython3",
   "version": "3.8.5"
  }
 },
 "nbformat": 4,
 "nbformat_minor": 5
}
