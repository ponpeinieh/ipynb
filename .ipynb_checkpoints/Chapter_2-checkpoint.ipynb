{
 "cells": [
  {
   "cell_type": "markdown",
   "id": "85839f49",
   "metadata": {},
   "source": [
    "### lists\n",
    "\n",
    "1. list(列表)用來儲存一系列的資料item(項目), 並具有順序\n",
    "2. 通常使用複數的變數名稱, 例如: names, items, digits等\n",
    "3. 語法: 使用中括號[ ], 例如:\n",
    "```\n",
    "colors=[\"red\",\"green\",\"blue\",\"black\"]\n",
    "```\n",
    "4. 每一個item具有一個號碼稱爲index(索引值), 從0開始算起"
   ]
  },
  {
   "cell_type": "code",
   "execution_count": 1,
   "id": "f7e809f0",
   "metadata": {},
   "outputs": [
    {
     "data": {
      "text/plain": [
       "['red', 'green', 'blue', 'black']"
      ]
     },
     "execution_count": 1,
     "metadata": {},
     "output_type": "execute_result"
    }
   ],
   "source": [
    "colors=[\"red\",\"green\",\"blue\",\"black\"]\n",
    "colors"
   ]
  },
  {
   "cell_type": "code",
   "execution_count": 2,
   "id": "4de87146",
   "metadata": {},
   "outputs": [
    {
     "data": {
      "text/plain": [
       "'red'"
      ]
     },
     "execution_count": 2,
     "metadata": {},
     "output_type": "execute_result"
    }
   ],
   "source": [
    "colors[0]"
   ]
  },
  {
   "cell_type": "code",
   "execution_count": 3,
   "id": "5e386552",
   "metadata": {},
   "outputs": [
    {
     "data": {
      "text/plain": [
       "'black'"
      ]
     },
     "execution_count": 3,
     "metadata": {},
     "output_type": "execute_result"
    }
   ],
   "source": [
    "colors[3]"
   ]
  },
  {
   "cell_type": "code",
   "execution_count": 4,
   "id": "56f5f304",
   "metadata": {},
   "outputs": [],
   "source": [
    "#colors[4]"
   ]
  },
  {
   "cell_type": "code",
   "execution_count": 5,
   "id": "bbce9812",
   "metadata": {},
   "outputs": [
    {
     "data": {
      "text/plain": [
       "'black'"
      ]
     },
     "execution_count": 5,
     "metadata": {},
     "output_type": "execute_result"
    }
   ],
   "source": [
    "colors[-1]"
   ]
  },
  {
   "cell_type": "code",
   "execution_count": 6,
   "id": "26fedbd6",
   "metadata": {},
   "outputs": [
    {
     "data": {
      "text/plain": [
       "'blue'"
      ]
     },
     "execution_count": 6,
     "metadata": {},
     "output_type": "execute_result"
    }
   ],
   "source": [
    "colors[-2]"
   ]
  },
  {
   "cell_type": "code",
   "execution_count": 7,
   "id": "638832a7",
   "metadata": {},
   "outputs": [
    {
     "data": {
      "text/plain": [
       "['kiwi', 'orange', 'banana']"
      ]
     },
     "execution_count": 7,
     "metadata": {},
     "output_type": "execute_result"
    }
   ],
   "source": [
    "# replace, append, insert, del, pop\n",
    "\n",
    "fruits = [\"apple\",\"orange\",\"banana\"]\n",
    "fruits[0]=\"kiwi\"\n",
    "fruits"
   ]
  },
  {
   "cell_type": "code",
   "execution_count": 8,
   "id": "91c4c0bf",
   "metadata": {},
   "outputs": [
    {
     "data": {
      "text/plain": [
       "['kiwi', 'orange', 'banana', 'apple']"
      ]
     },
     "execution_count": 8,
     "metadata": {},
     "output_type": "execute_result"
    }
   ],
   "source": [
    "# append() 方法\n",
    "fruits.append(\"apple\")\n",
    "fruits"
   ]
  },
  {
   "cell_type": "code",
   "execution_count": 9,
   "id": "903f3475",
   "metadata": {},
   "outputs": [
    {
     "data": {
      "text/plain": [
       "['grape', 'kiwi', 'orange', 'banana', 'apple']"
      ]
     },
     "execution_count": 9,
     "metadata": {},
     "output_type": "execute_result"
    }
   ],
   "source": [
    "# insert() 方法\n",
    "fruits.insert(0,\"grape\")\n",
    "fruits"
   ]
  },
  {
   "cell_type": "code",
   "execution_count": 10,
   "id": "b67bcdf9",
   "metadata": {},
   "outputs": [
    {
     "data": {
      "text/plain": [
       "['kiwi', 'orange', 'banana', 'apple']"
      ]
     },
     "execution_count": 10,
     "metadata": {},
     "output_type": "execute_result"
    }
   ],
   "source": [
    "#del是一個statement(敘述)\n",
    "del fruits[0] \n",
    "fruits"
   ]
  },
  {
   "cell_type": "code",
   "execution_count": 11,
   "id": "ce038df0",
   "metadata": {},
   "outputs": [
    {
     "data": {
      "text/plain": [
       "'apple'"
      ]
     },
     "execution_count": 11,
     "metadata": {},
     "output_type": "execute_result"
    }
   ],
   "source": [
    "# pop() 方法\n",
    "# 移除最後一個item, 並回傳該item\n",
    "popped_fruit = fruits.pop()\n",
    "popped_fruit"
   ]
  },
  {
   "cell_type": "code",
   "execution_count": 12,
   "id": "5dccb9a6",
   "metadata": {},
   "outputs": [
    {
     "data": {
      "text/plain": [
       "['kiwi', 'orange', 'banana']"
      ]
     },
     "execution_count": 12,
     "metadata": {},
     "output_type": "execute_result"
    }
   ],
   "source": [
    "fruits"
   ]
  },
  {
   "cell_type": "code",
   "execution_count": 13,
   "id": "b162e3b4",
   "metadata": {},
   "outputs": [
    {
     "data": {
      "text/plain": [
       "'orange'"
      ]
     },
     "execution_count": 13,
     "metadata": {},
     "output_type": "execute_result"
    }
   ],
   "source": [
    "# 移除某個位置的item, 並回傳該item\n",
    "popped_fruit = fruits.pop(1)\n",
    "popped_fruit"
   ]
  },
  {
   "cell_type": "code",
   "execution_count": 14,
   "id": "d6ad64c4",
   "metadata": {},
   "outputs": [
    {
     "data": {
      "text/plain": [
       "['kiwi', 'banana']"
      ]
     },
     "execution_count": 14,
     "metadata": {},
     "output_type": "execute_result"
    }
   ],
   "source": [
    "fruits"
   ]
  },
  {
   "cell_type": "code",
   "execution_count": 15,
   "id": "6a6d0534",
   "metadata": {},
   "outputs": [
    {
     "data": {
      "text/plain": [
       "['banana']"
      ]
     },
     "execution_count": 15,
     "metadata": {},
     "output_type": "execute_result"
    }
   ],
   "source": [
    "# remove() 方法\n",
    "fruits.remove('kiwi')\n",
    "fruits"
   ]
  },
  {
   "cell_type": "markdown",
   "id": "2f8dc5b3",
   "metadata": {},
   "source": [
    "### 練習: Guest List\n",
    "\n",
    "1. 列一個名單列表, 邀請他們來晚餐\n",
    "   - 至少三位客人\n",
    "   - 並對於每一個客人, 列印邀請訊息\n",
    "2. 改變列表\n",
    "   - 有一位客人無法參加, 請替換成另一位客人\n",
    "   - 重新發出邀請訊息\n",
    "3. 買了一張大餐桌, 可以邀請更多的客人\n",
    "   - 再多邀請三位客人\n",
    "   - 放置在列表的最前面, 中間, 及最後面 (insert, append)\n",
    "   - 重新發出邀請訊息\n",
    "4. 這張大餐桌來不及到貨, 需要縮減列表名單\n",
    "   - 只能邀請二位客人\n",
    "   - 從列表的最後面開始移除, 直到剩下二位客人(pop)\n",
    "   - 發出取消的訊息給被移除的客人\n",
    "5. 最後因爲臨時有事, 取消晚餐\n",
    "   - 將僅存的二位客人從列表中移除(del)\n",
    "   - 列印最後空的名單列表"
   ]
  },
  {
   "cell_type": "code",
   "execution_count": 16,
   "id": "cf8b329d",
   "metadata": {},
   "outputs": [
    {
     "data": {
      "text/plain": [
       "['bmw', 'audi', 'toyota', 'subaru']"
      ]
     },
     "execution_count": 16,
     "metadata": {},
     "output_type": "execute_result"
    }
   ],
   "source": [
    "# sort, sorted, reverse, len\n",
    "cars = ['bmw', 'audi', 'toyota', 'subaru']\n",
    "cars"
   ]
  },
  {
   "cell_type": "code",
   "execution_count": 17,
   "id": "b65a1820",
   "metadata": {},
   "outputs": [
    {
     "data": {
      "text/plain": [
       "['audi', 'bmw', 'subaru', 'toyota']"
      ]
     },
     "execution_count": 17,
     "metadata": {},
     "output_type": "execute_result"
    }
   ],
   "source": [
    "# sort() 方法: 排序, 按照自然順序(文字:字母順序)\n",
    "cars.sort()\n",
    "cars"
   ]
  },
  {
   "cell_type": "code",
   "execution_count": 18,
   "id": "b47bb80b",
   "metadata": {},
   "outputs": [
    {
     "data": {
      "text/plain": [
       "['toyota', 'subaru', 'bmw', 'audi']"
      ]
     },
     "execution_count": 18,
     "metadata": {},
     "output_type": "execute_result"
    }
   ],
   "source": [
    "# 反向排序\n",
    "cars.sort(reverse=True)\n",
    "cars"
   ]
  },
  {
   "cell_type": "code",
   "execution_count": 19,
   "id": "7dccffd8",
   "metadata": {},
   "outputs": [
    {
     "data": {
      "text/plain": [
       "['bmw', 'audi', 'toyota', 'subaru']"
      ]
     },
     "execution_count": 19,
     "metadata": {},
     "output_type": "execute_result"
    }
   ],
   "source": [
    "cars = ['bmw', 'audi', 'toyota', 'subaru']\n",
    "cars"
   ]
  },
  {
   "cell_type": "code",
   "execution_count": 20,
   "id": "e6d7f6f7",
   "metadata": {},
   "outputs": [
    {
     "data": {
      "text/plain": [
       "['audi', 'bmw', 'subaru', 'toyota']"
      ]
     },
     "execution_count": 20,
     "metadata": {},
     "output_type": "execute_result"
    }
   ],
   "source": [
    "# sorted() 函數, 不會改變原本list的順序\n",
    "sorted(cars) "
   ]
  },
  {
   "cell_type": "code",
   "execution_count": 21,
   "id": "77a2b31c",
   "metadata": {},
   "outputs": [
    {
     "data": {
      "text/plain": [
       "['bmw', 'audi', 'toyota', 'subaru']"
      ]
     },
     "execution_count": 21,
     "metadata": {},
     "output_type": "execute_result"
    }
   ],
   "source": [
    "cars"
   ]
  },
  {
   "cell_type": "code",
   "execution_count": 22,
   "id": "8aed0640",
   "metadata": {},
   "outputs": [
    {
     "data": {
      "text/plain": [
       "['toyota', 'subaru', 'bmw', 'audi']"
      ]
     },
     "execution_count": 22,
     "metadata": {},
     "output_type": "execute_result"
    }
   ],
   "source": [
    "sorted(cars, reverse=True)"
   ]
  },
  {
   "cell_type": "code",
   "execution_count": 23,
   "id": "7fdf237f",
   "metadata": {},
   "outputs": [
    {
     "data": {
      "text/plain": [
       "['bmw', 'audi', 'toyota', 'subaru']"
      ]
     },
     "execution_count": 23,
     "metadata": {},
     "output_type": "execute_result"
    }
   ],
   "source": [
    "cars"
   ]
  },
  {
   "cell_type": "code",
   "execution_count": 24,
   "id": "7d30ccb3",
   "metadata": {},
   "outputs": [
    {
     "data": {
      "text/plain": [
       "['subaru', 'toyota', 'audi', 'bmw']"
      ]
     },
     "execution_count": 24,
     "metadata": {},
     "output_type": "execute_result"
    }
   ],
   "source": [
    "# reverse() 方法: 顛倒原本的list item順序\n",
    "cars.reverse()\n",
    "cars"
   ]
  },
  {
   "cell_type": "markdown",
   "id": "c8de035c",
   "metadata": {},
   "source": [
    "### 練習: Seeing the world\n",
    "\n",
    "1. 列表中包含5個最希望旅行的國家(按照希望的優先順序)\n",
    "2. 按照原本的順序列印列表內容\n",
    "3. 按照字母順序列列印列表內容, 但不要改變原本的列表順序\n",
    "4. 改變原本的列表順序, 最希望的國家排在最後面\n",
    "5. 改變原本的列表順序, 按照字母順序排列\n",
    "6. 改變原本的列表順序, 按照字母相反的順序排列"
   ]
  },
  {
   "cell_type": "markdown",
   "id": "b9bf7cdc",
   "metadata": {},
   "source": [
    "### Looping through a list\n",
    "\n",
    "1. 針對列表中的每一個item執行相同的邏輯(尋訪每一個item)\n",
    "2. **for in** loop:\n",
    "\n",
    "```\n",
    "magicians = ['alice', 'david', 'carolina']\n",
    "for magician in magicians:\n",
    "\tprint(magician)\n",
    "```\n",
    "\n",
    "   - 每一個循環, 從list magicians中取出一個item, 儲存在一個暫時性的變數magician中\n",
    "   - 縮排(indent)的內容是每一次循環要執行的邏輯內容\n",
    "   - 暫時性的變數magician,其名稱可以自訂\n",
    "   - 建議list使用複數名稱, 暫時性變數使用單數名稱\n",
    "   \n",
    "3. 若忘記做縮排(indent), 會發生錯誤\n",
    "```\n",
    "  File \"/home/ypnie108/.config/sublime-text-3/Packages/User/python_work/hello_world.py\", line 3\n",
    "    print(magician)\n",
    "    ^\n",
    "IndentationError: expected an indented block\n",
    "[Finished in 0.5s with exit code 1]\n",
    "[cmd: ['python3', '-u', '/home/ypnie108/.config/sublime-text-3/Packages/User/python_work/hello_world.py']]\n",
    "[dir: /home/ypnie108/.config/sublime-text-3/Packages/User/python_work]\n",
    "[path: /usr/local/sbin:/usr/local/bin:/usr/sbin:/usr/bin:/sbin:/bin:/usr/games:/usr/local/games:/snap/bin]\n",
    "```"
   ]
  },
  {
   "cell_type": "code",
   "execution_count": 25,
   "id": "0d735ef1",
   "metadata": {
    "scrolled": true
   },
   "outputs": [
    {
     "name": "stdout",
     "output_type": "stream",
     "text": [
      "alice\n",
      "david\n",
      "carolina\n"
     ]
    }
   ],
   "source": [
    "magicians = ['alice', 'david', 'carolina']\n",
    "for magician in magicians:\n",
    "\tprint(magician)"
   ]
  },
  {
   "cell_type": "markdown",
   "id": "625670b4",
   "metadata": {},
   "source": [
    "### 練習: Animals\n",
    "\n",
    "1. 列表中包含至少3種動物名字, 這些動物具備一些相同的特性, 例如: 草食性, 會跳躍等\n",
    "2. 用for in loop:\n",
    "   - 列印動物的名字\n",
    "   - 列印共同特性的訊息\n",
    "3. 最後在loop外列印\"這些都是我喜歡的動物\"訊息"
   ]
  },
  {
   "cell_type": "markdown",
   "id": "dc8b0b76",
   "metadata": {},
   "source": [
    "### Numerical sequence\n",
    "\n",
    "1. range() 函數(實際上是一個class, 類別)\n",
    "   - range(1,5) -> 1,2,3,4 不包括5\n",
    "   - range(5) -> 0,1,2,3,4 從0開始\n",
    "2. 轉換成list \n",
    "   - list(range(1,5)) \n",
    "3. range()的第三個參數: step size(間隔)\n",
    "   - list(range(1,11,2))\n",
    "4. minimum, maximum, summation 函數\n",
    "   - min()\n",
    "   - max()\n",
    "   - sum()"
   ]
  },
  {
   "cell_type": "code",
   "execution_count": 26,
   "id": "acf1370f",
   "metadata": {},
   "outputs": [
    {
     "name": "stdout",
     "output_type": "stream",
     "text": [
      "1\n",
      "2\n",
      "3\n",
      "4\n",
      "[1, 2, 3, 4]\n",
      "[1, 3, 5, 7, 9, 11, 13, 15, 17, 19]\n",
      "[1, 4, 9, 16, 25, 36, 49, 64, 81, 100]\n"
     ]
    }
   ],
   "source": [
    "# range, list\n",
    "for value in range(1,5):\n",
    "\tprint(value)\n",
    "\n",
    "numbers = list(range(1,5))\n",
    "print(numbers)\n",
    "\n",
    "odd_numbers = list(range(1,20,2))\n",
    "print(odd_numbers)\n",
    "\n",
    "squares = []\n",
    "for value in range(1,11):\n",
    "\tsquare = value**2\n",
    "\tsquares.append(square)\n",
    "print(squares)\n"
   ]
  },
  {
   "cell_type": "code",
   "execution_count": 27,
   "id": "ab7b5747",
   "metadata": {},
   "outputs": [
    {
     "data": {
      "text/plain": [
       "0"
      ]
     },
     "execution_count": 27,
     "metadata": {},
     "output_type": "execute_result"
    }
   ],
   "source": [
    "digits = [1, 2, 3, 4, 5, 6, 7, 8, 9, 0]\n",
    "min(digits)"
   ]
  },
  {
   "cell_type": "code",
   "execution_count": 28,
   "id": "fec18952",
   "metadata": {},
   "outputs": [
    {
     "data": {
      "text/plain": [
       "9"
      ]
     },
     "execution_count": 28,
     "metadata": {},
     "output_type": "execute_result"
    }
   ],
   "source": [
    "max(digits)"
   ]
  },
  {
   "cell_type": "code",
   "execution_count": 29,
   "id": "c508c315",
   "metadata": {},
   "outputs": [
    {
     "data": {
      "text/plain": [
       "45"
      ]
     },
     "execution_count": 29,
     "metadata": {},
     "output_type": "execute_result"
    }
   ],
   "source": [
    "sum(digits)"
   ]
  },
  {
   "cell_type": "code",
   "execution_count": 30,
   "id": "d0e1a2a0",
   "metadata": {},
   "outputs": [
    {
     "name": "stdout",
     "output_type": "stream",
     "text": [
      "0\n",
      "1\n",
      "2\n",
      "3\n",
      "4\n",
      "5\n",
      "6\n",
      "7\n",
      "8\n",
      "9\n"
     ]
    }
   ],
   "source": [
    "for value in range(10):\n",
    "    print(value)"
   ]
  },
  {
   "cell_type": "markdown",
   "id": "2087f516",
   "metadata": {},
   "source": [
    "### List Comprehension(列表理解語法)\n",
    "\n",
    "1. 將for in loop與建立list的語法結合爲一\n",
    "```\n",
    "squares = [value**2 for value in range(1,11)]\n",
    "print(squares)\n",
    "```\n",
    "   - 沒有使用冒號:\n",
    "   - for in loop 前放置要產生的list item的運算式, 例如 value**2\n",
    "   - 整個包含在中掛號[ ]內"
   ]
  },
  {
   "cell_type": "markdown",
   "id": "65c9af76",
   "metadata": {},
   "source": [
    "### 練習\n",
    "\n",
    "1. 使用for in loop 列印1到20的數字\n",
    "2. 建立一個list, 包含1到20的數字, 然後再印出\n",
    "3. 建立一個list, 包含1到1000的數字, 然後列印最大值與最小值以及總和\n",
    "4. 使用for in loop 列印1到21的奇數\n",
    "5. 建立一個list, 包含3到30內的3的倍數, 然後印出這個list\n",
    "6. 建立一個list, 包含1到10的立方值, 然後印出這個list\n",
    "7. 利用list comprehension語法, 先建立一個list, 包含1到10的立方值, 然後印出\n"
   ]
  },
  {
   "cell_type": "code",
   "execution_count": 31,
   "id": "cb4707da",
   "metadata": {},
   "outputs": [
    {
     "name": "stdout",
     "output_type": "stream",
     "text": [
      "1\n",
      "2\n",
      "3\n",
      "4\n",
      "5\n",
      "6\n",
      "7\n",
      "8\n",
      "9\n",
      "10\n",
      "11\n",
      "12\n",
      "13\n",
      "14\n",
      "15\n",
      "16\n",
      "17\n",
      "18\n",
      "19\n",
      "20\n"
     ]
    }
   ],
   "source": [
    "for a in range(1,21):\n",
    "    print(a)"
   ]
  },
  {
   "cell_type": "code",
   "execution_count": 32,
   "id": "cd43a83c",
   "metadata": {},
   "outputs": [
    {
     "name": "stdout",
     "output_type": "stream",
     "text": [
      "[1, 2, 3, 4, 5, 6, 7, 8, 9, 10, 11, 12, 13, 14, 15, 16, 17, 18, 19, 20]\n"
     ]
    }
   ],
   "source": [
    "b = list(range(1,21))\n",
    "print(b)"
   ]
  },
  {
   "cell_type": "code",
   "execution_count": 33,
   "id": "08d26992",
   "metadata": {},
   "outputs": [
    {
     "name": "stdout",
     "output_type": "stream",
     "text": [
      "1000\n",
      "1\n",
      "500500\n"
     ]
    }
   ],
   "source": [
    "b = list(range(1,1001))\n",
    "print(max(b))\n",
    "print(min(b))\n",
    "print(sum(b))"
   ]
  },
  {
   "cell_type": "code",
   "execution_count": 34,
   "id": "3837ecae",
   "metadata": {},
   "outputs": [
    {
     "name": "stdout",
     "output_type": "stream",
     "text": [
      "1\n",
      "3\n",
      "5\n",
      "7\n",
      "9\n",
      "11\n",
      "13\n",
      "15\n",
      "17\n",
      "19\n",
      "21\n"
     ]
    }
   ],
   "source": [
    "for a in range(1,22,2):\n",
    "    print(a)"
   ]
  },
  {
   "cell_type": "code",
   "execution_count": 35,
   "id": "67a94c88",
   "metadata": {
    "scrolled": true
   },
   "outputs": [
    {
     "name": "stdout",
     "output_type": "stream",
     "text": [
      "[3, 6, 9, 12, 15, 18, 21, 24, 27, 30]\n"
     ]
    }
   ],
   "source": [
    "b = list(range(3,31,3))\n",
    "print(b)"
   ]
  },
  {
   "cell_type": "code",
   "execution_count": 36,
   "id": "3aeb48a0",
   "metadata": {},
   "outputs": [
    {
     "name": "stdout",
     "output_type": "stream",
     "text": [
      "[1, 8, 27, 64, 125, 216, 343, 512, 729, 1000]\n"
     ]
    }
   ],
   "source": [
    "a = []\n",
    "for b in range(1,11):\n",
    "    cube = b**3\n",
    "    a.append(cube)\n",
    "print(a)"
   ]
  },
  {
   "cell_type": "code",
   "execution_count": 37,
   "id": "036a4cb3",
   "metadata": {},
   "outputs": [
    {
     "name": "stdout",
     "output_type": "stream",
     "text": [
      "[1, 8, 27, 64, 125, 216, 343, 512, 729, 1000]\n"
     ]
    }
   ],
   "source": [
    "b = [a**3 for a in range(1,11)]\n",
    "print(b)"
   ]
  },
  {
   "cell_type": "markdown",
   "id": "e1271cd1",
   "metadata": {},
   "source": [
    "### Slice ( part of a list)\n",
    "\n",
    "1. 從一個已存在的list的items中產生一個新的list(內容做了copy)\n",
    "2. 指定list items的起始與結束index位置, 但類似range(),不包含結束的index \n",
    "   - 注意冒號的使用\n",
    "```\n",
    "players = ['charles', 'martina', 'michael', 'florence', 'eli']\n",
    "print(players[0:3])\n",
    "```\n",
    "3. 若省略起始index, 則從第一個開始(index等於0)\n",
    "```\n",
    "players = ['charles', 'martina', 'michael', 'florence', 'eli']\n",
    "print(players[:2])\n",
    "```\n",
    "4. 若省略結束index, 則以最後一個做結束(index等於**結束indexed+1**)\n",
    "```\n",
    "players = ['chrles', 'martina', 'michael', 'florence', 'eli']\n",
    "print(players[-3:])\n",
    "```\n",
    "5. 類似range的第三個參數, 可以指定間隔(step)\n",
    "```\n",
    "values = list(range(1,11))\n",
    "sliced_values = values[0:len(values):2]\n",
    "print(sliced_values)\n",
    "```\n",
    "6. loop through a slice\n",
    "```\n",
    "players = ['charles', 'martina', 'michael', 'florence', 'eli']\n",
    "print(\"Here are the first three players on my team:\")\n",
    "for player in players[:3]:\n",
    "   print(player.title())\n",
    "```\n",
    "7. 可以用來copy list(產生一個新的list, 內容items是原本的copy)\n",
    "```\n",
    "players = ['charles', 'martina', 'michael', 'florence', 'eli']\n",
    "copy_players = players[:]\n",
    "print(copy_players)\n",
    "copy_players[1]=\"helen\" #改變copy的list內容\n",
    "print(copy_players)\n",
    "print(players) #不影響原本list內容\n",
    "```\n",
    "8. 若使用 = operator 不會產生新的list\n",
    "```\n",
    "players = ['charles', 'martina', 'michael', 'florence', 'eli']\n",
    "players2 = players\n",
    "print(players2)\n",
    "players2[1]=\"helen\"\n",
    "print(players2)\n",
    "print(players) \n",
    "```"
   ]
  },
  {
   "cell_type": "markdown",
   "id": "bcd61d39",
   "metadata": {},
   "source": [
    "### 練習: Seeing the world - part II\n",
    "\n",
    "1. 列表中包含5個最希望旅行的國家\n",
    "2. 列印\"列表中前3個最希望去的國家是XXX,YYY,ZZZ\" (使用slice取得最前面3個items)\n",
    "3. 列印\"列表中間3個最希望去的國家是XXX,YYY,ZZZ\" (使用slice取得中間3個items)\n",
    "4. 列印\"列表中後3個最希望去的國家是XXX,YYY,ZZZ\" (使用slice取得最後面3個items)\n",
    "5. 從這個列表產生一個copy列表\n",
    "   - 在copy列表中加入一個新的國家\n",
    "   - 列印原本列表,以及copy列表內容, 確認copy列表與原本列表內容是不相同的 "
   ]
  },
  {
   "cell_type": "code",
   "execution_count": 38,
   "id": "1194e2cb",
   "metadata": {},
   "outputs": [
    {
     "name": "stdout",
     "output_type": "stream",
     "text": [
      "列表中前3個最希望去的國家是Tailand,Nepal,Japan\n",
      "列表中間3個最希望去的國家是Nepal,Japan,Spain\n",
      "列表中後3個最希望去的國家是 Japan Spain Russia\n",
      "['Tailand', 'Nepal', 'Japan', 'Spain', 'Russia', 'Ireland']\n",
      "['Tailand', 'Nepal', 'Japan', 'Spain', 'Russia']\n"
     ]
    }
   ],
   "source": [
    "countries=[\"Tailand\",\"Nepal\",\"Japan\",\"Spain\",\"Russia\"]\n",
    "top_three = countries[:3]\n",
    "print(f'列表中前3個最希望去的國家是{top_three[0]},{top_three[1]},{top_three[2]}')\n",
    "middle_three = countries[1:4]\n",
    "print('列表中間3個最希望去的國家是{},{},{}'.format(middle_three[0],middle_three[1],middle_three[2]))\n",
    "bottom_three=countries[2:]\n",
    "print('列表中後3個最希望去的國家是',bottom_three[0],bottom_three[1],bottom_three[2])\n",
    "copy = countries[:]\n",
    "copy.append('Ireland')\n",
    "print(copy)\n",
    "print(countries)"
   ]
  },
  {
   "cell_type": "markdown",
   "id": "4c42a88e",
   "metadata": {},
   "source": [
    "### Tuple\n",
    "1. 類似list, 但是tuple的內容不能改變(稱爲immutable)\n",
    "2. 又稱爲immutable list\n",
    "3. 語法: 使用小括號\n",
    "   - 實際上tuple是由逗號定義它的內容, 小括號只是讓它看起來清楚, 增加可讀性\n",
    "   - 若只包含一個item, 必須要有結束的逗號\n",
    "```\n",
    ">>> dimensions = (100,50) #小括號可省略\n",
    ">>> dimensions[0]\n",
    "100\n",
    ">>> dimensions[1]\n",
    "50\n",
    ">>> dimensions[0]=200\n",
    "Traceback (most recent call last):\n",
    "  File \"<stdin>\", line 1, in <module>\n",
    "TypeError: 'tuple' object does not support item assignment\n",
    ">>> sizes = (10,) #一個item, 後面要加上逗號 ,\n",
    ">>> len(sizes)\n",
    "```\n",
    "4. 雖然tuple的items內容不能改變, 但是可以指定一個新的tuple\n",
    "```\n",
    ">>> dimensions = (200,300,400)\n",
    ">>> print(dimensions)\n",
    "(200, 300, 400)\n",
    "```"
   ]
  },
  {
   "cell_type": "code",
   "execution_count": 39,
   "id": "7f8f45a1",
   "metadata": {},
   "outputs": [
    {
     "name": "stdout",
     "output_type": "stream",
     "text": [
      "(100, 50)\n",
      "100\n"
     ]
    }
   ],
   "source": [
    "#dimensions=(100,50)\n",
    "dimensions=(100,50)\n",
    "print(dimensions)\n",
    "print(dimensions[0])"
   ]
  },
  {
   "cell_type": "code",
   "execution_count": 40,
   "id": "dfa0c9fd",
   "metadata": {},
   "outputs": [],
   "source": [
    "#dimensions[0]=200"
   ]
  },
  {
   "cell_type": "code",
   "execution_count": 41,
   "id": "48f05761",
   "metadata": {},
   "outputs": [
    {
     "name": "stdout",
     "output_type": "stream",
     "text": [
      "(10,)\n",
      "1\n",
      "<class 'tuple'>\n"
     ]
    }
   ],
   "source": [
    "size = (10,)\n",
    "print(size)\n",
    "print(len(size))\n",
    "print(type(size))"
   ]
  }
 ],
 "metadata": {
  "kernelspec": {
   "display_name": "Python 3",
   "language": "python",
   "name": "python3"
  },
  "language_info": {
   "codemirror_mode": {
    "name": "ipython",
    "version": 3
   },
   "file_extension": ".py",
   "mimetype": "text/x-python",
   "name": "python",
   "nbconvert_exporter": "python",
   "pygments_lexer": "ipython3",
   "version": "3.8.5"
  }
 },
 "nbformat": 4,
 "nbformat_minor": 5
}
