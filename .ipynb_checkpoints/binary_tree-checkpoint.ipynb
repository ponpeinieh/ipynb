{
 "cells": [
  {
   "cell_type": "code",
   "execution_count": null,
   "id": "454186fa",
   "metadata": {},
   "outputs": [],
   "source": [
    "# define a Node (節點) class \n",
    "class Node:\n",
    "    def __init__(self,value):\n",
    "        self.value = value # 儲存的數值\n",
    "        self.left = None\n",
    "        self.right = None\n",
    "\n",
    "def createTree(data): \n",
    "# 從所給的陣列(list)將資料存入Tree中, \n",
    "# 資料順序為Breadth-First Search(BFS) 尋訪順序\n",
    "    node_list=[] # 存入所有的節點Node物件\n",
    "    for index,element in enumerate(data):\n",
    "        node = Node(element)\n",
    "        node_list.append(node)\n",
    "        #計算父節點的index\n",
    "        parent_index = (index-1)//2\n",
    "        if parent_index<0:\n",
    "            continue\n",
    "        if index%2==1: #left\n",
    "            node_list[parent_index].left = node\n",
    "        else: #right\n",
    "            node_list[parent_index].right=node\n",
    "    return node_list[0] #回傳root node    \n",
    "\n",
    "def visitNode(node):\n",
    "    print(node.value)\n",
    "    \n",
    "import collections\n",
    "# 尋訪Tree , 按照Breadth-First Search 順序\n",
    "# 迭代(Iterative)方式 - 使用queue(佇列) - 先進先出\n",
    "def traverseTreeBFS(root): #傳入root node\n",
    "    # 產生queue, 使用collections.deque (double-end queue), 放入元素: append(), 取出元素: popleft()\n",
    "    queue = collections.deque([root])\n",
    "    while queue:\n",
    "        parent = queue.popleft()\n",
    "        #尋訪parent\n",
    "        visitNode(parent)\n",
    "        if parent.left:\n",
    "            queue.append(parent.left)\n",
    "        if parent.right:\n",
    "            queue.append(parent.right)"
   ]
  },
  {
   "cell_type": "code",
   "execution_count": null,
   "id": "f2082b31",
   "metadata": {},
   "outputs": [],
   "source": [
    "# 測試建立Tree, 尋訪Tree\n",
    "data = [10,20,30,40,50,60,70,80]\n",
    "root_node = createTree(data)\n",
    "traverseTreeBFS(root_node)"
   ]
  },
  {
   "cell_type": "code",
   "execution_count": null,
   "id": "ec6eb269",
   "metadata": {},
   "outputs": [],
   "source": [
    "# 遞迴方式(Recursive) 尋訪Tree , 按照Breadth-First Search 順序\n",
    "def traverseTreeBFSRecursive(node_list): #傳入[root]\n",
    "    #如果node_list為空的就結束\n",
    "    if not node_list:\n",
    "        return\n",
    "    child_node_list=[] #用來儲存子節點\n",
    "    for node in node_list:\n",
    "        visitNode(node)\n",
    "        if node.left:\n",
    "            child_node_list.append(node.left)\n",
    "        if node.right:\n",
    "            child_node_list.append(node.right)\n",
    "    traverseTreeBFSRecursive(child_node_list)"
   ]
  },
  {
   "cell_type": "code",
   "execution_count": null,
   "id": "dae0c1c7",
   "metadata": {},
   "outputs": [],
   "source": [
    "# 測試建立Tree, 尋訪Tree\n",
    "data = [10,20,30,40,50,60,70,80]\n",
    "root_node = createTree(data)\n",
    "traverseTreeBFSRecursive([root_node])"
   ]
  },
  {
   "cell_type": "code",
   "execution_count": null,
   "id": "bae77e90",
   "metadata": {},
   "outputs": [],
   "source": [
    "# Depth-First Search(DFS) traversal : inorder\n",
    "def traverseDFSInOrder(root):\n",
    "    if root:\n",
    "        traverseDFSInOrder(root.left)\n",
    "        visitNode(root)\n",
    "        traverseDFSInOrder(root.right)\n",
    "def traverseDFSPreOrder(root):\n",
    "    if root:\n",
    "        visitNode(root)\n",
    "        traverseDFSPreOrder(root.left)\n",
    "        traverseDFSPreOrder(root.right)\n",
    "def traverseDFSPostOrder(root):\n",
    "    if root:\n",
    "        traverseDFSPostOrder(root.left)\n",
    "        traverseDFSPostOrder(root.right)\n",
    "        visitNode(root)\n",
    "data = [10,20,30,40,50,60,70,80]\n",
    "root_node = createTree(data)\n",
    "traverseDFSInOrder(root_node)\n",
    "print()\n",
    "traverseDFSPreOrder(root_node)\n",
    "print()\n",
    "traverseDFSPostOrder(root_node)"
   ]
  }
 ],
 "metadata": {
  "kernelspec": {
   "display_name": "Python 3",
   "language": "python",
   "name": "python3"
  },
  "language_info": {
   "codemirror_mode": {
    "name": "ipython",
    "version": 3
   },
   "file_extension": ".py",
   "mimetype": "text/x-python",
   "name": "python",
   "nbconvert_exporter": "python",
   "pygments_lexer": "ipython3",
   "version": "3.8.10"
  }
 },
 "nbformat": 4,
 "nbformat_minor": 5
}
