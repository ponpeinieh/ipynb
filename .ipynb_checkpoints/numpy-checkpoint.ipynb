{
 "cells": [
  {
   "cell_type": "markdown",
   "id": "579c919a",
   "metadata": {},
   "source": [
    "# Numpy/Pandas\n",
    "\n",
    "1. effectively loading, storing and manipulating in-memory python data\n",
    "2. all data fundamentally are arrays of numbers\n",
    "3. Images, sound clips, text, etc, need to be transformed into arrays of numbers to be analyzable\n"
   ]
  },
  {
   "cell_type": "code",
   "execution_count": null,
   "id": "8d613279",
   "metadata": {},
   "outputs": [],
   "source": [
    "import numpy as np"
   ]
  },
  {
   "cell_type": "code",
   "execution_count": null,
   "id": "021aeee4",
   "metadata": {},
   "outputs": [],
   "source": [
    "# create a numpy 1-D ndarray\n",
    "# numpy ndrray is of the same element type.\n",
    "a = np.arange(5)\n",
    "b = np.array([2,3,4,5,6])\n",
    "c = np.ones(5)\n",
    "d = np.zeros(5)\n",
    "print(a)\n",
    "print(b)\n",
    "print(c)\n",
    "print(d)"
   ]
  },
  {
   "cell_type": "code",
   "execution_count": null,
   "id": "28abd46f",
   "metadata": {},
   "outputs": [],
   "source": [
    "print(a+b)\n",
    "print(a-b)\n",
    "print(a*b)\n",
    "print(a/b)\n",
    "print(a%b)\n",
    "print(10*a)\n",
    "print(a.dot(b))"
   ]
  },
  {
   "cell_type": "code",
   "execution_count": null,
   "id": "12486649",
   "metadata": {},
   "outputs": [],
   "source": [
    "x = np.arange(10)\n",
    "x"
   ]
  },
  {
   "cell_type": "code",
   "execution_count": null,
   "id": "2ed1a7e7",
   "metadata": {},
   "outputs": [],
   "source": [
    "#slice, not like python list , it is a view, not a copy\n",
    "x2 = x[:]\n",
    "print(x2)\n",
    "x2[0]=100\n",
    "print(x)"
   ]
  },
  {
   "cell_type": "code",
   "execution_count": null,
   "id": "4c5d91bc",
   "metadata": {},
   "outputs": [],
   "source": [
    "# first a slice then make a copy\n",
    "x3 = x[:].copy()\n",
    "print(x3)\n",
    "x3[0]=1000\n",
    "print(x)"
   ]
  },
  {
   "cell_type": "code",
   "execution_count": null,
   "id": "f292b3b0",
   "metadata": {},
   "outputs": [],
   "source": [
    "#if step is negative, it means the default values of the start and the end are swapped\n",
    "# the default value of the start is length-1, the end is 0\n",
    "x[::-1]"
   ]
  },
  {
   "cell_type": "code",
   "execution_count": null,
   "id": "ed74a5b4",
   "metadata": {},
   "outputs": [],
   "source": [
    "x[::-2]"
   ]
  },
  {
   "cell_type": "code",
   "execution_count": null,
   "id": "ad8c8981",
   "metadata": {},
   "outputs": [],
   "source": [
    "# the default value of the end is 0\n",
    "x[5::-2]"
   ]
  },
  {
   "cell_type": "code",
   "execution_count": null,
   "id": "8181e55a",
   "metadata": {},
   "outputs": [],
   "source": [
    "x.reshape((5,2))"
   ]
  },
  {
   "cell_type": "code",
   "execution_count": null,
   "id": "213fa64c",
   "metadata": {},
   "outputs": [],
   "source": [
    "# reshape() does not change x\n",
    "print(x)"
   ]
  },
  {
   "cell_type": "code",
   "execution_count": null,
   "id": "e95462ec",
   "metadata": {},
   "outputs": [],
   "source": [
    "# row vector\n",
    "x2 = x[np.newaxis,:]\n",
    "print(x2)\n",
    "print(x2.shape)"
   ]
  },
  {
   "cell_type": "code",
   "execution_count": null,
   "id": "b50ac2ed",
   "metadata": {},
   "outputs": [],
   "source": [
    "#column vector\n",
    "x3 = x[:,np.newaxis]\n",
    "print(x3)\n",
    "print(x3.shape)"
   ]
  },
  {
   "cell_type": "markdown",
   "id": "1a93ee20",
   "metadata": {},
   "source": [
    "# Broadcasting\n",
    "1. How numpy treats arrays with different shapes during arithmetic operations\n",
    "2. Subject to certain constraints, smaller array is broadcast across the larger array, so they are of compatible shapes\n",
    "3. Normally numpy arithmetic operations on pairs of arrays are done on an element-by-element basis, ie. the two arrays are of the same shape.\n",
    "4. With broadcasting, the rules relax when the arrays' shapes meet below constraints:\n",
    "   - when an array 'a' and a scalar value 'b' are involved in an operation, the scalar 'b' is stretched into an array with the shape of the array 'a'. The new elements in array 'b' are simply copies of the scalar 'b'\n",
    "   - When operating on two arrays, Numpy compares their shapes starting from the rightmost dimensions and works it way left. Two dimensions are compatible if (1) they are equal shapes or (2) one of them is of shape 1. Similar to the scalar case, if one of the dimension is of shape 1, that dimension will be stretched."
   ]
  },
  {
   "cell_type": "code",
   "execution_count": null,
   "id": "fe07506e",
   "metadata": {},
   "outputs": [],
   "source": [
    "a = np.arange(40)\n",
    "a2 = a.reshape(2,4,5)\n",
    "print(a2)\n",
    "print(a2.shape)\n",
    "b = np.ones(5)\n",
    "b2 = b[np.newaxis,:]\n",
    "print(b2)\n",
    "print(b2.shape)"
   ]
  },
  {
   "cell_type": "code",
   "execution_count": null,
   "id": "34162918",
   "metadata": {},
   "outputs": [],
   "source": [
    "c = a2+b2\n",
    "print(c)\n",
    "print(c.shape)"
   ]
  },
  {
   "cell_type": "code",
   "execution_count": null,
   "id": "cf5b74d2",
   "metadata": {},
   "outputs": [],
   "source": [
    "a = np.arange(10)\n",
    "a2 = a.reshape(2,1,5)\n",
    "print(a2)\n",
    "print(a2.shape)\n",
    "b = np.ones(4)\n",
    "b2 = b[:,np.newaxis]\n",
    "print(b2)\n",
    "print(b2.shape)"
   ]
  },
  {
   "cell_type": "code",
   "execution_count": null,
   "id": "f479dd8e",
   "metadata": {},
   "outputs": [],
   "source": [
    "c = a2+b2\n",
    "print(c)\n",
    "print(c.shape)"
   ]
  },
  {
   "cell_type": "markdown",
   "id": "ef9a5bfc",
   "metadata": {},
   "source": [
    "# Numpy Random Number Generator\n",
    "1. [numpy.random module](https://numpy.org/doc/stable/reference/random/index.html)\n",
    "2. Numpy's random number routines produce pseudo random numbers using combinations of a BitGenerator to create sequences and a Generator to use those sequences to sample from different statistical distributions:\n",
    "   - BitGenerators: Objects that generate random numbers. These are typically unsigned integer words filled with sequences of either 32 or 64 random bits.\n",
    "   - Generators: Objects that transform sequences of random bits from a BitGenerator into sequences of numbers that follow a specific probability distribution (such as uniform, Normal or Binomial) within a specified interval.\n",
    "   - The legacy RandomState random number routines are still available, but limited to a single BitGenerator.\n",
    "3. Usage:\n",
    "   - Call default_rng to get a new instance of a Generator, then call its methods to obtain samples from different distributions. "
   ]
  },
  {
   "cell_type": "code",
   "execution_count": null,
   "id": "e7ba3b71",
   "metadata": {},
   "outputs": [],
   "source": [
    "import matplotlib.pyplot as plt\n",
    "import seaborn as sns \n",
    "sns.set(style=\"darkgrid\")"
   ]
  },
  {
   "cell_type": "code",
   "execution_count": null,
   "id": "9a7ca7a6",
   "metadata": {},
   "outputs": [],
   "source": [
    "from numpy.random import default_rng\n",
    "rng = default_rng()"
   ]
  },
  {
   "cell_type": "code",
   "execution_count": null,
   "id": "faa7e235",
   "metadata": {},
   "outputs": [],
   "source": [
    "vals = rng.standard_normal(1000)\n",
    "print(max(vals))\n",
    "print(min(vals))\n",
    "plt.hist(vals, bins=np.linspace(-3.5,3.5,30))"
   ]
  },
  {
   "cell_type": "code",
   "execution_count": null,
   "id": "ab0b859d",
   "metadata": {},
   "outputs": [],
   "source": [
    "vals = rng.random(1000)\n",
    "print(max(vals))\n",
    "print(min(vals))\n",
    "plt.hist(vals, bins=np.linspace(0,1.0,30))"
   ]
  },
  {
   "cell_type": "code",
   "execution_count": null,
   "id": "e5ade2aa",
   "metadata": {},
   "outputs": [],
   "source": [
    "vals = rng.integers(low=0, high=10, size=1000)\n",
    "print(max(vals))\n",
    "print(min(vals))\n",
    "plt.hist(vals, bins=np.linspace(0,10.0,11))"
   ]
  }
 ],
 "metadata": {
  "kernelspec": {
   "display_name": "Python 3",
   "language": "python",
   "name": "python3"
  },
  "language_info": {
   "codemirror_mode": {
    "name": "ipython",
    "version": 3
   },
   "file_extension": ".py",
   "mimetype": "text/x-python",
   "name": "python",
   "nbconvert_exporter": "python",
   "pygments_lexer": "ipython3",
   "version": "3.8.5"
  }
 },
 "nbformat": 4,
 "nbformat_minor": 5
}
