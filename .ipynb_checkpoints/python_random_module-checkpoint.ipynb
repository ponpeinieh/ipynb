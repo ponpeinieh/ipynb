{
 "cells": [
  {
   "cell_type": "code",
   "execution_count": null,
   "id": "4f9e244a",
   "metadata": {},
   "outputs": [],
   "source": [
    "import random\n",
    "random.seed(42)"
   ]
  },
  {
   "cell_type": "code",
   "execution_count": null,
   "id": "0e9158e8",
   "metadata": {},
   "outputs": [],
   "source": [
    "#for integers\n",
    "#randrange(start,stop,step) eqivalent to choice(range(start,stop,step))\n",
    "a = []\n",
    "for i in range(10):\n",
    "    a.append(random.randrange(1,10,2));\n",
    "print(a)"
   ]
  },
  {
   "cell_type": "code",
   "execution_count": null,
   "id": "24cec3af",
   "metadata": {},
   "outputs": [],
   "source": [
    "#for integers\n",
    "#randint(a,b) eqivalent to randrange(a,b+1,1)\n",
    "a = []\n",
    "for i in range(10):\n",
    "    a.append(random.randint(1,10));\n",
    "print(a)"
   ]
  },
  {
   "cell_type": "code",
   "execution_count": null,
   "id": "1a47f765",
   "metadata": {},
   "outputs": [],
   "source": [
    "#for floats\n",
    "#random() : Return the next random floating point number in the range [0.0, 1.0).\n",
    "a = []\n",
    "for i in range(10):\n",
    "    a.append(random.random());\n",
    "print(a)"
   ]
  },
  {
   "cell_type": "code",
   "execution_count": null,
   "id": "d721aad6",
   "metadata": {},
   "outputs": [],
   "source": [
    "#for floats\n",
    "#random.uniform(a, b)\n",
    "# Return a random floating point number N such that a <= N <= b for a <= b and b <= N <= a for b < a.\n",
    "# The end-point value b may or may not be included in the range depending on floating-point rounding in the equation a + (b-a) * random().\n",
    "a = []\n",
    "for i in range(10):\n",
    "    a.append(random.uniform(1.0,3.0));\n",
    "print(a)\n"
   ]
  },
  {
   "cell_type": "code",
   "execution_count": null,
   "id": "a6f5d85b",
   "metadata": {},
   "outputs": [],
   "source": [
    "#for floats, but with Gaussian Distribution\n",
    "#random.gauss(mu, sigma)\n",
    "a = []\n",
    "for i in range(10):\n",
    "    a.append(random.gauss(1.0,1));\n",
    "print(a)"
   ]
  },
  {
   "cell_type": "code",
   "execution_count": null,
   "id": "a7d3aeee",
   "metadata": {},
   "outputs": [],
   "source": [
    "#shuffle() : Shuffle the sequence x in place.\n",
    "a = [i for i in range(10)]\n",
    "random.shuffle(a)\n",
    "print(a)"
   ]
  },
  {
   "cell_type": "code",
   "execution_count": null,
   "id": "653f95ec",
   "metadata": {},
   "outputs": [],
   "source": [
    "#sample(population, k, *, counts=None)\n",
    "# Return a k length list of unique elements chosen from the population sequence or set. Used for random sampling without replacement.\n",
    "# Repeated elements can be specified one at a time or with the optional keyword-only counts parameter. \n",
    "# For example, sample(['red', 'blue'], counts=[4, 2], k=5) is equivalent to sample(['red', 'red', 'red', 'red', 'blue', 'blue'], k=5).\n",
    "dealt = random.sample(['tens', 'low cards'], counts=[16, 36], k=20)\n",
    "print(dealt)\n",
    "dealt.count('tens') / 20"
   ]
  },
  {
   "cell_type": "code",
   "execution_count": null,
   "id": "096c88b7",
   "metadata": {},
   "outputs": [],
   "source": [
    "#like shuffle, but keep the original list unchanged and return a new shuffled list\n",
    "a = [i for i in range(10)]\n",
    "b = random.sample(a,k=len(a))\n",
    "print(b)"
   ]
  },
  {
   "cell_type": "code",
   "execution_count": null,
   "id": "bb0a99ba",
   "metadata": {},
   "outputs": [],
   "source": [
    "#choice() : Return a random element from the non-empty sequence seq.\n",
    "# use chr(ascii code)\n",
    "a = [chr(i+65) for i in range(26)]\n",
    "print(a)\n",
    "random.choice(a)"
   ]
  },
  {
   "cell_type": "code",
   "execution_count": null,
   "id": "8ccd2e3b",
   "metadata": {},
   "outputs": [],
   "source": [
    "# random.choices(population, weights=None, *, cum_weights=None, k=1)\n",
    "# Return a k sized list of elements chosen from the population with replacement\n",
    "random.choices(['red', 'black', 'green'], [18, 18, 2], k=6)"
   ]
  }
 ],
 "metadata": {
  "kernelspec": {
   "display_name": "Python 3",
   "language": "python",
   "name": "python3"
  },
  "language_info": {
   "codemirror_mode": {
    "name": "ipython",
    "version": 3
   },
   "file_extension": ".py",
   "mimetype": "text/x-python",
   "name": "python",
   "nbconvert_exporter": "python",
   "pygments_lexer": "ipython3",
   "version": "3.9.5"
  }
 },
 "nbformat": 4,
 "nbformat_minor": 5
}
