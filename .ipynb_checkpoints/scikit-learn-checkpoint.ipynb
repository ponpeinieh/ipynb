{
 "cells": [
  {
   "cell_type": "code",
   "execution_count": null,
   "id": "8ae04a75",
   "metadata": {},
   "outputs": [],
   "source": [
    "import seaborn as sns\n",
    "# load into Pandas's DataFrame\n",
    "iris = sns.load_dataset('iris')\n",
    "print(iris.shape)\n",
    "iris.tail()"
   ]
  },
  {
   "cell_type": "code",
   "execution_count": null,
   "id": "db0f29a3",
   "metadata": {},
   "outputs": [],
   "source": [
    "iris.head()"
   ]
  },
  {
   "cell_type": "code",
   "execution_count": null,
   "id": "a2a5f17d",
   "metadata": {},
   "outputs": [],
   "source": [
    "sns.set()\n",
    "sns.pairplot(iris,hue=\"species\",height=2)"
   ]
  },
  {
   "cell_type": "code",
   "execution_count": null,
   "id": "d64f3264",
   "metadata": {},
   "outputs": [],
   "source": [
    "# prepare a features matrix \n",
    "# scikit-learn can use features matrix of a Numpy ndarray or DataFrame object \n",
    "# here use a DataFrame object, with shape [n_samples, n_features]\n",
    "# by convention, the features matrix is called X\n",
    "X_iris = iris.drop('species', axis=1)\n",
    "print(X_iris.shape)\n",
    "print(type(X_iris))"
   ]
  },
  {
   "cell_type": "code",
   "execution_count": null,
   "id": "ac666a51",
   "metadata": {},
   "outputs": [],
   "source": [
    "# create the label or target array \n",
    "\n",
    "# scikit-learn can use label of a Numpy ndarray or Pandas Series object \n",
    "# here use a Series object, with shape [n_samples,] \n",
    "# by convention, the label is called y\n",
    "y_iris = iris['species']\n",
    "print(y_iris.shape)\n",
    "print(type(y_iris))"
   ]
  },
  {
   "cell_type": "markdown",
   "id": "ab4fdb86",
   "metadata": {},
   "source": [
    "![data layout](data_layout.png)\n"
   ]
  },
  {
   "cell_type": "markdown",
   "id": "9631f6d1",
   "metadata": {},
   "source": [
    "# Scikit-learn Estimator API\n",
    "1. Every machine learning algorithm in Scikit-learn is implemented via the Estimator API, which privides a consistent interface \n",
    "2. Basic steps:\n",
    "   - Choose a model class, such as LinearRegression\n",
    "   - Instantiate the model class with desired hyperparameters\n",
    "   - Prepare the data into a features matrix and a label\n",
    "   - Fit the model to the data by calling the model's fit()\n",
    "   - Apply the model to new data\n",
    "      - for supervised learning, predict the labels using predict() method\n",
    "      - for unsupervised learning, transform or infer properties of the data using transform() or predict() method"
   ]
  },
  {
   "cell_type": "code",
   "execution_count": null,
   "id": "31044eb5",
   "metadata": {},
   "outputs": [],
   "source": [
    "#simple linear regression - fit a line to (x,y) data\n",
    "import matplotlib.pyplot as plt\n",
    "import numpy as np\n",
    "from numpy.random import default_rng\n",
    "#random number generator\n",
    "rng = default_rng(seed=42) \n",
    "x = 10*rng.random(50)\n",
    "y = 2*x-1+rng.standard_normal(50)\n",
    "plt.scatter(x,y)"
   ]
  },
  {
   "cell_type": "code",
   "execution_count": null,
   "id": "503bc6eb",
   "metadata": {},
   "outputs": [],
   "source": [
    "from sklearn.linear_model import LinearRegression\n",
    "model = LinearRegression(fit_intercept=True)"
   ]
  },
  {
   "cell_type": "code",
   "execution_count": null,
   "id": "3999ff56",
   "metadata": {},
   "outputs": [],
   "source": [
    "# prepare features matrix\n",
    "X = x[:, np.newaxis]\n",
    "X.shape"
   ]
  },
  {
   "cell_type": "code",
   "execution_count": null,
   "id": "6c74dea9",
   "metadata": {},
   "outputs": [],
   "source": [
    "y.shape"
   ]
  },
  {
   "cell_type": "code",
   "execution_count": null,
   "id": "3464dee9",
   "metadata": {},
   "outputs": [],
   "source": [
    "model.fit(X,y)"
   ]
  },
  {
   "cell_type": "code",
   "execution_count": null,
   "id": "f28cb196",
   "metadata": {},
   "outputs": [],
   "source": [
    "model.coef_"
   ]
  },
  {
   "cell_type": "code",
   "execution_count": null,
   "id": "2a962600",
   "metadata": {},
   "outputs": [],
   "source": [
    "model.intercept_"
   ]
  },
  {
   "cell_type": "code",
   "execution_count": null,
   "id": "9c3a2dc3",
   "metadata": {},
   "outputs": [],
   "source": [
    "# generate an unknown data set for use in prediction\n",
    "xfit = np.linspace(-1,11, num=50)\n",
    "xfit"
   ]
  },
  {
   "cell_type": "code",
   "execution_count": null,
   "id": "bbd932cb",
   "metadata": {},
   "outputs": [],
   "source": [
    "Xfit = xfit[:, np.newaxis]\n",
    "Xfit.shape"
   ]
  },
  {
   "cell_type": "code",
   "execution_count": null,
   "id": "3e9915f5",
   "metadata": {},
   "outputs": [],
   "source": [
    "yfit = model.predict(Xfit)\n",
    "plt.scatter(x,y);\n",
    "plt.plot(xfit,yfit)"
   ]
  },
  {
   "cell_type": "code",
   "execution_count": null,
   "id": "bff0d12c",
   "metadata": {},
   "outputs": [],
   "source": [
    "#Gaussian Naive Bayes\n",
    "# generate cluster data sets\n",
    "from sklearn.datasets import make_blobs\n",
    "X,y, centers = make_blobs(n_samples=100,n_features=2,centers=2, center_box=(-10,10), shuffle=True, random_state=2, cluster_std=1.5, return_centers=True)"
   ]
  },
  {
   "cell_type": "code",
   "execution_count": null,
   "id": "4867db0d",
   "metadata": {},
   "outputs": [],
   "source": [
    "plt.scatter(x=X[:,0],y=X[:,1],s=50, c=y,cmap=\"PiYG\")"
   ]
  },
  {
   "cell_type": "code",
   "execution_count": null,
   "id": "6cf1115d",
   "metadata": {},
   "outputs": [],
   "source": [
    "from sklearn.naive_bayes import GaussianNB\n",
    "model  = GaussianNB()\n",
    "model.fit(X,y)"
   ]
  },
  {
   "cell_type": "code",
   "execution_count": null,
   "id": "7de810af",
   "metadata": {},
   "outputs": [],
   "source": [
    "rng = default_rng(seed=0)\n",
    "Xnew = [-6,-14] + [14,18]*rng.random((2000,2))\n",
    "ynew = model.predict(Xnew)"
   ]
  },
  {
   "cell_type": "code",
   "execution_count": null,
   "id": "5a1b3b1c",
   "metadata": {},
   "outputs": [],
   "source": [
    "plt.scatter(X[:,0],X[:,1],c=y,s=50,cmap=\"PiYG\")\n",
    "lim = plt.axis()\n",
    "plt.scatter(Xnew[:,0],Xnew[:,1],c=ynew,s=20,cmap=\"PiYG\",alpha=0.2)\n",
    "plt.axis(lim)"
   ]
  },
  {
   "cell_type": "code",
   "execution_count": null,
   "id": "e4348339",
   "metadata": {},
   "outputs": [],
   "source": [
    "yprob = model.predict_proba(Xnew)\n",
    "yprob.round(2)"
   ]
  },
  {
   "cell_type": "code",
   "execution_count": null,
   "id": "d79344f0",
   "metadata": {},
   "outputs": [],
   "source": [
    "#Multinomial Naive Bayes\n",
    "#Classifying text\n",
    "from sklearn.datasets import fetch_20newsgroups\n",
    "data = fetch_20newsgroups()\n",
    "data.target_names"
   ]
  },
  {
   "cell_type": "code",
   "execution_count": null,
   "id": "7ba33b3d",
   "metadata": {},
   "outputs": [],
   "source": [
    "categories  = ['talk.religion.misc', 'soc.religion.christian', 'sci.space','comp.graphics']\n",
    "train = fetch_20newsgroups(subset='train', categories=categories)\n",
    "test = fetch_20newsgroups(subset='test', categories=categories)\n",
    "print(len(train.data))\n",
    "print(train.data[-1])\n",
    "print(train.target[-1])"
   ]
  },
  {
   "cell_type": "code",
   "execution_count": null,
   "id": "23412a56",
   "metadata": {},
   "outputs": [],
   "source": [
    "from sklearn.feature_extraction.text import TfidfVectorizer\n",
    "from sklearn.naive_bayes import MultinomialNB\n",
    "from sklearn.pipeline import make_pipeline\n",
    "model = make_pipeline(TfidfVectorizer(), MultinomialNB())"
   ]
  },
  {
   "cell_type": "code",
   "execution_count": null,
   "id": "1797e27a",
   "metadata": {},
   "outputs": [],
   "source": [
    "model.fit(train.data, train.target)"
   ]
  },
  {
   "cell_type": "code",
   "execution_count": null,
   "id": "a331967d",
   "metadata": {},
   "outputs": [],
   "source": [
    "labels = model.predict(test.data)"
   ]
  },
  {
   "cell_type": "code",
   "execution_count": null,
   "id": "4e42debe",
   "metadata": {},
   "outputs": [],
   "source": [
    "from sklearn.metrics import confusion_matrix\n",
    "mat = confusion_matrix(test.target, labels)\n",
    "sns.heatmap(mat.T, square=True, annot=True, fmt='d', cbar=False,\n",
    "xticklabels=train.target_names, yticklabels=train.target_names)\n",
    "plt.xlabel('true label')\n",
    "plt.ylabel('predicted label');\n"
   ]
  }
 ],
 "metadata": {
  "kernelspec": {
   "display_name": "Python 3",
   "language": "python",
   "name": "python3"
  },
  "language_info": {
   "codemirror_mode": {
    "name": "ipython",
    "version": 3
   },
   "file_extension": ".py",
   "mimetype": "text/x-python",
   "name": "python",
   "nbconvert_exporter": "python",
   "pygments_lexer": "ipython3",
   "version": "3.8.5"
  }
 },
 "nbformat": 4,
 "nbformat_minor": 5
}
