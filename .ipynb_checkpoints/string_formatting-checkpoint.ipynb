{
 "cells": [
  {
   "cell_type": "code",
   "execution_count": null,
   "id": "39542429",
   "metadata": {},
   "outputs": [],
   "source": [
    "f = 314.1592"
   ]
  },
  {
   "cell_type": "code",
   "execution_count": null,
   "id": "bc9e458d",
   "metadata": {},
   "outputs": [],
   "source": [
    "\"f={0:15.5f}\".format(f)"
   ]
  },
  {
   "cell_type": "code",
   "execution_count": null,
   "id": "24d2b797",
   "metadata": {},
   "outputs": [],
   "source": [
    "\"f={0:1.5f}\".format(f)"
   ]
  },
  {
   "cell_type": "code",
   "execution_count": null,
   "id": "55421322",
   "metadata": {},
   "outputs": [],
   "source": [
    "\"f={0:>15.5f}\".format(f)"
   ]
  },
  {
   "cell_type": "code",
   "execution_count": null,
   "id": "ee2606cb",
   "metadata": {},
   "outputs": [],
   "source": [
    "\"f={0:x>15.5f}\".format(f)"
   ]
  },
  {
   "cell_type": "code",
   "execution_count": null,
   "id": "da83b2a4",
   "metadata": {},
   "outputs": [],
   "source": [
    "\"f={0:<15.5f}\".format(f)"
   ]
  },
  {
   "cell_type": "code",
   "execution_count": null,
   "id": "e9e38d4c",
   "metadata": {},
   "outputs": [],
   "source": [
    "\"f={0:y<15.5f}\".format(f)"
   ]
  },
  {
   "cell_type": "code",
   "execution_count": null,
   "id": "6455d041",
   "metadata": {},
   "outputs": [],
   "source": [
    "\"f={0:y=+15.5f}\".format(f)"
   ]
  },
  {
   "cell_type": "code",
   "execution_count": null,
   "id": "d65321a5",
   "metadata": {},
   "outputs": [],
   "source": [
    "\"f={0:0=+15.5f}\".format(f)"
   ]
  },
  {
   "cell_type": "code",
   "execution_count": null,
   "id": "b4afe87e",
   "metadata": {},
   "outputs": [],
   "source": [
    "\"f={0:+015.5f}\".format(f)"
   ]
  },
  {
   "cell_type": "code",
   "execution_count": null,
   "id": "1a7e0e51",
   "metadata": {},
   "outputs": [],
   "source": [
    "\"f={0:*^+100.5f}\".format(f)"
   ]
  },
  {
   "cell_type": "code",
   "execution_count": null,
   "id": "b8e408cb",
   "metadata": {},
   "outputs": [],
   "source": [
    "\"f={0:15.5e}\".format(f)"
   ]
  },
  {
   "cell_type": "code",
   "execution_count": null,
   "id": "577fd75f",
   "metadata": {},
   "outputs": [],
   "source": [
    "\"f={0:15.5g}\".format(f)"
   ]
  }
 ],
 "metadata": {
  "kernelspec": {
   "display_name": "Python 3",
   "language": "python",
   "name": "python3"
  },
  "language_info": {
   "codemirror_mode": {
    "name": "ipython",
    "version": 3
   },
   "file_extension": ".py",
   "mimetype": "text/x-python",
   "name": "python",
   "nbconvert_exporter": "python",
   "pygments_lexer": "ipython3",
   "version": "3.8.5"
  }
 },
 "nbformat": 4,
 "nbformat_minor": 5
}
