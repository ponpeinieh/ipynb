{
 "cells": [
  {
   "cell_type": "code",
   "execution_count": 6,
   "id": "4cc657b9",
   "metadata": {},
   "outputs": [],
   "source": [
    "import base64\n",
    "import requests\n",
    "from github import Github\n",
    "from pprint import pprint\n"
   ]
  },
  {
   "cell_type": "code",
   "execution_count": 17,
   "id": "3c6a4407",
   "metadata": {},
   "outputs": [
    {
     "name": "stdout",
     "output_type": "stream",
     "text": [
      "dict_keys(['1. main.c', '1.2 main.c', '1.3 main.c', '1.4 main.c', '2.1 bmi.c', '2.2 discount.c', '3.1 switch_case.c', '3.2 switch_case.c', '3.3 switch_case.c', '3.4 switch_case.c', '3.5 switch_case.c', '4.1 while_loop.c', '4.2 while_loop.c', '4.3 while_loop.c', '4.4 while_loop.c'])\n"
     ]
    }
   ],
   "source": [
    "\n",
    "url = 'https://api.github.com/gists/bb8ec9cd5a904063b0f5c48787daeb35'\n",
    "user_data=requests.get(url).json()\n",
    "print(user_data['files'].keys())"
   ]
  },
  {
   "cell_type": "code",
   "execution_count": 14,
   "id": "fc8aad04",
   "metadata": {},
   "outputs": [
    {
     "name": "stdout",
     "output_type": "stream",
     "text": [
      "#include <stdio.h>\n",
      "int main(){\n",
      "\t//宣告變數\n",
      "\tint age;\n",
      "\tprintf(\"請問貴庚?\");\n",
      "\tscanf(\"%d\",&age);\n",
      "\t//決策\n",
      "\tif(age>=18){\n",
      "\t\tprintf(\"您已經成年了!\\n\");\n",
      "\t} \n",
      "\tif(age>=65){\n",
      "\t\tprintf(\"我們提供一些折扣給長輩們!\\n\");\n",
      "\t}\n",
      "\tprintf(\"完成!\\n\");\n",
      "\treturn 0;\n",
      "} \n"
     ]
    }
   ],
   "source": [
    "#https://gist.github.com/bb8ec9cd5a904063b0f5c48787daeb35.git\n",
    "\n",
    "print(user_data['files']['1. main.c']['content'])"
   ]
  },
  {
   "cell_type": "code",
   "execution_count": 18,
   "id": "d68d253e",
   "metadata": {},
   "outputs": [
    {
     "name": "stdout",
     "output_type": "stream",
     "text": [
      "\n"
     ]
    }
   ],
   "source": [
    "print()"
   ]
  },
  {
   "cell_type": "code",
   "execution_count": 34,
   "id": "a27dd1bb",
   "metadata": {},
   "outputs": [
    {
     "data": {
      "text/plain": [
       "(True, False)"
      ]
     },
     "execution_count": 34,
     "metadata": {},
     "output_type": "execute_result"
    }
   ],
   "source": [
    "from collections.abc import Iterable, Iterator\n",
    "x = [1,2,3]\n",
    "isinstance(x,Iterable),isinstance(x,Iterator)"
   ]
  },
  {
   "cell_type": "code",
   "execution_count": 31,
   "id": "10563038",
   "metadata": {},
   "outputs": [
    {
     "data": {
      "text/plain": [
       "(True, True, False)"
      ]
     },
     "execution_count": 31,
     "metadata": {},
     "output_type": "execute_result"
    }
   ],
   "source": [
    "'__iter__' in dir(x),'__getitem__' in dir(x), '__next__' in dir(x)"
   ]
  },
  {
   "cell_type": "code",
   "execution_count": 32,
   "id": "a6842bba",
   "metadata": {},
   "outputs": [
    {
     "data": {
      "text/plain": [
       "(True, True, False)"
      ]
     },
     "execution_count": 32,
     "metadata": {},
     "output_type": "execute_result"
    }
   ],
   "source": [
    "hasattr(x,'__iter__'),hasattr(x,'__getitem__'), hasattr(x,'__next__')"
   ]
  },
  {
   "cell_type": "code",
   "execution_count": 37,
   "id": "b73a6be6",
   "metadata": {},
   "outputs": [
    {
     "data": {
      "text/plain": [
       "2"
      ]
     },
     "execution_count": 37,
     "metadata": {},
     "output_type": "execute_result"
    }
   ],
   "source": [
    "x.__getitem__(1)"
   ]
  },
  {
   "cell_type": "code",
   "execution_count": 45,
   "id": "7a4b0901",
   "metadata": {},
   "outputs": [
    {
     "data": {
      "text/plain": [
       "(True, False, True)"
      ]
     },
     "execution_count": 45,
     "metadata": {},
     "output_type": "execute_result"
    }
   ],
   "source": [
    "y = x.__iter__()\n",
    "z = iter(x)\n",
    "'__iter__' in dir(y),'__getitem__' in dir(y), '__next__' in dir(y)"
   ]
  },
  {
   "cell_type": "code",
   "execution_count": 46,
   "id": "932d7293",
   "metadata": {},
   "outputs": [
    {
     "data": {
      "text/plain": [
       "(1, 2, 1, 2)"
      ]
     },
     "execution_count": 46,
     "metadata": {},
     "output_type": "execute_result"
    }
   ],
   "source": [
    "y.__next__(),y.__next__(), next(z),next(z)"
   ]
  },
  {
   "cell_type": "code",
   "execution_count": 47,
   "id": "1ac2171e",
   "metadata": {},
   "outputs": [
    {
     "name": "stdout",
     "output_type": "stream",
     "text": [
      "<class 'generator'>\n"
     ]
    }
   ],
   "source": [
    "def sq_numbers(): \n",
    "    i=1\n",
    "    yield i*i\n",
    "    i+=1\n",
    "  \n",
    "a = sq_numbers(3)\n",
    "print(type(a))"
   ]
  }
 ],
 "metadata": {
  "kernelspec": {
   "display_name": "Python 3",
   "language": "python",
   "name": "python3"
  },
  "language_info": {
   "codemirror_mode": {
    "name": "ipython",
    "version": 3
   },
   "file_extension": ".py",
   "mimetype": "text/x-python",
   "name": "python",
   "nbconvert_exporter": "python",
   "pygments_lexer": "ipython3",
   "version": "3.8.10"
  }
 },
 "nbformat": 4,
 "nbformat_minor": 5
}
