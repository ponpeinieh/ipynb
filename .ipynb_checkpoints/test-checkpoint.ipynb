{
 "cells": [
  {
   "cell_type": "code",
   "execution_count": null,
   "id": "fccc0f19",
   "metadata": {},
   "outputs": [],
   "source": [
    "with open('data.txt','r') as file:\n",
    "    contents = file.read()\n",
    "print(contents)"
   ]
  },
  {
   "cell_type": "code",
   "execution_count": null,
   "id": "d9fba228",
   "metadata": {},
   "outputs": [],
   "source": [
    "file = open('data.txt')\n",
    "contents= file.read()\n",
    "contents"
   ]
  },
  {
   "cell_type": "code",
   "execution_count": null,
   "id": "d5829ef7",
   "metadata": {},
   "outputs": [],
   "source": [
    "# end of file(EOF) will return ''(empty string)\n",
    "file.read()"
   ]
  },
  {
   "cell_type": "code",
   "execution_count": null,
   "id": "dc1d35db",
   "metadata": {},
   "outputs": [],
   "source": [
    "# return the file position(in byte)\n",
    "file.tell() "
   ]
  },
  {
   "cell_type": "code",
   "execution_count": null,
   "id": "0b3859c0",
   "metadata": {},
   "outputs": [],
   "source": [
    "# set file postion to the beginning\n",
    "file.seek(0)"
   ]
  },
  {
   "cell_type": "code",
   "execution_count": null,
   "id": "eceda660",
   "metadata": {},
   "outputs": [],
   "source": [
    "file.read()"
   ]
  },
  {
   "cell_type": "code",
   "execution_count": null,
   "id": "bfb1de50",
   "metadata": {},
   "outputs": [],
   "source": [
    "file.seek(0)\n",
    "file.tell()"
   ]
  },
  {
   "cell_type": "code",
   "execution_count": null,
   "id": "91bfbcd5",
   "metadata": {},
   "outputs": [],
   "source": [
    "file.close()"
   ]
  },
  {
   "cell_type": "code",
   "execution_count": null,
   "id": "4d6b565b",
   "metadata": {},
   "outputs": [],
   "source": [
    "with open('data.txt') as file:\n",
    "    for line in file:\n",
    "        print(line.rstrip())"
   ]
  },
  {
   "cell_type": "code",
   "execution_count": null,
   "id": "2746bbd3",
   "metadata": {},
   "outputs": [],
   "source": [
    "with open('data.txt') as file:\n",
    "    lines = file.readlines()\n",
    "for line in lines:\n",
    "    print(line.rstrip())\n",
    "digits=''\n",
    "for line in lines:\n",
    "    digits+=line.rstrip()\n",
    "print(digits)\n"
   ]
  },
  {
   "cell_type": "code",
   "execution_count": null,
   "id": "8de5b2d2",
   "metadata": {},
   "outputs": [],
   "source": [
    "with open('pi_million_digits.txt') as file:\n",
    "    lines = file.readlines()\n",
    "digits=''\n",
    "for line in lines:\n",
    "    digits+=line.strip()\n",
    "print(f'{digits[:100]}...')"
   ]
  },
  {
   "cell_type": "code",
   "execution_count": null,
   "id": "d2d7dacf",
   "metadata": {},
   "outputs": [],
   "source": [
    "birthdays = input('Enter your birthday, in the format of yyyymmdd:')\n",
    "if birthdays in digits:\n",
    "    print('Your birthday appears in the digits of PI')\n",
    "else:\n",
    "    print('Your birthday does not appear in the digits of PI')"
   ]
  },
  {
   "cell_type": "code",
   "execution_count": null,
   "id": "a520cdbe",
   "metadata": {},
   "outputs": [],
   "source": [
    "d_stats=[]\n",
    "for i in range(10):\n",
    "    d_stats.append(0)\n",
    "for d in digits:\n",
    "    if d!='.':\n",
    "        d_stats[int(d)]+=1\n",
    "for i,n in enumerate(d_stats):\n",
    "    print(f'{i}:{n}')"
   ]
  },
  {
   "cell_type": "code",
   "execution_count": null,
   "id": "9c4af799",
   "metadata": {},
   "outputs": [],
   "source": [
    "with open(\"output.txt\",'w') as file:\n",
    "    file.write(\"Hello world!\\n\")\n",
    "    file.write(\"Welcome to Python world too!\\n\")\n",
    "with open('output.txt') as file:\n",
    "    contents = file.read()\n",
    "    print(contents)"
   ]
  },
  {
   "cell_type": "code",
   "execution_count": null,
   "id": "b6a491b1",
   "metadata": {},
   "outputs": [],
   "source": [
    "with open(\"output.txt\",'a') as file:\n",
    "    file.write(\"Let's do some programming!\\n\") \n",
    "with open('output.txt') as file:\n",
    "    contents = file.read()\n",
    "    print(contents)"
   ]
  },
  {
   "cell_type": "code",
   "execution_count": null,
   "id": "0f318708",
   "metadata": {},
   "outputs": [],
   "source": [
    "with open(\"output.txt\",'w+') as file:\n",
    "    file.write(\"Let's take a break!\\n\")  \n",
    "    file.seek(0)\n",
    "    contents = file.read()\n",
    "    print(contents)"
   ]
  }
 ],
 "metadata": {
  "kernelspec": {
   "display_name": "Python 3",
   "language": "python",
   "name": "python3"
  },
  "language_info": {
   "codemirror_mode": {
    "name": "ipython",
    "version": 3
   },
   "file_extension": ".py",
   "mimetype": "text/x-python",
   "name": "python",
   "nbconvert_exporter": "python",
   "pygments_lexer": "ipython3",
   "version": "3.8.5"
  }
 },
 "nbformat": 4,
 "nbformat_minor": 5
}
