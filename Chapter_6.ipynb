{
 "cells": [
  {
   "cell_type": "markdown",
   "id": "2e254f7d",
   "metadata": {},
   "source": [
    "### Function(函數)\n",
    "\n",
    "1. 一段獨立的程式碼, 用來完成某個特定的運算邏輯或工作\n",
    "2. 執行某個函數, 這個動作稱爲呼叫(call)\n",
    "3. 函數可以重復被呼叫\n",
    "4. 函數可以接受參數(輸入的資料),並回傳執行的結果\n",
    "5. 函數可以儲存在個別的檔案中, 稱爲modules(模組)\n",
    "\n",
    "```\n",
    "def greet_user():\n",
    "    #below is a docstring comment\n",
    "    \"\"\"Display a simple greeting.\"\"\"\n",
    "    print(\"Hello!\")\n",
    "greet_user()\n",
    "```\n"
   ]
  },
  {
   "cell_type": "code",
   "execution_count": null,
   "id": "ee1dd26b",
   "metadata": {},
   "outputs": [],
   "source": [
    "def greet_user():\n",
    "    \"\"\"Display a simple greeting.\"\"\"\n",
    "    print(\"Hello!\")\n",
    "greet_user()"
   ]
  },
  {
   "cell_type": "code",
   "execution_count": null,
   "id": "25921fdd",
   "metadata": {},
   "outputs": [],
   "source": [
    "print(greet_user.__doc__)"
   ]
  },
  {
   "cell_type": "markdown",
   "id": "3a0613a4",
   "metadata": {},
   "source": [
    "6. parameters(參數) vs arguments(引數)\n",
    "   - parameters: function ()內所宣告要傳入的資料稱爲參數\n",
    "   - arguments: 呼叫函數時真正傳入的資料稱爲引數\n",
    "   - **但大部分情況下是混着使用, 沒有區別**\n",
    "   \n",
    "```\n",
    "def greet_user(username):\n",
    "    \"\"\"Display a simple greeting.\"\"\"\n",
    "    print(f\"Hello, {username.title()}!\")\n",
    "greet_user('jesse')\n",
    "\n",
    "```"
   ]
  },
  {
   "cell_type": "code",
   "execution_count": null,
   "id": "fb96ee8f",
   "metadata": {},
   "outputs": [],
   "source": [
    "# username is the parameter\n",
    "def greet_user(username):\n",
    "    \"\"\"Display a simple greeting.\"\"\"\n",
    "    print(f\"Hello, {username.title()}!\")\n",
    "# 'jesse' is the argument\n",
    "greet_user('jesse')"
   ]
  },
  {
   "cell_type": "markdown",
   "id": "a459dbf9",
   "metadata": {},
   "source": [
    "7. Arguments(引數)的傳入, 可以以下幾種方式:\n",
    "   - Positional arguments: 傳入的引數須與所宣告的參數順序相同\n",
    "   - Keyword arguments: 傳入的引數包含名稱與數值\n",
    "   - list of values 及 dictionary of values\n",
    "   \n",
    "8. Postional arguments:\n",
    "\n",
    "```\n",
    "def describe_pet(animal_type, pet_name):\n",
    "    \"\"\"Display information about a pet.\"\"\"\n",
    "    print(f\"\\nI have a {animal_type}.\")\n",
    "    print(f\"My {animal_type}'s name is {pet_name.title()}.\")\n",
    "describe_pet('hamster', 'harry')\n",
    "```"
   ]
  },
  {
   "cell_type": "code",
   "execution_count": null,
   "id": "387645c6",
   "metadata": {},
   "outputs": [],
   "source": [
    "def describe_pet(animal_type, pet_name):\n",
    "    \"\"\"Display information about a pet.\"\"\"\n",
    "    print(f\"\\nI have a {animal_type}.\")\n",
    "    print(f\"My {animal_type}'s name is {pet_name.title()}.\")\n",
    "\n",
    "describe_pet('hamster', 'harry')"
   ]
  },
  {
   "cell_type": "markdown",
   "id": "ccd10657",
   "metadata": {},
   "source": [
    "9. Keyword arguments:\n",
    "\n",
    "```\n",
    "describe_pet(animal_type='hamster', pet_name='harry')\n",
    "```"
   ]
  },
  {
   "cell_type": "code",
   "execution_count": null,
   "id": "e6bba30f",
   "metadata": {},
   "outputs": [],
   "source": [
    "describe_pet(animal_type='hamster', pet_name='harry')\n",
    "describe_pet(pet_name='harry',animal_type='hamster')"
   ]
  },
  {
   "cell_type": "markdown",
   "id": "00d1431d",
   "metadata": {},
   "source": [
    "10. Default values for parameters\n",
    "   - 參數可以指定預設值\n",
    "   - 當呼叫函數時, 若有傳入該引數, 則會使用這個引數做爲參數的數值\n",
    "   - 但是當沒有傳入該引數時, 則會使用預設值\n",
    "   - **有預設值的參數須宣告在沒有預設值的參數之後**, 因此以下函數, animal_type須放在pet_name之後\n",
    "\n",
    "```\n",
    "def describe_pet(pet_name, animal_type='dog'):\n",
    "    \"\"\"Display information about a pet.\"\"\"\n",
    "    print(f\"\\nI have a {animal_type}.\")\n",
    "    print(f\"My {animal_type}'s name is {pet_name.title()}.\")\n",
    "\n",
    "describe_pet(pet_name='willie')\n",
    "describe_pet('willie')\n",
    "describe_pet('harry', 'hamster')\n",
    "describe_pet(pet_name='harry', animal_type='hamster')\n",
    "describe_pet(animal_type='hamster', pet_name='harry')\n",
    "```"
   ]
  },
  {
   "cell_type": "code",
   "execution_count": null,
   "id": "e04090f2",
   "metadata": {},
   "outputs": [],
   "source": [
    "def describe_pet(pet_name, animal_type='dog'):\n",
    "    \"\"\"Display information about a pet.\"\"\"\n",
    "    print(f\"\\nI have a {animal_type}.\")\n",
    "    print(f\"My {animal_type}'s name is {pet_name.title()}.\")\n",
    "\n",
    "describe_pet(pet_name='willie')\n",
    "describe_pet('willie')\n",
    "describe_pet('harry', 'hamster')\n",
    "describe_pet(pet_name='harry', animal_type='hamster')\n",
    "describe_pet(animal_type='hamster', pet_name='harry')\n"
   ]
  },
  {
   "cell_type": "code",
   "execution_count": null,
   "id": "33a6d51b",
   "metadata": {},
   "outputs": [],
   "source": [
    "describe_pet()"
   ]
  },
  {
   "cell_type": "markdown",
   "id": "74c0e244",
   "metadata": {},
   "source": [
    "### 練習: T-shirt\n",
    "1. 定義一個make_shirt()函數, 接受兩個參數: size(代表Shirt尺寸), text_to_print(列印在Shirt上的文字)\n",
    "2. 函數中列印size及text_to_print\n",
    "3. 呼叫這個函數, 傳入positional arguments\n",
    "4. 呼叫這個函數, 傳入keyword arguments\n",
    "\n",
    "### 練習: Large shirt\n",
    "1. 如上面練習, 但是以'large'爲size參數的預設值, 'I code Python!'爲text_to_print的預設值\n",
    "2. 以下方式呼叫該函數: \n",
    "   - Large Shirt, 預設訊息\n",
    "   - Medium Shirt, 預設訊息\n",
    "   - Small Shirt, \"I use Jupyter Notebook too!\"\n"
   ]
  },
  {
   "cell_type": "code",
   "execution_count": null,
   "id": "3696e63e",
   "metadata": {},
   "outputs": [],
   "source": [
    "def make_shirt(size='large',text_to_print='I code Pyhton!'):\n",
    "    print(f'I wear a shirt of size {size} with a text \"{text_to_print}\" on it!')\n",
    "    \n",
    "make_shirt()\n",
    "make_shirt('medium')\n",
    "make_shirt('small','I use Jupyter Notebook too!')"
   ]
  },
  {
   "cell_type": "markdown",
   "id": "0352ad52",
   "metadata": {},
   "source": [
    "11. Return values\n",
    "\n",
    "   - 函數可以沒有回傳值, 亦可以回傳一個值或多個值\n",
    "   - 使用return statemenet來回傳資料\n",
    "   \n",
    "12. 回傳單一個數值\n",
    "\n",
    "```\n",
    "def get_formatted_name(first_name, last_name):\n",
    "    \"\"\"Return a full name, neatly formatted.\"\"\"\n",
    "    full_name = f\"{first_name} {last_name}\"\n",
    "    return full_name.title()\n",
    "\n",
    "musician = get_formatted_name('jimi', 'hendrix')\n",
    "print(musician)\n",
    "```"
   ]
  },
  {
   "cell_type": "code",
   "execution_count": null,
   "id": "8ca43862",
   "metadata": {},
   "outputs": [],
   "source": [
    "def get_formatted_name(first_name, last_name):\n",
    "    \"\"\"Return a full name, neatly formatted.\"\"\"\n",
    "    full_name = f\"{first_name} {last_name}\"\n",
    "    return full_name.title()\n",
    "\n",
    "musician = get_formatted_name('jimi', 'hendrix')\n",
    "print(musician)"
   ]
  },
  {
   "cell_type": "code",
   "execution_count": null,
   "id": "9d014fe4",
   "metadata": {},
   "outputs": [],
   "source": [
    "# middle_name with default parameter of None, which is considered False\n",
    "def get_formatted_name(first_name, last_name, middle_name=None): \n",
    "    \"\"\"Return a full name, neatly formatted.\"\"\"\n",
    "    if middle_name:\n",
    "        full_name = f\"{first_name} {middle_name} {last_name}\"\n",
    "    else:\n",
    "        full_name = f\"{first_name} {last_name}\"\n",
    "    return full_name.title()\n",
    "\n",
    "musician = get_formatted_name('jimi', 'hendrix')\n",
    "print(musician)\n",
    "musician = get_formatted_name('john', 'hooker', 'lee')\n",
    "print(musician)\n"
   ]
  },
  {
   "cell_type": "markdown",
   "id": "e3184223",
   "metadata": {},
   "source": [
    "13. 回傳一個dict\n",
    "\n",
    "```\n",
    "def build_person(first_name, last_name):\n",
    "    \"\"\"Return a dictionary of information about a person.\"\"\"\n",
    "    person = {'first': first_name, 'last': last_name}\n",
    "    return person\n",
    "\n",
    "musician = build_person('jimi', 'hendrix')\n",
    "print(musician)\n",
    "```\n",
    "\n",
    "```\n",
    "def build_person(first_name, last_name, age=None):\n",
    "    \"\"\"Return a dictionary of information about a person.\"\"\"\n",
    "    person = {'first': first_name, 'last': last_name}\n",
    "    if age:\n",
    "        person['age'] = age\n",
    "    return person\n",
    "\n",
    "musician = build_person('jimi', 'hendrix', age=27)\n",
    "print(musician)\n",
    "```"
   ]
  },
  {
   "cell_type": "code",
   "execution_count": null,
   "id": "06e68deb",
   "metadata": {},
   "outputs": [],
   "source": [
    "def build_person(first_name, last_name):\n",
    "    \"\"\"Return a dictionary of information about a person.\"\"\"\n",
    "    person = {'first': first_name, 'last': last_name}\n",
    "    return person\n",
    "\n",
    "musician = build_person('jimi', 'hendrix')\n",
    "print(musician)"
   ]
  },
  {
   "cell_type": "code",
   "execution_count": null,
   "id": "915d76d0",
   "metadata": {},
   "outputs": [],
   "source": [
    "def build_person(first_name, last_name, age=None):\n",
    "    \"\"\"Return a dictionary of information about a person.\"\"\"\n",
    "    person = {'first': first_name, 'last': last_name}\n",
    "    if age:\n",
    "        person['age'] = age\n",
    "    return person\n",
    "\n",
    "musician = build_person('jimi', 'hendrix', age=27)\n",
    "print(musician)\n",
    "musician = build_person('Louis', 'Armstrong')\n",
    "print(musician)"
   ]
  },
  {
   "cell_type": "markdown",
   "id": "c3341200",
   "metadata": {},
   "source": [
    "### 練習: Album\n",
    "1. 定義一個make_album()函數, 接受兩個參數: artist_name(代表音樂家名字), title(專輯名稱), 並且回傳一個dict, 包含這兩個資訊\n",
    "2. 呼叫make_album(), 產生3個代表album的dict, 並且列印出來\n",
    "3. 加入第三個參數, songs, 代表專輯內的歌曲數目, 預設值爲None\n",
    "   - 若使用者有傳入songs, 則也把它加入到輸出的dict中   "
   ]
  },
  {
   "cell_type": "markdown",
   "id": "0d70156e",
   "metadata": {},
   "source": [
    "14. 傳入list\n",
    "\n",
    "```\n",
    "def greet_users(names):\n",
    "    \"\"\"Print a simple greeting to each user in the list.\"\"\"\n",
    "    for name in names:\n",
    "        msg = f\"Hello, {name.title()}!\"\n",
    "        print(msg)\n",
    "\n",
    "usernames = ['hannah', 'ty', 'margot']\n",
    "greet_users(usernames)\n",
    "\n",
    "```"
   ]
  },
  {
   "cell_type": "code",
   "execution_count": null,
   "id": "05891157",
   "metadata": {},
   "outputs": [],
   "source": [
    "def greet_users(names):\n",
    "    \"\"\"Print a simple greeting to each user in the list.\"\"\"\n",
    "    for name in names:\n",
    "        msg = f\"Hello, {name.title()}!\"\n",
    "        print(msg)\n",
    "\n",
    "usernames = ['hannah', 'ty', 'margot']\n",
    "greet_users(usernames)"
   ]
  },
  {
   "cell_type": "markdown",
   "id": "631e03da",
   "metadata": {},
   "source": [
    "15. 函數中改變傳入的list的內容\n",
    "\n",
    "   - 之前的範例: 從一個list移動items到另一個list\n",
    "   \n",
    "```\n",
    "unconfirmed_users = ['alice', 'brian', 'candace']\n",
    "confirmed_users = []\n",
    "while unconfirmed_users:\n",
    "    current_user = unconfirmed_users.pop()\n",
    "    print(f\"Verifying user: {current_user.title()}\")\n",
    "    confirmed_users.append(current_user)\n",
    "print(\"\\nThe following users have been confirmed:\")\n",
    "for confirmed_user in confirmed_users:\n",
    "    print(confirmed_user.title())\n",
    "```\n",
    "    \n",
    "   - 改寫成, 利用confirm()函數,來更新unconfirmed_users及confirmed_users, 以及display()函數來列印confirmed_users\n",
    "   \n",
    "```\n",
    "def confirm(unconfirmed_users,confirmed_users):\n",
    "    while unconfirmed_users:\n",
    "        current_user = unconfirmed_users.pop()\n",
    "        print(f\"Verifying user: {current_user.title()}\")\n",
    "        confirmed_users.append(current_user)\n",
    "        \n",
    "def display(confirmed_users):\n",
    "    print(\"\\nThe following users have been confirmed:\")\n",
    "    for confirmed_user in confirmed_users:\n",
    "        print(confirmed_user.title())\n",
    "        \n",
    "unconfirmed_users = ['alice', 'brian', 'candace']\n",
    "confirmed_users = []\n",
    "confirm(unconfirmed_users,confirmed_users)\n",
    "display(confirmed_users)\n",
    "```\n",
    "\n",
    "   - 若想要避免函數改變呼叫者端的資料, 可以在呼叫時傳入一份資料的copy\n",
    "   \n",
    "      - 利用slice\n",
    "\n",
    "```\n",
    "unconfirmed_users = ['alice', 'brian', 'candace']\n",
    "confirmed_users = []\n",
    "confirm(unconfirmed_users[:],confirmed_users)\n",
    "print(unconfirmed_users)\n",
    "```"
   ]
  },
  {
   "cell_type": "code",
   "execution_count": null,
   "id": "36799463",
   "metadata": {},
   "outputs": [],
   "source": [
    "def confirm(unconfirmed_users,confirmed_users):\n",
    "    while unconfirmed_users:\n",
    "        current_user = unconfirmed_users.pop()\n",
    "        print(f\"Verifying user: {current_user.title()}\")\n",
    "        confirmed_users.append(current_user)\n",
    "def display(confirmed_users):\n",
    "    print(\"\\nThe following users have been confirmed:\")\n",
    "    for confirmed_user in confirmed_users:\n",
    "        print(confirmed_user.title())\n",
    "        \n",
    "unconfirmed_users = ['alice', 'brian', 'candace']\n",
    "confirmed_users = []\n",
    "confirm(unconfirmed_users,confirmed_users)\n",
    "display(confirmed_users)"
   ]
  },
  {
   "cell_type": "code",
   "execution_count": null,
   "id": "a0c91a99",
   "metadata": {},
   "outputs": [],
   "source": [
    "unconfirmed_users = ['alice', 'brian', 'candace']\n",
    "confirmed_users = []\n",
    "confirm(unconfirmed_users[:],confirmed_users)\n",
    "print(unconfirmed_users)"
   ]
  },
  {
   "cell_type": "markdown",
   "id": "e0e00a53",
   "metadata": {},
   "source": [
    "### How are arguments passed by value or by reference in Python?\n",
    "\n",
    "1. 以上問題是從別的語言的角度來提出(例如Java). 實際上Python的所有資料都是物件, 因此變數是指向物件的參考(位址)\n",
    "\n",
    "2. 因此當物件做爲引數傳入函數時, 是傳入物件參考(call-by-reference), 因此是由呼叫着與被呼叫者共享這個物件\n",
    "\n",
    "3. 但是Python物件有些是**immutable**e, 亦即內容是不可改變的, 例如:**integers, strings or tuples**, 則\n",
    "\n",
    "   - 當做爲引數傳入函數時, 內容是不會在函數內被改變的\n",
    "   - 若函數內使用指定運算子, 改變參數(物件參考)的參考對象時, 實際上是轉向的動作, 指向一個新的物件, 呼叫者端的資料還是不會改變的\n",
    "\n",
    "4. 若傳入的是mutable資料, 則在函數內對該物件所做的任何改變, 會在呼叫者端看到相同的改變(因爲是同一個物件)"
   ]
  },
  {
   "cell_type": "code",
   "execution_count": null,
   "id": "1859e955",
   "metadata": {},
   "outputs": [],
   "source": [
    "def mod_int(x):\n",
    "    x+=1\n",
    "def mod_str(x):\n",
    "    x=x.title()\n",
    "def mod_tuple(x):\n",
    "    x=(0,0)\n",
    "def mod_list(x, y):\n",
    "    for i in y:\n",
    "        x.append(i)\n",
    "\n",
    "x=100    \n",
    "mod_int(x)\n",
    "print(x)\n",
    "#\n",
    "x='hello'\n",
    "mod_str(x)\n",
    "print(x)\n",
    "#\n",
    "x=(1,2,3) \n",
    "mod_tuple(x)\n",
    "print(x)\n",
    "#\n",
    "x=[1,2,3]\n",
    "y=[4,5]\n",
    "mod_list(x,y)\n",
    "print(x)"
   ]
  },
  {
   "cell_type": "code",
   "execution_count": null,
   "id": "30c5d6e9",
   "metadata": {},
   "outputs": [],
   "source": [
    "student={'Archana':28,'krishna':25,'Ramesh':32,'vineeth':25}\n",
    "def test(student):\n",
    "   new={'alok':30,'Nevadan':28}\n",
    "   student.update(new)\n",
    "   print(\"Inside the function\",student)\n",
    "   return\n",
    "test(student)\n",
    "print(\"outside the function:\",student)"
   ]
  },
  {
   "cell_type": "markdown",
   "id": "d9e62f0f",
   "metadata": {},
   "source": [
    "### 傳入任意個數的positional引數\n",
    "\n",
    "1. 通常用在事先不知道函數會接受幾個positional引數的情況下\n",
    "2. 函數參數名稱前加上asterisk(也就是*)\n",
    "3. **函數會建立一個tuple, 內容爲所傳入的引數**\n",
    "4. 可以不傳入任何引數\n",
    "5. 常常使用\\*args作爲參數名稱\n",
    "\n",
    "```\n",
    "def make_pizza(*toppings):\n",
    "    \"\"\"Print the list of toppings that have been requested.\"\"\"\n",
    "    print(toppings)\n",
    "    \n",
    "make_pizza()\n",
    "make_pizza('pepperoni')\n",
    "make_pizza('mushrooms', 'green peppers', 'extra cheese')\n",
    "```"
   ]
  },
  {
   "cell_type": "code",
   "execution_count": null,
   "id": "eca1ce51",
   "metadata": {},
   "outputs": [],
   "source": [
    "def make_pizza(*toppings):\n",
    "    \"\"\"Print the list of toppings that have been requested.\"\"\"\n",
    "    print(toppings)\n",
    "make_pizza()\n",
    "make_pizza('pepperoni')\n",
    "make_pizza('mushrooms', 'green peppers', 'extra cheese')"
   ]
  },
  {
   "cell_type": "markdown",
   "id": "aadb6cdd",
   "metadata": {},
   "source": [
    "6. 若函數同時還接受其他positional或keyword引數, 則任意個數引數的參數必須放在參數列的最後面\n",
    "\n",
    "```\n",
    "def make_pizza(size, *toppings):\n",
    "    \"\"\"Summarize the pizza we are about to make.\"\"\"\n",
    "    print(f\"\\nMaking a {size}-inch pizza with the following toppings:\")\n",
    "    for topping in toppings:\n",
    "        print(f\"- {topping}\")\n",
    "        \n",
    "make_pizza(16, 'pepperoni')\n",
    "make_pizza(12, 'mushrooms', 'green peppers', 'extra cheese')\n",
    "```"
   ]
  },
  {
   "cell_type": "code",
   "execution_count": null,
   "id": "6722308c",
   "metadata": {},
   "outputs": [],
   "source": [
    "def make_pizza(size, *toppings):\n",
    "    \"\"\"Summarize the pizza we are about to make.\"\"\"\n",
    "    print(f\"\\nMaking a {size}-inch pizza with the following toppings:\")\n",
    "    for topping in toppings:\n",
    "        print(f\"- {topping}\")\n",
    "        \n",
    "make_pizza(16, 'pepperoni')\n",
    "make_pizza(12, 'mushrooms', 'green peppers', 'extra cheese')"
   ]
  },
  {
   "cell_type": "markdown",
   "id": "ff108e8f",
   "metadata": {},
   "source": [
    "### 傳入任意個數的keyword引數\n",
    "\n",
    "1. 通常用在一個函數事先不知道它會接受什麼樣的引數, 因此打算接受任意數目的keyword引數(key-value pairs)\n",
    "2. 函數參數名稱前加上double asterisk(也就是**)\n",
    "3. 函數會建立一個dict, 內容爲所傳入的key-value pairs引數\n",
    "4. 可以不傳入任何引數\n",
    "5. 常常使用\\**kwargs作爲參數名稱\n",
    "\n",
    "```\n",
    "def build_profile(first, last, **user_info):\n",
    "    \"\"\"Build a dictionary containing everything we know about a user.\"\"\"\n",
    "    user_info['first_name'] = first\n",
    "    user_info['last_name'] = last\n",
    "    return user_info\n",
    "\n",
    "user_profile = build_profile('albert', 'einstein')    \n",
    "print(user_profile)    \n",
    "user_profile = build_profile('albert', 'einstein', location='princeton', field='physics')\n",
    "print(user_profile)\n",
    "```"
   ]
  },
  {
   "cell_type": "code",
   "execution_count": null,
   "id": "011ed5d6",
   "metadata": {},
   "outputs": [],
   "source": [
    "def build_profile(first, last, **user_info):\n",
    "    \"\"\"Build a dictionary containing everything we know about a user.\"\"\"\n",
    "    user_info['first_name'] = first\n",
    "    user_info['last_name'] = last\n",
    "    return user_info\n",
    "\n",
    "user_profile = build_profile('albert', 'einstein')    \n",
    "print(user_profile)\n",
    "user_profile = build_profile('albert', 'einstein', location='princeton', field='physics')\n",
    "print(user_profile)"
   ]
  },
  {
   "cell_type": "markdown",
   "id": "97991c00",
   "metadata": {},
   "source": [
    "### 練習: Pets\n",
    "\n",
    "1. 寫一個函數 make_pet(), 裏面使用一個dict來儲存一個寵物的資訊, 並回傳這個dict\n",
    "2. 該函數必須接受的positional引數: 寵物的種類(species), 及牠的名字(name)\n",
    "3. 也可以接受任意數目的keyword引數\n",
    "4. 呼叫該函數, 取得至少3個寵物的dict"
   ]
  },
  {
   "cell_type": "code",
   "execution_count": null,
   "id": "4cf6dd0e",
   "metadata": {},
   "outputs": [],
   "source": [
    "def make_pet(species, name, **kwargs):\n",
    "    pet_info={'species':species, 'name':name}\n",
    "    if kwargs:\n",
    "        pet_info.update(kwargs)\n",
    "    return pet_info\n",
    "\n",
    "pet1 = make_pet('dog','henry',color='black', age=5)\n",
    "print(pet1)\n",
    "pet2 = make_pet('cat','bruce',weight=10, hair='long')\n",
    "print(pet2)\n",
    "pet3 = make_pet('fish','golden')\n",
    "print(pet3)"
   ]
  },
  {
   "cell_type": "markdown",
   "id": "679194a4",
   "metadata": {},
   "source": [
    "### modules\n",
    "\n",
    "1. 可以將寫好的function(s)儲存在獨立的檔案中, 稱爲module\n",
    "2. 在要使用該module的地方, 先做import(匯入)然後再使用\n",
    "3. 若import的module與.ipynb檔案在同一個目錄內\n",
    "\n",
    "```\n",
    "#在與.ipynb檔案同一個目錄內, 建立pizza.py檔案, 包含make_pizza()\n",
    "def make_pizza(size, *toppings):\n",
    "    \"\"\"Summarize the pizza we are about to make.\"\"\"\n",
    "    print(f\"\\nMaking a {size}-inch pizza with the following toppings:\")\n",
    "    for topping in toppings:\n",
    "    print(f\"- {topping}\")\n",
    "```\n",
    "\n",
    "```\n",
    "import pizza\n",
    "pizza.make_pizza(16, 'pepperoni')\n",
    "pizza.make_pizza(12, 'mushrooms', 'green peppers', 'extra cheese')\n",
    "```\n",
    "\n",
    "4. 若import的module不是跟.ipynb檔案在同一個目錄內, 例如在'../my_python_modules'目錄內\n",
    "   - 將該目錄加入到sys.path中\n",
    "   - 或者利用環境變數PYHTONPATH: 在啓動notebook, 先將該目錄放入PYHTONPAT中\n",
    "   \n",
    "```\n",
    "import sys\n",
    "sys.path.append('../my_python_modules')\n",
    "\n",
    "import pizza\n",
    "pizza.make_pizza(16, 'pepperoni')\n",
    "pizza.make_pizza(12, 'mushrooms', 'green peppers', 'extra cheese')\n",
    "```\n",
    "\n",
    "```\n",
    "$ export PYTHONPATH='../my_python_modules'\n",
    "$ jupyter notebook\n",
    "```"
   ]
  },
  {
   "cell_type": "code",
   "execution_count": null,
   "id": "c6e37600",
   "metadata": {},
   "outputs": [],
   "source": [
    "import sys\n",
    "sys.path.append('../my_python_modules')\n",
    "import pizza\n",
    "\n",
    "print(pizza)\n",
    "pizza.make_pizza(16, 'pepperoni')\n",
    "pizza.make_pizza(12, 'mushrooms', 'green peppers', 'extra cheese')"
   ]
  },
  {
   "cell_type": "code",
   "execution_count": null,
   "id": "4dc29c7f",
   "metadata": {},
   "outputs": [],
   "source": [
    "# $ export PYTHONPATH='../my_python_modules'\n",
    "# $ jupyter notebook\n",
    "#\n",
    "import pizza\n",
    "\n",
    "print(pizza)\n",
    "pizza.make_pizza(16, 'pepperoni')\n",
    "pizza.make_pizza(12, 'mushrooms', 'green peppers', 'extra cheese')"
   ]
  },
  {
   "cell_type": "markdown",
   "id": "e2909230",
   "metadata": {},
   "source": [
    "5. import module內的特定的functions\n",
    "\n",
    "```\n",
    "from pizza import make_pizza\n",
    "make_pizza(16, 'pepperoni')\n",
    "make_pizza(12, 'mushrooms', 'green peppers', 'extra cheese')\n",
    "```\n",
    "\n",
    "6. import module內的所有的函數\n",
    "   - 原則上, 不建議匯入一個module內的所有functions, 因爲可能與自己檔案內的function名稱相同,造成問題\n",
    "\n",
    "```\n",
    "from pizza import *\n",
    "make_pizza(16, 'pepperoni')\n",
    "make_pizza(12, 'mushrooms', 'green peppers', 'extra cheese')\n",
    "```\n",
    "\n",
    "7. 使用as給function一個alias(別名)\n",
    "   - 通常是爲了避免名稱與另外一個同名稱的函數相衝突\n",
    "   - 或者函數名稱太長, 給一個短名\n",
    "   - 也可以使用as來給module一個alias\n",
    "   \n",
    "```\n",
    "from pizza import make_pizza as mp\n",
    "mp(16, 'pepperoni')\n",
    "mp(12, 'mushrooms', 'green peppers', 'extra cheese')\n",
    "```\n",
    "\n",
    "```\n",
    "import pizza as p\n",
    "p.make_pizza(16, 'pepperoni')\n",
    "p.make_pizza(12, 'mushrooms', 'green peppers', 'extra cheese')\n",
    "```"
   ]
  },
  {
   "cell_type": "code",
   "execution_count": null,
   "id": "b551b7fe",
   "metadata": {},
   "outputs": [],
   "source": [
    "from pizza import make_pizza as mp\n",
    "mp(16, 'pepperoni')\n",
    "mp(12, 'mushrooms', 'green peppers', 'extra cheese')"
   ]
  },
  {
   "cell_type": "markdown",
   "id": "3bac76c8",
   "metadata": {},
   "source": [
    "### docstring\n",
    "   - Python docstrings are the string literals that appear right after the definition of a function, method, class, or module.\n",
    "   - For example, Inside the triple quotation marks is the docstring of the function square() as it appears right after its definition.\n",
    "```\n",
    "def square(n):\n",
    "    '''Takes in a number n, returns the square of n'''\n",
    "    return n**2\n",
    "```\n",
    "   - We can access these docstrings using the __doc__ attribute.\n",
    "   - Printing docstring\n",
    "```\n",
    "def square(n):\n",
    "    '''Takes in a number n, returns the square of n'''\n",
    "    return n**2\n",
    "print(square.__doc__)\n",
    "```\n"
   ]
  },
  {
   "cell_type": "code",
   "execution_count": null,
   "id": "436e6351",
   "metadata": {},
   "outputs": [],
   "source": [
    "def square(n):\n",
    "    '''Takes in a number n, returns the square of n'''\n",
    "    return n**2\n",
    "\n",
    "print(square.__doc__)"
   ]
  },
  {
   "cell_type": "code",
   "execution_count": null,
   "id": "9e9a00d0",
   "metadata": {
    "scrolled": true
   },
   "outputs": [],
   "source": [
    "print(range.__doc__)"
   ]
  },
  {
   "cell_type": "markdown",
   "id": "9de1d092-1abc-4c17-a220-c24766519147",
   "metadata": {},
   "source": [
    "### 特殊函數引數\r\n",
    "\r\n",
    "1. 預設情況下, 引數可以按位置或按名稱傳遞給函數\r\n",
    "2. 為了可讀性和效能, 限制參數的傳遞方式是有意義的, 這樣開發人員只需查看函數定義即可確定項目是按位置傳遞, 按位置或名稱傳遞還是按名稱傳遞\r\n",
    "3. 函數定義可能如下所示\r\n",
    "\r\n",
    "\r\n",
    "![Special function arguments](function_args.png)\r\n",
    "\r\n",
    "- 其中 / 和 * 是可以使用或不使用\r\n",
    "- 如果使用, 這些符號控制參數的類型: \r\n",
    "   - 僅位置(positional-only)\r\n",
    "   - 位置或命名(positional or nam(d)\r\n",
    " - - 僅)名(named-only)\r\n",
    "amed-only)\r\n",
    "\r\n",
    "\r\n",
    "d-only)\r\n",
    "\r\n",
    "\r\n",
    "\n",
    "nly)\r\n",
    "\r\n",
    "\r\n",
    "名。\n"
   ]
  }
 ],
 "metadata": {
  "kernelspec": {
   "display_name": "Python 3 (ipykernel)",
   "language": "python",
   "name": "python3"
  },
  "language_info": {
   "codemirror_mode": {
    "name": "ipython",
    "version": 3
   },
   "file_extension": ".py",
   "mimetype": "text/x-python",
   "name": "python",
   "nbconvert_exporter": "python",
   "pygments_lexer": "ipython3",
   "version": "3.12.1"
  }
 },
 "nbformat": 4,
 "nbformat_minor": 5
}
