{
 "cells": [
  {
   "cell_type": "markdown",
   "id": "c823992c-d4ba-4d27-91f8-894684755765",
   "metadata": {},
   "source": [
    "### 作業1\n",
    "\n",
    "- 請輸入一個1到7的整數:\n",
    "    - 當輸入等於1時, 列印\"Today is Monday\"\n",
    "    - 當輸入等於2時, 列印\"Today is Tuesday\"\n",
    "    - 當輸入等於3時, 列印\"Today is Wednesday\"\n",
    "    - 當輸入等於4時, 列印\"Today is Thursday\"\n",
    "    - 當輸入等於5時, 列印\"Today is Friday\"\n",
    "    - 當輸入等於6時, 列印\"Today is Saturday\"\n",
    "    - 當輸入等於7時, 列印\"Today is Sunday\"\n",
    "    - 當輸入等於1-7之外的數字時, 印出 \"輸入錯誤!\""
   ]
  },
  {
   "cell_type": "markdown",
   "id": "71e8df51-b36d-473b-b745-89ac2e1b5c03",
   "metadata": {},
   "source": [
    "### 作業2 \n",
    "\n",
    "- 雨量等級的定義如下:\n",
    "    - 一般雨量 : 24 小時累積雨量沒達到 80 毫米\n",
    "    - 大雨 \t\t: 24 小時累積雨量達 80 毫米以上\n",
    "    - 豪雨 \t\t: 24 小時累積雨量達 200 毫米以上\n",
    "    - 大豪雨 \t\t: 24 小時累積雨量達 350 毫米以上\n",
    "    - 超大豪雨 \t: 24 小時累積雨量達 500 毫米以上\n",
    "      \n",
    "- 請輸入24 小時累積雨量, 然後列印是哪一種等級的雨量"
   ]
  }
 ],
 "metadata": {
  "kernelspec": {
   "display_name": "Python 3 (ipykernel)",
   "language": "python",
   "name": "python3"
  },
  "language_info": {
   "codemirror_mode": {
    "name": "ipython",
    "version": 3
   },
   "file_extension": ".py",
   "mimetype": "text/x-python",
   "name": "python",
   "nbconvert_exporter": "python",
   "pygments_lexer": "ipython3",
   "version": "3.11.4"
  }
 },
 "nbformat": 4,
 "nbformat_minor": 5
}
