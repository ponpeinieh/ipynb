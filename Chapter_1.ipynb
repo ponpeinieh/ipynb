{
 "cells": [
  {
   "cell_type": "code",
   "execution_count": null,
   "id": "74a29bc8",
   "metadata": {},
   "outputs": [],
   "source": [
    "# print() 函數\n",
    "print(\"Hello World!\")"
   ]
  },
  {
   "cell_type": "code",
   "execution_count": null,
   "id": "efdec9c1",
   "metadata": {},
   "outputs": [],
   "source": [
    "message=\"Hello World!\"\n",
    "print(message)"
   ]
  },
  {
   "cell_type": "code",
   "execution_count": null,
   "id": "6bca3f9d",
   "metadata": {},
   "outputs": [],
   "source": [
    "message"
   ]
  },
  {
   "cell_type": "code",
   "execution_count": null,
   "id": "fabd4eb4",
   "metadata": {},
   "outputs": [],
   "source": [
    "message=\"Another message\"\n",
    "message"
   ]
  },
  {
   "cell_type": "code",
   "execution_count": null,
   "id": "dd33466b",
   "metadata": {},
   "outputs": [],
   "source": [
    "message='Welcome to Ryan\\'s \"python\" world!'\n",
    "message"
   ]
  },
  {
   "cell_type": "code",
   "execution_count": null,
   "id": "66214755",
   "metadata": {},
   "outputs": [],
   "source": [
    "message = \"hello world!\"\n",
    "print(message.title()) \n",
    "print(message.upper()) \n",
    "print(message.lower()) "
   ]
  },
  {
   "cell_type": "markdown",
   "id": "bb4be749",
   "metadata": {},
   "source": [
    "### f-string\n",
    "\n",
    "1. 在String裏面使用變數\n",
    "   \n",
    "```py\n",
    "first_name=\"John\"\n",
    "last_name=\"Smith\"\n",
    "full_name = f\"{first_name} {last_name}\"\n",
    "print(full_name)\n",
    "```\n",
    "\n",
    "2. **f-strings**. 的f是format(格式)的意思\n",
    "\n",
    "3. f-string 僅能在 **Python v3.6** 之後才可使用\n",
    "4. Python v3.6之前可以使用format() method(方法)\n",
    "\n",
    "```\n",
    "full_name = \"{} {}\".format(first_name, last_name)\n",
    "print(full_name)\n",
    "print(\"Hello, {}!\".format(full_name.title()))\n",
    "```"
   ]
  },
  {
   "cell_type": "code",
   "execution_count": null,
   "id": "eb44fe4a",
   "metadata": {},
   "outputs": [],
   "source": [
    "first_name=\"john\"\n",
    "last_name=\"smith\"\n",
    "full_name = f\"{first_name} {last_name}\"\n",
    "full_name"
   ]
  },
  {
   "cell_type": "code",
   "execution_count": null,
   "id": "c5b9965a",
   "metadata": {},
   "outputs": [],
   "source": [
    "from platform import python_version\n",
    "\n",
    "print(python_version())"
   ]
  },
  {
   "cell_type": "code",
   "execution_count": null,
   "id": "d7935412",
   "metadata": {},
   "outputs": [],
   "source": [
    "# format() 方法\n",
    "full_name = \"{} {}\".format(first_name, last_name)\n",
    "print(full_name)\n",
    "print(\"Hello, {}!\".format(full_name.title()))"
   ]
  },
  {
   "cell_type": "code",
   "execution_count": null,
   "id": "26feb39b",
   "metadata": {},
   "outputs": [],
   "source": [
    "print(\"Languages:\\n\\tPython\\n\\tC\\n\\tJavaScript\")"
   ]
  },
  {
   "cell_type": "code",
   "execution_count": null,
   "id": "0d47f31b",
   "metadata": {},
   "outputs": [],
   "source": [
    "# below use terminal to run \n",
    "favorite_language = 'python '\n",
    "favorite_language"
   ]
  },
  {
   "cell_type": "code",
   "execution_count": null,
   "id": "715d0aeb",
   "metadata": {},
   "outputs": [],
   "source": [
    "# rstrip() 方法:去除後面的空白\n",
    "favorite_language.rstrip()"
   ]
  },
  {
   "cell_type": "code",
   "execution_count": null,
   "id": "2955c9e1",
   "metadata": {},
   "outputs": [],
   "source": [
    "favorite_language"
   ]
  },
  {
   "cell_type": "code",
   "execution_count": null,
   "id": "998695d5",
   "metadata": {},
   "outputs": [],
   "source": [
    "favorite_language = 'python '\n",
    "favorite_language = favorite_language.rstrip()\n",
    "favorite_language"
   ]
  },
  {
   "cell_type": "code",
   "execution_count": null,
   "id": "3be32723",
   "metadata": {},
   "outputs": [],
   "source": [
    "favorite_language = ' python '\n",
    "favorite_language.rstrip()"
   ]
  },
  {
   "cell_type": "code",
   "execution_count": null,
   "id": "cd4c7240",
   "metadata": {},
   "outputs": [],
   "source": [
    "# lstrip() 方法:去除前面的空白\n",
    "favorite_language.lstrip()"
   ]
  },
  {
   "cell_type": "code",
   "execution_count": null,
   "id": "c3b5e939",
   "metadata": {},
   "outputs": [],
   "source": [
    "# strip() 方法:去除前後的空白\n",
    "favorite_language.strip()"
   ]
  },
  {
   "cell_type": "code",
   "execution_count": null,
   "id": "58dde82c",
   "metadata": {},
   "outputs": [],
   "source": [
    "# 整數(Integer)\n",
    "2+3"
   ]
  },
  {
   "cell_type": "code",
   "execution_count": null,
   "id": "e97bb9bc",
   "metadata": {},
   "outputs": [],
   "source": [
    "3-2"
   ]
  },
  {
   "cell_type": "code",
   "execution_count": null,
   "id": "7ad3fb86",
   "metadata": {},
   "outputs": [],
   "source": [
    "2*3"
   ]
  },
  {
   "cell_type": "code",
   "execution_count": null,
   "id": "d32ceb68",
   "metadata": {},
   "outputs": [],
   "source": [
    "# 除法, 結果是浮點數\n",
    "3/2"
   ]
  },
  {
   "cell_type": "code",
   "execution_count": null,
   "id": "57b72fd2",
   "metadata": {},
   "outputs": [],
   "source": [
    "# 除法, 結果是浮點數\n",
    "4/2"
   ]
  },
  {
   "cell_type": "code",
   "execution_count": null,
   "id": "b218e464",
   "metadata": {},
   "outputs": [],
   "source": [
    "# 除法, 結果是整數\n",
    "3//2 "
   ]
  },
  {
   "cell_type": "code",
   "execution_count": null,
   "id": "ed638067",
   "metadata": {},
   "outputs": [],
   "source": [
    "#餘數\n",
    "7%3"
   ]
  },
  {
   "cell_type": "code",
   "execution_count": null,
   "id": "fcd1ffc6",
   "metadata": {},
   "outputs": [],
   "source": [
    "#指數\n",
    "3**2"
   ]
  },
  {
   "cell_type": "code",
   "execution_count": null,
   "id": "8b4c0da8",
   "metadata": {},
   "outputs": [],
   "source": [
    "2+3*2"
   ]
  },
  {
   "cell_type": "code",
   "execution_count": null,
   "id": "57776628",
   "metadata": {},
   "outputs": [],
   "source": [
    "(2+3)*2"
   ]
  },
  {
   "cell_type": "code",
   "execution_count": null,
   "id": "c07374f7",
   "metadata": {},
   "outputs": [],
   "source": [
    "# 浮點數(Floating number)\n",
    "0.1+0.1"
   ]
  },
  {
   "cell_type": "code",
   "execution_count": null,
   "id": "ed2f2849",
   "metadata": {},
   "outputs": [],
   "source": [
    "0.1+0.2"
   ]
  },
  {
   "cell_type": "code",
   "execution_count": null,
   "id": "e0137c6c",
   "metadata": {},
   "outputs": [],
   "source": [
    "0.5-0.3"
   ]
  },
  {
   "cell_type": "code",
   "execution_count": null,
   "id": "6371682a",
   "metadata": {},
   "outputs": [],
   "source": [
    "0.3*3 "
   ]
  },
  {
   "cell_type": "code",
   "execution_count": null,
   "id": "24147628",
   "metadata": {},
   "outputs": [],
   "source": [
    "0.7/0.2"
   ]
  },
  {
   "cell_type": "code",
   "execution_count": null,
   "id": "cd051f77",
   "metadata": {},
   "outputs": [],
   "source": [
    "0.3 ** 2"
   ]
  },
  {
   "cell_type": "code",
   "execution_count": null,
   "id": "2266d1ec",
   "metadata": {},
   "outputs": [],
   "source": [
    "0.3**0.3"
   ]
  },
  {
   "cell_type": "code",
   "execution_count": null,
   "id": "96401001",
   "metadata": {},
   "outputs": [],
   "source": [
    "universe_age = 14_000_000_000\n",
    "universe_age"
   ]
  },
  {
   "cell_type": "code",
   "execution_count": null,
   "id": "52342512",
   "metadata": {},
   "outputs": [],
   "source": [
    "x = 123_32.12_343\n",
    "x"
   ]
  },
  {
   "cell_type": "code",
   "execution_count": null,
   "id": "dade1de8",
   "metadata": {},
   "outputs": [],
   "source": [
    "# 一次宣告多個變數\n",
    "x,y,z=1,2,3\n",
    "x"
   ]
  },
  {
   "cell_type": "code",
   "execution_count": null,
   "id": "c3dd9163",
   "metadata": {},
   "outputs": [],
   "source": [
    "y"
   ]
  },
  {
   "cell_type": "code",
   "execution_count": null,
   "id": "4e81711d",
   "metadata": {},
   "outputs": [],
   "source": [
    "z"
   ]
  },
  {
   "cell_type": "code",
   "execution_count": null,
   "id": "1e92a84f",
   "metadata": {},
   "outputs": [],
   "source": [
    "# 變數名稱若爲全部大寫字母, 代表是常數\n",
    "PI=3.14\n",
    "PI"
   ]
  }
 ],
 "metadata": {
  "kernelspec": {
   "display_name": "Python 3",
   "language": "python",
   "name": "python3"
  },
  "language_info": {
   "codemirror_mode": {
    "name": "ipython",
    "version": 3
   },
   "file_extension": ".py",
   "mimetype": "text/x-python",
   "name": "python",
   "nbconvert_exporter": "python",
   "pygments_lexer": "ipython3",
   "version": "3.9.5"
  }
 },
 "nbformat": 4,
 "nbformat_minor": 5
}
