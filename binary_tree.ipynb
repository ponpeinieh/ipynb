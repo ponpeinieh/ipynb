{
 "cells": [
  {
   "cell_type": "code",
   "execution_count": null,
   "id": "1253daa3-83ee-4911-9e37-e08098cd1fef",
   "metadata": {},
   "outputs": [],
   "source": [
    "# Car 類別\n",
    "class Car:\n",
    "    #constructor\n",
    "    def __init__(self,make,model,year):\n",
    "        self.make = make\n",
    "        self.model = model\n",
    "        self.year = year\n",
    "        self.odometer = 0 #里程數\n",
    "    # methods\n",
    "    def get_car_description(self):\n",
    "        print(f'{self.make} {self.model} {self.year} {self.odometer}')\n",
    "    def fill_gas_tank(self):\n",
    "        print('The car need to fill gas!')\n",
    "    "
   ]
  },
  {
   "cell_type": "code",
   "execution_count": null,
   "id": "a44d771b-b2b5-4d08-a188-c116b870e471",
   "metadata": {},
   "outputs": [],
   "source": [
    "# create objects\n",
    "c1 = Car('Honda','s1',2018)\n",
    "c1.get_car_description()"
   ]
  },
  {
   "cell_type": "code",
   "execution_count": null,
   "id": "c54ac8ef-c693-432e-895f-5ba789fd6f52",
   "metadata": {},
   "outputs": [],
   "source": [
    "# class inheritance(繼承)\n",
    "class ElectricCar(Car):\n",
    "    #contructor\n",
    "    def __init__(self,make,model,year,battery_size):\n",
    "        #呼叫父類別的constructor\n",
    "        # super().__init__(make,model,year)\n",
    "        Car.__init__(self,make,model,year)\n",
    "        self.battery_size = battery_size\n",
    "    def describe_battery(self):\n",
    "        print(f'{self.battery_size} is equipped')\n",
    "    # overwrite parent class' method\n",
    "    def fill_gas_tank(self):\n",
    "        print(f'The electric car doesn\\'t need to fill gas!')\n",
    "        \n",
    "ec1 = ElectricCar('Tesla','Model3',2021,'100kw/hr')\n",
    "ec1.get_car_description()\n",
    "ec1.describe_battery()\n"
   ]
  },
  {
   "cell_type": "code",
   "execution_count": null,
   "id": "36c1566d-0860-40ad-8aa5-77cebf3f2f6f",
   "metadata": {},
   "outputs": [],
   "source": [
    "ec1.fill_gas_tank()"
   ]
  },
  {
   "cell_type": "code",
   "execution_count": null,
   "id": "7a378318-63b7-4beb-a5c3-83568f9236ac",
   "metadata": {},
   "outputs": [],
   "source": [
    "# define a Node (節點) class \n",
    "class Node:\n",
    "    def __init__(self,value):\n",
    "        self.value = value # 儲存的數值\n",
    "        self.left = None\n",
    "        self.right = None\n",
    "\n",
    "def createTree(data): \n",
    "# 從所給的陣列(list)將資料存入Tree中, \n",
    "# 資料順序為Breadth-First Search(BFS) 尋訪順序\n",
    "    node_list=[] # 存入所有的節點Node物件\n",
    "    for index,element in enumerate(data):\n",
    "        node = Node(element)\n",
    "        node_list.append(node)\n",
    "        #計算父節點的index\n",
    "        parent_index = (index-1)//2\n",
    "        if parent_index<0:\n",
    "            continue\n",
    "        if index%2==1: #left\n",
    "            node_list[parent_index].left = node\n",
    "        else: #right\n",
    "            node_list[parent_index].right=node\n",
    "    return node_list[0] #回傳root node    \n",
    "\n",
    "def visitNode(node):\n",
    "    print(node.value)\n",
    "    \n",
    "import collections\n",
    "# 尋訪Tree , 按照Breadth-First Search 順序\n",
    "# 迭代(Iterative)方式 - 使用queue(佇列) - 先進先出\n",
    "def traverseTreeBFS(root): #傳入root node\n",
    "    # 產生queue, 使用collections.deque (double-end queue), 放入元素: append(), 取出元素: popleft()\n",
    "    queue = collections.deque([root])\n",
    "    while queue:\n",
    "        parent = queue.popleft()\n",
    "        #尋訪parent\n",
    "        visitNode(parent)\n",
    "        if parent.left:\n",
    "            queue.append(parent.left)\n",
    "        if parent.right:\n",
    "            queue.append(parent.right)"
   ]
  },
  {
   "cell_type": "code",
   "execution_count": null,
   "id": "0855e558-70f9-4c4e-ae70-d30bd2668b1c",
   "metadata": {},
   "outputs": [],
   "source": [
    "# 測試建立Tree, 尋訪Tree\n",
    "data = [10,20,30,40,50,60,70,80]\n",
    "root_node = createTree(data)\n",
    "traverseTreeBFS(root_node)"
   ]
  },
  {
   "cell_type": "code",
   "execution_count": null,
   "id": "e7d09d14-09db-4825-85c0-f6dbecef2702",
   "metadata": {},
   "outputs": [],
   "source": [
    "# 遞迴方式(Recursive) 尋訪Tree , 按照Breadth-First Search 順序\n",
    "def traverseTreeBFSRecursive(node_list): #傳入[root]\n",
    "    #如果node_list為空的就結束\n",
    "    if not node_list:\n",
    "        return\n",
    "    child_node_list=[] #用來儲存子節點\n",
    "    for node in node_list:\n",
    "        visitNode(node)\n",
    "        if node.left:\n",
    "            child_node_list.append(node.left)\n",
    "        if node.right:\n",
    "            child_node_list.append(node.right)\n",
    "    traverseTreeBFSRecursive(child_node_list)"
   ]
  },
  {
   "cell_type": "code",
   "execution_count": null,
   "id": "65e608ee-79d8-4510-9c8e-e3952f2b28f2",
   "metadata": {},
   "outputs": [],
   "source": [
    "# 測試建立Tree, 尋訪Tree\n",
    "data = [10,20,30,40,50,60,70,80]\n",
    "root_node = createTree(data)\n",
    "traverseTreeBFSRecursive([root_node])"
   ]
  },
  {
   "cell_type": "code",
   "execution_count": null,
   "id": "ddf29519-18a7-4b25-bcb4-f64c3ba8d9e8",
   "metadata": {},
   "outputs": [],
   "source": [
    "# Depth-First Search(DFS) traversal : inorder\n",
    "def traverseDFSInOrder(root):\n",
    "    if root:\n",
    "        traverseDFSInOrder(root.left)\n",
    "        visitNode(root)\n",
    "        traverseDFSInOrder(root.right)\n",
    "def traverseDFSPreOrder(root):\n",
    "    if root:\n",
    "        visitNode(root)\n",
    "        traverseDFSPreOrder(root.left)\n",
    "        traverseDFSPreOrder(root.right)\n",
    "def traverseDFSPostOrder(root):\n",
    "    if root:\n",
    "        traverseDFSPostOrder(root.left)\n",
    "        traverseDFSPostOrder(root.right)\n",
    "        visitNode(root)\n",
    "data = [10,20,30,40,50,60,70,80]\n",
    "root_node = createTree(data)\n",
    "traverseDFSInOrder(root_node)\n",
    "print()\n",
    "traverseDFSPreOrder(root_node)\n",
    "print()\n",
    "traverseDFSPostOrder(root_node)"
   ]
  }
 ],
 "metadata": {
  "kernelspec": {
   "display_name": "Python 3 (ipykernel)",
   "language": "python",
   "name": "python3"
  },
  "language_info": {
   "codemirror_mode": {
    "name": "ipython",
    "version": 3
   },
   "file_extension": ".py",
   "mimetype": "text/x-python",
   "name": "python",
   "nbconvert_exporter": "python",
   "pygments_lexer": "ipython3",
   "version": "3.11.5"
  }
 },
 "nbformat": 4,
 "nbformat_minor": 5
}
