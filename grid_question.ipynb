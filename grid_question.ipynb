{
 "cells": [
  {
   "cell_type": "code",
   "execution_count": null,
   "id": "0f4839ad",
   "metadata": {},
   "outputs": [],
   "source": [
    "# see reference: https://atcoder.jp/contests/abc241/tasks/abc241_c\n",
    "'''\n",
    "8\n",
    "........\n",
    "........\n",
    ".#.##.#.\n",
    "........\n",
    "........\n",
    "........\n",
    "........\n",
    "........\n",
    "'''\n",
    "m = int(input())\n",
    "data = []\n",
    "for n in range(m):\n",
    "    data.append(input())\n",
    "print(data)"
   ]
  },
  {
   "cell_type": "code",
   "execution_count": null,
   "id": "d6c77ab5",
   "metadata": {},
   "outputs": [],
   "source": [
    "k = 6 # 6x6 squares to check\n",
    "g = 2 # 2 holes to replace with pound\n",
    "x = m-k #2 (0-x)\n",
    "positions=[]\n",
    "for n1 in range(x+1): # n1:row\n",
    "    for n2 in range(x+1): #n2:column\n",
    "        positions.append((n1,n2))\n",
    "print(positions)\n"
   ]
  },
  {
   "cell_type": "code",
   "execution_count": 1,
   "id": "5f3bf165",
   "metadata": {},
   "outputs": [],
   "source": [
    "def check(position,k,g,data):\n",
    "    pounds=0\n",
    "    r=position[0]\n",
    "    c=position[1]\n",
    "    #check row\n",
    "    for n1 in range(k):\n",
    "        row = r+n1\n",
    "        pounds=0\n",
    "        for n2 in range(k):\n",
    "            column = c+n2\n",
    "            if data[row][column]=='#':\n",
    "                pounds+=1\n",
    "                if pounds>=k-g:\n",
    "                    return True\n",
    "    #check column\n",
    "    for n1 in range(k):\n",
    "        column = c+n1\n",
    "        pounds=0\n",
    "        for n2 in range(k):\n",
    "            row=r+n2\n",
    "            if data[row][column]=='#':\n",
    "                pounds+=1\n",
    "                if pounds>=k-g:\n",
    "                    return True\n",
    "    #check forward diagonal: /\n",
    "    pounds=0\n",
    "    for n1 in range(k):\n",
    "        column = c+n1\n",
    "        row = r+k-1-n1\n",
    "        if data[row][column]=='#':\n",
    "            pounds+=1\n",
    "            if pounds>=k-g:\n",
    "                return True\n",
    "    \n",
    "    #check backward diagonal: \\\n",
    "    pounds=0\n",
    "    for n1 in range(k):\n",
    "        column = c+n1\n",
    "        row = r+n1\n",
    "        if data[row][column]=='#':\n",
    "            pounds+=1\n",
    "            if pounds>=k-g:\n",
    "                return True\n",
    "    return False"
   ]
  },
  {
   "cell_type": "code",
   "execution_count": null,
   "id": "940a1e61",
   "metadata": {},
   "outputs": [],
   "source": [
    "for position in positions:\n",
    "    if check(position,k,g,data):\n",
    "        print(f'True:{position}')\n",
    "        break"
   ]
  },
  {
   "cell_type": "code",
   "execution_count": 6,
   "id": "a4db8da2",
   "metadata": {},
   "outputs": [
    {
     "name": "stdout",
     "output_type": "stream",
     "text": [
      "['10', '..........', '#..##.....', '..........', '..........', '....#..#..', '....#.....', '.#...#..#.', '....#.....', '.......#..', '........#.', '']\n",
      "['..........', '#..##.....', '..........', '..........', '....#..#..', '....#.....', '.#...#..#.', '....#.....', '.......#..', '........#.']\n",
      "[(0, 0), (0, 1), (0, 2), (0, 3), (0, 4), (1, 0), (1, 1), (1, 2), (1, 3), (1, 4), (2, 0), (2, 1), (2, 2), (2, 3), (2, 4), (3, 0), (3, 1), (3, 2), (3, 3), (3, 4), (4, 0), (4, 1), (4, 2), (4, 3), (4, 4)]\n",
      "True:(4, 3)\n"
     ]
    }
   ],
   "source": [
    "def doit():\n",
    "    # read input data(grid_input.txt) from file\n",
    "    m=0\n",
    "    data = []\n",
    "    with open('grid_input.txt') as fh:\n",
    "        lines = fh.read().splitlines()\n",
    "        print(lines)\n",
    "        m = int(lines[0])\n",
    "        for n in range(m):\n",
    "            data.append(lines[n+1])\n",
    "        print(data)\n",
    "    k = 6 # 6x6 squares to check\n",
    "    g = 2 # maximum 2 holes to replace with pound\n",
    "    x = m-k #2 (0-x)\n",
    "    positions=[]\n",
    "    for n1 in range(x+1):\n",
    "        for n2 in range(x+1):\n",
    "            positions.append((n1,n2))\n",
    "    print(positions)\n",
    "    for position in positions:\n",
    "        if check(position,k,g,data):\n",
    "            print(f'True:{position}')\n",
    "            #print(f'True')\n",
    "            return\n",
    "    print('False')\n",
    "\n",
    "doit()"
   ]
  }
 ],
 "metadata": {
  "kernelspec": {
   "display_name": "Python 3",
   "language": "python",
   "name": "python3"
  },
  "language_info": {
   "codemirror_mode": {
    "name": "ipython",
    "version": 3
   },
   "file_extension": ".py",
   "mimetype": "text/x-python",
   "name": "python",
   "nbconvert_exporter": "python",
   "pygments_lexer": "ipython3",
   "version": "3.8.10"
  }
 },
 "nbformat": 4,
 "nbformat_minor": 5
}
