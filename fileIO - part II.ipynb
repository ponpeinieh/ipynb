{
 "cells": [
  {
   "cell_type": "code",
   "execution_count": 6,
   "id": "5e48f0ca",
   "metadata": {},
   "outputs": [],
   "source": [
    "filename = 'programming.txt'\n",
    "\n",
    "with open(filename, 'w',encoding=\"utf-8\") as file_object:\n",
    "    file_object.write(\"我 love python \\n\")\n"
   ]
  },
  {
   "cell_type": "code",
   "execution_count": 10,
   "id": "b5b26912",
   "metadata": {},
   "outputs": [
    {
     "name": "stdout",
     "output_type": "stream",
     "text": [
      "0b0\n",
      "0b100\n",
      "0b0\n",
      "0b0\n"
     ]
    }
   ],
   "source": [
    "import sys\n",
    "bts = (1024).to_bytes(4, byteorder = sys.byteorder, signed=True)\n",
    "for b in bts:\n",
    "    print(bin(b))"
   ]
  },
  {
   "cell_type": "code",
   "execution_count": 12,
   "id": "a4f8430a",
   "metadata": {},
   "outputs": [
    {
     "name": "stdout",
     "output_type": "stream",
     "text": [
      "0b11111111\n",
      "0b11111111\n",
      "0b11111111\n",
      "0b1111111\n"
     ]
    }
   ],
   "source": [
    "bts2 = (2147483647).to_bytes(4, byteorder = sys.byteorder, signed=True)\n",
    "for b in bts2:\n",
    "    print(bin(b))"
   ]
  },
  {
   "cell_type": "code",
   "execution_count": 15,
   "id": "dcbac8c3",
   "metadata": {},
   "outputs": [],
   "source": [
    "with open(\"numbers.bin\", 'wb+') as file_handle:\n",
    "    file_handle.write((2147483647).to_bytes(10, byteorder = sys.byteorder, signed=True))\n",
    "    "
   ]
  },
  {
   "cell_type": "code",
   "execution_count": 16,
   "id": "552f40c5",
   "metadata": {},
   "outputs": [
    {
     "name": "stdout",
     "output_type": "stream",
     "text": [
      "0b11111111\n",
      "0b11111111\n",
      "0b11111111\n",
      "0b1111111\n"
     ]
    }
   ],
   "source": [
    "bts2 = (2147483647).to_bytes(4, byteorder = 'little', signed=True) # little-endian\n",
    "for b in bts2:\n",
    "    print(bin(b))"
   ]
  },
  {
   "cell_type": "code",
   "execution_count": 17,
   "id": "013bfe87",
   "metadata": {},
   "outputs": [
    {
     "name": "stdout",
     "output_type": "stream",
     "text": [
      "0b1111111\n",
      "0b11111111\n",
      "0b11111111\n",
      "0b11111111\n"
     ]
    }
   ],
   "source": [
    "bts2 = (2147483647).to_bytes(4, byteorder = 'big', signed=True) # big-endian\n",
    "for b in bts2:\n",
    "    print(bin(b))"
   ]
  },
  {
   "cell_type": "code",
   "execution_count": 18,
   "id": "e6869f7f",
   "metadata": {},
   "outputs": [],
   "source": [
    "with open('number2.bin','wb+') as file_handle:\n",
    "    file_handle.write(b'\\xFF\\xFF\\xFF\\x7F')\n",
    "    "
   ]
  },
  {
   "cell_type": "code",
   "execution_count": 19,
   "id": "494cc083",
   "metadata": {},
   "outputs": [],
   "source": [
    "with open('number3.bin','wb+') as file_handle:\n",
    "    file_handle.write(b'abcd')"
   ]
  },
  {
   "cell_type": "code",
   "execution_count": 20,
   "id": "9a7dee14",
   "metadata": {},
   "outputs": [],
   "source": [
    "with open('number4.bin','wb+') as file_handle:\n",
    "    file_handle.write(b'\\xE6\\x88\\x91')"
   ]
  },
  {
   "cell_type": "code",
   "execution_count": 21,
   "id": "4e92ea4a",
   "metadata": {},
   "outputs": [
    {
     "name": "stdout",
     "output_type": "stream",
     "text": [
      "JPG file detected!\n"
     ]
    }
   ],
   "source": [
    "jpg_signatures=[b'\\xFF\\xD8\\xFF\\xD8', b'\\xFF\\xD8\\xFF\\xE0', b'\\xFF\\xD8\\xFF\\xE1']\n",
    "with open('cat.jpg','rb') as file_handle:\n",
    "    first_4_bytes = file_handle.read(4)\n",
    "    if first_4_bytes in jpg_signatures:\n",
    "        print('JPG file detected!')\n",
    "    else:\n",
    "        print('It is not a jpg file!')"
   ]
  },
  {
   "cell_type": "code",
   "execution_count": 24,
   "id": "046dbae6",
   "metadata": {},
   "outputs": [
    {
     "name": "stdout",
     "output_type": "stream",
     "text": [
      "b'89504e470d0a1a0a'\n",
      "PNG file detected.\n"
     ]
    }
   ],
   "source": [
    "import binascii\n",
    "png_signature = b'\\x89PNG\\r\\n\\x1a\\n'\n",
    "print(binascii.b2a_hex(png_signature))\n",
    "#png_signature = binascii.a2b_hex('89504E470D0A1A0A')\n",
    "with open('eyes.png','rb') as img:\n",
    "    signature = img.read(8)\n",
    "    if signature == png_signature:\n",
    "        print('PNG file detected.')\n",
    "    else:\n",
    "        print('It is not a PNG image file.')"
   ]
  },
  {
   "cell_type": "code",
   "execution_count": 35,
   "id": "e015611a",
   "metadata": {},
   "outputs": [
    {
     "name": "stdout",
     "output_type": "stream",
     "text": [
      "<class 'str'>\n",
      "[10, \"thick\", {\"toppings\": [\"pineapple\", \"corn\", \"ham\"]}]\n"
     ]
    }
   ],
   "source": [
    "# json module\n",
    "# dumps() and loads()\n",
    "import json\n",
    "# create a list\n",
    "pizza = [10, \"thick\", {\"toppings\": [\"pineapple\",\"corn\",\"ham\"]}]\n",
    "# transform into a json string\n",
    "json_data = json.dumps(pizza) # dump as a string\n",
    "print(type(json_data)) #str\n",
    "print(json_data)\n"
   ]
  },
  {
   "cell_type": "code",
   "execution_count": 36,
   "id": "31411fc9",
   "metadata": {},
   "outputs": [
    {
     "name": "stdout",
     "output_type": "stream",
     "text": [
      "<class 'list'>\n",
      "[10, 'thick', {'toppings': ['pineapple', 'corn', 'ham']}]\n"
     ]
    }
   ],
   "source": [
    "pizza2 = json.loads(json_data) # load as a string\n",
    "print(type(pizza2))\n",
    "print(pizza2)"
   ]
  },
  {
   "cell_type": "code",
   "execution_count": 37,
   "id": "88b81ada",
   "metadata": {},
   "outputs": [
    {
     "name": "stdout",
     "output_type": "stream",
     "text": [
      "True\n",
      "False\n"
     ]
    }
   ],
   "source": [
    "print(pizza == pizza2)\n",
    "print(pizza is pizza2)"
   ]
  },
  {
   "cell_type": "code",
   "execution_count": 38,
   "id": "94f2088f",
   "metadata": {},
   "outputs": [
    {
     "name": "stdout",
     "output_type": "stream",
     "text": [
      "[10, \"thick\", {\"toppings\": [\"pineapple\", \"corn\", \"ham\"]}]\n",
      "<class 'list'>\n",
      "thick\n"
     ]
    }
   ],
   "source": [
    "# dump(), load() : to and from a file\n",
    "with open('mylist.json', 'w+') as file_handle:\n",
    "    json.dump(pizza, file_handle)\n",
    "    # read it back\n",
    "    file_handle.seek(0) # back to the beginning of the file\n",
    "    json_contents = file_handle.read() # str\n",
    "    print(json_contents)\n",
    "    # resolve back to the object\n",
    "    pizza3 = json.loads(json_contents)\n",
    "    print(type(pizza3))\n",
    "    print(pizza[1]) # 'thick'\n",
    "    "
   ]
  },
  {
   "cell_type": "code",
   "execution_count": 39,
   "id": "ec4725b9",
   "metadata": {},
   "outputs": [
    {
     "name": "stdout",
     "output_type": "stream",
     "text": [
      "<class 'list'>\n",
      "['pineapple', 'corn', 'ham']\n"
     ]
    }
   ],
   "source": [
    "with open('mylist.json', 'r') as file_handle:\n",
    "    pizza4 = json.load(file_handle)\n",
    "    print(type(pizza4))\n",
    "    print(pizza4[2]['toppings'])"
   ]
  }
 ],
 "metadata": {
  "kernelspec": {
   "display_name": "Python 3 (ipykernel)",
   "language": "python",
   "name": "python3"
  },
  "language_info": {
   "codemirror_mode": {
    "name": "ipython",
    "version": 3
   },
   "file_extension": ".py",
   "mimetype": "text/x-python",
   "name": "python",
   "nbconvert_exporter": "python",
   "pygments_lexer": "ipython3",
   "version": "3.10.6"
  }
 },
 "nbformat": 4,
 "nbformat_minor": 5
}
