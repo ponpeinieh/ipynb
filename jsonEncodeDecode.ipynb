{
 "cells": [
  {
   "cell_type": "code",
   "execution_count": 2,
   "id": "43c8dd4d",
   "metadata": {},
   "outputs": [],
   "source": [
    "import json\n",
    "jdata = json.dumps(['foo',{'bar':('baz',None,1.0,2)}])"
   ]
  },
  {
   "cell_type": "code",
   "execution_count": 5,
   "id": "6618b899",
   "metadata": {},
   "outputs": [
    {
     "name": "stdout",
     "output_type": "stream",
     "text": [
      "foo\n",
      "{'bar': ['baz', None, 1.0, 2]}\n"
     ]
    }
   ],
   "source": [
    "obj = json.loads(jdata)\n",
    "for i in obj:\n",
    "    print(i)"
   ]
  },
  {
   "cell_type": "code",
   "execution_count": 6,
   "id": "86751ff3",
   "metadata": {},
   "outputs": [
    {
     "data": {
      "text/plain": [
       "'{\"orange\": 60, \"grape\": 35, \"apple\": 29, \"banana\": 60}'"
      ]
     },
     "execution_count": 6,
     "metadata": {},
     "output_type": "execute_result"
    }
   ],
   "source": [
    "jdata = json.dumps({'orange':60, 'grape':35, 'apple':29, 'banana':60})\n",
    "jdata"
   ]
  },
  {
   "cell_type": "code",
   "execution_count": 7,
   "id": "d0b82c09",
   "metadata": {},
   "outputs": [
    {
     "data": {
      "text/plain": [
       "'{\"apple\": 29, \"banana\": 60, \"grape\": 35, \"orange\": 60}'"
      ]
     },
     "execution_count": 7,
     "metadata": {},
     "output_type": "execute_result"
    }
   ],
   "source": [
    "jdata = json.dumps({'orange':60, 'grape':35, 'apple':29, 'banana':60},sort_keys=True)\n",
    "jdata"
   ]
  },
  {
   "cell_type": "code",
   "execution_count": 9,
   "id": "6b3606b7",
   "metadata": {},
   "outputs": [
    {
     "data": {
      "text/plain": [
       "'[\"foo\", {\"bar\": [\"baz\", null, 1.0, 2]}]'"
      ]
     },
     "execution_count": 9,
     "metadata": {},
     "output_type": "execute_result"
    }
   ],
   "source": [
    "# StringIO is a str buffer, used like a file\n",
    "from io import StringIO\n",
    "sio = StringIO()\n",
    "json.dump(obj, sio)\n",
    "sio.getvalue()"
   ]
  },
  {
   "cell_type": "code",
   "execution_count": 12,
   "id": "de11f0f0",
   "metadata": {},
   "outputs": [
    {
     "data": {
      "text/plain": [
       "['welcome to json world!', 'another string!']"
      ]
     },
     "execution_count": 12,
     "metadata": {},
     "output_type": "execute_result"
    }
   ],
   "source": [
    "sio = StringIO('[\"welcome to json world!\", \"another string!\"]')\n",
    "mystr = json.load(sio)\n",
    "mystr"
   ]
  },
  {
   "cell_type": "code",
   "execution_count": 32,
   "id": "17689120",
   "metadata": {},
   "outputs": [
    {
     "name": "stdout",
     "output_type": "stream",
     "text": [
      "1 [\"__Position__\", 10, 20]\n",
      "2 x=10,y=20\n"
     ]
    }
   ],
   "source": [
    "class Position:\n",
    "    def __init__(self,x,y):\n",
    "        self.x=x\n",
    "        self.y=y\n",
    "    def __str__(self):\n",
    "        return f'x={self.x},y={self.y}'\n",
    "class PositionEncoder(json.JSONEncoder):\n",
    "    def default(self,obj):\n",
    "        if isinstance(obj, Position):\n",
    "            return ['__Position__', obj.x, obj.y]\n",
    "        else:\n",
    "            return json.JSONEncoder.default(self,obj)\n",
    "        \n",
    "class PositionDecoder(json.JSONDecoder):\n",
    "    def decode(self,s):\n",
    "        data = json.JSONDecoder.decode(self,s)\n",
    "        if '__Position__' in data:\n",
    "            return Position(data[1],data[2])\n",
    "        else:\n",
    "            return data;\n",
    "        \n",
    "jData = json.dumps(Position(10,20),cls=PositionEncoder)\n",
    "print(\"1\",jData)\n",
    "#load it back\n",
    "obj = json.loads(jData, cls =PositionDecoder )\n",
    "print(\"2\",obj) "
   ]
  }
 ],
 "metadata": {
  "kernelspec": {
   "display_name": "Python 3",
   "language": "python",
   "name": "python3"
  },
  "language_info": {
   "codemirror_mode": {
    "name": "ipython",
    "version": 3
   },
   "file_extension": ".py",
   "mimetype": "text/x-python",
   "name": "python",
   "nbconvert_exporter": "python",
   "pygments_lexer": "ipython3",
   "version": "3.8.5"
  }
 },
 "nbformat": 4,
 "nbformat_minor": 5
}
