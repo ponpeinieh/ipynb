{
 "cells": [
  {
   "cell_type": "code",
   "execution_count": null,
   "id": "43c8dd4d",
   "metadata": {},
   "outputs": [],
   "source": [
    "import json\n",
    "obj = ['foo',{'bar':('baz',None,1.0,2)}]\n",
    "jdata = json.dumps(obj) # dumps() with s\n",
    "type(jdata)"
   ]
  },
  {
   "cell_type": "code",
   "execution_count": null,
   "id": "6618b899",
   "metadata": {},
   "outputs": [],
   "source": [
    "obj2 = json.loads(jdata) #loads() with s\n",
    "for i in obj2:\n",
    "    print(i)"
   ]
  },
  {
   "cell_type": "code",
   "execution_count": null,
   "id": "86751ff3",
   "metadata": {},
   "outputs": [],
   "source": [
    "obj3 = {'orange':60, 'grape':35, 'apple':29, 'banana':60}\n",
    "jdata = json.dumps(obj3)\n",
    "jdata"
   ]
  },
  {
   "cell_type": "code",
   "execution_count": null,
   "id": "d0b82c09",
   "metadata": {},
   "outputs": [],
   "source": [
    "jdata = json.dumps(obj3,sort_keys=True)\n",
    "jdata"
   ]
  },
  {
   "cell_type": "code",
   "execution_count": null,
   "id": "6b3606b7",
   "metadata": {},
   "outputs": [],
   "source": [
    "# StringIO is a str buffer, used like a file\n",
    "from io import StringIO\n",
    "sio = StringIO()\n",
    "json.dump(obj, sio) #dump() without s\n",
    "sio.getvalue()"
   ]
  },
  {
   "cell_type": "code",
   "execution_count": null,
   "id": "de11f0f0",
   "metadata": {},
   "outputs": [],
   "source": [
    "sio = StringIO('[\"welcome to json world!\", \"another string!\"]')\n",
    "mystr = json.load(sio) #load() without s\n",
    "mystr"
   ]
  },
  {
   "cell_type": "code",
   "execution_count": null,
   "id": "c1dd0893",
   "metadata": {},
   "outputs": [],
   "source": [
    "with open('myobj.json', 'w+') as json_file:\n",
    "    json.dump(obj,json_file) #dump() without s\n",
    "    json_file.seek(0)\n",
    "    contents = json_file.read()\n",
    "    print(contents)\n",
    "    obj4 = json.loads(contents) # loads() with s\n",
    "    print(obj4[0])"
   ]
  },
  {
   "cell_type": "code",
   "execution_count": null,
   "id": "796e55aa",
   "metadata": {},
   "outputs": [],
   "source": [
    "with open('myobj.json', 'r') as json_file:\n",
    "    obj5 = json.load(json_file) #load() without s\n",
    "    print(obj5[0])"
   ]
  },
  {
   "cell_type": "code",
   "execution_count": 2,
   "id": "17689120",
   "metadata": {},
   "outputs": [
    {
     "name": "stdout",
     "output_type": "stream",
     "text": [
      "1 [\"__Position__\", 10, 20]\n",
      "2 x=10,y=20\n"
     ]
    }
   ],
   "source": [
    "import json\n",
    "class Position:\n",
    "    def __init__(self,x,y):\n",
    "        self.x=x\n",
    "        self.y=y\n",
    "    def __str__(self):\n",
    "        return f'x={self.x},y={self.y}'\n",
    "class PositionEncoder(json.JSONEncoder):\n",
    "    def default(self,obj):\n",
    "        if isinstance(obj, Position):\n",
    "            return ['__Position__', obj.x, obj.y]\n",
    "        else:\n",
    "            return json.JSONEncoder.default(self,obj)\n",
    "        \n",
    "class PositionDecoder(json.JSONDecoder):\n",
    "    def decode(self,s):\n",
    "        data = json.JSONDecoder.decode(self,s)\n",
    "        if '__Position__' in data:\n",
    "            return Position(data[1],data[2])\n",
    "        else:\n",
    "            return data;\n",
    "        \n",
    "jData = json.dumps(Position(10,20),cls=PositionEncoder)\n",
    "print(\"1\",jData)\n",
    "#load it back\n",
    "obj = json.loads(jData, cls =PositionDecoder )\n",
    "print(\"2\",obj) "
   ]
  }
 ],
 "metadata": {
  "kernelspec": {
   "display_name": "Python 3 (ipykernel)",
   "language": "python",
   "name": "python3"
  },
  "language_info": {
   "codemirror_mode": {
    "name": "ipython",
    "version": 3
   },
   "file_extension": ".py",
   "mimetype": "text/x-python",
   "name": "python",
   "nbconvert_exporter": "python",
   "pygments_lexer": "ipython3",
   "version": "3.10.0"
  }
 },
 "nbformat": 4,
 "nbformat_minor": 5
}
