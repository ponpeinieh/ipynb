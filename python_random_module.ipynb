{
 "cells": [
  {
   "cell_type": "code",
   "execution_count": 2,
   "id": "4f9e244a",
   "metadata": {},
   "outputs": [],
   "source": [
    "import random\n",
    "random.seed(42)"
   ]
  },
  {
   "cell_type": "code",
   "execution_count": 3,
   "id": "0e9158e8",
   "metadata": {},
   "outputs": [
    {
     "name": "stdout",
     "output_type": "stream",
     "text": [
      "[1, 1, 5, 3, 3, 3, 1, 9, 1, 9]\n"
     ]
    }
   ],
   "source": [
    "#for integers\n",
    "#randrange(start,stop,step) eqivalent to choice(range(start,stop,step))\n",
    "a = []\n",
    "for i in range(10):\n",
    "    a.append(random.randrange(1,10,2));\n",
    "print(a)"
   ]
  },
  {
   "cell_type": "code",
   "execution_count": 4,
   "id": "24cec3af",
   "metadata": {},
   "outputs": [
    {
     "name": "stdout",
     "output_type": "stream",
     "text": [
      "[7, 1, 1, 2, 4, 4, 9, 10, 1, 9]\n"
     ]
    }
   ],
   "source": [
    "#for integers\n",
    "#randint(a,b) eqivalent to randrange(a,b+1,1)\n",
    "a = []\n",
    "for i in range(10):\n",
    "    a.append(random.randint(1,10));\n",
    "print(a)"
   ]
  },
  {
   "cell_type": "code",
   "execution_count": null,
   "id": "1a47f765",
   "metadata": {},
   "outputs": [],
   "source": [
    "#for floats\n",
    "#random() : Return the next random floating point number in the range [0.0, 1.0).\n",
    "a = []\n",
    "for i in range(10):\n",
    "    a.append(random.random());\n",
    "print(a)"
   ]
  },
  {
   "cell_type": "code",
   "execution_count": 35,
   "id": "d721aad6",
   "metadata": {},
   "outputs": [
    {
     "name": "stdout",
     "output_type": "stream",
     "text": [
      "[1.9299763804940284, 1.8843195986096148, 1.4274028019782006, 1.9463723718186525, 2.8023616516565086, 2.5920495202535605, 1.3393827923961095, 1.1695910734502435, 2.030904019830433, 2.2658817115315912]\n"
     ]
    }
   ],
   "source": [
    "#for floats\n",
    "#random.uniform(a, b)\n",
    "# Return a random floating point number N such that a <= N <= b for a <= b and b <= N <= a for b < a.\n",
    "# The end-point value b may or may not be included in the range depending on floating-point rounding in the equation a + (b-a) * random().\n",
    "a = []\n",
    "for i in range(10):\n",
    "    a.append(random.uniform(1.0,3.0));\n",
    "print(a)\n"
   ]
  },
  {
   "cell_type": "code",
   "execution_count": 34,
   "id": "a6f5d85b",
   "metadata": {},
   "outputs": [
    {
     "name": "stdout",
     "output_type": "stream",
     "text": [
      "[0.04787222089960008, -0.9379205195972642, 0.3670648613581443, 0.4383428372237068, 0.9727864706324079, 0.9915461224528974, 0.7563198370657778, 2.03172932342928, -0.27800835021039516, 0.29756809647970717]\n"
     ]
    }
   ],
   "source": [
    "#for floats, but with Gaussian Distribution\n",
    "#random.gauss(mu, sigma)\n",
    "a = []\n",
    "for i in range(10):\n",
    "    a.append(random.gauss(1.0,1));\n",
    "print(a)"
   ]
  },
  {
   "cell_type": "code",
   "execution_count": 13,
   "id": "a7d3aeee",
   "metadata": {},
   "outputs": [
    {
     "name": "stdout",
     "output_type": "stream",
     "text": [
      "[2, 1, 0, 4, 6, 7, 8, 9, 5, 3]\n"
     ]
    }
   ],
   "source": [
    "#shuffle() : Shuffle the sequence x in place.\n",
    "a=list(range(10))\n",
    "random.shuffle(a)\n",
    "print(a)"
   ]
  },
  {
   "cell_type": "code",
   "execution_count": 37,
   "id": "653f95ec",
   "metadata": {},
   "outputs": [
    {
     "name": "stdout",
     "output_type": "stream",
     "text": [
      "['low cards', 'tens', 'low cards', 'tens', 'low cards', 'low cards', 'tens', 'tens', 'tens', 'tens', 'tens', 'low cards', 'low cards', 'tens', 'low cards', 'low cards', 'low cards', 'low cards', 'low cards', 'low cards']\n"
     ]
    },
    {
     "data": {
      "text/plain": [
       "0.4"
      ]
     },
     "execution_count": 37,
     "metadata": {},
     "output_type": "execute_result"
    }
   ],
   "source": [
    "#sample(population, k, *, counts=None)\n",
    "# Return a k length list of unique elements chosen from the population sequence or set. \n",
    "# Used for random sampling without replacement.\n",
    "# (Without replacement means the sample is NOT returned to the sample pool, SO THERE IS NO REPEAT OF THE SAME ELEMENT)\n",
    "# Repeated elements can be specified one at a time or with the optional keyword-only counts parameter. \n",
    "# For example, sample(['red', 'blue'], counts=[4, 2], k=5) is equivalent to sample(['red', 'red', 'red', 'red', 'blue', 'blue'], k=5).\n",
    "dealt = random.sample(['tens', 'low cards'], counts=[16, 36], k=20)\n",
    "print(dealt)\n",
    "dealt.count('tens') / 20"
   ]
  },
  {
   "cell_type": "code",
   "execution_count": 39,
   "id": "096c88b7",
   "metadata": {},
   "outputs": [
    {
     "name": "stdout",
     "output_type": "stream",
     "text": [
      "[3, 2, 0, 6, 7, 9, 1, 5, 4, 8]\n"
     ]
    }
   ],
   "source": [
    "#like shuffle, but keep the original list unchanged and return a new shuffled list\n",
    "a = list(range(10))\n",
    "b = random.sample(a,k=len(a))\n",
    "print(b)"
   ]
  },
  {
   "cell_type": "code",
   "execution_count": 40,
   "id": "bb0a99ba",
   "metadata": {},
   "outputs": [
    {
     "name": "stdout",
     "output_type": "stream",
     "text": [
      "['A', 'B', 'C', 'D', 'E', 'F', 'G', 'H', 'I', 'J', 'K', 'L', 'M', 'N', 'O', 'P', 'Q', 'R', 'S', 'T', 'U', 'V', 'W', 'X', 'Y', 'Z']\n"
     ]
    },
    {
     "data": {
      "text/plain": [
       "'R'"
      ]
     },
     "execution_count": 40,
     "metadata": {},
     "output_type": "execute_result"
    }
   ],
   "source": [
    "#choice() : Return a random element from the non-empty sequence seq.\n",
    "# use chr(ascii code)\n",
    "a = [chr(i+65) for i in range(26)]\n",
    "print(a)\n",
    "random.choice(a)"
   ]
  },
  {
   "cell_type": "code",
   "execution_count": 55,
   "id": "8ccd2e3b",
   "metadata": {},
   "outputs": [
    {
     "data": {
      "text/plain": [
       "['green', 'red', 'black', 'black', 'black', 'black']"
      ]
     },
     "execution_count": 55,
     "metadata": {},
     "output_type": "execute_result"
    }
   ],
   "source": [
    "# random.choices(population, weights=None, *, cum_weights=None, k=1)\n",
    "# Return a k sized list of elements chosen from the population with replacement\n",
    "random.choices(['red', 'black', 'green'], [18, 18, 2], k=6)"
   ]
  }
 ],
 "metadata": {
  "kernelspec": {
   "display_name": "Python 3 (ipykernel)",
   "language": "python",
   "name": "python3"
  },
  "language_info": {
   "codemirror_mode": {
    "name": "ipython",
    "version": 3
   },
   "file_extension": ".py",
   "mimetype": "text/x-python",
   "name": "python",
   "nbconvert_exporter": "python",
   "pygments_lexer": "ipython3",
   "version": "3.10.0"
  }
 },
 "nbformat": 4,
 "nbformat_minor": 5
}
