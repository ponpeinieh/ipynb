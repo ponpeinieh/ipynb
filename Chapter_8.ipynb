{
 "cells": [
  {
   "cell_type": "markdown",
   "id": "68a9754f",
   "metadata": {},
   "source": [
    "## Files \n",
    "\n",
    "### Reading text files\n",
    "\n",
    "- prepare a text file , eg. containing 30 decimal places of pi\n",
    "    \n",
    "```\n",
    "pi_digits.txt \n",
    "\n",
    "3.1415926535\n",
    "8979323846\n",
    "2643383279\n",
    "```  \n",
    "\n",
    "- A program that opens this file, read it, and print it\n",
    "\n",
    "```\n",
    "with open('pi_digits.txt') as file_object:\n",
    "    contents = file_object.read()\n",
    "\n",
    "print(content)\n",
    "```\n",
    "\n",
    "- Note:\n",
    "    - open(): open the file to access it\n",
    "    - open() needs one argument - the name of the file, the path of the file is relative to the current program\n",
    "    - open() returns an object representing the file\n",
    "    - **with** keyword: it will close the file automatically once you've finished accessing the file（ie. leave the with block). No need to call close()\n",
    "        - You could call close() yourself, but if some error happens between open() and close(), then the file may never be closed.\n",
    "    - read(size): \n",
    "        - To read a file’s contents, which reads some quantity of data and returns it as a string (in text mode) or bytes object (in binary mode). \n",
    "        - size is an optional numeric argument. When size is omitted or negative, the entire contents of the file will be read and returned. Otherwise, at most size characters (in text mode) or size bytes (in binary mode) are read and returned. \n",
    "        - If the end of the file has been reached, f.read() will return **an empty string ('')**.\n",
    "    "
   ]
  },
  {
   "cell_type": "code",
   "execution_count": null,
   "id": "fef6f8fa",
   "metadata": {},
   "outputs": [],
   "source": [
    "with open('myfiles/pi_digits.txt') as file_object:\n",
    "    contents=file_object.read()\n",
    "print(contents)"
   ]
  },
  {
   "cell_type": "code",
   "execution_count": null,
   "id": "931e5ae9",
   "metadata": {},
   "outputs": [],
   "source": [
    "with open('myfiles/pi_digits.txt') as file_object:\n",
    "    while (contents := file_object.read(5)) !='':\n",
    "        print(contents,end='')"
   ]
  },
  {
   "cell_type": "markdown",
   "id": "7224bd33",
   "metadata": {},
   "source": [
    "### Read lines\n",
    "- For reading lines from a file, you can loop over the file object.\n",
    "- This is memory efficient, fast, and leads to simple code:\n",
    "\n",
    "```\n",
    "with open('myfiles/pi_digits.txt') as file_object:\n",
    "    for line in file_object:\n",
    "        print(line, end='')\n",
    "``` \n",
    "\n",
    "- If you want to read all the lines of a file in a list you can also use list(f) or f.readlines().\n",
    "\n",
    "```\n",
    "with open('myfiles/pi_digits.txt') as file_object:\n",
    "    #read lines into list: two ways\n",
    "    #lines = file_object.readlines()\n",
    "    lines = list(file_object)\n",
    "```"
   ]
  },
  {
   "cell_type": "code",
   "execution_count": null,
   "id": "f046d683",
   "metadata": {},
   "outputs": [],
   "source": [
    "with open('myfiles/pi_digits.txt') as file_object:\n",
    "    for line in file_object:\n",
    "        print(line, end='')"
   ]
  },
  {
   "cell_type": "code",
   "execution_count": null,
   "id": "d1fec29a",
   "metadata": {},
   "outputs": [],
   "source": [
    "with open('myfiles/pi_digits.txt') as file_object:\n",
    "    #read lines into list: two ways\n",
    "    #lines = file_object.readlines()\n",
    "    lines = list(file_object)\n",
    "for line in lines:\n",
    "    print(line,end='')\n",
    "digits=''\n",
    "for line in lines:\n",
    "    digits+=line.rstrip() #string concatenation\n",
    "print(digits)"
   ]
  },
  {
   "cell_type": "markdown",
   "id": "f89ce966",
   "metadata": {},
   "source": [
    "### Writing text files\n",
    "\n",
    "```\n",
    "filename = 'programming.txt'\n",
    "\n",
    "with open(filename, 'w') as file_object:\n",
    "    file_object.write(\"I love programming.\\n\")\n",
    "```\n",
    "\n",
    "- note:\n",
    "    - 2nd parameter in open() : 'w' means open the file in the **write mode**\n",
    "    - Below are the possible mode : **read mode ('r'), write mode ('w'), append mode ('a')**, or a mode that allows you to **read and write** to the file **('r+')**. \n",
    "    - If you omit the mode argument, Python opens the file in read-only mode by default.\n",
    "    - The open() function automatically creates the file you’re writing to if it doesn’t already exist. \n",
    "    - However, be careful opening a file in write mode ('w') because if the file does exist, Python will erase the contents of the file before returning the file object.\n",
    "    - write() method: write a string to the file, return the number of characters written\n",
    "        - Python can only write strings to a text file. \n",
    "        - If you want to store other types of data in a text file, you’ll have to convert the data to string format( eg. using the **str() function**)\n",
    "        -  write() function doesn’t add any newlines to the text you write"
   ]
  },
  {
   "cell_type": "code",
   "execution_count": null,
   "id": "2b90f374",
   "metadata": {},
   "outputs": [],
   "source": [
    "filename = 'programming.txt'\n",
    "\n",
    "with open(filename, 'w') as file_object:\n",
    "    file_object.write(\"I love programming.\\n\")\n",
    "    #write a tuple\n",
    "    value = ('the answer', 42)\n",
    "    s = str(value)  # convert the tuple to string\n",
    "    file_object.write(s)"
   ]
  },
  {
   "cell_type": "markdown",
   "id": "4512e96e",
   "metadata": {},
   "source": [
    "### Append to a file\n",
    "\n",
    "- If you want to add content to a file instead of writing over existing content, you can open the file in append mode. \n",
    "- When you open a file in append mode, Python doesn’t erase the contents of the file before returning the file object.\n",
    "- Any lines you write to the file will be added at the end of the file. \n",
    "- If the file doesn’t exist yet, Python will create an empty file for you.\n",
    "\n",
    "```\n",
    "filename = 'programming.txt'\n",
    "\n",
    "with open(filename, 'a') as file_object:\n",
    "    file_object.write(\"I also love finding meaning in large datasets.\\n\")\n",
    "    file_object.write(\"I love creating apps that can run in a browser.\\n\")\n",
    "\n",
    "```"
   ]
  },
  {
   "cell_type": "code",
   "execution_count": null,
   "id": "a458d4bb",
   "metadata": {},
   "outputs": [],
   "source": [
    "filename = 'programming.txt'\n",
    "\n",
    "with open(filename, 'a') as file_object:\n",
    "    file_object.write(\"I also love finding meaning in large datasets.\\n\")\n",
    "    file_object.write(\"I love creating apps that can run in a browser.\\n\")\n"
   ]
  },
  {
   "cell_type": "markdown",
   "id": "8f5a2a4f",
   "metadata": {},
   "source": [
    "### Difference between r+ , w+ and a+ for open()\n",
    "\n",
    "- Both r+, w+ and a+ can read and write to a file. \n",
    "- r+ doesn't delete the content of the file and doesn't create a new file if such file doesn't exist\n",
    "- w+ deletes the content of the file if it exists(ie. truncates the file to zero length) and creates it if it doesn't exist.\n",
    "- a+ doesn't delete the content of the file if it exists and creates it if it doesn't exist. \n",
    "    - You are able to use seek to move the read cursor to any position in the file, but for a write operation, it will move to the end of file and append the content.\n",
    "\n",
    "![file mode comparison](open_file_mode_2.png \"Open() file mode comparison\")\n",
    "\n",
    "![file mode comparison](open_file_mode.png \"Open() file mode comparison\")\n",
    "\n"
   ]
  },
  {
   "cell_type": "markdown",
   "id": "80690b66",
   "metadata": {},
   "source": [
    "### Binary files\n",
    "\n",
    "- When a file is opened in text mode, you read and write strings from and to the file, which are encoded in a specific encoding. If encoding is not specified, the default is platform dependent \n",
    "- You can append **'b'** to the file mode, which opens the file in binary mode - it means the data is read or written in the form of bytes objects. This mode should be used for all files that don’t contain text.\n",
    "- Both read() and write() can be used for binary data.\n",
    "\n",
    "```\n",
    "with open('myfiles/binary.bin','rb+') as file_object:\n",
    "    f.write(b'0123456789abcdef')\n",
    "```\n",
    "![binary_viewer_result](binary_viewer.PNG \"binary_viewer_result\")"
   ]
  },
  {
   "cell_type": "code",
   "execution_count": null,
   "id": "9c590263",
   "metadata": {},
   "outputs": [],
   "source": [
    "with open('myfiles/binary.bin','rb+') as file_object:\n",
    "    file_object.write(b'0123456789abcdef')"
   ]
  },
  {
   "cell_type": "code",
   "execution_count": null,
   "id": "7de4d85a",
   "metadata": {},
   "outputs": [],
   "source": [
    "with open('myfiles/binary.bin','wb+') as file_object:\n",
    "    file_object.write(b'0123456789abcdef')"
   ]
  },
  {
   "cell_type": "markdown",
   "id": "84fc56f0",
   "metadata": {},
   "source": [
    "### Bytes vs Strings\n",
    "\n",
    "- Bytes are bytes; characters are an abstraction. \n",
    "- An immutable sequence of Unicode characters is called a string. \n",
    "- An immutable sequence of numbers-between-0-and-255 is called a bytes object.\n",
    "- To define a bytes object, use the **b'' “byte literal” syntax**. Each byte within the byte literal can be **an ascii character** or an encoded hexadecimal number from **\\x00 to \\xff (0–255)**.\n",
    "- The type of a bytes object is bytes.\n",
    "\n",
    "### Return the hexadecimal representation of the binary data. \n",
    "\n",
    "    - https://docs.python.org/3/library/binascii.html\n",
    "    - binascii.b2a_hex(data[, sep[, bytes_per_sep=1]]) or binascii.hexlify(data[, sep[, bytes_per_sep=1]])\n",
    "    - Every byte of data is converted into the corresponding 2-digit hex representation. The returned bytes object is therefore twice as long as the length of data.\n",
    "    \n",
    "### Return the binary data represented by the hexadecimal string \n",
    "\n",
    "    - binascii.a2b_hex(hexstr) or binascii.unhexlify(hexstr)\n",
    "    - This function is the inverse of b2a_hex(). \n",
    "    - hexstr must contain an even number of hexadecimal digits (which can be upper or lower case), otherwise an Error exception is raised."
   ]
  },
  {
   "cell_type": "code",
   "execution_count": null,
   "id": "c70cb7d5",
   "metadata": {},
   "outputs": [],
   "source": [
    "import binascii\n",
    "b1 = binascii.b2a_hex(b'\\xb9\\x01\\xef')\n",
    "b1"
   ]
  },
  {
   "cell_type": "code",
   "execution_count": null,
   "id": "ab0fc40b",
   "metadata": {},
   "outputs": [],
   "source": [
    "b2 = binascii.a2b_hex(b1)\n",
    "b2"
   ]
  },
  {
   "cell_type": "markdown",
   "id": "1496bd28",
   "metadata": {},
   "source": [
    "### Example\n",
    "- Checking if the given image is jpeg or not\n",
    "- reference： https://www.geeksforgeeks.org/working-with-binary-data-in-python/"
   ]
  },
  {
   "cell_type": "code",
   "execution_count": null,
   "id": "2b64ccc4",
   "metadata": {},
   "outputs": [],
   "source": [
    "import binascii\n",
    "  \n",
    "# use binascii.a2b_hex() function to generate bytes value or \n",
    "# directly generate byte values using the binary literal format\n",
    "\n",
    "jpeg_signatures = [\n",
    "    binascii.a2b_hex(b'FFD8FFD8'),\n",
    "    binascii.a2b_hex(b'FFD8FFE0'),\n",
    "    binascii.a2b_hex(b'FFD8FFE1')\n",
    "]\n",
    "\n",
    "'''\n",
    "jpeg_signatures = [\n",
    "    b'\\xFF\\xD8\\xFF\\xD8',\n",
    "    b'\\xFF\\xD8\\xFF\\xE0',\n",
    "    b'\\xFF\\xD8\\xFF\\xE1',\n",
    "]\n",
    "''' \n",
    "\n",
    "with open('metaverse.jpg', 'rb') as file:\n",
    "    first_four_bytes = file.read(4)\n",
    "  \n",
    "    if first_four_bytes in jpeg_signatures:\n",
    "        print(\"JPEG detected.\")\n",
    "    else:\n",
    "        print(\"File does not look like a JPEG.\")"
   ]
  },
  {
   "cell_type": "markdown",
   "id": "6f70e0a3",
   "metadata": {},
   "source": [
    "### Python bytes concatenation\n",
    "\n",
    "- Bytes don't work quite like strings. \n",
    "    - When you index with a single value (rather than a slice), you get an integer, rather than a length-one bytes instance. \n",
    "    - a[0] gives you an int - 20 (hex 0x14).\n",
    "- bytes constructor. \n",
    "    - If you pass a single integer in as the argument (rather than an iterable), you get a bytes instance that consists of that many null bytes (\"\\x00\"). \n",
    "    - Using curly brackets works because it creates a set (which is iterable).\n",
    "- Using slicing to concat : a += a[0:1]\n",
    "    - rather than using indexing with a single value. \n",
    "    - This will give you a bytes instance that you can concatenate onto your existing value.\n"
   ]
  },
  {
   "cell_type": "code",
   "execution_count": null,
   "id": "2e35594e",
   "metadata": {
    "scrolled": true
   },
   "outputs": [],
   "source": [
    "a = b'\\x14\\xf6' \n",
    "a += a[0]"
   ]
  },
  {
   "cell_type": "code",
   "execution_count": null,
   "id": "d48c0b0c",
   "metadata": {},
   "outputs": [],
   "source": [
    "bytes(a[0])"
   ]
  },
  {
   "cell_type": "code",
   "execution_count": null,
   "id": "ae4a87e2",
   "metadata": {},
   "outputs": [],
   "source": [
    "bytes({a[0]})"
   ]
  },
  {
   "cell_type": "code",
   "execution_count": null,
   "id": "42ad2476",
   "metadata": {},
   "outputs": [],
   "source": [
    "a += a[0:1]\n",
    "a"
   ]
  }
 ],
 "metadata": {
  "kernelspec": {
   "display_name": "Python 3 (ipykernel)",
   "language": "python",
   "name": "python3"
  },
  "language_info": {
   "codemirror_mode": {
    "name": "ipython",
    "version": 3
   },
   "file_extension": ".py",
   "mimetype": "text/x-python",
   "name": "python",
   "nbconvert_exporter": "python",
   "pygments_lexer": "ipython3",
   "version": "3.10.0"
  }
 },
 "nbformat": 4,
 "nbformat_minor": 5
}
