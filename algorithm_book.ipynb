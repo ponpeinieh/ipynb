{
 "cells": [
  {
   "cell_type": "code",
   "execution_count": null,
   "id": "742ea4f4",
   "metadata": {},
   "outputs": [],
   "source": [
    "import math\n",
    "no_data = 10**3\n",
    "time = {}\n",
    "time['lg_n'] = math.log2(no_data)\n",
    "time['sqrt_n'] = math.sqrt(no_data)\n",
    "time['n']= no_data\n",
    "time['n_lg_n']=no_data*math.log2(no_data)\n",
    "time['n_square']=no_data**2\n",
    "time['n_cube']=no_data**3\n",
    "time['2_power_n']=math.pow(2,no_data)\n",
    "#time['n_factorial']=math.factorial(no_data)\n",
    "\n",
    "time"
   ]
  },
  {
   "cell_type": "code",
   "execution_count": null,
   "id": "0bcb0a30",
   "metadata": {},
   "outputs": [],
   "source": [
    "%run myscript/insertion_sort.py"
   ]
  },
  {
   "cell_type": "code",
   "execution_count": null,
   "id": "b34c3dd6",
   "metadata": {},
   "outputs": [],
   "source": [
    "%%time\n",
    "%run myscript/merge_sort.py"
   ]
  },
  {
   "cell_type": "code",
   "execution_count": null,
   "id": "cc80e344",
   "metadata": {},
   "outputs": [],
   "source": [
    "# need to install memory_profiler -> pip install memory_profiler\n",
    "%load_ext memory_profiler"
   ]
  },
  {
   "cell_type": "code",
   "execution_count": null,
   "id": "384c05aa",
   "metadata": {},
   "outputs": [],
   "source": [
    "%%memit\n",
    "import random\n",
    "interactive=False\n",
    "random_gen_data=True\n",
    "num_data=2000000\n",
    "\n",
    "def merge(a,p,q,r): \n",
    "    a1=a[p:q+1]\n",
    "    a2=a[q+1:r+1]\n",
    "    a1.append(float('inf'))\n",
    "    a2.append(float('inf'))\n",
    "    i1=0\n",
    "    i2=0\n",
    "    for i in range(r-p+1):\n",
    "        if a1[i1]<=a2[i2]:\n",
    "            a[p+i]=a1[i1]\n",
    "            i1+=1\n",
    "        else:\n",
    "            a[p+i]=a2[i2]\n",
    "            i2+=1\n",
    "def merge_sort(a,p,r):\n",
    "    if p>=r:\n",
    "        return\n",
    "    else:\n",
    "        q=(p+r)//2\n",
    "        merge_sort(a,p,q)\n",
    "        merge_sort(a,q+1,r)\n",
    "        merge(a,p,q,r)\n",
    "def main():\n",
    "    if interactive:\n",
    "        n = int(input())\n",
    "        a = [int(item) for item in input().split()]\n",
    "    elif random_gen_data:\n",
    "        a=[]\n",
    "        n=num_data\n",
    "        for i in range(n):\n",
    "            a.append(random.randint(1,100))\n",
    "    else:\n",
    "        n=5\n",
    "        a=[4,3,1,5,2]\n",
    "    #merge sort\n",
    "    merge_sort(a,0,n-1)\n",
    "    #print(a)\n",
    "\n",
    "if __name__=='__main__':\n",
    "    main()\n"
   ]
  }
 ],
 "metadata": {
  "kernelspec": {
   "display_name": "Python 3",
   "language": "python",
   "name": "python3"
  },
  "language_info": {
   "codemirror_mode": {
    "name": "ipython",
    "version": 3
   },
   "file_extension": ".py",
   "mimetype": "text/x-python",
   "name": "python",
   "nbconvert_exporter": "python",
   "pygments_lexer": "ipython3",
   "version": "3.9.5"
  }
 },
 "nbformat": 4,
 "nbformat_minor": 5
}
