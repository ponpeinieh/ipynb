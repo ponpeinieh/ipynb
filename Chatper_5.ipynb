{
 "cells": [
  {
   "cell_type": "markdown",
   "id": "809f2903",
   "metadata": {},
   "source": [
    "### Get input text from user\n",
    "\n",
    "1. input(prompt)\n",
    "   - 在銀幕上顯示prompt訊息, 然後讀取一行文字(丟棄結尾的換行符號)"
   ]
  },
  {
   "cell_type": "code",
   "execution_count": null,
   "id": "ce6b4789",
   "metadata": {},
   "outputs": [],
   "source": [
    "name = input(\"Please enter your name: \")\n",
    "print(f\"\\nHello, {name}!\")"
   ]
  },
  {
   "cell_type": "code",
   "execution_count": null,
   "id": "50634c1c",
   "metadata": {},
   "outputs": [],
   "source": [
    "age = input(\"How old are you? \")\n",
    "# transform into an int\n",
    "age = int(age)\n",
    "if age >= 18:\n",
    "    print(\"\\nYou're old enough to vote!\")\n",
    "else:\n",
    "    print(\"\\nYou'll be able to vote when you're a little older.\")\n"
   ]
  },
  {
   "cell_type": "code",
   "execution_count": null,
   "id": "e488b596",
   "metadata": {},
   "outputs": [],
   "source": [
    "prompt = \"\\nTell me something, and I will repeat it back to you:\"\n",
    "prompt += \"\\nEnter 'quit' to end the program. \"\n",
    "message = \"\"\n",
    "while  message != 'quit':\n",
    "    message = input(prompt)\n",
    "    print(message)\n"
   ]
  },
  {
   "cell_type": "code",
   "execution_count": null,
   "id": "bc5e1b6f",
   "metadata": {},
   "outputs": [],
   "source": [
    "message = \"\"\n",
    "while True:\n",
    "    message = input(prompt)\n",
    "    if message!='quit':\n",
    "        print(message)\n",
    "    else:\n",
    "        break"
   ]
  },
  {
   "cell_type": "code",
   "execution_count": null,
   "id": "2a75dd63",
   "metadata": {},
   "outputs": [],
   "source": [
    "current_number = 0\n",
    "while current_number < 10:\n",
    "    current_number += 1\n",
    "    if current_number % 2 == 0:\n",
    "        continue\n",
    "    print(current_number)\n"
   ]
  },
  {
   "cell_type": "markdown",
   "id": "33d942d2",
   "metadata": {},
   "source": [
    "### 練習: Pizza Toppings\n",
    "\n",
    "1. 利用迴圈, 讓使用者輸入pizza toppings, 直到輸入'quit'就停止\n",
    "2. 列印所加入的toppings\n"
   ]
  },
  {
   "cell_type": "markdown",
   "id": "83149679",
   "metadata": {},
   "source": [
    "### while loop with lists and dictionaries\n",
    "\n",
    "1. 從一個list移動items到另一個list\n",
    "\n",
    "```\n",
    "# Start with users that need to be verified,\n",
    "# and an empty list to hold confirmed users.\n",
    "unconfirmed_users = ['alice', 'brian', 'candace']\n",
    "confirmed_users = []\n",
    "# Verify each user until there are no more unconfirmed users.\n",
    "# Move each verified user into the list of confirmed users.\n",
    "while unconfirmed_users:\n",
    "    # pop() 方法: 移除最後一個item, 並回傳該item\n",
    "    current_user = unconfirmed_users.pop()\n",
    "    print(f\"Verifying user: {current_user.title()}\")\n",
    "    confirmed_users.append(current_user)\n",
    "# Display all confirmed users.\n",
    "print(\"\\nThe following users have been confirmed:\")\n",
    "for confirmed_user in confirmed_users:\n",
    "    print(confirmed_user.title())\n",
    "```"
   ]
  },
  {
   "cell_type": "code",
   "execution_count": null,
   "id": "8da66d35",
   "metadata": {},
   "outputs": [],
   "source": [
    "unconfirmed_users = ['alice', 'brian', 'candace']\n",
    "confirmed_users = []\n",
    "while unconfirmed_users:\n",
    "    current_user = unconfirmed_users.pop()\n",
    "    print(f\"Verifying user: {current_user.title()}\")\n",
    "    confirmed_users.append(current_user)\n",
    "print(\"\\nThe following users have been confirmed:\")\n",
    "for confirmed_user in confirmed_users:\n",
    "    print(confirmed_user.title())"
   ]
  },
  {
   "cell_type": "markdown",
   "id": "e9965d92",
   "metadata": {},
   "source": [
    "2. 從list中將內容對於某個value的items全部移除\n",
    "\n",
    "```\n",
    "pets = ['dog', 'cat', 'dog', 'goldfish', 'cat', 'rabbit', 'cat']\n",
    "print(pets)\n",
    "# in operator\n",
    "while 'cat' in pets:\n",
    "    # remove()方法\n",
    "    pets.remove('cat')\n",
    "print(pets)\n",
    "```"
   ]
  },
  {
   "cell_type": "code",
   "execution_count": null,
   "id": "8b0e1708",
   "metadata": {},
   "outputs": [],
   "source": [
    "pets = ['dog', 'cat', 'dog', 'goldfish', 'cat', 'rabbit', 'cat']\n",
    "print(pets)\n",
    "#not efficient\n",
    "while 'cat' in pets:\n",
    "    pets.remove('cat')\n",
    "print(pets)"
   ]
  },
  {
   "cell_type": "code",
   "execution_count": null,
   "id": "e39acd8f",
   "metadata": {},
   "outputs": [],
   "source": [
    "pets = ['dog', 'cat', 'dog', 'goldfish', 'cat', 'rabbit', 'cat']\n",
    "print(pets)\n",
    "index_list=[]\n",
    "for index, pet in enumerate(pets):\n",
    "    if pet == 'cat':\n",
    "        index_list.append(index)\n",
    "print(index_list)\n",
    "index_list.reverse()\n",
    "for index in index_list:\n",
    "    del pets[index]\n",
    "print(pets)"
   ]
  },
  {
   "cell_type": "markdown",
   "id": "d6563770",
   "metadata": {},
   "source": [
    "3. 將使用者輸入的資料填入一個dict中\n",
    "\n",
    "```\n",
    "responses = {}\n",
    "# Set a flag to indicate that polling is active.\n",
    "polling_active = True\n",
    "while polling_active:\n",
    "    # Prompt for the person's name and response.\n",
    "    name = input(\"\\nWhat is your name? \")\n",
    "    response = input(\"Which mountain would you like to climb someday? \")\n",
    "    # Store the response in the dictionary.\n",
    "    responses[name] = response\n",
    "    # Find out if anyone else is going to take the poll.\n",
    "    repeat = input(\"Would you like to let another person respond? (yes/ no) \")\n",
    "    if repeat == 'no':\n",
    "        polling_active = False\n",
    "# Polling is complete. Show the results.\n",
    "print(\"\\n--- Poll Results ---\")\n",
    "for name, response in responses.items():\n",
    "    print(f\"{name.title()} would like to climb {response.title()}.\")\n",
    "```\n",
    "\n",
    "```\n",
    "responses = {}\n",
    "while True:\n",
    "    name = input(\"\\nWhat is your name? \")\n",
    "    response = input(\"Which mountain would you like to climb someday? \")\n",
    "    responses[name] = response\n",
    "    repeat = input(\"Would you like to let another person respond? (yes/ no) \")\n",
    "    if repeat == 'no':\n",
    "        break\n",
    "print(\"\\n--- Poll Results ---\")\n",
    "for name, response in responses.items():\n",
    "    print(f\"{name.title()} would like to climb {response.title()}.\")\n",
    " ```"
   ]
  },
  {
   "cell_type": "code",
   "execution_count": null,
   "id": "6543e637",
   "metadata": {},
   "outputs": [],
   "source": [
    "responses = {}\n",
    "while True:\n",
    "    name = input(\"\\nWhat is your name? \")\n",
    "    response = input(\"Which mountain would you like to climb someday? \")\n",
    "    responses[name] = response\n",
    "    repeat = input(\"Would you like to let another person respond? (yes/ no) \")\n",
    "    if repeat == 'no':\n",
    "        break\n",
    "print(\"\\n--- Poll Results ---\")\n",
    "for name, response in responses.items():\n",
    "    print(f\"{name.title()} would like to climb {response.title()}.\")"
   ]
  },
  {
   "cell_type": "markdown",
   "id": "9ee83413",
   "metadata": {},
   "source": [
    "### 練習: Deli\n",
    "\n",
    "1. 將要準備的三明治訂單存入一個list中(sandwich_orders)\n",
    "2. 建立一個空的list(finished_sandwiches)\n",
    "3. 寫一個迴圈, 尋訪每一個sandwich_orders中的item, 列印\"I made your xxx sandwich\"訊息, 並將該完成的sandwich item存入finished_sandwiches中\n",
    "4. 列印finished_sandwiches"
   ]
  },
  {
   "cell_type": "code",
   "execution_count": null,
   "id": "91e3ec0b",
   "metadata": {},
   "outputs": [],
   "source": [
    "sandwich_orders = ['tuna','beef','salad', 'ham']\n",
    "finished_sandwiches=[]\n",
    "while sandwich_orders:\n",
    "    sandwich = sandwich_orders.pop()\n",
    "    print(f'I made your {sandwich} sandwich!');\n",
    "    finished_sandwiches.append(sandwich)\n",
    "print(f'\\nThe following sandwiches have been prepared:')\n",
    "for sandwich in finished_sandwiches:\n",
    "    print(sandwich)"
   ]
  },
  {
   "cell_type": "markdown",
   "id": "4c013885",
   "metadata": {},
   "source": [
    "### 練習: No Tuna\n",
    "\n",
    "1. 將要準備的三明治訂單存入一個list中(sandwich_orders), 其中包含3個tuna三明治\n",
    "2. 寫一個迴圈, 若是'Tuna' 在list中, 則列印\"Tuna sandwich已經賣完!\", 並且移除該item"
   ]
  },
  {
   "cell_type": "code",
   "execution_count": null,
   "id": "1753bb22",
   "metadata": {},
   "outputs": [],
   "source": [
    "sandwich_orders = ['tuna','beef','tuna','salad','tuna','ham']\n",
    "while 'tuna' in sandwich_orders:\n",
    "    print('Tuna sandwich已經賣完!')\n",
    "    sandwich_orders.remove('tuna')\n",
    "print(sandwich_orders)"
   ]
  }
 ],
 "metadata": {
  "kernelspec": {
   "display_name": "Python 3",
   "language": "python",
   "name": "python3"
  },
  "language_info": {
   "codemirror_mode": {
    "name": "ipython",
    "version": 3
   },
   "file_extension": ".py",
   "mimetype": "text/x-python",
   "name": "python",
   "nbconvert_exporter": "python",
   "pygments_lexer": "ipython3",
   "version": "3.8.5"
  }
 },
 "nbformat": 4,
 "nbformat_minor": 5
}
