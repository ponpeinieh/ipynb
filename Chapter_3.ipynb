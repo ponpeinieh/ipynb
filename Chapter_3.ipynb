{
 "cells": [
  {
   "cell_type": "markdown",
   "id": "228e6769",
   "metadata": {},
   "source": [
    "### if\n",
    "\n",
    "1. 決策判斷: 當某個條件成立時進行特別的邏輯\n",
    "   \n",
    "```\n",
    "cars = [\"audi\",\"bmw\",\"toyota\",\"honda\"]\n",
    "for car in cars:\n",
    "    if car == \"bmw\":\n",
    "        print(car.upper())\n",
    "    else:\n",
    "        print(car.title())    \n",
    "```\n",
    "2. if statement(敘述), 後面放置一個條件判斷(conditional test), \n",
    "   - Boolean(布林)expression(運算式)\n",
    "   - 結果爲True或False\n",
    "3. 判斷是否相等: **==** , equality operator(運算子)\n",
    "```\n",
    ">>> num = 100\n",
    ">>> num == 100\n",
    "True\n",
    "```\n",
    "4. 注意 = 與 == 的不同\n",
    "5. 大小寫內容視爲不同. \n",
    "   - 若要忽略大小寫, 則可以使用lower()\n",
    "   \n",
    "```\n",
    ">>> car = \"Audi\"\n",
    ">>> car.lower() == \"audi\"\n",
    "True\n",
    "```\n",
    "6. 判斷是否不相等: **!=**\n",
    "7. 數字大小關系判斷: >, >=, <, <=\n",
    "8. and 以及 or\n",
    "9. 判斷value是否在list中: in\n",
    "```\n",
    ">>> requested_toppings = ['mushrooms', 'onions', 'pineapple']\n",
    ">>> 'mushrooms' in requested_toppings\n",
    "True\n",
    ">>> 'pepperoni' in requested_toppings\n",
    "False你哦它\n",
    "\n",
    "```\n",
    "10. 判斷value是否**不**在list中: not in\n",
    "```\n",
    "banned_users = ['andrew', 'carolina', 'david']\n",
    "user = 'marie'\n",
    "if user not in banned_users:\n",
    "    print(f\"{user.title()}, you can post a response if you wish.\")\n",
    "```\n",
    "\n",
    "   "
   ]
  }
 ],
 "metadata": {
  "kernelspec": {
   "display_name": "Python 3",
   "language": "python",
   "name": "python3"
  },
  "language_info": {
   "codemirror_mode": {
    "name": "ipython",
    "version": 3
   },
   "file_extension": ".py",
   "mimetype": "text/x-python",
   "name": "python",
   "nbconvert_exporter": "python",
   "pygments_lexer": "ipython3",
   "version": "3.9.5"
  }
 },
 "nbformat": 4,
 "nbformat_minor": 5
}
