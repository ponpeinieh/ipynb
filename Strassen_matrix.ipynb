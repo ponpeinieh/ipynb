{
 "cells": [
  {
   "cell_type": "code",
   "execution_count": 9,
   "id": "37d7bdc6",
   "metadata": {},
   "outputs": [
    {
     "name": "stdout",
     "output_type": "stream",
     "text": [
      "[0, 0, 0]\n",
      "[0, 1, 0, 1, 0, 1]\n",
      "[[0, 1], [0, 1], [0, 1]]\n"
     ]
    }
   ],
   "source": [
    "# list mutiply operator\n",
    "# When you multiply a list or a string by an integer, \n",
    "# it repeats the content of that list or string the specified number of times\n",
    "a = [0]*n\n",
    "print(a)\n",
    "b = [0,1]*n\n",
    "print(b)\n",
    "c = [[0,1]]*n\n",
    "print(c)"
   ]
  },
  {
   "cell_type": "code",
   "execution_count": 3,
   "id": "d4537068",
   "metadata": {},
   "outputs": [
    {
     "name": "stdout",
     "output_type": "stream",
     "text": [
      "[[0, 0, 0], [0, 0, 0], [0, 0, 0]]\n",
      "[[0, 2, 0], [0, 2, 0], [0, 2, 0]]\n"
     ]
    }
   ],
   "source": [
    "n=3\n",
    "c = [[0]*n]*n\n",
    "print(c)\n",
    "c[0][1]=2\n",
    "print(c)"
   ]
  },
  {
   "cell_type": "code",
   "execution_count": 4,
   "id": "89ddaede",
   "metadata": {},
   "outputs": [
    {
     "name": "stdout",
     "output_type": "stream",
     "text": [
      "[[0, 0, 0], [0, 0, 0], [0, 0, 0]]\n",
      "[[0, 2, 0], [0, 0, 0], [0, 0, 0]]\n"
     ]
    }
   ],
   "source": [
    "n=3\n",
    "c = [[0]*n for _ in range(n)]\n",
    "print(c)\n",
    "c[0][1]=2\n",
    "print(c)"
   ]
  },
  {
   "cell_type": "code",
   "execution_count": null,
   "id": "6d4f751f",
   "metadata": {},
   "outputs": [],
   "source": [
    "# the naive matrix multiplication\n",
    "def multiply_naive(a, b, n):\n",
    "    \n",
    "    for i in range(n):\n",
    "        for j in range( n):\n",
    "            C[i][j] = 0\n",
    "            for k in range(N):\n",
    "                C[i][j] += A[i][k]*B[k][j]\n",
    "def printMat(a, r, c): \n",
    "    for i in range(r): \n",
    "        for j in range(c): \n",
    "            print(a[i][j], end = \" \") \n",
    "        print() \n",
    "    print() "
   ]
  },
  {
   "cell_type": "code",
   "execution_count": null,
   "id": "1ab242f4",
   "metadata": {},
   "outputs": [],
   "source": [
    "# Driver Code \n",
    "matrix_A = [ [1, 1, 1, 1], \n",
    "            [2, 2, 2, 2], \n",
    "            [3, 3, 3, 3], \n",
    "            [2, 2, 2, 2] ] \n",
    " \n",
    "print(\"Array A =>\") \n",
    "printMat(matrix_A,4,4) \n",
    " \n",
    "matrix_B = [ [1, 1, 1, 1], \n",
    "            [2, 2, 2, 2], \n",
    "            [3, 3, 3, 3], \n",
    "            [2, 2, 2, 2] ] \n",
    " \n",
    "print(\"Array B =>\") \n",
    "printMat(matrix_B,4,4) \n",
    " \n",
    "#result_matrix = multiply_matrix(matrix_A, matrix_B) \n",
    "result_matrix = multiply_naive(matrix_A, matrix_B) \n",
    " \n",
    "print(\"Result Array =>\")\n",
    "printMat(result_matrix,4,4)"
   ]
  }
 ],
 "metadata": {
  "kernelspec": {
   "display_name": "Python 3",
   "language": "python",
   "name": "python3"
  },
  "language_info": {
   "codemirror_mode": {
    "name": "ipython",
    "version": 3
   },
   "file_extension": ".py",
   "mimetype": "text/x-python",
   "name": "python",
   "nbconvert_exporter": "python",
   "pygments_lexer": "ipython3",
   "version": "3.8.10"
  }
 },
 "nbformat": 4,
 "nbformat_minor": 5
}
