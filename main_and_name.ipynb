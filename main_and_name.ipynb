{
 "cells": [
  {
   "cell_type": "code",
   "execution_count": 1,
   "id": "303e7b00",
   "metadata": {},
   "outputs": [
    {
     "data": {
      "text/plain": [
       "'C:\\\\Users\\\\Darthur\\\\projects\\\\git\\\\ipynb'"
      ]
     },
     "execution_count": 1,
     "metadata": {},
     "output_type": "execute_result"
    }
   ],
   "source": [
    "%pwd"
   ]
  },
  {
   "cell_type": "code",
   "execution_count": 2,
   "id": "3187e309",
   "metadata": {},
   "outputs": [
    {
     "name": "stdout",
     "output_type": "stream",
     "text": [
      "This is my file to test Python's execution methods.\n",
      "The variable __name__ tells me which context this file is running in.\n",
      "The value of __name__ is: 'mytest'\n"
     ]
    }
   ],
   "source": [
    "import sys\n",
    "sys.path.append('myscript')\n",
    "import mytest"
   ]
  },
  {
   "cell_type": "code",
   "execution_count": 3,
   "id": "04427659",
   "metadata": {},
   "outputs": [
    {
     "name": "stdout",
     "output_type": "stream",
     "text": [
      "C:\\Users\\Darthur\\projects\\git\\ipynb\\myscript\n",
      "This is my file to test Python's execution methods.\n",
      "The variable __name__ tells me which context this file is running in.\n",
      "The value of __name__ is: '__main__'\n"
     ]
    }
   ],
   "source": [
    "#test run script in notebook\n",
    "%cd myscript\n",
    "%run mytest.py"
   ]
  },
  {
   "cell_type": "code",
   "execution_count": 4,
   "id": "84e9b2a6",
   "metadata": {},
   "outputs": [
    {
     "name": "stdout",
     "output_type": "stream",
     "text": [
      "This is my file to test Python's execution methods.\n",
      "The variable __name__ tells me which context this file is running in.\n",
      "The value of __name__ is: 'mytest'\n"
     ]
    },
    {
     "data": {
      "text/plain": [
       "<module 'mytest' from 'C:\\\\Users\\\\Darthur\\\\projects\\\\git\\\\ipynb\\\\myscript\\\\mytest.py'>"
      ]
     },
     "execution_count": 4,
     "metadata": {},
     "output_type": "execute_result"
    }
   ],
   "source": [
    "import importlib\n",
    "importlib.reload(mytest)"
   ]
  }
 ],
 "metadata": {
  "kernelspec": {
   "display_name": "Python 3 (ipykernel)",
   "language": "python",
   "name": "python3"
  },
  "language_info": {
   "codemirror_mode": {
    "name": "ipython",
    "version": 3
   },
   "file_extension": ".py",
   "mimetype": "text/x-python",
   "name": "python",
   "nbconvert_exporter": "python",
   "pygments_lexer": "ipython3",
   "version": "3.10.0"
  }
 },
 "nbformat": 4,
 "nbformat_minor": 5
}
