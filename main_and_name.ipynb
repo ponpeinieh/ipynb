{
 "cells": [
  {
   "cell_type": "code",
   "execution_count": 2,
   "id": "04427659",
   "metadata": {},
   "outputs": [
    {
     "name": "stdout",
     "output_type": "stream",
     "text": [
      "This is my file to test Python's execution methods.\n",
      "The variable __name__ tells me which context this file is running in.\n",
      "The value of __name__ is: '__main__'\n"
     ]
    }
   ],
   "source": [
    "#test run script in notebook\n",
    "%run test.py"
   ]
  },
  {
   "cell_type": "code",
   "execution_count": 3,
   "id": "84e9b2a6",
   "metadata": {},
   "outputs": [
    {
     "name": "stdout",
     "output_type": "stream",
     "text": [
      "This is my file to test Python's execution methods.\n",
      "The variable __name__ tells me which context this file is running in.\n",
      "The value of __name__ is: 'test'\n"
     ]
    }
   ],
   "source": [
    "import test"
   ]
  }
 ],
 "metadata": {
  "kernelspec": {
   "display_name": "Python 3",
   "language": "python",
   "name": "python3"
  },
  "language_info": {
   "codemirror_mode": {
    "name": "ipython",
    "version": 3
   },
   "file_extension": ".py",
   "mimetype": "text/x-python",
   "name": "python",
   "nbconvert_exporter": "python",
   "pygments_lexer": "ipython3",
   "version": "3.9.5"
  }
 },
 "nbformat": 4,
 "nbformat_minor": 5
}
