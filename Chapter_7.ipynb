{
 "cells": [
  {
   "cell_type": "markdown",
   "id": "cfb04ff5",
   "metadata": {},
   "source": [
    "### Class\n",
    "- Object-Oriented Programming\n",
    "   - the real world is full of objects\n",
    "- Use classes to represent real-world things\n",
    "- Create objects based on classes\n",
    "- Use class to define the general behavior of a whole category of things\n",
    "- Instantiation: create an object from a class\n",
    "   - Instance: an object\n",
    "- Sepcify the data(information) to be stored in the instances and actions to be taken with these instances.\n",
    "   - attributes\n",
    "   - methods\n",
    "- Class inheritance(extension): similar classes to share code efficiently\n",
    "\n"
   ]
  },
  {
   "cell_type": "markdown",
   "id": "d77c794d",
   "metadata": {},
   "source": [
    "### Define a class\n",
    "   - Dog class\n",
    "      - attributes : name and age\n",
    "      - methods : sit() and roll_over() \n",
    "```\n",
    "class Dog:\n",
    "    \"\"\"A simple attempt to model a dog.\"\"\"  \n",
    "  \n",
    "    def __init__(self, name, age):\n",
    "        \"\"\"Initialize name and age attributes.\"\"\"\n",
    "        self.name = name\n",
    "        self.age = age\n",
    "        \n",
    "    def sit(self):\n",
    "        \"\"\"Simulate a dog sitting in response to a command.\"\"\"\n",
    "        print(f\"{self.name} is now sitting.\")\n",
    "\n",
    "    def roll_over(self):\n",
    "        \"\"\"Simulate rolling over in response to a command.\"\"\"\n",
    "        print(f\"{self.name} rolled over!\")\n",
    "\n",
    "my_dog = Dog('Willie', 6)\n",
    "your_dog = Dog('Lucy', 3)\n",
    "\n",
    "print(f\"My dog's name is {my_dog.name}.\")\n",
    "print(f\"My dog is {my_dog.age} years old.\")\n",
    "my_dog.sit()\n",
    "\n",
    "print(f\"\\nYour dog's name is {your_dog.name}.\")\n",
    "print(f\"Your dog is {your_dog.age} years old.\")\n",
    "your_dog.sit()\n",
    "\n",
    "```"
   ]
  },
  {
   "cell_type": "code",
   "execution_count": null,
   "id": "63cfabc8",
   "metadata": {
    "scrolled": true
   },
   "outputs": [],
   "source": [
    "class Dog:\n",
    "    \"\"\"A simple attempt to model a dog.\"\"\"  \n",
    "  \n",
    "    def __init__(self, name, age):\n",
    "        \"\"\"Initialize name and age attributes.\"\"\"\n",
    "        self.name = name\n",
    "        self.age = age\n",
    "        \n",
    "    def sit(self):\n",
    "        \"\"\"Simulate a dog sitting in response to a command.\"\"\"\n",
    "        print(f\"{self.name} is now sitting.\")\n",
    "\n",
    "    def roll_over(self):\n",
    "        \"\"\"Simulate rolling over in response to a command.\"\"\"\n",
    "        print(f\"{self.name} rolled over!\")\n",
    "\n",
    "# create an instance of Dog\n",
    "my_dog = Dog('Willie', 6)\n",
    "# another instance\n",
    "your_dog = Dog('Lucy', 3)\n",
    "\n",
    "print(f\"My dog's name is {my_dog.name}.\")\n",
    "print(f\"My dog is {my_dog.age} years old.\")\n",
    "my_dog.sit()\n",
    "\n",
    "print(f\"\\nYour dog's name is {your_dog.name}.\")\n",
    "print(f\"Your dog is {your_dog.age} years old.\")\n",
    "your_dog.sit()\n"
   ]
  },
  {
   "cell_type": "markdown",
   "id": "01e92d52",
   "metadata": {},
   "source": [
    "### Note\n",
    "- By convention: capitalized names are used for class names\n",
    "- ```__init__(self, name, age)``` method: also called 'constructor'\n",
    "   - called when we create an instance\n",
    "   - method name : with two leading underscores and two trailing underscores\n",
    "   - method parameters : three parameters: self, name, age\n",
    "   - self: \n",
    "      - must be the 1st parameter and must come before any other parameters\n",
    "      - when the method is called, the system will automatically pass the **self** argument\n",
    "      - **self** is a reference to the instance itself. We can use **self** to access the attributes and methods in the class.\n",
    "      - **self.name = name** means the parameter **name** is assigned to the attribute **self.name**"
   ]
  },
  {
   "cell_type": "markdown",
   "id": "e73afb86",
   "metadata": {},
   "source": [
    "### 練習: Restaurant\n",
    "1. 定義一個Restaurant類別\n",
    "2. ```__init__()``` method 接受兩個attributes: restaurant_name及 cruisine_type\n",
    "3. 定義一個 describe_restaurant() method : 列印這兩個資訊\n",
    "4. 定義一個 open_restaurant() method : 列印 “這個餐廳目前是營業中” 的訊息\n",
    "5. 建立一個 Restaurant物件， 列印 restaurant_name及 cruisine_type 並呼叫這兩個method"
   ]
  },
  {
   "cell_type": "code",
   "execution_count": null,
   "id": "1ef1e15e",
   "metadata": {},
   "outputs": [],
   "source": [
    "class Restaurant:\n",
    "    def __init__(self, restaurant_name, cruisine_type):\n",
    "        self.restaurant_name = restaurant_name\n",
    "        self.cruisine_type = cruisine_type\n",
    "    def describe_restaurant(self):\n",
    "        print(f'The restaurant name is {self.restaurant_name}, and it is a {self.cruisine_type}-styled restaurant.')\n",
    "    def open_restaurant(self):\n",
    "        print(f'The restaurant is open right now!')\n",
    "# create object\n",
    "r = Restaurant('The Sixth Door','Chinese')\n",
    "print(f'restaurant name : {r.restaurant_name}')\n",
    "print(f'cruisine type : {r.cruisine_type}')\n",
    "r.describe_restaurant()\n",
    "r.open_restaurant()"
   ]
  },
  {
   "cell_type": "markdown",
   "id": "2f24cf67",
   "metadata": {},
   "source": [
    "### Car class\n",
    "```\n",
    "class Car:\n",
    "    \"\"\"A simple attempt to represent a car.\"\"\"\n",
    "\n",
    "    def __init__(self, make, model, year):\n",
    "        \"\"\"Initialize attributes to describe a car.\"\"\"\n",
    "        self.make = make\n",
    "        self.model = model\n",
    "        self.year = year\n",
    "        \n",
    "    def get_descriptive_name(self):\n",
    "        \"\"\"Return a neatly formatted descriptive name.\"\"\"\n",
    "        long_name = f\"{self.year} {self.make} {self.model}\"\n",
    "        return long_name.title()\n",
    "    \n",
    "my_used_car = Car('subaru', 'outback', 2015)\n",
    "print(my_used_car.get_descriptive_name())\n",
    "\n",
    "```"
   ]
  },
  {
   "cell_type": "code",
   "execution_count": null,
   "id": "6657fd25",
   "metadata": {},
   "outputs": [],
   "source": [
    "class Car:\n",
    "    \"\"\"A simple attempt to represent a car.\"\"\"\n",
    "\n",
    "    def __init__(self, make, model, year):\n",
    "        \"\"\"Initialize attributes to describe a car.\"\"\"\n",
    "        self.make = make\n",
    "        self.model = model\n",
    "        self.year = year\n",
    "        \n",
    "    def get_descriptive_name(self):\n",
    "        \"\"\"Return a neatly formatted descriptive name.\"\"\"\n",
    "        long_name = f\"{self.year} {self.make} {self.model}\"\n",
    "        return long_name.title()\n",
    "    \n",
    "my_used_car = Car('subaru', 'outback', 2015)\n",
    "print(my_used_car.get_descriptive_name())\n",
    "your_used_car = Car('Audi', 'A4', 2019)\n",
    "print(your_used_car.get_descriptive_name())"
   ]
  },
  {
   "cell_type": "markdown",
   "id": "aa040ea2",
   "metadata": {},
   "source": [
    "### Default value for an attribute\n",
    "- An attribute can be defined without being passed in as parameters\n",
    "   - add an attribute **odometer_reading** for overall mileage in ```__init__()```\n",
    "   - add **read_odometer()** method to print the odometer_reading attribute\n",
    "   - *using dot opeartor* to update the odometer_reading attribute directly\n",
    "- add two more methods: **update_odometer()** and **increase_odometer()**, which update the odometer_reading attribute\n"
   ]
  },
  {
   "cell_type": "code",
   "execution_count": null,
   "id": "cbb6ba53",
   "metadata": {},
   "outputs": [],
   "source": [
    "class Car:\n",
    "    \"\"\"A simple attempt to represent a car.\"\"\"\n",
    "\n",
    "    def __init__(self, make, model, year):\n",
    "        \"\"\"Initialize attributes to describe a car.\"\"\"\n",
    "        self.make = make\n",
    "        self.model = model\n",
    "        self.year = year\n",
    "        self.odometer_reading = 0\n",
    "        \n",
    "    def get_descriptive_name(self):\n",
    "        \"\"\"Return a neatly formatted descriptive name.\"\"\"\n",
    "        long_name = f\"{self.year} {self.make} {self.model}\"\n",
    "        return long_name.title()\n",
    "\n",
    "    def read_odometer(self):\n",
    "        \"\"\"Print a statement showing the car's mileage.\"\"\"\n",
    "        print(f\"This car has {self.odometer_reading} miles on it.\")\n",
    "\n",
    "    def update_odometer(self, mileage):\n",
    "        \"\"\"\n",
    "        Set the odometer reading to the given value.\n",
    "        Reject the change if it attempts to roll the odometer back.\n",
    "        \"\"\"\n",
    "        if mileage >= self.odometer_reading:\n",
    "            self.odometer_reading = mileage\n",
    "        else:\n",
    "            print(\"You can't roll back an odometer!\")\n",
    "\n",
    "    def increment_odometer(self, miles):\n",
    "        \"\"\"Add the given amount to the odometer reading.\"\"\"\n",
    "        self.odometer_reading += miles\n",
    "    \n",
    "my_used_car = Car('subaru', 'outback', 2015)\n",
    "print(my_used_car.get_descriptive_name())\n",
    "\n",
    "#directly update the odometer_reading attribute using dot operator\n",
    "my_used_car.odometer_reading = 1000\n",
    "my_used_car.read_odometer()\n",
    "\n",
    "#calling update_odometer() method to update the odometer_reading attribute \n",
    "my_used_car.update_odometer(23_500)\n",
    "my_used_car.read_odometer()\n",
    "\n",
    "my_used_car.increment_odometer(100)\n",
    "my_used_car.read_odometer()\n"
   ]
  },
  {
   "cell_type": "markdown",
   "id": "4fad5593",
   "metadata": {},
   "source": [
    "### Inheritance\n",
    "- parent class and child class\n",
    "- superclass and subclass\n",
    "- The child class can inherit all of attributes and methods of its parent class\n",
    "- The child class can define new attributes and methods of its own\n",
    "- The parent class' ```__init__()``` method needs to be called first to initialize any parent class' attributes, so they become available in the child class\n",
    "- Example: ElectricCar , which extends the Car class"
   ]
  },
  {
   "cell_type": "code",
   "execution_count": 2,
   "id": "e429717c",
   "metadata": {},
   "outputs": [
    {
     "name": "stdout",
     "output_type": "stream",
     "text": [
      "2019 Tesla Model S\n"
     ]
    }
   ],
   "source": [
    "import sys\n",
    "sys.path.append('myscript')\n",
    "from car import Car\n",
    "class ElectricCar(Car):\n",
    "    \"\"\"Represent aspects of a car, specific to electric vehicles.\"\"\"\n",
    "    \n",
    "    def __init__(self, make, model, year):\n",
    "        \"\"\"\n",
    "        Initialize attributes of the parent class.\n",
    "        \"\"\"\n",
    "        super().__init__(make, model, year)\n",
    "\n",
    "my_tesla = ElectricCar('tesla', 'model s', 2019)\n",
    "print(my_tesla.get_descriptive_name())"
   ]
  },
  {
   "cell_type": "markdown",
   "id": "96d1ff0a",
   "metadata": {},
   "source": [
    "### Note\n",
    "- The parent class must be available before we define a child class\n",
    "- The name of the parent class must be included in the parentheses in the definition of a child class\n",
    "   - ``` class ElectricCar(Car)```\n",
    "- The super() function allows you to call a method from the parent class\n",
    "   - ``` super().__init__(make,model,year)```\n",
    "   - Within child class' ```__init__()``` method , it needs to call parent class' ```__init__()``` to give the child instance all the attributes defined in the parent class\n",
    "      - If not calling parent class' ```__init__()``` , the child class won't have the parent class' attributes\n",
    "- The ElectricCar class inherits the get_descriptive_name() method from the Car class"
   ]
  },
  {
   "cell_type": "markdown",
   "id": "9de01644",
   "metadata": {},
   "source": [
    "### Define attributes and methods for the child class\n",
    "- A child class not just inherit all the attributes and methods from the parent, it can also define its own attributes and methods\n",
    "- Add the **battery_size** attribute and **describe_battery()** method"
   ]
  },
  {
   "cell_type": "code",
   "execution_count": null,
   "id": "c6db47c7",
   "metadata": {},
   "outputs": [],
   "source": [
    "class ElectricCar(Car):\n",
    "    \"\"\"Represent aspects of a car, specific to electric vehicles.\"\"\"\n",
    "    \n",
    "    def __init__(self, make, model, year):\n",
    "        \"\"\"\n",
    "        Initialize attributes of the parent class.\n",
    "        Then initialize attributes specific to an electric car.\n",
    "        \"\"\"\n",
    "        super().__init__(make, model, year)\n",
    "        self.battery_size = 75\n",
    "\n",
    "    def describe_battery(self):\n",
    "        \"\"\"Print a statement describing the battery size.\"\"\"\n",
    "        print(f\"This car has a {self.battery_size}-kWh battery.\")\n",
    "\n",
    "my_tesla = ElectricCar('tesla', 'model s', 2019)\n",
    "print(my_tesla.get_descriptive_name())\n",
    "my_tesla.describe_battery()"
   ]
  },
  {
   "cell_type": "markdown",
   "id": "64fa5933",
   "metadata": {},
   "source": []
  },
  {
   "cell_type": "code",
   "execution_count": 3,
   "id": "e2413c0a",
   "metadata": {},
   "outputs": [
    {
     "name": "stdout",
     "output_type": "stream",
     "text": [
      "2019 Tesla Model S\n",
      "This car has a 75-kWh battery.\n",
      "This car can go about 260 miles on a full charge.\n"
     ]
    }
   ],
   "source": [
    "class Battery:\n",
    "    \"\"\"A simple attempt to model a battery for an electric car.\"\"\"\n",
    "    \n",
    "    def __init__(self, battery_size=75):\n",
    "        \"\"\"Initialize the battery's attributes.\"\"\"\n",
    "        self.battery_size = battery_size\n",
    "\n",
    "    def describe_battery(self):\n",
    "        \"\"\"Print a statement describing the battery size.\"\"\"\n",
    "        print(f\"This car has a {self.battery_size}-kWh battery.\")\n",
    "\n",
    "    def get_range(self):\n",
    "        \"\"\"Print a statement about the range this battery provides.\"\"\"\n",
    "        if self.battery_size == 75:\n",
    "            range = 260\n",
    "        elif self.battery_size == 100:\n",
    "            range = 315\n",
    "            \n",
    "        print(f\"This car can go about {range} miles on a full charge.\")\n",
    "\n",
    "\n",
    "class ElectricCar(Car):\n",
    "    \"\"\"Represent aspects of a car, specific to electric vehicles.\"\"\"\n",
    "    \n",
    "    def __init__(self, make, model, year):\n",
    "        \"\"\"\n",
    "        Initialize attributes of the parent class.\n",
    "        Then initialize attributes specific to an electric car.\n",
    "        \"\"\"\n",
    "        super().__init__(make, model, year)\n",
    "        self.battery = Battery()\n",
    "\n",
    "\n",
    "my_tesla = ElectricCar('tesla', 'model s', 2019)\n",
    "print(my_tesla.get_descriptive_name())\n",
    "my_tesla.battery.describe_battery()\n",
    "my_tesla.battery.get_range()"
   ]
  }
 ],
 "metadata": {
  "kernelspec": {
   "display_name": "Python 3 (ipykernel)",
   "language": "python",
   "name": "python3"
  },
  "language_info": {
   "codemirror_mode": {
    "name": "ipython",
    "version": 3
   },
   "file_extension": ".py",
   "mimetype": "text/x-python",
   "name": "python",
   "nbconvert_exporter": "python",
   "pygments_lexer": "ipython3",
   "version": "3.10.0"
  }
 },
 "nbformat": 4,
 "nbformat_minor": 5
}
