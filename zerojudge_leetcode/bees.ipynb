{
 "cells": [
  {
   "cell_type": "code",
   "execution_count": null,
   "id": "2b8407f7-d8a1-4147-bcea-d27e120c6e06",
   "metadata": {},
   "outputs": [],
   "source": [
    "\n",
    "def calc(y):\n",
    "    if y == 0:\n",
    "        return [1,0]\n",
    "    elif y == 1:\n",
    "        return [1,1]\n",
    "    else:\n",
    "        r1 = calc(y-1)\n",
    "        r2 = calc(y-2)\n",
    "        return [r1[0]+r2[0], r1[0]+r1[1]]\n",
    "year = int(input())\n",
    "result = calc(year)\n",
    "print(f'母:{result[0]}, 公:{result[1]}')"
   ]
  },
  {
   "cell_type": "code",
   "execution_count": null,
   "id": "dea6de94-4449-463e-8af8-f1885a6875c8",
   "metadata": {},
   "outputs": [],
   "source": [
    "def calc_loop(y):\n",
    "    result=[]\n",
    "    if y == 0:\n",
    "        result = [1,0]\n",
    "    elif y == 1:\n",
    "        result = [1,1]\n",
    "    else:\n",
    "        result1 = [1,0]\n",
    "        result = [1,1]\n",
    "        for _ in range(2,year+1):\n",
    "            temp = result1[0]+result[0]\n",
    "            temp2 = result[0]+result[1]\n",
    "            result1=result\n",
    "            result=[temp,temp2]\n",
    "    return result\n",
    "year = int(input())\n",
    "result = calc_loop(year)\n",
    "print(f'母:{result[0]}, 公:{result[1]}')"
   ]
  }
 ],
 "metadata": {
  "kernelspec": {
   "display_name": "Python 3 (ipykernel)",
   "language": "python",
   "name": "python3"
  },
  "language_info": {
   "codemirror_mode": {
    "name": "ipython",
    "version": 3
   },
   "file_extension": ".py",
   "mimetype": "text/x-python",
   "name": "python",
   "nbconvert_exporter": "python",
   "pygments_lexer": "ipython3",
   "version": "3.11.4"
  }
 },
 "nbformat": 4,
 "nbformat_minor": 5
}
