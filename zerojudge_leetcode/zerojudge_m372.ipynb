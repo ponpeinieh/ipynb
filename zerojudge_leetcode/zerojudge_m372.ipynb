{
 "cells": [
  {
   "cell_type": "code",
   "execution_count": null,
   "id": "6d35a9ac-4c4e-4fce-abd0-f243e04c22d4",
   "metadata": {},
   "outputs": [],
   "source": [
    "# zerojudge m372. 3. 搬家 2023年10月APCS\n"
   ]
  }
 ],
 "metadata": {
  "kernelspec": {
   "display_name": "Python 3 (ipykernel)",
   "language": "python",
   "name": "python3"
  },
  "language_info": {
   "codemirror_mode": {
    "name": "ipython",
    "version": 3
   },
   "file_extension": ".py",
   "mimetype": "text/x-python",
   "name": "python",
   "nbconvert_exporter": "python",
   "pygments_lexer": "ipython3",
   "version": "3.12.1"
  }
 },
 "nbformat": 4,
 "nbformat_minor": 5
}
