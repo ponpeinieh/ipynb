{
 "cells": [
  {
   "cell_type": "code",
   "execution_count": null,
   "id": "64082eb2",
   "metadata": {},
   "outputs": [],
   "source": [
    "class Job:\n",
    "    def __init__(self, job_id, deadline, profit):\n",
    "        self.job_id = job_id\n",
    "        self.deadline = deadline\n",
    "        self.profit = profit\n",
    "    def __str__(self):\n",
    "        return f'{self.job_id}: {self.deadline}, {self.profit}'\n",
    "def jobScheduling(job_arr):\n",
    "    # sort the job_arr by profit\n",
    "    job_arr.sort(key = lambda j:j.profit, reverse=True)\n",
    "    max_deadline = job_arr[0].deadline\n",
    "    for j in job_arr:\n",
    "        if j.deadline>max_deadline:\n",
    "            max_deadline = j.deadline\n",
    "    slots = [None]*max_deadline\n",
    "    max_profit = 0\n",
    "    for j in job_arr:\n",
    "        for i in range(j.deadline-1,-1,-1):\n",
    "            if not slots[i]:\n",
    "                slots[i] = j\n",
    "                max_profit+=j.profit\n",
    "                break\n",
    "    for j in slots:\n",
    "        if j:\n",
    "            print(j.job_id)\n",
    "    print(max_profit)"
   ]
  },
  {
   "cell_type": "code",
   "execution_count": null,
   "id": "fb468515",
   "metadata": {},
   "outputs": [],
   "source": [
    "arr = [['a', 2, 100],['b', 1, 19],['c', 2, 27],['d', 1, 25],['e', 3, 15]] # Job Array\n",
    "job_arr = [Job(j[0],j[1],j[2]) for j in arr]\n",
    "# for j in job_arr:\n",
    "#     print(j)\n",
    "jobScheduling(job_arr)\n",
    " "
   ]
  },
  {
   "cell_type": "code",
   "execution_count": null,
   "id": "194af49d",
   "metadata": {},
   "outputs": [],
   "source": [
    "import heapq\n",
    "def jobSchedulingPQ(job_arr):\n",
    "    # sort the job_arr by deadline descending\n",
    "    job_arr.sort(key= lambda j:j.deadline, reverse=True)\n",
    "    slots = [None]*job_arr[0].deadline\n",
    "    pq = []\n",
    "    max_profit=0\n",
    "    for i,j in enumerate(job_arr):\n",
    "        # push job into the heapq in the format of tuple (-1*profit , job)\n",
    "        heapq.heappush(pq, (-1*j.profit,j)) #negate the profit, since heapq is a min heap\n",
    "        next_deadline=0\n",
    "        if i<len(job_arr)-1:\n",
    "            next_deadline=job_arr[i+1].deadline\n",
    "        if job_arr[i].deadline>next_deadline:\n",
    "            for n in range(job_arr[i].deadline,next_deadline,-1):\n",
    "                if len(pq)>0:\n",
    "                    slots[n-1]=heapq.heappop(pq)[1] # job is the second item in the tuple\n",
    "                    max_profit+=slots[n-1].profit\n",
    "    for j in slots:\n",
    "        if j:\n",
    "            print(j.job_id)\n",
    "    print(max_profit)     "
   ]
  },
  {
   "cell_type": "code",
   "execution_count": null,
   "id": "d52b06f6",
   "metadata": {},
   "outputs": [],
   "source": [
    "arr = [['a', 2, 100],['b', 1, 19],['c', 2, 27],['d', 1, 25],['e', 3, 15]] # Job Array\n",
    "job_arr = [Job(j[0],j[1],j[2]) for j in arr] \n",
    "jobSchedulingPQ(job_arr)\n",
    " "
   ]
  }
 ],
 "metadata": {
  "kernelspec": {
   "display_name": "Python 3",
   "language": "python",
   "name": "python3"
  },
  "language_info": {
   "codemirror_mode": {
    "name": "ipython",
    "version": 3
   },
   "file_extension": ".py",
   "mimetype": "text/x-python",
   "name": "python",
   "nbconvert_exporter": "python",
   "pygments_lexer": "ipython3",
   "version": "3.8.10"
  }
 },
 "nbformat": 4,
 "nbformat_minor": 5
}
