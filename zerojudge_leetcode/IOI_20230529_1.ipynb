{
 "cells": [
  {
   "cell_type": "markdown",
   "id": "509f414d-6b7b-4889-989c-4a62183602aa",
   "metadata": {},
   "source": [
    "![IOI 202305129_1](IOI_20230529_1.png)"
   ]
  },
  {
   "cell_type": "markdown",
   "id": "16b9b0f5-2702-4231-aa90-b1232036bb95",
   "metadata": {},
   "source": [
    "![IOI 202305129_1_td1](IOI_20230529_1_td1.png)"
   ]
  },
  {
   "cell_type": "markdown",
   "id": "5164a68e-9c6d-4535-ba6e-d8b338c5f962",
   "metadata": {},
   "source": [
    "![IOI 202305129_1_td2](IOI_20230529_1_td2.png)"
   ]
  },
  {
   "cell_type": "code",
   "execution_count": null,
   "id": "9c9698a6-23bf-4854-90b8-3de03fe39a10",
   "metadata": {},
   "outputs": [],
   "source": [
    "# N,M = map(int, input().split())\n",
    "# ndata = []\n",
    "# for _ in range(N):\n",
    "#     ndata.append(tuple(map(int, input().split())))\n",
    "# mdata=[]\n",
    "# for _ in range(M):\n",
    "#     mdata.append(tuple(map(int, input().split())))\n",
    "# D = int(input())\n",
    "# N=M=2\n",
    "# ndata=[(8,15),(20,75)]\n",
    "# mdata=[(25,90),(100,110)]\n",
    "# D=25\n",
    "N=3\n",
    "M=2\n",
    "ndata=[(10,50),(60,120),(140,210)]\n",
    "mdata=[(0,15),(60,70)]\n",
    "D=8\n",
    "i = j =0\n",
    "found=False\n",
    "while i<N and j<M:\n",
    "    start_max = max(ndata[i][0], mdata[j][0])\n",
    "    end_min = min(ndata[i][1], mdata[j][1])\n",
    "    if start_max<end_min and end_min-start_max>D:\n",
    "        print(start_max, start_max+D)\n",
    "        found=True\n",
    "        break\n",
    "    elif ndata[i][1]<mdata[j][1]:\n",
    "        i+=1\n",
    "    else:\n",
    "        j+=1\n",
    "if not found:\n",
    "    print(-1)"
   ]
  }
 ],
 "metadata": {
  "kernelspec": {
   "display_name": "Python 3 (ipykernel)",
   "language": "python",
   "name": "python3"
  },
  "language_info": {
   "codemirror_mode": {
    "name": "ipython",
    "version": 3
   },
   "file_extension": ".py",
   "mimetype": "text/x-python",
   "name": "python",
   "nbconvert_exporter": "python",
   "pygments_lexer": "ipython3",
   "version": "3.10.12"
  }
 },
 "nbformat": 4,
 "nbformat_minor": 5
}
