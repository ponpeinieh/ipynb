{
 "cells": [
  {
   "cell_type": "markdown",
   "id": "509f414d-6b7b-4889-989c-4a62183602aa",
   "metadata": {},
   "source": [
    "- See link here (https://tpmso.org/toi/wp-content/uploads/question/202312/Puzzle.pdf)\n",
    "- Or see zerojudge question m802 (https://zerojudge.tw/ShowProblem?problemid=m802)\n",
    "![IOI 20231225_3](IOI_20231225_3.png)"
   ]
  },
  {
   "cell_type": "markdown",
   "id": "16b9b0f5-2702-4231-aa90-b1232036bb95",
   "metadata": {},
   "source": [
    "![IOI 202305129_1_td1](IOI_20231225_3_td1.png)\n",
    "![IOI 202305129_1_td2](IOI_20231225_3_td2.png)"
   ]
  },
  {
   "cell_type": "code",
   "execution_count": null,
   "id": "9c9698a6-23bf-4854-90b8-3de03fe39a10",
   "metadata": {},
   "outputs": [],
   "source": [
    "def vfill(word,x,y):\n",
    "    global grids\n",
    "    if y+len(word)>N:\n",
    "        return False\n",
    "    for i in range(len(word)):\n",
    "        if grids[y+i][x] and grids[y+i][x]!=word[i]:\n",
    "            return False\n",
    "        else:\n",
    "            grids[y+i][x]=word[i]\n",
    "    return True\n",
    "def hfill(word,x,y):\n",
    "    global grids\n",
    "    if x+len(word)>N:\n",
    "        return False\n",
    "    for i in range(len(word)):\n",
    "        if grids[y][x+i] and grids[y][x+i]!=word[i]:\n",
    "            return False\n",
    "        else:\n",
    "            grids[y][x+i]=word[i]\n",
    "    return True\n",
    "    \n",
    "N = int(input())\n",
    "# N=5\n",
    "grids = [[None]*N for _ in range(N)]\n",
    "M = int(input())\n",
    "# M=2\n",
    "# I = ['V WORD 1 0','H CAT 1 2']\n",
    "result=True\n",
    "for i in range(M):\n",
    "    D,W,X,Y = input().split()\n",
    "    # D,W,X,Y = I[i].split()\n",
    "    x=int(X)\n",
    "    y=int(Y)\n",
    "    if D=='V' and not vfill(W,x,y): \n",
    "        result=False\n",
    "        break\n",
    "    if D=='H' and not hfill(W,x,y): \n",
    "        result=False\n",
    "        break\n",
    "if result:\n",
    "    print('Yes')\n",
    "else:\n",
    "    print('No')"
   ]
  }
 ],
 "metadata": {
  "kernelspec": {
   "display_name": "Python 3 (ipykernel)",
   "language": "python",
   "name": "python3"
  },
  "language_info": {
   "codemirror_mode": {
    "name": "ipython",
    "version": 3
   },
   "file_extension": ".py",
   "mimetype": "text/x-python",
   "name": "python",
   "nbconvert_exporter": "python",
   "pygments_lexer": "ipython3",
   "version": "3.12.1"
  }
 },
 "nbformat": 4,
 "nbformat_minor": 5
}
