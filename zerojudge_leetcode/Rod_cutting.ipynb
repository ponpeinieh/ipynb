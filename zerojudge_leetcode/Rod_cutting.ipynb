{
 "cells": [
  {
   "cell_type": "code",
   "execution_count": null,
   "id": "6775c519-4a29-4f95-9d5a-cfee22fb5754",
   "metadata": {},
   "outputs": [],
   "source": [
    "# Rod cutting using DFS with recursion\n",
    "def calculate():\n",
    "    s = 0\n",
    "    leng = 1\n",
    "    for x in cuts:\n",
    "        if x:\n",
    "            s+=c[leng-1]\n",
    "            leng=1\n",
    "        else:\n",
    "            leng+=1 \n",
    "    s+=c[leng-1]\n",
    "    return s\n",
    "def dfs(L):\n",
    "    global profit_max,max_cuts\n",
    "    if N == L:\n",
    "        profit=calculate()\n",
    "        if profit>profit_max:\n",
    "            profit_max= profit\n",
    "            max_cuts = cuts[:]\n",
    "        return\n",
    "    cuts.append(True)\n",
    "    dfs(L+1)\n",
    "    cuts.pop()\n",
    "    cuts.append(False)\n",
    "    dfs(L+1)\n",
    "    cuts.pop()\n",
    "\n",
    "if __name__ == '__main__': \n",
    "    c = [10, 24, 30, 40, 45]\n",
    "    N = len(c)-1\n",
    "    cuts=[]\n",
    "    profit_max = -1\n",
    "    max_cuts=[]\n",
    "    dfs(0)\n",
    "    print(profit_max)\n",
    "    print(max_cuts)"
   ]
  },
  {
   "cell_type": "code",
   "execution_count": null,
   "id": "03d3383c-6153-4472-aaab-77c0658a3920",
   "metadata": {},
   "outputs": [],
   "source": [
    "#  Rod cutting using DP, Top-down (Recursivie) approach\n",
    "def rod_cut(n):\n",
    "    if n==0:\n",
    "        return 0\n",
    "    if r[n]!=0:\n",
    "        return r[n]\n",
    "    max_profit = -1\n",
    "    for i in range(1,n+1):\n",
    "        p = c[i]+rod_cut(n-i)\n",
    "        if  p > max_profit:\n",
    "            max_profit = p\n",
    "    r[n]=max_profit\n",
    "    return max_profit\n",
    "if __name__ == '__main__': \n",
    "    c = [0, 10, 24, 30, 40, 45]\n",
    "    N=len(c)-1\n",
    "    r = [0]*(N+1)\n",
    "    print(rod_cut(N))"
   ]
  },
  {
   "cell_type": "code",
   "execution_count": null,
   "id": "44007610-6bdd-4daf-9142-a5d3d0b9704e",
   "metadata": {},
   "outputs": [],
   "source": [
    "#  Rod cutting using DP, Bottom-up (Iterative) approach\n",
    "def rod_cut(n):\n",
    "    r = [0]*(n+1)\n",
    "    for i in range(1, n+1):\n",
    "        max_profit=-1\n",
    "        for j in range(1,i+1):\n",
    "            p = c[j] + r[i-j]\n",
    "            if p>max_profit:\n",
    "                max_profit=p\n",
    "        r[i]=max_profit\n",
    "    return r[n]\n",
    "if __name__ == '__main__': \n",
    "    c = [0, 10, 24, 30, 40, 45]\n",
    "    N=len(c)-1\n",
    "    print(rod_cut(N))"
   ]
  }
 ],
 "metadata": {
  "kernelspec": {
   "display_name": "Python 3 (ipykernel)",
   "language": "python",
   "name": "python3"
  },
  "language_info": {
   "codemirror_mode": {
    "name": "ipython",
    "version": 3
   },
   "file_extension": ".py",
   "mimetype": "text/x-python",
   "name": "python",
   "nbconvert_exporter": "python",
   "pygments_lexer": "ipython3",
   "version": "3.12.1"
  }
 },
 "nbformat": 4,
 "nbformat_minor": 5
}
