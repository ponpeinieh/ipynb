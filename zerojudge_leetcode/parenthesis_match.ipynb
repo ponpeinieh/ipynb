{
 "cells": [
  {
   "cell_type": "code",
   "execution_count": null,
   "id": "3f1f2e6f",
   "metadata": {},
   "outputs": [],
   "source": [
    "# generate all combinations of N pairs of parenthesis\n",
    "# First implementation using recursion\n",
    "# Not as good as the one using DFS recursion (see below)\n",
    "def generate_p(M, N):\n",
    "    if M==1:\n",
    "        return (('(',1,0),)\n",
    "    result=[]\n",
    "    sub_result = generate_p(M-1,N)\n",
    "    for i in sub_result:\n",
    "        for j in (('(',1,0),(')',0,1)):\n",
    "            if i[1]+j[1]>=i[2]+j[2] and i[1]+j[1]<=N:\n",
    "                result.append((i[0]+j[0],i[1]+j[1],i[2]+j[2]))\n",
    "    return result\n",
    "while True:\n",
    "    try:\n",
    "        N = int(input())\n",
    "        result = generate_p(2*N,N)\n",
    "        #print(len(result))\n",
    "        for r in result:\n",
    "            print(r[0])\n",
    "        print()\n",
    "    except EOFError:\n",
    "        break"
   ]
  },
  {
   "cell_type": "code",
   "execution_count": null,
   "id": "5f2ace2e",
   "metadata": {},
   "outputs": [],
   "source": [
    "# generate all combinations of N pairs of parenthesis\n",
    "# using DFS recursion\n",
    "def dfs(p, l, r):\n",
    "    if l>N or r>l:\n",
    "        return\n",
    "    if p==2*N:\n",
    "        print(\"\".join(data))\n",
    "        return\n",
    "    data[p]='('\n",
    "    dfs(p+1,l+1,r)\n",
    "    data[p]=')'\n",
    "    dfs(p+1,l,r+1)\n",
    "        \n",
    "N = int(input())\n",
    "data=[None]*2*N\n",
    "dfs(0,0,0)"
   ]
  }
 ],
 "metadata": {
  "kernelspec": {
   "display_name": "Python 3",
   "language": "python",
   "name": "python3"
  },
  "language_info": {
   "codemirror_mode": {
    "name": "ipython",
    "version": 3
   },
   "file_extension": ".py",
   "mimetype": "text/x-python",
   "name": "python",
   "nbconvert_exporter": "python",
   "pygments_lexer": "ipython3",
   "version": "3.8.10"
  }
 },
 "nbformat": 4,
 "nbformat_minor": 5
}
