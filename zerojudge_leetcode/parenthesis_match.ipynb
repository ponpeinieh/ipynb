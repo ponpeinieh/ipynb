{
 "cells": [
  {
   "cell_type": "code",
   "execution_count": null,
   "id": "62045cca",
   "metadata": {},
   "outputs": [],
   "source": [
    "# generate all combinations of N pairs of parenthesis\n",
    "# First implementation using recursion\n",
    "# Not as good as the one using DFS recursion (see below)\n",
    "def generate_p(M, N):\n",
    "    if M==1:\n",
    "        return (('(',1,0),)\n",
    "    result=[]\n",
    "    sub_result = generate_p(M-1,N)\n",
    "    for i in sub_result:\n",
    "        for j in (('(',1,0),(')',0,1)):\n",
    "            if i[1]+j[1]>=i[2]+j[2] and i[1]+j[1]<=N:\n",
    "                result.append((i[0]+j[0],i[1]+j[1],i[2]+j[2]))\n",
    "    return result\n",
    "while True:\n",
    "    try:\n",
    "        N = int(input())\n",
    "        result = generate_p(2*N,N)\n",
    "        #print(len(result))\n",
    "        for r in result:\n",
    "            print(r[0])\n",
    "        print()\n",
    "    except EOFError:\n",
    "        break"
   ]
  },
  {
   "cell_type": "code",
   "execution_count": null,
   "id": "10afa48c",
   "metadata": {},
   "outputs": [],
   "source": [
    "# generate all integers up to N digits\n",
    "# First implementation using recursion\n",
    "# Not as good as the one using DFS recursion (see below)\n",
    "def generate_numbers(N):\n",
    "    if N==1:\n",
    "        return list(range(10))\n",
    "    result = []\n",
    "    sub_result = generate_numbers(N-1)\n",
    "    for i in sub_result:\n",
    "        for j in range(10):\n",
    "            result.append(i*10+j)\n",
    "    return result\n",
    "\n",
    "result = generate_numbers(1)\n",
    "print(result)"
   ]
  },
  {
   "cell_type": "code",
   "execution_count": null,
   "id": "3740d0d7",
   "metadata": {},
   "outputs": [],
   "source": [
    "# generate all combinations of N pairs of parenthesis\n",
    "# using DFS recursion\n",
    "def dfs(p, l, r):\n",
    "    if l>N or r>l:\n",
    "        return\n",
    "    if p==2*N:\n",
    "        print(\"\".join(data))\n",
    "        return\n",
    "    data[p]='('\n",
    "    dfs(p+1,l+1,r)\n",
    "    data[p]=')'\n",
    "    dfs(p+1,l,r+1)\n",
    "        \n",
    "N = int(input())\n",
    "data=[None]*2*N\n",
    "dfs(0,0,0)"
   ]
  },
  {
   "cell_type": "code",
   "execution_count": null,
   "id": "e7d26270",
   "metadata": {},
   "outputs": [],
   "source": [
    "# generate all integers up to N digits\n",
    "# using DFS recursion\n",
    "# implementation passing the result number around \n",
    "def dfs(p,number):  \n",
    "    if p==N:\n",
    "        print(number)\n",
    "        return\n",
    "    for i in range(10):\n",
    "        dfs(p+1,number*10+i)\n",
    "N = int(input()) # how many digits \n",
    "dfs(0,0) "
   ]
  },
  {
   "cell_type": "code",
   "execution_count": null,
   "id": "24d59cd8",
   "metadata": {},
   "outputs": [],
   "source": [
    "# generate all integers up to N digits\n",
    "# using DFS recursion\n",
    "# implementation using a global variable as the result \n",
    "def dfs(p): \n",
    "    global number\n",
    "    if p==N:\n",
    "        print(number)\n",
    "        return\n",
    "    for i in range(10):\n",
    "        number=number*10+i\n",
    "        dfs(p+1)\n",
    "        number//=10\n",
    "N = int(input()) # how many digits \n",
    "number=0\n",
    "dfs(0) "
   ]
  },
  {
   "cell_type": "code",
   "execution_count": null,
   "id": "af8ecae9",
   "metadata": {},
   "outputs": [],
   "source": [
    "# generate N-digits integers without repeated digits\n",
    "# using DFS recursion\n",
    "def dfs(p,number):  \n",
    "    min = 0\n",
    "    if p==0: \n",
    "        min=1\n",
    "    if p==N:\n",
    "        print(number)\n",
    "        return\n",
    "    for i in range(min,10):\n",
    "        if str(i) not in str(number):\n",
    "            dfs(p+1,number*10+i)\n",
    "N = int(input()) # how many digits \n",
    "dfs(0,0) "
   ]
  },
  {
   "cell_type": "code",
   "execution_count": null,
   "id": "4bbcff60",
   "metadata": {},
   "outputs": [],
   "source": [
    "graph = {\"1\": [\"5\", \"9\"], \"5\": [\"2\", \"4\"], \"9\": [\"8\"], \"2\": [], \"4\": [], \"8\": []}\n",
    "#traversed = set()\n",
    "\n",
    "\n",
    "def dfs(traversed, graph, vertex):\n",
    "    #if vertex not in traversed:\n",
    "    print(vertex)\n",
    "    #traversed.add(vertex)\n",
    "    for adjacent in graph[vertex]:\n",
    "        dfs(traversed, graph, adjacent)\n",
    "\n",
    "\n",
    "print(\"Depth First Search:\")\n",
    "dfs(traversed, graph, \"1\")"
   ]
  },
  {
   "cell_type": "code",
   "execution_count": null,
   "id": "9f9442f3",
   "metadata": {},
   "outputs": [],
   "source": [
    "def dfs(graph, root_node):\n",
    "    traversed = [root_node]\n",
    "    stack = [root_node]\n",
    "    while stack:\n",
    "        vertex = stack[-1]\n",
    "        if vertex not in traversed:\n",
    "            traversed.append(vertex)\n",
    "        pop = True\n",
    "        for adjacent in graph[vertex]:\n",
    "            if adjacent not in traversed:\n",
    "                stack.append(adjacent)\n",
    "                pop = False\n",
    "                break\n",
    "        if pop:\n",
    "            stack.pop()\n",
    "    return traversed\n",
    "\n",
    "\n",
    "graph = {\"1\": [\"5\", \"9\"], \"5\": [\"2\", \"4\"], \"9\": [\"8\"], \"2\": [\"4\"], \"4\": [\"2\"], \"8\": []}\n",
    "print(dfs(graph, \"1\"))"
   ]
  }
 ],
 "metadata": {
  "kernelspec": {
   "display_name": "Python 3",
   "language": "python",
   "name": "python3"
  },
  "language_info": {
   "codemirror_mode": {
    "name": "ipython",
    "version": 3
   },
   "file_extension": ".py",
   "mimetype": "text/x-python",
   "name": "python",
   "nbconvert_exporter": "python",
   "pygments_lexer": "ipython3",
   "version": "3.8.10"
  }
 },
 "nbformat": 4,
 "nbformat_minor": 5
}
