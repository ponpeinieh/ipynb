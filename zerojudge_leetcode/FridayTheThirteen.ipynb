{
 "cells": [
  {
   "cell_type": "code",
   "execution_count": null,
   "id": "b5eb4cb2-d615-410e-8a05-054c0634b2c8",
   "metadata": {},
   "outputs": [],
   "source": [
    "from datetime import date, timedelta"
   ]
  },
  {
   "cell_type": "code",
   "execution_count": null,
   "id": "9595c71f-4f26-4d51-9465-4dab126bbbd9",
   "metadata": {},
   "outputs": [],
   "source": [
    "today = date(2023,12,3)\n",
    "for i in range(10):\n",
    "    day = today+timedelta(days=i)\n",
    "    print(day,day.weekday())\n",
    "    "
   ]
  },
  {
   "cell_type": "code",
   "execution_count": null,
   "id": "eac3f4fa-6341-44b5-b086-abffd4dfe1e6",
   "metadata": {},
   "outputs": [],
   "source": [
    "from datetime import date, timedelta\n",
    "N = int(input())\n",
    "d = 13\n",
    "day_list = [0]*7 # (Mon to Sun)\n",
    "for y in range(1900,1900+N+1):\n",
    "    for m in range(1,13):\n",
    "        theDay = date(y,m,d)\n",
    "        wd = theDay.weekday() # 0,1,2,...,6 (Mon to Sun)\n",
    "        day_list[wd]+=1\n",
    "for i in range(7):\n",
    "    print(day_list[(5+i)%7])"
   ]
  },
  {
   "cell_type": "code",
   "execution_count": null,
   "id": "e9cda1e1-80b7-4fdb-bec1-9872b074e53c",
   "metadata": {},
   "outputs": [],
   "source": [
    "days = [31,28,31,30,31,30,31,31,30,31,30,31]\n",
    "data = [0]*7 # start from Mon \n",
    "def is_leap_year(year):\n",
    "    if year%4==0 and year%100!=0 or year%400==0:\n",
    "        return 1\n",
    "    else:\n",
    "        return 0\n",
    "N = int(input())\n",
    "t = 13\n",
    "for y in range(1900,1900+N+1):\n",
    "    is_leap = is_leap_year(y)\n",
    "    for i,d in enumerate(days):\n",
    "        if i==1:\n",
    "            d += is_leap\n",
    "        data[(t-1)%7]+=1 \n",
    "        t+=d\n",
    "        \n",
    "\n",
    "output_data=[]\n",
    "for i in range(7):\n",
    "    print(data[(5+i)%7], end=' ')\n",
    "    output_data.append(str(data[(5+i)%7]))\n",
    "print(\" \".join(output_data))"
   ]
  },
  {
   "cell_type": "code",
   "execution_count": null,
   "id": "81988889-15e3-42f7-8fad-1beb4c941af2",
   "metadata": {},
   "outputs": [],
   "source": [
    "\"\"\"\n",
    "ID: ypnie101\n",
    "LANG: PYTHON3\n",
    "TASK: friday\n",
    "\"\"\"\n",
    "fin = open ('friday.in', 'r')\n",
    "fout = open ('friday.out', 'w')\n",
    "N = int(fin.readline())\n",
    "days = [31,28,31,30,31,30,31,31,30,31,30,31]\n",
    "data = [0]*7 # start from Mon \n",
    "def is_leap_year(year):\n",
    "    if year%4==0 and year%100!=0 or year%400==0:\n",
    "        return 1\n",
    "    else:\n",
    "        return 0\n",
    "t = 13\n",
    "for y in range(1900,1900+N+1):\n",
    "    is_leap = is_leap_year(y)\n",
    "    for i,d in enumerate(days):\n",
    "        if i==1:\n",
    "            d += is_leap\n",
    "        data[(t-1)%7]+=1 \n",
    "        t+=d\n",
    "output_data=[]\n",
    "for i in range(7):\n",
    "    #print(data[(5+i)%7], end=' ')\n",
    "    output_data.append(str(data[(5+i)%7]))\n",
    "fout.write (\" \".join(output_data) + '\\n')\n",
    "fout.close()"
   ]
  }
 ],
 "metadata": {
  "kernelspec": {
   "display_name": "Python 3 (ipykernel)",
   "language": "python",
   "name": "python3"
  },
  "language_info": {
   "codemirror_mode": {
    "name": "ipython",
    "version": 3
   },
   "file_extension": ".py",
   "mimetype": "text/x-python",
   "name": "python",
   "nbconvert_exporter": "python",
   "pygments_lexer": "ipython3",
   "version": "3.12.0"
  }
 },
 "nbformat": 4,
 "nbformat_minor": 5
}
