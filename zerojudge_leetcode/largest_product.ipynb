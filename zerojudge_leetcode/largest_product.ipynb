{
 "cells": [
  {
   "cell_type": "code",
   "execution_count": null,
   "id": "2978cfaf-cdae-4f35-96d8-e084fde543d2",
   "metadata": {},
   "outputs": [],
   "source": [
    "n = int(input())\n",
    "data = list(map(int, input().split()))\n",
    "#\n",
    "print(n)\n",
    "print(data)"
   ]
  },
  {
   "cell_type": "code",
   "execution_count": null,
   "id": "58262a41-43a8-45fa-9704-7c96570d439b",
   "metadata": {},
   "outputs": [],
   "source": [
    "n = 10\n",
    "data = [2, 3, -1, 4, 6, -2, 10, 8, -3, 5]"
   ]
  },
  {
   "cell_type": "code",
   "execution_count": null,
   "id": "38a1ab4d-f622-44a4-9e27-446e72e09ea0",
   "metadata": {},
   "outputs": [],
   "source": [
    "minus_count=0 #負數的數量\n",
    "#先將連續範圍正數的乘積計算出來然後儲存在清單中，之間間隔者負的數值\n",
    "def calc_temp_list(n, data):\n",
    "    if n==1: #若只有一個數字，則回傳它\n",
    "        return data[0]\n",
    "    global minus_count\n",
    "    minus_count=0\n",
    "    product = 1\n",
    "    temp_list = []\n",
    "    for k in data:\n",
    "        if k < 0 :\n",
    "            minus_count+=1\n",
    "            temp_list.append(product)\n",
    "            temp_list.append(k)\n",
    "            product=1\n",
    "        else:\n",
    "            product*=k\n",
    "    temp_list.append(product)\n",
    "    return temp_list\n"
   ]
  },
  {
   "cell_type": "code",
   "execution_count": null,
   "id": "9a08ff40-0f7c-4c7a-a109-06ae367b68c0",
   "metadata": {},
   "outputs": [],
   "source": [
    "result = calc_temp_list(n,data)\n",
    "print(result)\n",
    "print(minus_count)"
   ]
  },
  {
   "cell_type": "code",
   "execution_count": null,
   "id": "1eba3d59-62b2-4f17-808c-a0b769642f9e",
   "metadata": {},
   "outputs": [],
   "source": [
    "def calc(temp_list):\n",
    "    if len(temp_list)==1: #若只有一個數字，則回傳它\n",
    "        return temp_list[0]\n",
    "    if minus_count%2 == 0: #若是偶數個負數數值則全部相乘\n",
    "        product = 1\n",
    "        for k in temp_list:\n",
    "            product*=k\n",
    "        return product\n",
    "    else:  \n",
    "        #若是奇數個負數數值， 則計算4個數值分別爲: \n",
    "        # (1) temp_list[:-2]中所有數字相乘 （2）temp_list[-1]\n",
    "        # (3) temp_list[0] (4) temp_list[2:]中所有數字相乘\n",
    "        # 最後取出這4個數的做大值\n",
    "        products=[]\n",
    "        product1 = 1\n",
    "        for k in temp_list[:-2]:\n",
    "            product1*=k\n",
    "        products.append(product1)\n",
    "        products.append(temp_list[-1])\n",
    "        products.append(temp_list[0])\n",
    "        product4=1\n",
    "        for k in temp_list[2:]:\n",
    "            product4*=k\n",
    "        products.append(product4)\n",
    "    print(products)\n",
    "    return max(products)\n",
    "            \n",
    "            "
   ]
  },
  {
   "cell_type": "code",
   "execution_count": null,
   "id": "708f4e62-fddd-4366-90a3-11023ed2a464",
   "metadata": {},
   "outputs": [],
   "source": [
    "max_product = calc(result)\n",
    "print(max_product)"
   ]
  }
 ],
 "metadata": {
  "kernelspec": {
   "display_name": "Python 3 (ipykernel)",
   "language": "python",
   "name": "python3"
  },
  "language_info": {
   "codemirror_mode": {
    "name": "ipython",
    "version": 3
   },
   "file_extension": ".py",
   "mimetype": "text/x-python",
   "name": "python",
   "nbconvert_exporter": "python",
   "pygments_lexer": "ipython3",
   "version": "3.11.4"
  }
 },
 "nbformat": 4,
 "nbformat_minor": 5
}
