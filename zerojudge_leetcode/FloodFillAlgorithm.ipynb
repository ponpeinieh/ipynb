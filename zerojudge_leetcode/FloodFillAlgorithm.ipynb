{
 "cells": [
  {
   "cell_type": "code",
   "execution_count": null,
   "id": "1c632636-a57b-4fad-9017-357871aed408",
   "metadata": {},
   "outputs": [],
   "source": [
    "data_str = '''1 1 1 1 1 1 1 1 1 1 \n",
    "1 2 2 2 1 1 1 3 1 1\n",
    "1 2 2 2 2 1 1 1 1 1 \n",
    "2 2 2 1 1 1 1 1 1 1\n",
    "1 1 1 1 1 3 1 1 1 1 \n",
    "1 1 1 1 1 1 1 1 1 1 \n",
    "1 1 3 1 1 1 3 1 1 1 \n",
    "1 1 1 1 1 1 1 1 1 1 \n",
    "1 1 1 1 1 1 1 1 1 1 \n",
    "1 1 1 1 1 1 1 1 1 1'''\n",
    "data = [list(map(int, n.split())) for n in [line for line in data_str.splitlines()]]\n",
    "print(data)"
   ]
  },
  {
   "cell_type": "code",
   "execution_count": null,
   "id": "bdabe4c7-473f-4ff3-b7d7-3a8991045e4e",
   "metadata": {},
   "outputs": [],
   "source": [
    "'''\n",
    "1 0 1\n",
    "1 1 1 \n",
    "1 0 0\n",
    "'''\n",
    "data = [[1,0,1],[1,1,1],[1,0,0]]\n",
    "for n in range(3):\n",
    "    for m in range(3):\n",
    "        print(data[n][m])"
   ]
  },
  {
   "cell_type": "code",
   "execution_count": null,
   "id": "a35c28d6-5823-4fbf-b630-3ab9447b433a",
   "metadata": {},
   "outputs": [],
   "source": [
    "[rows,columns] = list(map(int, input().split()))\n",
    "print(rows,columns)"
   ]
  },
  {
   "cell_type": "code",
   "execution_count": null,
   "id": "89388b9e-1dfb-4db1-91f9-0a86d3b92fe1",
   "metadata": {},
   "outputs": [],
   "source": [
    "data = []\n",
    "for _ in range(rows):\n",
    "    data.append(list(map(int, input().split())))\n",
    "print(data)"
   ]
  },
  {
   "cell_type": "code",
   "execution_count": null,
   "id": "48a12e2c-34df-4351-ba22-d0f6a45f36c0",
   "metadata": {},
   "outputs": [],
   "source": [
    "def flood_fill(y, x , color_code):\n",
    "    print(x,y)\n",
    "    current_color = data[y][x]\n",
    "    data[y][x]=color_code\n",
    "    if x+1<columns and data[y][x+1]==current_color:\n",
    "        flood_fill(y,x+1,color_code)\n",
    "    if x-1>=0 and data[y][x-1]==current_color:\n",
    "        flood_fill(y,x-1,color_code)\n",
    "    if y+1<rows and data[y+1][x]==current_color:\n",
    "        flood_fill(y+1,x,color_code)\n",
    "    if y-1>=0 and data[y-1][x]==current_color:\n",
    "        flood_fill(y-1,x,color_code)\n",
    "    return\n"
   ]
  },
  {
   "cell_type": "code",
   "execution_count": null,
   "id": "d51156cb-0cf5-4b2e-a90d-5c4baabd21c8",
   "metadata": {},
   "outputs": [],
   "source": [
    "flood_fill(1,1,9)\n",
    "print(data)"
   ]
  }
 ],
 "metadata": {
  "kernelspec": {
   "display_name": "Python 3 (ipykernel)",
   "language": "python",
   "name": "python3"
  },
  "language_info": {
   "codemirror_mode": {
    "name": "ipython",
    "version": 3
   },
   "file_extension": ".py",
   "mimetype": "text/x-python",
   "name": "python",
   "nbconvert_exporter": "python",
   "pygments_lexer": "ipython3",
   "version": "3.11.5"
  }
 },
 "nbformat": 4,
 "nbformat_minor": 5
}
