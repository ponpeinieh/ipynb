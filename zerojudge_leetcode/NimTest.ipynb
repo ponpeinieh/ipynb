{
 "cells": [
  {
   "cell_type": "code",
   "execution_count": null,
   "id": "63110a7a-a601-495b-b77d-b21403d535ab",
   "metadata": {},
   "outputs": [],
   "source": [
    "import functools\n",
    "def nim(heaps):\n",
    "    is_near_endgame = False\n",
    "    count_non_0_1 = sum(1 for x in heaps if x > 1)\n",
    "    is_near_endgame = (count_non_0_1 <= 1)\n",
    "    nim_sum = functools.reduce(lambda x, y: x ^ y, heaps)\n",
    "    if nim_sum == 0:\n",
    "        print('I will lose, so I will randomly choose.')\n",
    "        random_heap_index, random_num = random.choice([(idx, random.randrange(1,heap+1)) for (idx, heap) in enumerate(heaps) if heap>=1])\n",
    "        return random_heap_index, random_num\n",
    "    # Calc which move to make\n",
    "    for index, heap in enumerate(heaps):\n",
    "        target_size = heap ^ nim_sum\n",
    "        if target_size < heap:\n",
    "            amount_to_remove = heap - target_size\n",
    "            return index, amount_to_remove"
   ]
  },
  {
   "cell_type": "code",
   "execution_count": null,
   "id": "a73b7b86-26c3-4879-9dc1-46908d5460c4",
   "metadata": {},
   "outputs": [],
   "source": [
    "import random\n",
    "def print_heaps(heaps):\n",
    "    for i,h in enumerate(heaps):\n",
    "        print(f\"H{i} :\\t {'x'*h} ({h})\")\n",
    "    \n",
    "heaps = [random.randrange(5,15) for _ in range(3)]\n",
    "print_heaps(heaps) \n",
    "\n",
    "stopped=False\n",
    "while not stopped:\n",
    "    print('Your turn:')\n",
    "    heap, num = list(map(int, input(\"Please enter the heap(0-2) and number of x's to remove:\").split()))\n",
    "    heaps[heap]-=num\n",
    "    print_heaps(heaps)\n",
    "    print('Computer turn:')\n",
    "    random_heap_index, random_num = nim(heaps)\n",
    "    heaps[random_heap_index]-=random_num\n",
    "    print_heaps(heaps)\n",
    "    \n",
    "    "
   ]
  }
 ],
 "metadata": {
  "kernelspec": {
   "display_name": "Python 3 (ipykernel)",
   "language": "python",
   "name": "python3"
  },
  "language_info": {
   "codemirror_mode": {
    "name": "ipython",
    "version": 3
   },
   "file_extension": ".py",
   "mimetype": "text/x-python",
   "name": "python",
   "nbconvert_exporter": "python",
   "pygments_lexer": "ipython3",
   "version": "3.12.0"
  }
 },
 "nbformat": 4,
 "nbformat_minor": 5
}
