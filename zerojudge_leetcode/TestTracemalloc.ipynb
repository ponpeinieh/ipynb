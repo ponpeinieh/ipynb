{
 "cells": [
  {
   "cell_type": "code",
   "execution_count": 43,
   "id": "3d746376",
   "metadata": {},
   "outputs": [
    {
     "name": "stdout",
     "output_type": "stream",
     "text": [
      "1\n",
      "(2098, 12338)\n",
      "1\n",
      "(0, 0)\n"
     ]
    }
   ],
   "source": [
    "def myfunc():\n",
    "    mylist = []\n",
    "    for i in range(1):\n",
    "        mylist.append(i)\n",
    "    return mylist\n",
    "\n",
    "import tracemalloc\n",
    "\n",
    "tracemalloc.start() \n",
    "result = myfunc()\n",
    "print(len(result))\n",
    "\n",
    "# displaying the memory\n",
    "print(tracemalloc.get_traced_memory()) \n",
    "\n",
    "tracemalloc.stop()        \n",
    "tracemalloc.reset_peak()\n",
    "\n",
    "\n",
    "#tracemalloc.start() \n",
    "\n",
    "result2 = myfunc()\n",
    "print(len(result2))\n",
    "\n",
    "print(tracemalloc.get_traced_memory()) \n",
    "# stopping the library\n",
    "tracemalloc.stop()             "
   ]
  }
 ],
 "metadata": {
  "kernelspec": {
   "display_name": "Python 3 (ipykernel)",
   "language": "python",
   "name": "python3"
  },
  "language_info": {
   "codemirror_mode": {
    "name": "ipython",
    "version": 3
   },
   "file_extension": ".py",
   "mimetype": "text/x-python",
   "name": "python",
   "nbconvert_exporter": "python",
   "pygments_lexer": "ipython3",
   "version": "3.10.0"
  }
 },
 "nbformat": 4,
 "nbformat_minor": 5
}
