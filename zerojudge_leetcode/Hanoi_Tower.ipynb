{
 "cells": [
  {
   "cell_type": "code",
   "execution_count": 10,
   "id": "367c548f",
   "metadata": {},
   "outputs": [
    {
     "name": "stdout",
     "output_type": "stream",
     "text": [
      "Move 1 from A to B\n",
      "Move 2 from A to C\n",
      "Move 1 from B to C\n",
      "Move 3 from A to B\n",
      "Move 1 from C to A\n",
      "Move 2 from C to B\n",
      "Move 1 from A to B\n",
      "Move 4 from A to C\n",
      "Move 1 from B to C\n",
      "Move 2 from B to A\n",
      "Move 1 from C to A\n",
      "Move 3 from B to C\n",
      "Move 1 from A to B\n",
      "Move 2 from A to C\n",
      "Move 1 from B to C\n"
     ]
    }
   ],
   "source": [
    "def tower(n, source, buffer, target):\n",
    "    if n==1:\n",
    "        print(f'Move {n} from {source} to {target}')\n",
    "    else:\n",
    "        tower(n-1, source,target,buffer)\n",
    "        print(f'Move {n} from {source} to {target}')\n",
    "        tower(n-1, buffer,source,target)\n",
    "\n",
    "tower(4, 'A','B','C')\n"
   ]
  }
 ],
 "metadata": {
  "kernelspec": {
   "display_name": "Python 3",
   "language": "python",
   "name": "python3"
  },
  "language_info": {
   "codemirror_mode": {
    "name": "ipython",
    "version": 3
   },
   "file_extension": ".py",
   "mimetype": "text/x-python",
   "name": "python",
   "nbconvert_exporter": "python",
   "pygments_lexer": "ipython3",
   "version": "3.8.10"
  }
 },
 "nbformat": 4,
 "nbformat_minor": 5
}
