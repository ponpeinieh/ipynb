{
 "cells": [
  {
   "cell_type": "markdown",
   "id": "4f0d279a",
   "metadata": {},
   "source": [
    "\n",
    "<img src=\"stock_question.png\" alt=\"Question\" style=\"width:260px;\"/>\n",
    "\n"
   ]
  },
  {
   "cell_type": "code",
   "execution_count": null,
   "id": "3d75261b",
   "metadata": {},
   "outputs": [],
   "source": [
    "import heapq        \n",
    "def calculate(A,N,K):\n",
    "    profit_day = [-1]*N\n",
    "    pq = []\n",
    "    for i,p in enumerate(A):\n",
    "        while len(pq)>0 and p-pq[0][0]>=K:\n",
    "            q = heapq.heappop(pq)\n",
    "            profit_day[q[1]]=i+1 # profit_day count from 1\n",
    "        heapq.heappush(pq, (p,i)) # tuple: (price, index)\n",
    "    return profit_day\n",
    "        \n",
    "        "
   ]
  },
  {
   "cell_type": "code",
   "execution_count": null,
   "id": "15f966e7",
   "metadata": {},
   "outputs": [],
   "source": [
    "N,K = [int(i) for i in input().split()]\n",
    "A = [int(i) for i in input().split()]\n",
    "profit_day = calculate(A,N,K)\n",
    "print(profit_day)"
   ]
  }
 ],
 "metadata": {
  "kernelspec": {
   "display_name": "Python 3",
   "language": "python",
   "name": "python3"
  },
  "language_info": {
   "codemirror_mode": {
    "name": "ipython",
    "version": 3
   },
   "file_extension": ".py",
   "mimetype": "text/x-python",
   "name": "python",
   "nbconvert_exporter": "python",
   "pygments_lexer": "ipython3",
   "version": "3.8.10"
  }
 },
 "nbformat": 4,
 "nbformat_minor": 5
}
