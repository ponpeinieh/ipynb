{
 "cells": [
  {
   "cell_type": "code",
   "execution_count": 1,
   "id": "e332b745",
   "metadata": {},
   "outputs": [
    {
     "name": "stdout",
     "output_type": "stream",
     "text": [
      "[[1, 1, 1, 1, 1, 1, 1, 1, 1, 1], [1, 2, 2, 2, 1, 1, 1, 3, 1, 1], [1, 2, 2, 2, 2, 1, 1, 1, 1, 1], [2, 2, 2, 1, 1, 1, 1, 1, 1, 1], [1, 1, 1, 1, 1, 3, 1, 1, 1, 1], [1, 1, 1, 1, 1, 1, 1, 1, 1, 1], [1, 1, 3, 1, 1, 1, 3, 1, 1, 1], [1, 1, 1, 1, 1, 1, 1, 1, 1, 1], [1, 1, 1, 1, 1, 1, 1, 1, 1, 1], [1, 1, 1, 1, 1, 1, 1, 1, 1, 1]]\n"
     ]
    }
   ],
   "source": [
    "data_str = '''1 1 1 1 1 1 1 1 1 1 \n",
    "1 2 2 2 1 1 1 3 1 1\n",
    "1 2 2 2 2 1 1 1 1 1 \n",
    "2 2 2 1 1 1 1 1 1 1\n",
    "1 1 1 1 1 3 1 1 1 1 \n",
    "1 1 1 1 1 1 1 1 1 1 \n",
    "1 1 3 1 1 1 3 1 1 1 \n",
    "1 1 1 1 1 1 1 1 1 1 \n",
    "1 1 1 1 1 1 1 1 1 1 \n",
    "1 1 1 1 1 1 1 1 1 1'''\n",
    "data = [list(map(int, n.split())) for n in [line for line in data_str.splitlines()]]\n",
    "print(data)"
   ]
  },
  {
   "cell_type": "code",
   "execution_count": null,
   "id": "8af72c20",
   "metadata": {},
   "outputs": [],
   "source": [
    "'''\n",
    "1 0 1\n",
    "1 1 1 \n",
    "1 0 0\n",
    "'''\n",
    "data = [[1,0,1],[1,1,1],[1,0,0]]\n",
    "for n in range(3):\n",
    "    for m in range(3):\n",
    "        print(data[n][m])"
   ]
  },
  {
   "cell_type": "code",
   "execution_count": 2,
   "id": "f101f5fe",
   "metadata": {},
   "outputs": [
    {
     "name": "stdout",
     "output_type": "stream",
     "text": [
      "10 10\n",
      "10 10\n"
     ]
    }
   ],
   "source": [
    "[rows,columns] = list(map(int, input().split()))\n",
    "print(rows,columns)"
   ]
  },
  {
   "cell_type": "code",
   "execution_count": null,
   "id": "9516824b",
   "metadata": {},
   "outputs": [],
   "source": [
    "data = []\n",
    "for _ in range(rows):\n",
    "    data.append(list(map(int, input().split())))\n",
    "print(data)"
   ]
  },
  {
   "cell_type": "code",
   "execution_count": 3,
   "id": "df3f9f1e",
   "metadata": {},
   "outputs": [],
   "source": [
    "def flood_fill(y, x , color_code):\n",
    "    print(x,y)\n",
    "    current_color = data[y][x]\n",
    "    data[y][x]=color_code\n",
    "    if x+1<columns and data[y][x+1]==current_color:\n",
    "        flood_fill(y,x+1,color_code)\n",
    "    if x-1>=0 and data[y][x-1]==current_color:\n",
    "        flood_fill(y,x-1,color_code)\n",
    "    if y+1<rows and data[y+1][x]==current_color:\n",
    "        flood_fill(y+1,x,color_code)\n",
    "    if y-1>=0 and data[y-1][x]==current_color:\n",
    "        flood_fill(y-1,x,color_code)\n",
    "    return\n"
   ]
  },
  {
   "cell_type": "code",
   "execution_count": 4,
   "id": "dd87ac41",
   "metadata": {},
   "outputs": [
    {
     "name": "stdout",
     "output_type": "stream",
     "text": [
      "1 1\n",
      "2 1\n",
      "3 1\n",
      "3 2\n",
      "4 2\n",
      "2 2\n",
      "1 2\n",
      "1 3\n",
      "2 3\n",
      "0 3\n",
      "[[1, 1, 1, 1, 1, 1, 1, 1, 1, 1], [1, 9, 9, 9, 1, 1, 1, 3, 1, 1], [1, 9, 9, 9, 9, 1, 1, 1, 1, 1], [9, 9, 9, 1, 1, 1, 1, 1, 1, 1], [1, 1, 1, 1, 1, 3, 1, 1, 1, 1], [1, 1, 1, 1, 1, 1, 1, 1, 1, 1], [1, 1, 3, 1, 1, 1, 3, 1, 1, 1], [1, 1, 1, 1, 1, 1, 1, 1, 1, 1], [1, 1, 1, 1, 1, 1, 1, 1, 1, 1], [1, 1, 1, 1, 1, 1, 1, 1, 1, 1]]\n"
     ]
    }
   ],
   "source": [
    "flood_fill(1,1,9)\n",
    "print(data)"
   ]
  }
 ],
 "metadata": {
  "kernelspec": {
   "display_name": "Python 3",
   "language": "python",
   "name": "python3"
  },
  "language_info": {
   "codemirror_mode": {
    "name": "ipython",
    "version": 3
   },
   "file_extension": ".py",
   "mimetype": "text/x-python",
   "name": "python",
   "nbconvert_exporter": "python",
   "pygments_lexer": "ipython3",
   "version": "3.8.10"
  }
 },
 "nbformat": 4,
 "nbformat_minor": 5
}
