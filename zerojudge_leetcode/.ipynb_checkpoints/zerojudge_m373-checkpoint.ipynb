{
 "cells": [
  {
   "cell_type": "markdown",
   "id": "3ee6057a-205c-4b3a-90b7-e82de3412b45",
   "metadata": {},
   "source": [
    "<img src=\"m373.png\" alt=\"zerojudge m373\" width=\"600\"/>"
   ]
  },
  {
   "cell_type": "code",
   "execution_count": null,
   "id": "97b99d58-ab28-4e1f-b540-1afcfd105c85",
   "metadata": {},
   "outputs": [],
   "source": [
    "# zerojudge m373. 4. 投資遊戲 2023年10月APCS\n",
    "def calc():\n",
    "    if profits[-1]>=0:\n",
    "        for c in range(k+1):\n",
    "            tab[n-1][c]=profits[-1]\n",
    "    for d in range(n-2,-1,-1):\n",
    "        p = profits[d]\n",
    "        if p>=0:\n",
    "            for i in range(k+1):\n",
    "                tab[d][i]=tab[d+1][i]+p\n",
    "        else:\n",
    "            tab[d][0]= max(0, tab[d+1][0]+p)\n",
    "            for i in range(1,k+1):\n",
    "                tab[d][i]=max(tab[d+1][i]+p, tab[d+1][i-1])\n",
    "# n,k = map(int,input().split())\n",
    "# profits = list(map(int,input().split()))\n",
    "# n,k = 9,0\n",
    "# profits=[3, 1, -2, 3, -2, 3, -5, 2, 2]\n",
    "n,k = 12,2\n",
    "profits=[1, -3, -1, 3, 1, -2, 3, -2, 3, -5, 2, 2]\n",
    "# n,k = 3,0\n",
    "# profits=[-1,-5,-3]\n",
    "# need a lookup table to store max_sum data\n",
    "# size of n * (k+1)\n",
    "tab = [[0]*(k+1) for _ in range(n)]\n",
    "calc()\n",
    "print(tab)\n",
    "print(max(* [i for j in tab for i in j]))"
   ]
  }
 ],
 "metadata": {
  "kernelspec": {
   "display_name": "Python 3 (ipykernel)",
   "language": "python",
   "name": "python3"
  },
  "language_info": {
   "codemirror_mode": {
    "name": "ipython",
    "version": 3
   },
   "file_extension": ".py",
   "mimetype": "text/x-python",
   "name": "python",
   "nbconvert_exporter": "python",
   "pygments_lexer": "ipython3",
   "version": "3.12.1"
  }
 },
 "nbformat": 4,
 "nbformat_minor": 5
}
