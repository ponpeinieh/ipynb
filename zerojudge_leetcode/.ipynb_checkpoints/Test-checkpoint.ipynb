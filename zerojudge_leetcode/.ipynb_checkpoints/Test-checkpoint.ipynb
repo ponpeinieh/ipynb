{
 "cells": [
  {
   "cell_type": "code",
   "execution_count": null,
   "id": "4a394563",
   "metadata": {},
   "outputs": [],
   "source": [
    "mylist = [1,2,3]\n",
    "newlist = mylist[3:]\n",
    "print(newlist)"
   ]
  },
  {
   "cell_type": "code",
   "execution_count": null,
   "id": "9533dc53",
   "metadata": {},
   "outputs": [],
   "source": [
    "def replace_in_place(tokens, pos1, pos2, result):\n",
    "    for _ in range(pos2-pos1+1):\n",
    "        del tokens[pos1]\n",
    "    tokens.insert(pos1,result)\n",
    "\n",
    "tokens=[1,2,3,4,5,6,7,8,9]\n",
    "replace_in_place(tokens, 4,7,100)\n",
    "print(tokens)"
   ]
  },
  {
   "cell_type": "code",
   "execution_count": null,
   "id": "323fef5c-68b7-4d99-a9e8-52112febea79",
   "metadata": {},
   "outputs": [],
   "source": [
    "#USACO Exam 2023/12 Q2\n",
    "import math\n",
    "N = int(input())\n",
    "data = input()\n",
    "arr=[] # to store the count of continuous 1 segments\n",
    "s=0\n",
    "for c in data:\n",
    "    if c=='1':\n",
    "        s+=1\n",
    "    else:\n",
    "        if s!=0:\n",
    "            arr.append(s)\n",
    "            s=0\n",
    "if s!=0:\n",
    "    arr.append(s)\n",
    "#\n",
    "if len(arr)==0:\n",
    "    print(0)\n",
    "elif len(arr)==1:\n",
    "    if data[0]=='1' or data[-1]=='1':\n",
    "        print(1)\n",
    "    else:\n",
    "        print(1 if arr[0]%2 else 2)\n",
    "if len(arr)>1: \n",
    "    start1= data[0]=='1' # check if start from 1\n",
    "    end1= data[-1]=='1' # check if end at 1\n",
    "    #print(arr)\n",
    "    # remove the first if it begins from 1 and the last if ends at 1\n",
    "    if start1:\n",
    "        first = arr.pop(0)\n",
    "    if end1:\n",
    "        last = arr.pop()\n",
    "    m = min(arr) # get the minimum\n",
    "    max_d = (m-1)//2 # calculate the maximum number of days (this also takes care cases for even numbers of 1s)\n",
    "    if start1 and max_d > first-1: # special consideration for cases where it begins from 1\n",
    "        max_d = first-1\n",
    "    if end1 and max_d > last-1: # special consideration for cases where it ends at 1\n",
    "        max_d = last-1\n",
    "    c=0 # counter for the minimum number of 1s on day 0\n",
    "    for a in arr:\n",
    "        c+=math.ceil(a/(max_d*2+1)) # max_d*1+1 is the number of 1s after max_d days passed if it begins from a single 1 at day 0\n",
    "    if start1:\n",
    "        c+=math.ceil(first/(max_d*2+1))\n",
    "    if end1:\n",
    "        c+=math.ceil(last/(max_d*2+1))\n",
    "    print(c)"
   ]
  },
  {
   "cell_type": "code",
   "execution_count": null,
   "id": "e1b4fba8-876f-4152-9470-b2630d354ca2",
   "metadata": {},
   "outputs": [],
   "source": [
    "N = int(input())\n",
    "data = input()\n",
    "arr = [len(c) for c in data.split('0') if c!='']\n",
    "print(arr)"
   ]
  }
 ],
 "metadata": {
  "kernelspec": {
   "display_name": "Python 3 (ipykernel)",
   "language": "python",
   "name": "python3"
  },
  "language_info": {
   "codemirror_mode": {
    "name": "ipython",
    "version": 3
   },
   "file_extension": ".py",
   "mimetype": "text/x-python",
   "name": "python",
   "nbconvert_exporter": "python",
   "pygments_lexer": "ipython3",
   "version": "3.12.1"
  }
 },
 "nbformat": 4,
 "nbformat_minor": 5
}
