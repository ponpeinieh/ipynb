{
 "cells": [
  {
   "cell_type": "code",
   "execution_count": 2,
   "id": "4a394563",
   "metadata": {},
   "outputs": [
    {
     "name": "stdout",
     "output_type": "stream",
     "text": [
      "[]\n"
     ]
    }
   ],
   "source": [
    "mylist = [1,2,3]\n",
    "newlist = mylist[3:]\n",
    "print(newlist)"
   ]
  },
  {
   "cell_type": "code",
   "execution_count": 3,
   "id": "9533dc53",
   "metadata": {},
   "outputs": [
    {
     "name": "stdout",
     "output_type": "stream",
     "text": [
      "[1, 2, 3, 4, 100, 9]\n"
     ]
    }
   ],
   "source": [
    "def replace_in_place(tokens, pos1, pos2, result):\n",
    "    for _ in range(pos2-pos1+1):\n",
    "        del tokens[pos1]\n",
    "    tokens.insert(pos1,result)\n",
    "\n",
    "tokens=[1,2,3,4,5,6,7,8,9]\n",
    "replace_in_place(tokens, 4,7,100)\n",
    "print(tokens)"
   ]
  }
 ],
 "metadata": {
  "kernelspec": {
   "display_name": "Python 3",
   "language": "python",
   "name": "python3"
  },
  "language_info": {
   "codemirror_mode": {
    "name": "ipython",
    "version": 3
   },
   "file_extension": ".py",
   "mimetype": "text/x-python",
   "name": "python",
   "nbconvert_exporter": "python",
   "pygments_lexer": "ipython3",
   "version": "3.8.10"
  }
 },
 "nbformat": 4,
 "nbformat_minor": 5
}
