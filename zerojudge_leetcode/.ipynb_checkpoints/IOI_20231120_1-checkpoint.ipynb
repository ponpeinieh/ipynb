{
 "cells": [
  {
   "cell_type": "markdown",
   "id": "509f414d-6b7b-4889-989c-4a62183602aa",
   "metadata": {},
   "source": [
    "- See link here (https://tpmso.org/toi/wp-content/uploads/question/202311/Werewolves.pdf)\n",
    "- Or see zerojudge m581 (https://zerojudge.tw/ShowProblem?problemid=m581)\n",
    "![IOI 20231120_1](IOI_20231120_1.png)"
   ]
  },
  {
   "cell_type": "markdown",
   "id": "16b9b0f5-2702-4231-aa90-b1232036bb95",
   "metadata": {},
   "source": [
    "![IOI 20231120_1_td1](IOI_20231120_1_td1.png)\n",
    "![IOI 20231120_1_td2](IOI_20231120_1_td2.png)"
   ]
  },
  {
   "cell_type": "code",
   "execution_count": null,
   "id": "9c9698a6-23bf-4854-90b8-3de03fe39a10",
   "metadata": {},
   "outputs": [],
   "source": [
    "N=int(input())\n",
    "P=list(map(int,input().split()))\n",
    "S=[]\n",
    "# N=6\n",
    "# P=[0,1,0,1,-1,-1]\n",
    "# S=[1,5,3]\n",
    "# N=12\n",
    "# P=[0,-1,-1,0,1,1,0,-1,0,-1,1,1]\n",
    "# S=[12,2,1,3,10,11,8]\n",
    "# S = [e-1 for e in S]\n",
    "result = \"Townsfolk\"\n",
    "while True:\n",
    "    s = int(input())\n",
    "    if s==0: # 0  for stop flag\n",
    "        break\n",
    "    if s-1 in S: # note the number input starts from 1 , not 0\n",
    "        result='Wrong'\n",
    "        break\n",
    "    S.append(s-1)\n",
    "if result=='Wrong':\n",
    "    print(result)\n",
    "else:\n",
    "    for i in range(len(P)):\n",
    "        if P[i]==-1 and i not in S:\n",
    "            result = 'Werewolves'\n",
    "            break\n",
    "    print(result)"
   ]
  },
  {
   "cell_type": "code",
   "execution_count": null,
   "id": "e8de60ab-0272-43ae-9978-168ccd2126fb",
   "metadata": {},
   "outputs": [],
   "source": [
    "N=int(input())\n",
    "P=list(map(int,input().split()))\n",
    "result=None\n",
    "while True:\n",
    "    s = int(input())\n",
    "    if s==0: # 0  for stop flag\n",
    "        break\n",
    "    if P[s-1]==None: # means die again\n",
    "        result = 'Wrong'\n",
    "        break\n",
    "    P[s-1]=None # set it to None if die\n",
    "if result!='Wrong':\n",
    "    if -1 in P: # if there is -1 in it , Werewolves win\n",
    "        result='Werewolves'\n",
    "    else:\n",
    "        result='Townsfolk'\n",
    "print(result)"
   ]
  }
 ],
 "metadata": {
  "kernelspec": {
   "display_name": "Python 3 (ipykernel)",
   "language": "python",
   "name": "python3"
  },
  "language_info": {
   "codemirror_mode": {
    "name": "ipython",
    "version": 3
   },
   "file_extension": ".py",
   "mimetype": "text/x-python",
   "name": "python",
   "nbconvert_exporter": "python",
   "pygments_lexer": "ipython3",
   "version": "3.12.1"
  }
 },
 "nbformat": 4,
 "nbformat_minor": 5
}
