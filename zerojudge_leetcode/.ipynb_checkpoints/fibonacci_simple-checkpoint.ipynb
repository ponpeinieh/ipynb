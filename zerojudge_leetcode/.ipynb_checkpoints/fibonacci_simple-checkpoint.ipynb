{
 "cells": [
  {
   "cell_type": "code",
   "execution_count": 17,
   "id": "67b392fb",
   "metadata": {},
   "outputs": [
    {
     "name": "stdout",
     "output_type": "stream",
     "text": [
      "55\n"
     ]
    }
   ],
   "source": [
    "# define a function to return the nth (n starts from 0) fibonacci number\n",
    "# use loop\n",
    "def fibo(n):\n",
    "    n1=0\n",
    "    n2=1\n",
    "    for _ in range(n+1):\n",
    "        result = n1\n",
    "        n1 = n2\n",
    "        n2 = n2+result\n",
    "    return result\n",
    "print(fibo(10))"
   ]
  },
  {
   "cell_type": "code",
   "execution_count": 16,
   "id": "826e50f3",
   "metadata": {},
   "outputs": [
    {
     "name": "stdout",
     "output_type": "stream",
     "text": [
      "55\n",
      "count 177\n"
     ]
    }
   ],
   "source": [
    "# define a function to return the nth (n starts from 0) fibonacci number\n",
    "# use recursive (ie. divide and conquer method)\n",
    "count=0\n",
    "def fibo(n):\n",
    "    global count\n",
    "    count+=1\n",
    "    if n==0:\n",
    "        return 0\n",
    "    if n==1:\n",
    "        return 1\n",
    "    return fibo(n-1)+fibo(n-2)\n",
    "\n",
    "print(fibo(10))\n",
    "print('count',count)"
   ]
  },
  {
   "cell_type": "code",
   "execution_count": 15,
   "id": "1aed5099",
   "metadata": {},
   "outputs": [
    {
     "name": "stdout",
     "output_type": "stream",
     "text": [
      "55\n",
      "count 19\n"
     ]
    }
   ],
   "source": [
    "# define a function to return the nth(n starts from 0) fibonacci number\n",
    "# use dynamic programming (recursive, top-down approach, use memoization )\n",
    "count=0\n",
    "def fibo(n):\n",
    "    global count\n",
    "    count+=1\n",
    "    if n<2:\n",
    "        memo_list[n]=n\n",
    "        return n \n",
    "    if memo_list[n]:\n",
    "        return memo_list[n]\n",
    "    memo_list[n] = fibo(n-1)+fibo(n-2)\n",
    "    return memo_list[n]\n",
    "n=10\n",
    "memo_list = [0]*(n+1)\n",
    "print(fibo(n)) \n",
    "print('count',count)"
   ]
  },
  {
   "cell_type": "code",
   "execution_count": 14,
   "id": "dd54f096",
   "metadata": {},
   "outputs": [
    {
     "name": "stdout",
     "output_type": "stream",
     "text": [
      "55\n"
     ]
    }
   ],
   "source": [
    "# define a function to return the nth(n starts from 0) fibonacci number\n",
    "# use dynamic programming (iterative, bottom-up approach, use memoization )\n",
    " \n",
    "def fibo(n): \n",
    "    memo_list[0]=0 \n",
    "    memo_list[1]=1 \n",
    "    if n>1:\n",
    "        for i in range(2,n+1):\n",
    "            memo_list[i]=memo_list[i-1]+memo_list[i-2]\n",
    "    return memo_list[n]\n",
    "n=10\n",
    "memo_list = [0]*(n+1)\n",
    "print(fibo(n))"
   ]
  }
 ],
 "metadata": {
  "kernelspec": {
   "display_name": "Python 3",
   "language": "python",
   "name": "python3"
  },
  "language_info": {
   "codemirror_mode": {
    "name": "ipython",
    "version": 3
   },
   "file_extension": ".py",
   "mimetype": "text/x-python",
   "name": "python",
   "nbconvert_exporter": "python",
   "pygments_lexer": "ipython3",
   "version": "3.8.10"
  }
 },
 "nbformat": 4,
 "nbformat_minor": 5
}
