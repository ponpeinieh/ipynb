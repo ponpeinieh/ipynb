{
 "cells": [
  {
   "cell_type": "code",
   "execution_count": null,
   "id": "a2348553",
   "metadata": {},
   "outputs": [],
   "source": [
    "import functools\n",
    "\n",
    "def print_heaps(heaps):\n",
    "    for i,h in enumerate(heaps):\n",
    "        print(f\"H{i}:\\t{'x'*h:16}\\t({h},\\t{h:04b})\")\n",
    "        \n",
    "def nim(heaps):\n",
    "    is_near_endgame = False\n",
    "    count_non_0_1 = sum(1 for x in heaps if x > 1)\n",
    "    is_near_endgame = (count_non_0_1 <= 1)\n",
    "    nim_sum = functools.reduce(lambda x, y: x ^ y, heaps)\n",
    "    if nim_sum == 0:\n",
    "        print('I will lose, so I will randomly choose.')\n",
    "        random_heap_index, random_num = random.choice([(idx, random.randrange(1,heap+1)) for (idx, heap) in enumerate(heaps) if heap>=1])\n",
    "        return random_heap_index, random_num\n",
    "    # Calc which move to make\n",
    "    for index, heap in enumerate(heaps):\n",
    "        target_size = heap ^ nim_sum\n",
    "        if target_size < heap:\n",
    "            amount_to_remove = heap - target_size\n",
    "            return index, amount_to_remove"
   ]
  },
  {
   "cell_type": "code",
   "execution_count": null,
   "id": "68ea4540",
   "metadata": {},
   "outputs": [],
   "source": [
    "import random\n",
    "    \n",
    "heaps = [random.randrange(5,15) for _ in range(3)]\n",
    "print_heaps(heaps) \n",
    "\n",
    "stopped=False\n",
    "while not stopped:\n",
    "    print('\\nYour turn:')\n",
    "    heap, num = list(map(int, input(\"Please enter the heap(0-2) and number of x's to remove:\").split()))\n",
    "    heaps[heap]-=num\n",
    "    print_heaps(heaps)\n",
    "    print('\\nComputer turn:')\n",
    "    random_heap_index, random_num = nim(heaps)\n",
    "    heaps[random_heap_index]-=random_num\n",
    "    print_heaps(heaps)\n",
    "    \n",
    "    "
   ]
  },
  {
   "cell_type": "code",
   "execution_count": null,
   "id": "4617312f",
   "metadata": {},
   "outputs": [],
   "source": [
    "i = 100\n",
    "b_i = bin(i)\n",
    "print(b_i)\n",
    "print(type(b_i))"
   ]
  },
  {
   "cell_type": "code",
   "execution_count": null,
   "id": "15ca28f3",
   "metadata": {},
   "outputs": [],
   "source": [
    "class Bottle:\n",
    "    def __init__(self,isP):\n",
    "        self.isP = isP\n",
    "    def mix(self, anotherBottle):\n",
    "        self.isP = self.isP or anotherBottle.isP\n",
    "        return self\n",
    "class Mouse:\n",
    "    def __init__(self,):\n",
    "        self.isAlive = True\n",
    "    def drinkBottle(self, theBottle):\n",
    "        self.isAlive = not theBottle.isP\n",
    "#Test\n",
    "b1 = Bottle(0)\n",
    "b2 = Bottle(0)\n",
    "b3 = Bottle(1)\n",
    "print(b1.mix(b2).isP)\n",
    "print(b2.mix(b3).isP)\n",
    "# \n",
    "m1 = Mouse()\n",
    "m2 = Mouse()\n",
    "m1.drinkBottle(b1)\n",
    "m2.drinkBottle(b3)\n",
    "print(m1.isAlive)\n",
    "print(m2.isAlive)"
   ]
  },
  {
   "cell_type": "code",
   "execution_count": null,
   "id": "c9318f5d",
   "metadata": {},
   "outputs": [],
   "source": [
    "import random\n",
    "n = 100 #bottles\n",
    "m = 7 #mice\n",
    "bottles = [Bottle(0) for _ in range(n)]\n",
    "bottles[random.randint(0,n)].isP = 1\n",
    "mice = [Mouse() for _ in range(m)]\n",
    "#print(bottles,mice)\n",
    "bottles_to_drink = [Bottle(0) for _ in range(m)]\n",
    "for index, bottle in enumerate(bottles):\n",
    "    bits = [int(n) for n in f'{index:0{m}b}'[::-1]]\n",
    "    for i,b in enumerate(bits):\n",
    "        if b:\n",
    "            bottles_to_drink[i].mix(bottle)\n",
    "\n",
    "for i, mouse in enumerate(mice):\n",
    "    mouse.drinkBottle(bottles_to_drink[i])\n",
    "    print(mouse.isAlive)\n",
    "\n",
    "\n"
   ]
  },
  {
   "cell_type": "code",
   "execution_count": null,
   "id": "7667fa18",
   "metadata": {},
   "outputs": [],
   "source": [
    "for i,b in enumerate(bottles):\n",
    "    if b.isP:\n",
    "        print(i)"
   ]
  },
  {
   "cell_type": "code",
   "execution_count": null,
   "id": "088a189b",
   "metadata": {},
   "outputs": [],
   "source": [
    "matrix0 = [[j for j in range(5)] for i in range(3)] \n",
    "matrix = [[j for j in range(i)] for i in range(3)] \n",
    "matrix1 = [j for j in range(5) for i in range(5)] \n",
    "matrix2 = [i for j in range(5) for i in range(5)] \n",
    "print(matrix0) \n",
    "print(matrix)\n",
    "print(matrix1)\n",
    "print(matrix2)"
   ]
  }
 ],
 "metadata": {
  "kernelspec": {
   "display_name": "Python 3",
   "language": "python",
   "name": "python3"
  },
  "language_info": {
   "codemirror_mode": {
    "name": "ipython",
    "version": 3
   },
   "file_extension": ".py",
   "mimetype": "text/x-python",
   "name": "python",
   "nbconvert_exporter": "python",
   "pygments_lexer": "ipython3",
   "version": "3.8.10"
  }
 },
 "nbformat": 4,
 "nbformat_minor": 5
}
