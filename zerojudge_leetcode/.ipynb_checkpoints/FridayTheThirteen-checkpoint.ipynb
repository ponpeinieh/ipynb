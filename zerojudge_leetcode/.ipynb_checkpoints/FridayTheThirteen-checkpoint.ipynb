{
 "cells": [
  {
   "cell_type": "markdown",
   "id": "aadb0787",
   "metadata": {},
   "source": [
    "### Friday the Thirteenth\n",
    "\n",
    "- 題目參考連結 https://train.usaco.org/usacoprob2?a=lWw1rKaWSza&S=friday\n",
    "- 輸入西元年 N\n",
    "- 已知1900/1/1是Mon\n",
    "- 計算從1900/1/1到 1900+N-1/12/31 中每月13號是星期幾的統計次數, \n",
    "- 輸出Sat,Sun到Fri的次數 "
   ]
  },
  {
   "cell_type": "markdown",
   "id": "ca8bdea2",
   "metadata": {},
   "source": [
    "1. 已知今天是Mon, 10天後是星期幾？ "
   ]
  },
  {
   "cell_type": "code",
   "execution_count": null,
   "id": "2ab0a8dd",
   "metadata": {},
   "outputs": [],
   "source": [
    "weekdays = ['Mon','Tue','Wed','Thr','Fri','Sat','Sun']\n",
    "t = 0\n",
    "print(\"今天是\",weekdays[t%7])\n",
    "t+=10\n",
    "print(\"10天後是\",weekdays[t%7])\n"
   ]
  },
  {
   "cell_type": "markdown",
   "id": "fe37cf71",
   "metadata": {},
   "source": [
    "2. 已知某年的1/1是Wed, 那麼同年的2/1是星期幾？ "
   ]
  },
  {
   "cell_type": "code",
   "execution_count": null,
   "id": "e184ac32",
   "metadata": {},
   "outputs": [],
   "source": [
    "t = 0\n",
    "d = 3 - 1\n",
    "print(\"1/1是\",weekdays[(t+d)%7])\n",
    "t+=31\n",
    "print(\"2/1是\",weekdays[(t+d)%7])"
   ]
  },
  {
   "cell_type": "markdown",
   "id": "3e7e4aa7",
   "metadata": {},
   "source": [
    "3. 已知某一個閏年的1/1是Wed, 那麼印出這一年每月1號是星期幾"
   ]
  },
  {
   "cell_type": "code",
   "execution_count": null,
   "id": "d78a9359",
   "metadata": {},
   "outputs": [],
   "source": [
    "days = [31,29,31,30,31,30,31,31,30,31,30,31]\n",
    "t = 0\n",
    "d = 3 - 1\n",
    "for m in range(12): \n",
    "    print(f\"{m+1}/1是\",weekdays[(t+d)%7])\n",
    "    t+=days[m]"
   ]
  },
  {
   "cell_type": "markdown",
   "id": "c3e6710f",
   "metadata": {},
   "source": [
    "4. 寫一個函數, 輸入參數西元年Y, 判斷其是否爲閏年, 若爲閏年回傳1, 若爲平年回傳0"
   ]
  },
  {
   "cell_type": "code",
   "execution_count": null,
   "id": "1d41e05f",
   "metadata": {},
   "outputs": [],
   "source": [
    "def is_leap_year(Y):\n",
    "    if Y%4==0 and Y%100!=0 or Y%400==0:\n",
    "        return 1\n",
    "    else:\n",
    "        return 0"
   ]
  },
  {
   "cell_type": "markdown",
   "id": "6b12e822",
   "metadata": {},
   "source": [
    "5. 輸入西元年Y, 假設該年的1/1是Wed, 那麼印出這一年每月13號是星期幾"
   ]
  },
  {
   "cell_type": "code",
   "execution_count": null,
   "id": "e118897f",
   "metadata": {},
   "outputs": [],
   "source": [
    "Y = int(input()) #輸入西元年\n",
    "if is_leap_year(Y):\n",
    "    days[1]=29\n",
    "else:\n",
    "    days[1]=28\n",
    "t = 0 + 12\n",
    "d = 3 - 1\n",
    "for m in range(12): \n",
    "    print(f\"{m+1}/13是\",weekdays[(t+d)%7])\n",
    "    t+=days[m]"
   ]
  },
  {
   "cell_type": "markdown",
   "id": "0df258e4",
   "metadata": {},
   "source": [
    "6. 輸入西元年Y, 假設該年的1/1是Wed, 那麼印出這一年每月13號是Sat,Sun, ... 到Fri的次數"
   ]
  },
  {
   "cell_type": "code",
   "execution_count": null,
   "id": "427b2877",
   "metadata": {},
   "outputs": [],
   "source": [
    "data = [0]*7  #  Mon to Sun\n",
    "Y = int(input()) #輸入西元年\n",
    "if is_leap_year(Y):\n",
    "    days[1]=29\n",
    "else:\n",
    "    days[1]=28\n",
    "t = 0 + 12\n",
    "d = 3 - 1\n",
    "for m in range(12): \n",
    "    data[(t+d)%7]+=1\n",
    "    t+=days[m]\n",
    "    \n",
    "# Sat,Sun, ... 到Fri的次數\n",
    "for n in range(7):\n",
    "    print(data[(n+5)%7], end=' ') "
   ]
  },
  {
   "cell_type": "markdown",
   "id": "3805e63e",
   "metadata": {},
   "source": [
    "7. 原始題目\n",
    "- 輸入西元年 N\n",
    "- 已知1900/1/1是Mon\n",
    "- 計算從1900/1/1到 1900+N-1/12/31 中每月13號是星期幾的統計次數, \n",
    "- 輸出Sat,Sun到Fri的次數 "
   ]
  },
  {
   "cell_type": "code",
   "execution_count": null,
   "id": "e615fe3c",
   "metadata": {},
   "outputs": [],
   "source": [
    "def is_leap_year(Y):\n",
    "    if Y%4==0 and Y%100!=0 or Y%400==0:\n",
    "        return 1\n",
    "    else:\n",
    "        return 0\n",
    "    \n",
    "days = [31,29,31,30,31,30,31,31,30,31,30,31]\n",
    "data = [0]*7  #  Mon to Sun\n",
    "N = int(input()) #輸入西元年\n",
    "t = 12\n",
    "d = 0\n",
    "for y in range(1900, 1900+N): #到1900+N-1年\n",
    "    if is_leap_year(y):\n",
    "        days[1]=29\n",
    "    else:\n",
    "        days[1]=28\n",
    "    for m in range(12): \n",
    "        data[(t+d)%7]+=1\n",
    "        t+=days[m]\n",
    "    \n",
    "# Sat,Sun, ... 到Fri的次數\n",
    "for n in range(7):\n",
    "    print(data[(n+5)%7], end=' ') "
   ]
  },
  {
   "cell_type": "markdown",
   "id": "ec733cda",
   "metadata": {},
   "source": [
    "8. USACO格式"
   ]
  },
  {
   "cell_type": "code",
   "execution_count": null,
   "id": "2a1503d0",
   "metadata": {},
   "outputs": [],
   "source": [
    "\"\"\"\n",
    "ID: 《你的id》\n",
    "LANG: PYTHON3\n",
    "TASK: friday\n",
    "\"\"\"\n",
    "fin = open ('friday.in', 'r')\n",
    "fout = open ('friday.out', 'w')\n",
    "N = int(fin.readline()) #輸入西元年\n",
    "def is_leap_year(Y):\n",
    "    if Y%4==0 and Y%100!=0 or Y%400==0:\n",
    "        return 1\n",
    "    else:\n",
    "        return 0\n",
    "    \n",
    "days = [31,29,31,30,31,30,31,31,30,31,30,31]\n",
    "data = [0]*7  #  Mon to Sun \n",
    "t = 12\n",
    "d = 0\n",
    "for y in range(1900, 1900+N): #到1900+N-1年\n",
    "    if is_leap_year(y):\n",
    "        days[1]=29\n",
    "    else:\n",
    "        days[1]=28\n",
    "    for m in range(12): \n",
    "        data[(t+d)%7]+=1\n",
    "        t+=days[m]\n",
    "    \n",
    "# Sat,Sun, ... 到Fri的次數\n",
    "output_data=[]\n",
    "for n in range(7):\n",
    "    #print(data[(n+5)%7], end=' ') \n",
    "    output_data.append(str(data[(n+5)%7])) # 用str()將data中的int轉成str\n",
    "fout.write (\" \".join(output_data) + '\\n') #join()用法看後面例子\n",
    "fout.close()"
   ]
  },
  {
   "cell_type": "markdown",
   "id": "88a0484f",
   "metadata": {},
   "source": [
    "- 備注一： join()用法"
   ]
  },
  {
   "cell_type": "code",
   "execution_count": null,
   "id": "42aeb475",
   "metadata": {},
   "outputs": [],
   "source": [
    "d = [\"10\", \"20\", \"30\", \"40\", \"50\"] #元素必須爲str型態\n",
    "s = \" \".join(d)\n",
    "print(s)"
   ]
  },
  {
   "cell_type": "markdown",
   "id": "8ce9f15d",
   "metadata": {},
   "source": [
    "- 備注二: 使用python內建datetime模組來解題"
   ]
  },
  {
   "cell_type": "code",
   "execution_count": null,
   "id": "f1a508c0",
   "metadata": {},
   "outputs": [],
   "source": [
    "# 先測試\n",
    "from datetime import date, timedelta\n",
    "today = date(2023,12,3) # 年,月,日 參數格式\n",
    "for i in range(10):\n",
    "    day = today+timedelta(days=i)\n",
    "    print(day,day.weekday())"
   ]
  },
  {
   "cell_type": "code",
   "execution_count": null,
   "id": "b1d73e58",
   "metadata": {},
   "outputs": [],
   "source": [
    "# 解題\n",
    "from datetime import date, timedelta\n",
    "N = int(input())\n",
    "d = 13\n",
    "day_list = [0]*7 # (Mon to Sun)\n",
    "for y in range(1900,1900+N):\n",
    "    for m in range(1,13):\n",
    "        theDay = date(y,m,d)\n",
    "        wd = theDay.weekday() # 0,1,2,...,6 (Mon to Sun)\n",
    "        day_list[wd]+=1\n",
    "for i in range(7):\n",
    "    print(day_list[(5+i)%7],end=\" \")"
   ]
  }
 ],
 "metadata": {
  "kernelspec": {
   "display_name": "Python 3",
   "language": "python",
   "name": "python3"
  },
  "language_info": {
   "codemirror_mode": {
    "name": "ipython",
    "version": 3
   },
   "file_extension": ".py",
   "mimetype": "text/x-python",
   "name": "python",
   "nbconvert_exporter": "python",
   "pygments_lexer": "ipython3",
   "version": "3.8.10"
  }
 },
 "nbformat": 4,
 "nbformat_minor": 5
}
