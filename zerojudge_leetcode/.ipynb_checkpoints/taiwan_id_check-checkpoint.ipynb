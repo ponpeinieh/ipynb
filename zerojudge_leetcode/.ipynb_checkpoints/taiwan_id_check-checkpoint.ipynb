{
 "cells": [
  {
   "cell_type": "code",
   "execution_count": null,
   "id": "68010595",
   "metadata": {},
   "outputs": [],
   "source": [
    "l_dict = {'A':10,'B':11,'C':12,'D':13,'E':14,'F':15,'G':16,'H':17,'I':34,'J':18,'K':19,'L':20,\n",
    "         'M':21,'N':22,'O':35,'P':23,'Q':24,'R':25,'S':26,'T':27,'U':28,'V':29,'W':32,'X':30,'Y':31,'Z':33}\n",
    "def check_uid(uid):\n",
    "    letter = uid[0]\n",
    "    digits = [int(i) for i in uid[1:]]\n",
    "    #print(letter, digits)\n",
    "    checksum = l_dict[letter]%10*9+l_dict[letter]//10\n",
    "    for index,value in enumerate(digits[:-1]):\n",
    "        checksum+=(8-index)*value\n",
    "    checksum+=digits[-1]\n",
    "    #print(checksum)\n",
    "    if checksum%10 == 0:\n",
    "        print('real')\n",
    "    else:\n",
    "        print('fake')\n",
    "uid = input()\n",
    "check_uid(uid)\n",
    "#check_uid('T112663836')\n",
    "#check_uid('S154287863')"
   ]
  }
 ],
 "metadata": {
  "kernelspec": {
   "display_name": "Python 3",
   "language": "python",
   "name": "python3"
  },
  "language_info": {
   "codemirror_mode": {
    "name": "ipython",
    "version": 3
   },
   "file_extension": ".py",
   "mimetype": "text/x-python",
   "name": "python",
   "nbconvert_exporter": "python",
   "pygments_lexer": "ipython3",
   "version": "3.8.10"
  }
 },
 "nbformat": 4,
 "nbformat_minor": 5
}
