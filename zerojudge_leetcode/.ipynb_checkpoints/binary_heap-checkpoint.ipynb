{
 "cells": [
  {
   "cell_type": "code",
   "execution_count": 3,
   "id": "916b3301",
   "metadata": {},
   "outputs": [
    {
     "name": "stdout",
     "output_type": "stream",
     "text": [
      "10,\n",
      "10,3,\n",
      "10,3,2,\n",
      "10,5,2,3,\n",
      "10,5,2,3,4,\n",
      "11,5,10,3,4,2,\n",
      "10,5,2,3,4,\n",
      "5,4,2,3,\n"
     ]
    }
   ],
   "source": [
    "# Binary Heaps (Max Heap)\n",
    "\n",
    "# To heapify a subtree rooted with node index i \n",
    "def heapify_down(arr, i):\n",
    "    largest = i #Initialize largest as root\n",
    "    l = 2 * i + 1 # left child\n",
    "    r = 2 * i + 2 # right child\n",
    "\n",
    "    #If left child is larger than root\n",
    "    if l < len(arr) and arr[l] > arr[largest]:\n",
    "        largest = l\n",
    "\n",
    "    #If right child is larger than largest so far\n",
    "    if r < len(arr) and arr[r] > arr[largest]:\n",
    "        largest = r\n",
    "\n",
    "    # If largest is not root\n",
    "    if (largest != i):\n",
    "        arr[i],arr[largest]=arr[largest],arr[i] #swap\n",
    "        #Recursively heapify the affected sub-tree\n",
    "        heapify_down(arr, largest)\n",
    "#Function to delete the root from Heap\n",
    "def deleteRoot(arr):\n",
    "    # Replace root with last element\n",
    "    arr[0] = arr[len(arr) - 1]\n",
    "    # remove last element\n",
    "    del arr[len(arr)-1]\n",
    "    # heapify the root node\n",
    "    heapify_down(arr, 0)\n",
    "\n",
    "def heapify_up(arr, i):\n",
    "    parent = int((i-1)/2)\n",
    "    # If current node is greater than its parent\n",
    "    # Swap them and call heapify for the parent\n",
    "    if parent >= 0:\n",
    "        if arr[i] > arr[parent]:\n",
    "            arr[i], arr[parent] = arr[parent], arr[i] #swap\n",
    "            # Recursively heapify the parent node\n",
    "            heapify_up(arr, parent)\n",
    "            \n",
    "# Function to insert a new node to the Heap\n",
    "def insertNode(arr, key):\n",
    "    # Insert the element at end of Heap\n",
    "    arr.append(key)\n",
    "    # Heapify the new node following a Bottom-up approach\n",
    "    heapify_up(arr, len(arr)-1)\n",
    "    \n",
    "# A utility function to print array of size n\n",
    "def printArray(arr):\n",
    "    for e in arr:\n",
    "        print(e,end=\",\") \n",
    "    print() \n",
    " \n",
    "data=[10, 3, 2, 5, 4, 11]\n",
    "arr=[]\n",
    "# \n",
    "for n in data:\n",
    "    insertNode(arr, n)\n",
    "    printArray(arr) \n",
    "#\n",
    "deleteRoot(arr)\n",
    "printArray(arr)\n",
    "deleteRoot(arr)\n",
    "printArray(arr)\n"
   ]
  },
  {
   "cell_type": "code",
   "execution_count": 5,
   "id": "6cf4a4dc",
   "metadata": {},
   "outputs": [
    {
     "name": "stdout",
     "output_type": "stream",
     "text": [
      "[11, 5, 10, 3, 4, 2]\n"
     ]
    }
   ],
   "source": [
    "def create_heap(arr):\n",
    "    start_i = len(arr)//2-1\n",
    "    for i in range(start_i,-1,-1):\n",
    "        heapify_down(arr, i)\n",
    "\n",
    "arr=[10, 3, 2, 5, 4, 11]\n",
    "create_heap(arr)\n",
    "print(arr)"
   ]
  },
  {
   "cell_type": "code",
   "execution_count": null,
   "id": "c4ff7f79",
   "metadata": {},
   "outputs": [],
   "source": [
    "# use python module : heapq\n",
    "# note that heapq implements the Min Heap, so in order to use it as a Max Heap we multiple the key by -1\n",
    "def printArray(arr):\n",
    "    for e in arr:\n",
    "        print(-1*e,end=\",\") \n",
    "    print() \n",
    "import heapq\n",
    "data = [10, 3, 2, 5, 4, 11]\n",
    "arr = []\n",
    "# \n",
    "for n in data:\n",
    "    heapq.heappush(arr, -1*n)\n",
    "    printArray(arr) \n",
    "heapq.heappop(arr)\n",
    "printArray(arr)\n",
    "heapq.heappop(arr)\n",
    "printArray(arr)"
   ]
  },
  {
   "cell_type": "code",
   "execution_count": 1,
   "id": "1a5903be",
   "metadata": {},
   "outputs": [
    {
     "name": "stdout",
     "output_type": "stream",
     "text": [
      "11\n",
      "10\n",
      "5\n",
      "4\n",
      "3\n",
      "2\n"
     ]
    }
   ],
   "source": [
    "# use python module : queue.PriorityQueue\n",
    "# PriorityQueue uses heapq implementation, so it is still a Min Heap\n",
    "import queue\n",
    "data = [10, 3, 2, 5, 4, 11]\n",
    "q = queue.PriorityQueue()\n",
    "# \n",
    "for n in data:\n",
    "    q.put(-1*n)\n",
    "while not q.empty():\n",
    "    print(-1*q.get_nowait())"
   ]
  }
 ],
 "metadata": {
  "kernelspec": {
   "display_name": "Python 3",
   "language": "python",
   "name": "python3"
  },
  "language_info": {
   "codemirror_mode": {
    "name": "ipython",
    "version": 3
   },
   "file_extension": ".py",
   "mimetype": "text/x-python",
   "name": "python",
   "nbconvert_exporter": "python",
   "pygments_lexer": "ipython3",
   "version": "3.8.10"
  }
 },
 "nbformat": 4,
 "nbformat_minor": 5
}
