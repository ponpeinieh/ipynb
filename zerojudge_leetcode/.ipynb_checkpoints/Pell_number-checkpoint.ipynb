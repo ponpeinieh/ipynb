{
 "cells": [
  {
   "cell_type": "markdown",
   "id": "25c21653",
   "metadata": {},
   "source": [
    "### Pell numbers - square root of 2\n",
    "1. Pell numbers\n",
    "- Start from 0, 1 \n",
    "- follow below formula with P=2 and Q=-1 \n",
    "![pell number](pellNumber.svg)\n",
    "\n",
    "2. companion Pell numbers (or called Pell–Lucas numbers)\n",
    "- Start from 2 and P(=2)\n",
    "\n",
    "3. Dividing half of companion Pell number by Pell number gives you the square root of 2"
   ]
  },
  {
   "cell_type": "code",
   "execution_count": 13,
   "id": "bb2aa61c",
   "metadata": {},
   "outputs": [
    {
     "name": "stdout",
     "output_type": "stream",
     "text": [
      "1 0 None\n",
      "1 1 1.0\n",
      "3 2 1.5\n",
      "7 5 1.4\n",
      "17 12 1.4166666666666667\n",
      "41 29 1.4137931034482758\n",
      "99 70 1.4142857142857144\n",
      "239 169 1.4142011834319526\n",
      "577 408 1.4142156862745099\n",
      "1393 985 1.4142131979695431\n",
      "3363 2378 1.4142136248948696\n",
      "8119 5741 1.4142135516460548\n",
      "19601 13860 1.4142135642135643\n",
      "47321 33461 1.4142135620573204\n",
      "114243 80782 1.4142135624272734\n",
      "275807 195025 1.4142135623637995\n",
      "665857 470832 1.4142135623746899\n",
      "1607521 1136689 1.4142135623728214\n",
      "3880899 2744210 1.414213562373142\n",
      "9369319 6625109 1.414213562373087\n"
     ]
    }
   ],
   "source": [
    "p=2\n",
    "q=-1\n",
    "u1=0\n",
    "u2=1\n",
    "v1=2\n",
    "v2=p\n",
    "while u1<10000000:\n",
    "    print(v1//2,u1,0.5*v1/u1 if u1!=0 else None)\n",
    "    pell = u2*p-u1*q\n",
    "    pell_companion = v2*p-v1*q\n",
    "    u1 = u2\n",
    "    u2 = pell\n",
    "    v1 = v2\n",
    "    v2 = pell_companion\n",
    "    "
   ]
  }
 ],
 "metadata": {
  "kernelspec": {
   "display_name": "Python 3",
   "language": "python",
   "name": "python3"
  },
  "language_info": {
   "codemirror_mode": {
    "name": "ipython",
    "version": 3
   },
   "file_extension": ".py",
   "mimetype": "text/x-python",
   "name": "python",
   "nbconvert_exporter": "python",
   "pygments_lexer": "ipython3",
   "version": "3.8.10"
  }
 },
 "nbformat": 4,
 "nbformat_minor": 5
}
