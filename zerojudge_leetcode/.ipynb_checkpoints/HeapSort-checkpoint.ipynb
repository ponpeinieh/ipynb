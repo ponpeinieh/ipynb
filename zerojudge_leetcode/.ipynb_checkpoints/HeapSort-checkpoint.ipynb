{
 "cells": [
  {
   "cell_type": "code",
   "execution_count": 14,
   "id": "17a10184",
   "metadata": {},
   "outputs": [
    {
     "name": "stdout",
     "output_type": "stream",
     "text": [
      "Before sort [2, 3, 8, 6, 7, 10, 0, 11, 4, 9, 1, 5]\n",
      "After heap creation [11, 9, 10, 6, 7, 8, 0, 3, 4, 2, 1, 5]\n",
      "After sort [0, 1, 2, 3, 4, 5, 6, 7, 8, 9, 10, 11]\n"
     ]
    }
   ],
   "source": [
    "# Binary Heaps (Max Heap)\n",
    "# To heapify a subtree rooted with node index i \n",
    "def heapify_down(arr, i, end_i):\n",
    "    largest = i #Initialize largest as root\n",
    "    l = 2 * i + 1 # left child\n",
    "    r = 2 * i + 2 # right child\n",
    "\n",
    "    #If left child is larger than root\n",
    "    if l <=end_i and arr[l] > arr[largest]:\n",
    "        largest = l\n",
    "\n",
    "    #If right child is larger than largest so far\n",
    "    if r <=end_i and arr[r] > arr[largest]:\n",
    "        largest = r\n",
    "\n",
    "    # If largest is not root\n",
    "    if (largest != i):\n",
    "        arr[i],arr[largest]=arr[largest],arr[i] #swap\n",
    "        #Recursively heapify the affected sub-tree\n",
    "        heapify_down(arr, largest, end_i)\n",
    "        \n",
    "def create_heap(arr):\n",
    "    start_i = len(arr)//2-1\n",
    "    for i in range(start_i,-1,-1):\n",
    "        heapify_down(arr, i, len(arr)-1)\n",
    "        \n",
    "def heap_sort(arr):\n",
    "    create_heap(arr)\n",
    "    print(\"After heap creation\", arr)\n",
    "    #repeatedly swap the root with the last element\n",
    "    for i in range(len(arr)-1,0,-1):\n",
    "        arr[0], arr[i] = arr[i], arr[0]\n",
    "        # heapify the unsorted heap\n",
    "        if i>1:\n",
    "            heapify_down(arr, 0, i-1)\n",
    "\n",
    "import random\n",
    "length=12\n",
    "A = random.sample(range(length),k=length)\n",
    "print(\"Before sort\", A)\n",
    "heap_sort(A)\n",
    "print(\"After sort\", A)  "
   ]
  }
 ],
 "metadata": {
  "kernelspec": {
   "display_name": "Python 3",
   "language": "python",
   "name": "python3"
  },
  "language_info": {
   "codemirror_mode": {
    "name": "ipython",
    "version": 3
   },
   "file_extension": ".py",
   "mimetype": "text/x-python",
   "name": "python",
   "nbconvert_exporter": "python",
   "pygments_lexer": "ipython3",
   "version": "3.8.10"
  }
 },
 "nbformat": 4,
 "nbformat_minor": 5
}
