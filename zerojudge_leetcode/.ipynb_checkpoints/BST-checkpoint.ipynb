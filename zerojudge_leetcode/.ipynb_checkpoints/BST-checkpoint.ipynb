{
 "cells": [
  {
   "cell_type": "code",
   "execution_count": 12,
   "id": "93779503",
   "metadata": {},
   "outputs": [
    {
     "name": "stdout",
     "output_type": "stream",
     "text": [
      "None\n",
      "60\n"
     ]
    }
   ],
   "source": [
    "# implements a BST(Binary Search Tree)\n",
    "# Define a class Node which has insert() and search() instance method\n",
    "class Node:\n",
    "    def __init__(self, key):\n",
    "        self.key = key\n",
    "        self.left=None\n",
    "        self.right=None\n",
    "    def insert(self, key):\n",
    "        if key<self.key:\n",
    "            if self.left!=None:\n",
    "                return self.left.insert(key)\n",
    "            else:\n",
    "                self.left = Node(key)\n",
    "        elif key>self.key:\n",
    "            if self.right!=None:\n",
    "                return self.right.insert(key)\n",
    "            else:\n",
    "                self.right = Node(key)\n",
    "        else:\n",
    "            assert False\n",
    "    def search(self, key):\n",
    "        if key == self.key:\n",
    "            return self\n",
    "        elif key<self.key:\n",
    "            if self.left!=None:  \n",
    "                return self.left.search(key)\n",
    "            else:\n",
    "                return None\n",
    "        else:\n",
    "            if self.right!=None:  \n",
    "                return self.right.search(key)\n",
    "            else:\n",
    "                return None\n",
    "def main():\n",
    "    root = Node(50)\n",
    "    root.insert(30)\n",
    "    root.insert(20)\n",
    "    root.insert(40)\n",
    "    root.insert(70)\n",
    "    root.insert(60)\n",
    "    root.insert(80)\n",
    "    print(root.search(6))\n",
    "    print(root.search(60).key)\n",
    "\n",
    "main()"
   ]
  },
  {
   "cell_type": "code",
   "execution_count": 11,
   "id": "029b4f12",
   "metadata": {},
   "outputs": [
    {
     "name": "stdout",
     "output_type": "stream",
     "text": [
      "None\n",
      "60\n"
     ]
    }
   ],
   "source": [
    "# another implementation\n",
    "# define Node class and general methods insert() and search()\n",
    "\n",
    "class Node:\n",
    "    def __init__(self, key):\n",
    "        self.key = key\n",
    "        self.left=None\n",
    "        self.right=None\n",
    "        \n",
    "def insert(node, key):\n",
    "    if node==None:\n",
    "        return Node(key)\n",
    "    elif key<node.key:\n",
    "        node.left = insert(node.left,key)\n",
    "    elif key>node.key:\n",
    "        node.right = insert(node.right,key)\n",
    "    else:\n",
    "        assert False\n",
    "    return node\n",
    "\n",
    "def search(node,key):\n",
    "    if node==None:\n",
    "        return None\n",
    "    elif key<node.key:\n",
    "        return search(node.left,key)\n",
    "    elif key>node.key:\n",
    "        return search(node.right,key)\n",
    "    else:\n",
    "        return node\n",
    "\n",
    "def main():\n",
    "    root = None\n",
    "    root = insert(root, 50)\n",
    "    insert(root, 30)\n",
    "    insert(root, 20)\n",
    "    insert(root, 40)\n",
    "    insert(root, 70)\n",
    "    insert(root, 60)\n",
    "    insert(root, 80)\n",
    "    print(search(root, 6))\n",
    "    print(search(root, 60).key)\n",
    "\n",
    "main()"
   ]
  }
 ],
 "metadata": {
  "kernelspec": {
   "display_name": "Python 3",
   "language": "python",
   "name": "python3"
  },
  "language_info": {
   "codemirror_mode": {
    "name": "ipython",
    "version": 3
   },
   "file_extension": ".py",
   "mimetype": "text/x-python",
   "name": "python",
   "nbconvert_exporter": "python",
   "pygments_lexer": "ipython3",
   "version": "3.8.10"
  }
 },
 "nbformat": 4,
 "nbformat_minor": 5
}
