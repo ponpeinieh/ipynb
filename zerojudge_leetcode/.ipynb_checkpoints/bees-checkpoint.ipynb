{
 "cells": [
  {
   "cell_type": "code",
   "execution_count": null,
   "id": "2b8407f7-d8a1-4147-bcea-d27e120c6e06",
   "metadata": {},
   "outputs": [],
   "source": [
    "'''\n",
    "剛開始時有一只母蜂，\n",
    "每一年一只母蜂可以生出一只公蜂，\n",
    "一只公蜂可以生出一只公蜂與一只母蜂，\n",
    "除了最開始的母蜂之外， 生出後代的母蜂或公蜂會死亡\n",
    "請問在n年之後，一共有多少公蜂與母蜂？\n",
    "\n",
    "解題： 若第n年包含原始母蜂，有1+f只母蜂，m只公蜂\n",
    "則n+1會有的母蜂數目爲1+m，而公蜂爲1+f+m\n",
    "n+2年會有的母蜂數目爲1+1+f+m，而公蜂爲1+m+1+f+m\n",
    "\n",
    "亦即：\n",
    "\n",
    "當下一年母蜂數是前兩年的母蜂數相加（Fibonacci sequence）\n",
    "當下一年公蜂數是前一年的所有蜂數目\n",
    "'''\n",
    "def calc(y):\n",
    "    if y == 0: #第0年開始有一只母蜂\n",
    "        return [1,0]\n",
    "    elif y == 1: #第1年開始有一只母蜂一只公蜂\n",
    "        return [1,1]\n",
    "    else:\n",
    "        r1 = calc(y-1)\n",
    "        r2 = calc(y-2)\n",
    "        return [r1[0]+r2[0], r1[0]+r1[1]]\n",
    "    \n",
    "year = int(input())\n",
    "result = calc(year)\n",
    "print(f'母:{result[0]}, 公:{result[1]}')"
   ]
  },
  {
   "cell_type": "code",
   "execution_count": null,
   "id": "dea6de94-4449-463e-8af8-f1885a6875c8",
   "metadata": {},
   "outputs": [],
   "source": [
    "def calc_loop(y):\n",
    "    result=[]\n",
    "    if y == 0:\n",
    "        result = [1,0]\n",
    "    elif y == 1:\n",
    "        result = [1,1]\n",
    "    else:\n",
    "        result1 = [1,0]\n",
    "        result = [1,1]\n",
    "        for _ in range(2,year+1):\n",
    "            temp = result1[0]+result[0]\n",
    "            temp2 = result[0]+result[1]\n",
    "            result1=result\n",
    "            result=[temp,temp2]\n",
    "    return result\n",
    "year = int(input())\n",
    "result = calc_loop(year)\n",
    "print(f'母:{result[0]}, 公:{result[1]}')"
   ]
  }
 ],
 "metadata": {
  "kernelspec": {
   "display_name": "Python 3 (ipykernel)",
   "language": "python",
   "name": "python3"
  },
  "language_info": {
   "codemirror_mode": {
    "name": "ipython",
    "version": 3
   },
   "file_extension": ".py",
   "mimetype": "text/x-python",
   "name": "python",
   "nbconvert_exporter": "python",
   "pygments_lexer": "ipython3",
   "version": "3.11.4"
  }
 },
 "nbformat": 4,
 "nbformat_minor": 5
}
