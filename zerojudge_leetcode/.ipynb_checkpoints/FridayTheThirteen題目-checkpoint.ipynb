{
 "cells": [
  {
   "cell_type": "markdown",
   "id": "b8be70bb",
   "metadata": {},
   "source": [
    "### Friday the Thirteenth\n",
    "\n",
    "- 題目參考連結 https://train.usaco.org/usacoprob2?a=lWw1rKaWSza&S=friday\n",
    "- 輸入西元年 N\n",
    "- 已知1900/1/1是Mon\n",
    "- 計算從1900/1/1到 1900+N-1/12/31 中每月13號是星期幾的統計次數, \n",
    "- 輸出Sat,Sun到Fri的次數 "
   ]
  },
  {
   "cell_type": "markdown",
   "id": "2238d5f0",
   "metadata": {},
   "source": [
    "1. 已知今天是Mon, 10天後是星期幾？ "
   ]
  },
  {
   "cell_type": "markdown",
   "id": "c91b9b01",
   "metadata": {},
   "source": [
    "2. 已知某年的1/1是Wed, 那麼同年的2/1是星期幾？ "
   ]
  },
  {
   "cell_type": "markdown",
   "id": "3a5ca61b",
   "metadata": {},
   "source": [
    "3. 已知某一個閏年的1/1是Wed, 那麼印出這一年每月1號是星期幾"
   ]
  },
  {
   "cell_type": "markdown",
   "id": "b3061b8a",
   "metadata": {},
   "source": [
    "4. 寫一個函數, 輸入參數西元年Y, 判斷其是否爲閏年, 若爲閏年回傳1, 若爲平年回傳0"
   ]
  },
  {
   "cell_type": "markdown",
   "id": "60b6e707",
   "metadata": {},
   "source": [
    "5. 輸入西元年Y, 假設該年的1/1是Wed, 那麼印出這一年每月13號是星期幾"
   ]
  },
  {
   "cell_type": "markdown",
   "id": "e6677923",
   "metadata": {},
   "source": [
    "6. 輸入西元年Y, 假設該年的1/1是Wed, 那麼印出這一年每月13號是Sat,Sun, ... 到Fri的次數"
   ]
  },
  {
   "cell_type": "markdown",
   "id": "25199f04",
   "metadata": {},
   "source": [
    "7. 原始題目\n",
    "- 輸入西元年 N\n",
    "- 已知1900/1/1是Mon\n",
    "- 計算從1900/1/1到 1900+N-1/12/31 中每月13號是星期幾的統計次數, \n",
    "- 輸出Sat,Sun到Fri的次數 "
   ]
  },
  {
   "cell_type": "markdown",
   "id": "e277fc79",
   "metadata": {},
   "source": [
    "8. USACO格式"
   ]
  },
  {
   "cell_type": "markdown",
   "id": "645fb7cf",
   "metadata": {},
   "source": [
    "- 備注一： join()用法"
   ]
  },
  {
   "cell_type": "code",
   "execution_count": null,
   "id": "7215d002",
   "metadata": {},
   "outputs": [],
   "source": [
    "d = [\"10\", \"20\", \"30\", \"40\", \"50\"] #元素必須爲str型態\n",
    "s = \" \".join(d)\n",
    "print(s)"
   ]
  },
  {
   "cell_type": "markdown",
   "id": "64958393",
   "metadata": {},
   "source": [
    "- 備注二: 使用python內建datetime模組來解題"
   ]
  },
  {
   "cell_type": "code",
   "execution_count": null,
   "id": "f6b58173",
   "metadata": {},
   "outputs": [],
   "source": [
    "# 先測試\n",
    "from datetime import date, timedelta\n",
    "today = date(2023,12,3) # 年,月,日 參數格式\n",
    "for i in range(10):\n",
    "    day = today+timedelta(days=i)\n",
    "    print(day,day.weekday())"
   ]
  },
  {
   "cell_type": "code",
   "execution_count": null,
   "id": "b0e34100",
   "metadata": {},
   "outputs": [],
   "source": [
    "# 解題\n",
    "from datetime import date, timedelta\n",
    "N = int(input())\n",
    "d = 13\n",
    "day_list = [0]*7 # (Mon to Sun)\n",
    "for y in range(1900,1900+N):\n",
    "    for m in range(1,13):\n",
    "        theDay = date(y,m,d)\n",
    "        wd = theDay.weekday() # 0,1,2,...,6 (Mon to Sun)\n",
    "        day_list[wd]+=1\n",
    "for i in range(7):\n",
    "    print(day_list[(5+i)%7],end=\" \")"
   ]
  }
 ],
 "metadata": {
  "kernelspec": {
   "display_name": "Python 3",
   "language": "python",
   "name": "python3"
  },
  "language_info": {
   "codemirror_mode": {
    "name": "ipython",
    "version": 3
   },
   "file_extension": ".py",
   "mimetype": "text/x-python",
   "name": "python",
   "nbconvert_exporter": "python",
   "pygments_lexer": "ipython3",
   "version": "3.8.10"
  }
 },
 "nbformat": 4,
 "nbformat_minor": 5
}
