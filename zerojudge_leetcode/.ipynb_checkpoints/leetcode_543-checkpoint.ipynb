{
 "cells": [
  {
   "cell_type": "code",
   "execution_count": 8,
   "id": "c916f259-531c-482f-9b40-e801886c8ef8",
   "metadata": {},
   "outputs": [
    {
     "data": {
      "text/plain": [
       "2"
      ]
     },
     "execution_count": 8,
     "metadata": {},
     "output_type": "execute_result"
    }
   ],
   "source": [
    "# leetcode 543. Diameter of Binary Tree\n",
    "from typing import Optional\n",
    "# Definition for a binary tree node.\n",
    "class TreeNode:\n",
    "    def __init__(self, val=0, left=None, right=None):\n",
    "        self.val = val\n",
    "        self.left = left\n",
    "        self.right = right\n",
    "\n",
    "def calc(parent): \n",
    "    if not (parent.left or parent.right):\n",
    "        return (0,0) # the depth of the deepest leaf, and the diameter of the sub tree\n",
    "    if parent.left and parent.right:\n",
    "        left_data = calc(parent.left)\n",
    "        right_data = calc(parent.right)\n",
    "        d = left_data[0]+right_data[0]+2\n",
    "        return (max(left_data[0], right_data[0])+1, max(d,left_data[1], right_data[1]))\n",
    "    if parent.left:\n",
    "        left_data = calc(parent.left)\n",
    "        if left_data[1]==left_data[0]:\n",
    "            return (left_data[0]+1, left_data[1]+1)\n",
    "        else:\n",
    "            return (left_data[0]+1, left_data[1])\n",
    "    if parent.right:\n",
    "        right_data = calc(parent.right)\n",
    "        if right_data[1]==right_data[0]:\n",
    "            return (right_data[0]+1, right_data[1]+1)\n",
    "        else:\n",
    "            return (right_data[0]+1, right_data[1])\n",
    "    \n",
    "    \n",
    "class Solution:\n",
    "    def diameterOfBinaryTree(self, root: Optional[TreeNode]) -> int:\n",
    "        result = calc(root)\n",
    "        return result[1]\n",
    "\n",
    "s = Solution()\n",
    "data = [1,2,None,4,5]\n",
    "root = TreeNode(data[0])\n",
    "l1 = TreeNode(data[1])\n",
    "# r1 = TreeNode(data[2])\n",
    "l2 = TreeNode(data[3])\n",
    "r2 = TreeNode(data[4])\n",
    "root.left = l1\n",
    "# root.right= r1\n",
    "l1.left = l2\n",
    "l1.right = r2\n",
    "# data = [1,2]\n",
    "# root = TreeNode(data[0])\n",
    "# l1 = TreeNode(data[1])\n",
    "# root.left = l1\n",
    "s.diameterOfBinaryTree(root)\n"
   ]
  }
 ],
 "metadata": {
  "kernelspec": {
   "display_name": "Python 3 (ipykernel)",
   "language": "python",
   "name": "python3"
  },
  "language_info": {
   "codemirror_mode": {
    "name": "ipython",
    "version": 3
   },
   "file_extension": ".py",
   "mimetype": "text/x-python",
   "name": "python",
   "nbconvert_exporter": "python",
   "pygments_lexer": "ipython3",
   "version": "3.12.1"
  }
 },
 "nbformat": 4,
 "nbformat_minor": 5
}
