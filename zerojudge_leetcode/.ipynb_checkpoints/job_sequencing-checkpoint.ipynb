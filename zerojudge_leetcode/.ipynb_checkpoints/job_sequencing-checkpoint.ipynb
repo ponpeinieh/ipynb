{
 "cells": [
  {
   "cell_type": "code",
   "execution_count": 17,
   "id": "17411e2d",
   "metadata": {},
   "outputs": [],
   "source": [
    "class Job:\n",
    "    def __init__(self, job_id, deadline, profit):\n",
    "        self.job_id = job_id\n",
    "        self.deadline = deadline\n",
    "        self.profit = profit\n",
    "    def __str__(self):\n",
    "        return f'{self.job_id}: {self.deadline}, {self.profit}'\n",
    "def jobScheduling(job_arr):\n",
    "    max_deadline = job_arr[0].deadline\n",
    "    for j in job_arr:\n",
    "        if j.deadline>max_deadline:\n",
    "            max_deadline = j.deadline\n",
    "    result = [None]*max_deadline\n",
    "    max_profit = 0\n",
    "    for j in job_arr:\n",
    "        for i in range(j.deadline-1,-1,-1):\n",
    "            if not result[i]:\n",
    "                result[i] = j\n",
    "                max_profit+=j.profit\n",
    "                break\n",
    "    for j in result:\n",
    "        if j:\n",
    "            print(j.job_id)\n",
    "    print(max_profit)"
   ]
  },
  {
   "cell_type": "code",
   "execution_count": 18,
   "id": "7ec1ef1f",
   "metadata": {},
   "outputs": [
    {
     "name": "stdout",
     "output_type": "stream",
     "text": [
      "c\n",
      "a\n",
      "e\n",
      "142\n"
     ]
    }
   ],
   "source": [
    "arr = [['a', 2, 100],['b', 1, 19],['c', 2, 27],['d', 1, 25],['e', 3, 15]] # Job Array\n",
    "job_arr = [Job(j[0],j[1],j[2]) for j in arr]\n",
    "# sort the job_arr by profit\n",
    "job_arr.sort(key = lambda j:j.profit, reverse=True)\n",
    "# for j in job_arr:\n",
    "#     print(j)\n",
    "jobScheduling(job_arr)\n",
    " "
   ]
  },
  {
   "cell_type": "code",
   "execution_count": null,
   "id": "961cb062",
   "metadata": {},
   "outputs": [],
   "source": []
  }
 ],
 "metadata": {
  "kernelspec": {
   "display_name": "Python 3",
   "language": "python",
   "name": "python3"
  },
  "language_info": {
   "codemirror_mode": {
    "name": "ipython",
    "version": 3
   },
   "file_extension": ".py",
   "mimetype": "text/x-python",
   "name": "python",
   "nbconvert_exporter": "python",
   "pygments_lexer": "ipython3",
   "version": "3.8.10"
  }
 },
 "nbformat": 4,
 "nbformat_minor": 5
}
