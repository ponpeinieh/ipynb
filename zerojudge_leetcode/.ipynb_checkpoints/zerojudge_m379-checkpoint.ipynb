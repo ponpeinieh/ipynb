{
 "cells": [
  {
   "cell_type": "code",
   "execution_count": null,
   "id": "c6587cee-e6c2-48c8-87d5-f1ccd1604899",
   "metadata": {},
   "outputs": [],
   "source": [
    "# zerojudge m370. 1. 機械鼠 2023年10月APCS\n",
    "def binarySearch(start, end, target):\n",
    "    if start>end:\n",
    "        return start\n",
    "    middle = (start+end)//2\n",
    "    if target>data[middle]:\n",
    "        return binarySearch(middle+1, end, target)\n",
    "    else:\n",
    "        return binarySearch(0, middle-1, target)\n",
    "\n",
    "x,n = map(int, input().split())\n",
    "data = list(map(int, input().split()))\n",
    "# first sort data\n",
    "data.sort()\n",
    "result = binarySearch(0, len(data)-1, x)\n",
    "left = result\n",
    "right = n - result\n",
    "if left>right:\n",
    "    print(left, data[0])\n",
    "else:\n",
    "    print(right, data[-1])"
   ]
  }
 ],
 "metadata": {
  "kernelspec": {
   "display_name": "Python 3 (ipykernel)",
   "language": "python",
   "name": "python3"
  },
  "language_info": {
   "codemirror_mode": {
    "name": "ipython",
    "version": 3
   },
   "file_extension": ".py",
   "mimetype": "text/x-python",
   "name": "python",
   "nbconvert_exporter": "python",
   "pygments_lexer": "ipython3",
   "version": "3.12.1"
  }
 },
 "nbformat": 4,
 "nbformat_minor": 5
}
