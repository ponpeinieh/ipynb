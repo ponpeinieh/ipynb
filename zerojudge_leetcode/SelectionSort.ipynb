{
 "cells": [
  {
   "cell_type": "code",
   "execution_count": 1,
   "id": "b26ee832",
   "metadata": {},
   "outputs": [],
   "source": [
    "def selection_sort(arr):\n",
    "    for i in range(len(arr)-1):\n",
    "        min_i = i\n",
    "        for j in range(i,len(arr)):\n",
    "            if arr[j]<arr[min_i]:\n",
    "                min_i = j\n",
    "        #swap min_i with i\n",
    "        arr[i], arr[min_i] = arr[min_i], arr[i]    "
   ]
  },
  {
   "cell_type": "code",
   "execution_count": 3,
   "id": "7b187d2c",
   "metadata": {},
   "outputs": [
    {
     "name": "stdout",
     "output_type": "stream",
     "text": [
      "Before sort [8, 5, 0, 6, 7, 4, 2, 1, 9, 11, 3, 10]\n",
      "After sort [0, 1, 2, 3, 4, 5, 6, 7, 8, 9, 10, 11]\n"
     ]
    }
   ],
   "source": [
    "import random\n",
    "length=12\n",
    "A = random.sample(range(length),k=length)\n",
    "print(\"Before sort\", A)\n",
    "selection_sort(A)\n",
    "print(\"After sort\", A) "
   ]
  }
 ],
 "metadata": {
  "kernelspec": {
   "display_name": "Python 3",
   "language": "python",
   "name": "python3"
  },
  "language_info": {
   "codemirror_mode": {
    "name": "ipython",
    "version": 3
   },
   "file_extension": ".py",
   "mimetype": "text/x-python",
   "name": "python",
   "nbconvert_exporter": "python",
   "pygments_lexer": "ipython3",
   "version": "3.8.10"
  }
 },
 "nbformat": 4,
 "nbformat_minor": 5
}
