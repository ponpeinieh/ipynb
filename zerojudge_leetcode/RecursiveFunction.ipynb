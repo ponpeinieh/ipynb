{
 "cells": [
  {
   "cell_type": "code",
   "execution_count": null,
   "id": "f3cfc638",
   "metadata": {},
   "outputs": [],
   "source": [
    "# define a recursive function to calculate n! (factorial)\n",
    "def factorial(n):\n",
    "    # terminating logic\n",
    "    if n==1:\n",
    "        return 1\n",
    "    # recursive logic\n",
    "    return n*factorial(n-1)\n",
    "\n",
    "# 5! = 5*4*3*2*1 = 120\n",
    "n = 5\n",
    "print(factorial(n))"
   ]
  }
 ],
 "metadata": {
  "kernelspec": {
   "display_name": "Python 3",
   "language": "python",
   "name": "python3"
  },
  "language_info": {
   "codemirror_mode": {
    "name": "ipython",
    "version": 3
   },
   "file_extension": ".py",
   "mimetype": "text/x-python",
   "name": "python",
   "nbconvert_exporter": "python",
   "pygments_lexer": "ipython3",
   "version": "3.8.10"
  }
 },
 "nbformat": 4,
 "nbformat_minor": 5
}
