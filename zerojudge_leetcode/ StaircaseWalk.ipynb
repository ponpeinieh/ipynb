{
 "cells": [
  {
   "cell_type": "code",
   "execution_count": 1,
   "id": "e14a5efd",
   "metadata": {},
   "outputs": [
    {
     "name": "stdout",
     "output_type": "stream",
     "text": [
      "3432\n",
      "[1, 1, 1, 1, 1, 1, 1, 1]\n",
      "[1, 2, 3, 4, 5, 6, 7, 8]\n",
      "[1, 3, 6, 10, 15, 21, 28, 36]\n",
      "[1, 4, 10, 20, 35, 56, 84, 120]\n",
      "[1, 5, 15, 35, 70, 126, 210, 330]\n",
      "[1, 6, 21, 56, 126, 252, 462, 792]\n",
      "[1, 7, 28, 84, 210, 462, 924, 1716]\n",
      "[1, 8, 36, 120, 330, 792, 1716, 3432]\n",
      "count= 64\n"
     ]
    }
   ],
   "source": [
    "# Staircase Walk\n",
    "# Dynamic programming with top-down approach\n",
    "def printGrids(grids):\n",
    "    for r in grids:\n",
    "        print(r)\n",
    "count=0\n",
    "def walk(r,c, grids):\n",
    "    if grids[r][c]!=0:\n",
    "        return grids[r][c]\n",
    "    global count\n",
    "    count+=1\n",
    "    if r==0 and c==0:\n",
    "        grids[r][c] = 1\n",
    "    else:\n",
    "        if r-1>=0:\n",
    "            grids[r][c] += walk(r-1,c,grids)\n",
    "        if c-1>=0:\n",
    "            grids[r][c] += walk(r,c-1,grids)\n",
    "    return grids[r][c]\n",
    "    \n",
    "r = 8\n",
    "c = 8\n",
    "grids = [[0]*c for _ in range(r)]\n",
    "print(walk(r-1,c-1,grids))\n",
    "printGrids(grids)\n",
    "print('count=',count)"
   ]
  },
  {
   "cell_type": "code",
   "execution_count": null,
   "id": "3a7afdbf",
   "metadata": {},
   "outputs": [],
   "source": [
    "# Staircase Walk\n",
    "# Dynamic programming with bottom-up approach\n",
    "def printGrids(grids):\n",
    "    for r in grids:\n",
    "        print(r)\n",
    "def walk(r,c):\n",
    "    grids = [[0]*c for _ in range(r)]\n",
    "    #print(grids)\n",
    "    grids[0][0]=1\n",
    "    for i in range(r):\n",
    "        for j in range(c):\n",
    "            if i-1>=0:\n",
    "                grids[i][j]+=grids[i-1][j]\n",
    "            if j-1>=0:\n",
    "                grids[i][j]+=grids[i][j-1]\n",
    "    printGrids(grids)\n",
    "    return grids[r-1][c-1]\n",
    "print(walk(4,5))"
   ]
  }
 ],
 "metadata": {
  "kernelspec": {
   "display_name": "Python 3",
   "language": "python",
   "name": "python3"
  },
  "language_info": {
   "codemirror_mode": {
    "name": "ipython",
    "version": 3
   },
   "file_extension": ".py",
   "mimetype": "text/x-python",
   "name": "python",
   "nbconvert_exporter": "python",
   "pygments_lexer": "ipython3",
   "version": "3.8.10"
  }
 },
 "nbformat": 4,
 "nbformat_minor": 5
}
