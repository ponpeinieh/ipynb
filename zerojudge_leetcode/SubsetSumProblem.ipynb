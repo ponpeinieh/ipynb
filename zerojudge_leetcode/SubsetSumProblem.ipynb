{
 "cells": [
  {
   "cell_type": "markdown",
   "id": "1f628344",
   "metadata": {},
   "source": [
    "<img src=\"subsetSum.png\" alt=\"subset sum problem with backtrack\" width=\"400\"/>"
   ]
  },
  {
   "cell_type": "code",
   "execution_count": null,
   "id": "9e945399",
   "metadata": {},
   "outputs": [],
   "source": [
    "# The elements in data are all positive \n",
    "# First implementation: find all subset solutions\n",
    "def printSubsetSum(L, targetSum):\n",
    "    global hasSolution\n",
    "    if targetSum == 0:\n",
    "        hasSolution=True\n",
    "        print(stack)\n",
    "        return\n",
    "    if L==N:\n",
    "        return\n",
    "    # if the current element data[L]<= targetSum, include it\n",
    "    if data[L]<=targetSum:\n",
    "        stack.append(data[L])\n",
    "        printSubsetSum(L+1, targetSum-data[L])\n",
    "        stack.pop()\n",
    "    # do not include the current element  \n",
    "    printSubsetSum(L+1, targetSum)\n",
    "    \n",
    "hasSolution=False \n",
    "data = [2,1,2]\n",
    "targetSum=3\n",
    "# data = [3, 34, 4, 12, 5, 2]\n",
    "# targetSum=30\n",
    "N=len(data)\n",
    "stack=[]\n",
    "L=0\n",
    "printSubsetSum(L, targetSum)\n",
    "if not hasSolution:\n",
    "    print('There is no such subset')"
   ]
  },
  {
   "cell_type": "code",
   "execution_count": null,
   "id": "7b8b7e69",
   "metadata": {},
   "outputs": [],
   "source": [
    "# The elements in data are all positive \n",
    "# Second implementation: find the first subset solution if exists.\n",
    "def printSubsetSum(L, targetSum):\n",
    "    if targetSum == 0: \n",
    "        print(stack)\n",
    "        return True\n",
    "    if L==N:\n",
    "        return False\n",
    "    # if the current element data[L] is less than targetSum, include it\n",
    "    if data[L]<=targetSum:\n",
    "        stack.append(data[L])\n",
    "        if printSubsetSum(L+1, targetSum-data[L]):\n",
    "            return True\n",
    "        stack.pop()\n",
    "    # do not include the current element  \n",
    "    if printSubsetSum(L+1, targetSum):\n",
    "        return True\n",
    "    return False\n",
    "     \n",
    "data = [1,2,1]\n",
    "targetSum=3\n",
    "# data = [3, 34, 4, 12, 5, 2]\n",
    "# targetSum=30\n",
    "N = len(data)\n",
    "stack=[]\n",
    "L=0\n",
    "if not printSubsetSum(L, targetSum): \n",
    "    print('There is no such subset')"
   ]
  },
  {
   "cell_type": "code",
   "execution_count": null,
   "id": "a2d02383",
   "metadata": {},
   "outputs": [],
   "source": [
    "# The elements in data may be positive or negative, the sum is 0\n",
    "# To avoid getting the shortest subset only (ie. get [-2,1,2,-1], but not [-2,1,2,-1,1,-1]), \n",
    "# First sort the input data array\n",
    "# Find all subset solutions\n",
    "def printSubsetSum(L, currentSum):\n",
    "    global hasSolution\n",
    "    if stack and currentSum == 0:\n",
    "        hasSolution=True\n",
    "        print(stack)\n",
    "        return\n",
    "    if L==N:\n",
    "        return\n",
    "    stack.append(data[L])\n",
    "    printSubsetSum(L+1, currentSum-data[L])\n",
    "    stack.pop()\n",
    "    # do not include the current element  \n",
    "    printSubsetSum(L+1, currentSum)\n",
    "    \n",
    "hasSolution=False \n",
    "data = [-2,1,2,-1,1,-1]\n",
    "data.sort() #sort first\n",
    "currentSum=0\n",
    "N = len(data)\n",
    "L=0\n",
    "stack=[]\n",
    "printSubsetSum(L,currentSum)\n",
    "if not hasSolution:\n",
    "    print('There is no such subset')"
   ]
  }
 ],
 "metadata": {
  "kernelspec": {
   "display_name": "Python 3 (ipykernel)",
   "language": "python",
   "name": "python3"
  },
  "language_info": {
   "codemirror_mode": {
    "name": "ipython",
    "version": 3
   },
   "file_extension": ".py",
   "mimetype": "text/x-python",
   "name": "python",
   "nbconvert_exporter": "python",
   "pygments_lexer": "ipython3",
   "version": "3.12.1"
  }
 },
 "nbformat": 4,
 "nbformat_minor": 5
}
