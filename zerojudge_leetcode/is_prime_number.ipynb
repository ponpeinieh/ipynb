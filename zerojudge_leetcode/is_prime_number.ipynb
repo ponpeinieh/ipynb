{
 "cells": [
  {
   "cell_type": "code",
   "execution_count": null,
   "id": "947638a2",
   "metadata": {},
   "outputs": [],
   "source": [
    "# test if n can be divided by 2 .. n-1 \n",
    "def is_prime_simple(n):\n",
    "    if n<=1:\n",
    "        return False\n",
    "    is_prime=True\n",
    "    for i in range(2, n):\n",
    "        if n%i==0:\n",
    "            is_prime=False\n",
    "    return is_prime"
   ]
  },
  {
   "cell_type": "code",
   "execution_count": null,
   "id": "5e3b1f7e",
   "metadata": {},
   "outputs": [],
   "source": [
    "# test if n can be divided by 2 .. square root of n\n",
    "import math\n",
    "def is_prime_simple_2(n):\n",
    "    if n<=1:\n",
    "        return False\n",
    "    if n<=3:\n",
    "        return True\n",
    "    is_prime=True\n",
    "    for i in range(2, math.floor(math.sqrt(n))+1):\n",
    "        if n%i==0:\n",
    "            is_prime=False\n",
    "    return is_prime"
   ]
  },
  {
   "cell_type": "code",
   "execution_count": null,
   "id": "f760b008",
   "metadata": {},
   "outputs": [],
   "source": [
    "import math\n",
    "def is_prime_simple_3(n):\n",
    "    if n<=1:\n",
    "        return False\n",
    "    if n<=3:\n",
    "        return True\n",
    "    if n%2==0 or n%3==0:\n",
    "        is_prime= False\n",
    "    else:\n",
    "        is_prime=True\n",
    "        for i in range(5, math.floor(math.sqrt(n))+1,6):\n",
    "            if n%i==0 or n%(i+2)==0:\n",
    "                is_prime= False\n",
    "                break\n",
    "    return is_prime"
   ]
  },
  {
   "cell_type": "code",
   "execution_count": null,
   "id": "83814662",
   "metadata": {},
   "outputs": [],
   "source": [
    "# 埃拉托斯特尼篩法（sieve of Eratosthenes）,埃氏篩,質數篩可以用來找出一定範圍內所有質數。\n",
    "# see reference: https://en.wikipedia.org/wiki/Sieve_of_Eratosthenes\n",
    "import math\n",
    "def primes_within(k):\n",
    "    is_prime = [True]*(k+1)\n",
    "    is_prime[0]=is_prime[1]=False\n",
    "    for i in range(2, math.floor(math.sqrt(k))+1):\n",
    "        if is_prime[i]:\n",
    "            for j in range(i*i, k+1, i):\n",
    "                is_prime[j]=False\n",
    "    return [i for i in range(k+1) if is_prime[i]]\n",
    "K = 2147483647\n",
    "primes = primes_within(K)\n",
    "def is_prime_sieve(n):\n",
    "    is_prime=True\n",
    "    for p in primes:\n",
    "        if p*p > n:\n",
    "            break\n",
    "        elif n%p==0 and n!=p:\n",
    "            is_prime=False\n",
    "    #TODO"
   ]
  },
  {
   "cell_type": "code",
   "execution_count": null,
   "id": "badc83a3",
   "metadata": {},
   "outputs": [],
   "source": [
    "#test code\n",
    "primes = []\n",
    "for i in range(1001):\n",
    "    result = is_prime_simple(i)\n",
    "#     result = is_prime_simple_2(i)\n",
    "#     result = is_prime_simple_3(i)\n",
    "    if result:\n",
    "        primes.append(i)\n",
    "print(len(primes),primes)"
   ]
  }
 ],
 "metadata": {
  "kernelspec": {
   "display_name": "Python 3",
   "language": "python",
   "name": "python3"
  },
  "language_info": {
   "codemirror_mode": {
    "name": "ipython",
    "version": 3
   },
   "file_extension": ".py",
   "mimetype": "text/x-python",
   "name": "python",
   "nbconvert_exporter": "python",
   "pygments_lexer": "ipython3",
   "version": "3.8.10"
  }
 },
 "nbformat": 4,
 "nbformat_minor": 5
}
