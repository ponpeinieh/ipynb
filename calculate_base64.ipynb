{
 "cells": [
  {
   "cell_type": "code",
   "execution_count": null,
   "id": "bbc2924e-e23c-4092-8e27-bcab57e16d94",
   "metadata": {},
   "outputs": [],
   "source": [
    "def toBase64(byteobject):\n",
    "    length = len(byteobject) \n",
    "    start=0\n",
    "    while start<length:\n",
    "        temp = byteobject[start:start+3]\n",
    "        while len(temp)<3:\n",
    "            temp+=b'\\x00'\n",
    "        print(temp)\n",
    "        result = threeBytesToFour(temp)\n",
    "        print(result)\n",
    "        start+=3\n",
    "def threeBytesToFour(byteobject):\n",
    "    #assuming the input must be 3-byte long\n",
    "    #so total 24 bits (0-23)\n",
    "    result = b''\n",
    "    #get bit 0-5\n",
    "    result+=(byteobject[0]>>2).to_bytes(1)\n",
    "    \n",
    "    #get bit 6-11\n",
    "    temp1 = byteobject[0] & 3\n",
    "    temp2 = byteobject[1] >>4\n",
    "    result+=(temp1*16+temp2).to_bytes(1)\n",
    "    \n",
    "    #get bit 12-17\n",
    "    temp1 = byteobject[1] & 15\n",
    "    temp2 = byteobject[2] >>6\n",
    "    result+=(temp1*4+temp2).to_bytes(1)\n",
    "    \n",
    "    #get bit 18-23\n",
    "    temp1 = byteobject[2] & 63\n",
    "    result+=temp1.to_bytes(1)\n",
    "    \n",
    "    print(f'{result}')\n",
    "    return result\n",
    "toBase64(b'ManManM')"
   ]
  },
  {
   "cell_type": "code",
   "execution_count": null,
   "id": "f8bdcf3b-5176-4b42-af91-e3244efa0d1a",
   "metadata": {},
   "outputs": [],
   "source": [
    "\n",
    "def fromBase64(base64object):\n",
    "    pass\n"
   ]
  }
 ],
 "metadata": {
  "kernelspec": {
   "display_name": "Python 3 (ipykernel)",
   "language": "python",
   "name": "python3"
  },
  "language_info": {
   "codemirror_mode": {
    "name": "ipython",
    "version": 3
   },
   "file_extension": ".py",
   "mimetype": "text/x-python",
   "name": "python",
   "nbconvert_exporter": "python",
   "pygments_lexer": "ipython3",
   "version": "3.11.4"
  }
 },
 "nbformat": 4,
 "nbformat_minor": 5
}
