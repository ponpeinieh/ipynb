{
 "cells": [
  {
   "cell_type": "markdown",
   "id": "5ff233c9",
   "metadata": {},
   "source": [
    "### Iterable and Iterator\n",
    "1. Iterable(可迭代的)\n",
    "   - Iterable 物件可以利用迭代器尋訪每一個item. 例如: list\n",
    "   - 可以透過 iter(Iterable) built-in function 來產生Iterator物件\n",
    "   - Iterable 物件不必然一定是Iterator物件. 例如List不是Iterator物件\n",
    "   - Iterable 必須實作\\_\\_iter\\_\\_() method, 或者 \\_\\_getitem\\_\\_() method 才能夠利用iter() 來產生Iterator物件\n",
    "   - 當for-in loop執行時, 會呼叫iter() function, 產生Iterator物件, 然後透過它的\\_\\_next\\_\\_() method來取得每一個item\n",
    "2. Iterator(迭代器)\n",
    "   - Iterator物件, 提供Iterable物件的迭代功能(亦即呼叫 \\_\\_next\\_\\_() method.)\n",
    "   - Iterator 有 \\_\\_next\\_\\_() method, 回傳下一個item\n",
    "   - 每一個Iterator物件也必定是一個Iterable物件\n",
    "   - 當沒有下一個item時, \\_\\_next\\_\\_() method會throw StopIteration exception. \n",
    "       - 若是使用在for-in loop中, 會terminate loop\n",
    "   - next(Iterator) built-in funciton 會呼叫該Iterator物件的\\_\\_next\\_\\_() method\n",
    "   \n",
    "### Built-in Functions\n",
    "1. iter(object[, sentinel])\n",
    "   - 若沒有提供第二個參數, 則object必須實作\\_\\_iter\\_\\_() method, 或者 \\_\\_getitem\\_\\_() method, 否則將throw TypeError\n",
    "   - 若有提供第二個參數sentinel, 則object須爲callable物件. 所產生的Iterator物件, 當其\\_\\_next\\_\\_()被呼叫時, 會呼叫一次callable物件, 並回傳其結果. 若回傳的物件等於sentinel則throw StopIteration exception\n",
    "2. next(iterator[, default]) \n",
    "   - 呼叫iterator物件的\\_\\_next\\_\\_(), 取得iterator物件的下一個item, \n",
    "   - If default is given, it is returned if the iterator is exhausted, otherwise StopIteration is raised.\n",
    "\n",
    "\n",
    "## Notes:\n",
    "   \n",
    "- 有支援iteration protocol的物件須實作\\_\\_iter\\_\\_() method\n",
    "\n",
    "- 有支援sequence protocol的物件須實作\\_\\_getitem\\_\\_() method"
   ]
  },
  {
   "cell_type": "code",
   "execution_count": 4,
   "id": "96e58240",
   "metadata": {},
   "outputs": [
    {
     "name": "stdout",
     "output_type": "stream",
     "text": [
      "Berlin\n",
      "Vienna\n",
      "Zurich\n"
     ]
    }
   ],
   "source": [
    "# list of cities\n",
    "cities = [\"Berlin\", \"Vienna\", \"Zurich\"]\n",
    "  \n",
    "iterator_obj = iter(cities)\n",
    "  \n",
    "print(next(iterator_obj))\n",
    "print(next(iterator_obj))\n",
    "print(next(iterator_obj))"
   ]
  },
  {
   "cell_type": "code",
   "execution_count": 5,
   "id": "2f67fa05",
   "metadata": {
    "scrolled": true
   },
   "outputs": [
    {
     "ename": "StopIteration",
     "evalue": "",
     "output_type": "error",
     "traceback": [
      "\u001b[1;31m---------------------------------------------------------------------------\u001b[0m",
      "\u001b[1;31mStopIteration\u001b[0m                             Traceback (most recent call last)",
      "\u001b[1;32m<ipython-input-5-375fbed451da>\u001b[0m in \u001b[0;36m<module>\u001b[1;34m\u001b[0m\n\u001b[0;32m      1\u001b[0m \u001b[1;31m# the 4th call will throw StopIteration exception\u001b[0m\u001b[1;33m\u001b[0m\u001b[1;33m\u001b[0m\u001b[1;33m\u001b[0m\u001b[0m\n\u001b[1;32m----> 2\u001b[1;33m \u001b[0mprint\u001b[0m\u001b[1;33m(\u001b[0m\u001b[0mnext\u001b[0m\u001b[1;33m(\u001b[0m\u001b[0miterator_obj\u001b[0m\u001b[1;33m)\u001b[0m\u001b[1;33m)\u001b[0m\u001b[1;33m\u001b[0m\u001b[1;33m\u001b[0m\u001b[0m\n\u001b[0m",
      "\u001b[1;31mStopIteration\u001b[0m: "
     ]
    }
   ],
   "source": [
    "# the 4th call will throw StopIteration exception\n",
    "print(next(iterator_obj))"
   ]
  },
  {
   "cell_type": "code",
   "execution_count": 4,
   "id": "574f4042",
   "metadata": {},
   "outputs": [
    {
     "name": "stdout",
     "output_type": "stream",
     "text": [
      "34  is iterable :  False\n",
      "[4, 5]  is iterable :  True\n",
      "(4, 5)  is iterable :  True\n",
      "{'a': 4}  is iterable :  True\n",
      "dfsdf  is iterable :  True\n",
      "4.5  is iterable :  False\n"
     ]
    }
   ],
   "source": [
    "# Function to check object\n",
    "# is iterable or not \n",
    "def iterable(obj):\n",
    "    try:\n",
    "        iter(obj) #obj必須實作__iter__() method, 或者 __getitem__() method, 否則將throw TypeError\n",
    "        return True\n",
    "          \n",
    "    except TypeError:\n",
    "        return False\n",
    "  \n",
    "# Driver Code     \n",
    "for element in [34, [4, 5], (4, 5),\n",
    "             {\"a\":4}, \"dfsdf\", 4.5]:\n",
    "                   \n",
    "    print(element, \" is iterable : \", iterable(element))"
   ]
  }
 ],
 "metadata": {
  "kernelspec": {
   "display_name": "Python 3 (ipykernel)",
   "language": "python",
   "name": "python3"
  },
  "language_info": {
   "codemirror_mode": {
    "name": "ipython",
    "version": 3
   },
   "file_extension": ".py",
   "mimetype": "text/x-python",
   "name": "python",
   "nbconvert_exporter": "python",
   "pygments_lexer": "ipython3",
   "version": "3.10.0"
  }
 },
 "nbformat": 4,
 "nbformat_minor": 5
}
