{
 "cells": [
  {
   "cell_type": "markdown",
   "id": "da2f365e",
   "metadata": {},
   "source": [
    "### try - except - else - finally\n",
    "- The try block lets you test a block of code for errors.\n",
    "- The except block lets you handle the error.\n",
    "- The else block lets you execute code when there is no error.\n",
    "- The finally block lets you execute code, regardless of the result of the try- and except blocks."
   ]
  },
  {
   "cell_type": "code",
   "execution_count": null,
   "id": "042bcbd5",
   "metadata": {},
   "outputs": [],
   "source": [
    "print(\"Give me two numbers, and I'll divide them.\")\n",
    "print(\"Enter 'q' to quit.\")\n",
    "while True:\n",
    "    first_number = input(\"\\nFirst number: \")\n",
    "    if first_number == 'q':\n",
    "        break\n",
    "    second_number = input(\"Second number: \")\n",
    "    if second_number == 'q':\n",
    "        break\n",
    "    try:\n",
    "        answer = int(first_number) / int(second_number)\n",
    "        print(answer)\n",
    "    except ZeroDivisionError:\n",
    "        print(\"You can't divide by 0!\")    "
   ]
  },
  {
   "cell_type": "code",
   "execution_count": null,
   "id": "3e13347a",
   "metadata": {},
   "outputs": [],
   "source": [
    "print(\"Give me two numbers, and I'll divide them.\")\n",
    "print(\"Enter 'q' to quit.\")\n",
    "while True:\n",
    "    first_number = input(\"\\nFirst number: \")\n",
    "    if first_number == 'q':\n",
    "        break\n",
    "    second_number = input(\"Second number: \")\n",
    "    if second_number == 'q':\n",
    "        break\n",
    "    try:\n",
    "        answer = int(first_number) / int(second_number)\n",
    "    except ZeroDivisionError:\n",
    "        print(\"You can't divide by 0!\")    \n",
    "    else:\n",
    "        print(answer)"
   ]
  },
  {
   "cell_type": "code",
   "execution_count": null,
   "id": "1d00decb",
   "metadata": {},
   "outputs": [],
   "source": [
    "filename=\"test.txt\"\n",
    "try:\n",
    "    with open(filename, encoding=\"utf-8\") as f:\n",
    "        contents = f.read()\n",
    "except FileNotFoundError:\n",
    "    print(f\"Sorry , the file {filename!r} does not exist!\") #!r does the repr() conversion"
   ]
  },
  {
   "cell_type": "code",
   "execution_count": null,
   "id": "cf5accd0",
   "metadata": {},
   "outputs": [],
   "source": [
    "filename=\"data.txt\"\n",
    "try:\n",
    "    f= open(filename, encoding=\"utf-8\")\n",
    "except FileNotFoundError:\n",
    "    print(f\"Sorry , the file {filename!r} does not exist!\") #!r does the repr() conversion\n",
    "else:\n",
    "    contents = f.read()\n",
    "    print(contents)\n",
    "finally:\n",
    "    f.close()"
   ]
  },
  {
   "cell_type": "markdown",
   "id": "1567cb4d",
   "metadata": {},
   "source": [
    "### Raise an exception\n",
    "- As a Python developer you can choose to throw an exception if a condition occurs.\n",
    "- To throw (or raise) an exception, use the raise keyword.\n",
    "- You can define what kind of error to raise, and the text to print to the user.\n",
    "- Example 1\n",
    "\n",
    "```\n",
    "x = -1\n",
    "\n",
    "if x < 0:\n",
    "  raise Exception(\"Sorry, no numbers below zero\")\n",
    "```\n",
    "- Example 2\n",
    " \n",
    "```\n",
    "x = \"hello\"\n",
    "\n",
    "if not type(x) is int:\n",
    "  raise TypeError(\"Only integers are allowed\")\n",
    "```"
   ]
  },
  {
   "cell_type": "code",
   "execution_count": null,
   "id": "3bc157b7",
   "metadata": {},
   "outputs": [],
   "source": [
    "x = \"hello\"\n",
    "\n",
    "if not type(x) is int:\n",
    "  raise TypeError(\"Only integers are allowed\")"
   ]
  }
 ],
 "metadata": {
  "kernelspec": {
   "display_name": "Python 3 (ipykernel)",
   "language": "python",
   "name": "python3"
  },
  "language_info": {
   "codemirror_mode": {
    "name": "ipython",
    "version": 3
   },
   "file_extension": ".py",
   "mimetype": "text/x-python",
   "name": "python",
   "nbconvert_exporter": "python",
   "pygments_lexer": "ipython3",
   "version": "3.10.0"
  }
 },
 "nbformat": 4,
 "nbformat_minor": 5
}
