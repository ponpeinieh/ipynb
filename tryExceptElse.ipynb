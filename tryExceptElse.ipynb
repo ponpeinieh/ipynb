{
 "cells": [
  {
   "cell_type": "code",
   "execution_count": null,
   "id": "042bcbd5",
   "metadata": {},
   "outputs": [],
   "source": [
    "print(\"Give me two numbers, and I'll divide them.\")\n",
    "print(\"Enter 'q' to quit.\")\n",
    "while True:\n",
    "    first_number = input(\"\\nFirst number: \")\n",
    "    if first_number == 'q':\n",
    "        break\n",
    "    second_number = input(\"Second number: \")\n",
    "    if second_number == 'q':\n",
    "        break\n",
    "    try:\n",
    "        answer = int(first_number) / int(second_number)\n",
    "        print(answer)\n",
    "    except ZeroDivisionError:\n",
    "        print(\"You can't divide by 0!\")    "
   ]
  },
  {
   "cell_type": "code",
   "execution_count": null,
   "id": "3e13347a",
   "metadata": {},
   "outputs": [],
   "source": [
    "print(\"Give me two numbers, and I'll divide them.\")\n",
    "print(\"Enter 'q' to quit.\")\n",
    "while True:\n",
    "    first_number = input(\"\\nFirst number: \")\n",
    "    if first_number == 'q':\n",
    "        break\n",
    "    second_number = input(\"Second number: \")\n",
    "    if second_number == 'q':\n",
    "        break\n",
    "    try:\n",
    "        answer = int(first_number) / int(second_number)\n",
    "    except ZeroDivisionError:\n",
    "        print(\"You can't divide by 0!\")    \n",
    "    else:\n",
    "        print(answer)"
   ]
  },
  {
   "cell_type": "code",
   "execution_count": null,
   "id": "1d00decb",
   "metadata": {},
   "outputs": [],
   "source": [
    "filename=\"test.txt\"\n",
    "try:\n",
    "    with open(filename, encoding=\"utf-8\") as f:\n",
    "        contents = f.read()\n",
    "except FileNotFoundError:\n",
    "    print(f\"Sorry , the file {filename!r} does not exist!\") #!r doese the repr() conversion"
   ]
  }
 ],
 "metadata": {
  "kernelspec": {
   "display_name": "Python 3",
   "language": "python",
   "name": "python3"
  },
  "language_info": {
   "codemirror_mode": {
    "name": "ipython",
    "version": 3
   },
   "file_extension": ".py",
   "mimetype": "text/x-python",
   "name": "python",
   "nbconvert_exporter": "python",
   "pygments_lexer": "ipython3",
   "version": "3.8.5"
  }
 },
 "nbformat": 4,
 "nbformat_minor": 5
}
