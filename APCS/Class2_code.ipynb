{
 "cells": [
  {
   "cell_type": "code",
   "execution_count": null,
   "id": "a353dea7-c96c-4023-a7d0-7fd85a6c6ea4",
   "metadata": {},
   "outputs": [],
   "source": [
    "a=[1,-3,2]\n",
    "b=[-2,2]\n",
    "result_add=[0]*(max(len(a),len(b)))\n",
    "result_substract=[0]*(max(len(a),len(b)))\n",
    "if len(a)<len(b):\n",
    "    for _ in range(len(b)-len(a)):\n",
    "        a.append(0)\n",
    "elif len(a)>len(b):\n",
    "    for _ in range(len(a)-len(b)):\n",
    "        b.append(0)\n",
    "for i in range(len(a)):\n",
    "    result_add[i]=a[i]+b[i]\n",
    "    result_substract[i]=a[i]-b[i]\n",
    "print(result_add)\n",
    "print(result_substract)"
   ]
  },
  {
   "cell_type": "code",
   "execution_count": null,
   "id": "b7d88902-e05f-458a-bbd1-5681eb606ae3",
   "metadata": {},
   "outputs": [],
   "source": [
    "# see reference doc : https://docs.python.org/3/library/itertools.html#itertools.zip_longest\n",
    "from itertools import zip_longest\n",
    "a=[1,-3,2]\n",
    "b=[-2,2]\n",
    "result_add=[]\n",
    "result_substract=[]\n",
    "for x,y in zip_longest(a,b,fillvalue=0):\n",
    "    result_add.append(x+y)\n",
    "    result_substract.append(x-y)\n",
    "print(result_add)\n",
    "print(result_substract)"
   ]
  },
  {
   "cell_type": "code",
   "execution_count": null,
   "id": "69e2b9a6-bcf3-40ff-97b1-c52dcaba2f46",
   "metadata": {},
   "outputs": [],
   "source": [
    "a=[3,2,2,-3,1,1,0]\n",
    "b=[2,2,1,-2,0]\n",
    "result_add = dict()\n",
    "result_substract=dict()\n",
    "for i in range(a[0]):\n",
    "    result_add[a[i*2+2]]=a[i*2+1]\n",
    "    result_substract[a[i*2+2]]=a[i*2+1]\n",
    "for i in range(b[0]):\n",
    "    if b[i*2+2] in result_add:\n",
    "        result_add[b[i*2+2]]+=b[i*2+1] \n",
    "        result_substract[b[i*2+2]]-=b[i*2+1] \n",
    "    else:\n",
    "        result_add[b[i*2+2]]=b[i*2+1] \n",
    "        result_substract[b[i*2+2]]=-1*b[i*2+1] \n",
    "print(result_add)\n",
    "print(result_substract)\n",
    "def toPolyList(poly_dict):\n",
    "    result=[]\n",
    "    result.append(len(poly_dict))\n",
    "    for k in sorted(poly_dict.keys(), reverse=True):\n",
    "        result.append(poly_dict[k])\n",
    "        result.append(k)\n",
    "    return result\n",
    "print(toPolyList(result_add))\n",
    "print(toPolyList(result_substract))\n"
   ]
  },
  {
   "cell_type": "code",
   "execution_count": null,
   "id": "416a5fe3-e101-4014-9112-cdcb30addd39",
   "metadata": {},
   "outputs": [],
   "source": [
    "# f(x)=7X5+5X2+3X\n",
    "# g(x)=-4X3+2X2-X+5\n",
    "a=[3,7,5,5,x,3,1]\n",
    "b=[4,-4,3,2,2,-1,1,5,0]\n",
    "def add_poly(a,b):\n",
    "    result_add = dict()\n",
    "    for i in range(a[0]):\n",
    "        result_add[a[i*2+2]]=a[i*2+1]\n",
    "    for i in range(b[0]):\n",
    "        if b[i*2+2] in result_add:\n",
    "            result_add[b[i*2+2]]+=b[i*2+1] \n",
    "        else:\n",
    "            result_add[b[i*2+2]]=b[i*2+1] \n",
    "    return result_add\n",
    "def substract_poly(a,b):\n",
    "    result_substract=dict()\n",
    "    for i in range(a[0]):\n",
    "        result_substract[a[i*2+2]]=a[i*2+1]\n",
    "    for i in range(b[0]):\n",
    "        if b[i*2+2] in result_substract:\n",
    "            result_substract[b[i*2+2]]-=b[i*2+1] \n",
    "        else:\n",
    "            result_substract[b[i*2+2]]=-1*b[i*2+1] \n",
    "    return result_substract\n",
    "print(add_poly(a,b))\n",
    "print(substract_poly(a,b))\n",
    "print(toPolyList(add_poly(a,b)))\n",
    "print(toPolyList(substract_poly(a,b)))"
   ]
  }
 ],
 "metadata": {
  "kernelspec": {
   "display_name": "Python 3 (ipykernel)",
   "language": "python",
   "name": "python3"
  },
  "language_info": {
   "codemirror_mode": {
    "name": "ipython",
    "version": 3
   },
   "file_extension": ".py",
   "mimetype": "text/x-python",
   "name": "python",
   "nbconvert_exporter": "python",
   "pygments_lexer": "ipython3",
   "version": "3.12.3"
  }
 },
 "nbformat": 4,
 "nbformat_minor": 5
}
