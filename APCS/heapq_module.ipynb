{
 "cells": [
  {
   "cell_type": "code",
   "execution_count": null,
   "id": "66cd8b00-09f6-4618-b783-3642c81ef119",
   "metadata": {},
   "outputs": [],
   "source": [
    "# how to create a priority queue from a list\n",
    "import heapq\n",
    "import random\n",
    "mylist = random.sample(range(1,100), k=15)\n",
    "heapq.heapify(mylist)\n",
    "print(mylist)"
   ]
  },
  {
   "cell_type": "code",
   "execution_count": null,
   "id": "137fe127-4e58-4113-973a-95e769731fc2",
   "metadata": {},
   "outputs": [],
   "source": [
    "item = heapq.heappushpop(mylist, 4)\n",
    "print(item)\n",
    "print(mylist)\n",
    "item = heapq.heappushpop(mylist, 1) # push first and then pop, so the mim value is returned.\n",
    "print(item)\n",
    "print(mylist)"
   ]
  },
  {
   "cell_type": "code",
   "execution_count": null,
   "id": "571ff76d-dbb7-4e66-a8eb-bab5a5b83ac2",
   "metadata": {},
   "outputs": [],
   "source": [
    "item = heapq.heapreplace(mylist, 5)\n",
    "print(item)\n",
    "print(mylist)\n",
    "item = heapq.heapreplace(mylist, 3) # pop first and then push, so the min value may not be returned.\n",
    "print(item)\n",
    "print(mylist)"
   ]
  }
 ],
 "metadata": {
  "kernelspec": {
   "display_name": "Python 3 (ipykernel)",
   "language": "python",
   "name": "python3"
  },
  "language_info": {
   "codemirror_mode": {
    "name": "ipython",
    "version": 3
   },
   "file_extension": ".py",
   "mimetype": "text/x-python",
   "name": "python",
   "nbconvert_exporter": "python",
   "pygments_lexer": "ipython3",
   "version": "3.12.3"
  }
 },
 "nbformat": 4,
 "nbformat_minor": 5
}
