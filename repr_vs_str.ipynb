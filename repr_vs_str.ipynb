{
 "cells": [
  {
   "cell_type": "code",
   "execution_count": 1,
   "id": "2845faa6",
   "metadata": {},
   "outputs": [
    {
     "name": "stdout",
     "output_type": "stream",
     "text": [
      "hello world\n",
      "'hello world'\n"
     ]
    }
   ],
   "source": [
    "s = 'hello world'\n",
    "print(str(s))\n",
    "print(repr(s))"
   ]
  },
  {
   "cell_type": "code",
   "execution_count": 5,
   "id": "c6d1dfc6",
   "metadata": {},
   "outputs": [
    {
     "name": "stdout",
     "output_type": "stream",
     "text": [
      "The message is hello world.\n",
      "The message is 'hello world'.\n"
     ]
    }
   ],
   "source": [
    "print(f'The message is {s}.')\n",
    "print(f'The message is {s!r}.')"
   ]
  },
  {
   "cell_type": "code",
   "execution_count": 11,
   "id": "1b6430e3",
   "metadata": {},
   "outputs": [
    {
     "name": "stdout",
     "output_type": "stream",
     "text": [
      "2022-01-19 10:33:11.392431\n",
      "datetime.datetime(2022, 1, 19, 10, 33, 11, 392431)\n"
     ]
    }
   ],
   "source": [
    "import datetime\n",
    "today = datetime.datetime.now()\n",
    "  \n",
    "# Prints readable format for date-time object\n",
    "print (str(today))\n",
    "  \n",
    "# prints the official format of date-time object\n",
    "print (repr(today))    "
   ]
  },
  {
   "cell_type": "code",
   "execution_count": 10,
   "id": "423cde8a",
   "metadata": {},
   "outputs": [],
   "source": [
    "class Complex:\n",
    "  \n",
    "    # Constructor\n",
    "    def __init__(self, real, imag):\n",
    "       self.real = real\n",
    "       self.imag = imag\n",
    "\n",
    "    # For call to repr(). Prints object's information\n",
    "    def __repr__(self):\n",
    "       return 'Complex(%s, %s)' % (self.real, self.imag)    \n",
    "  \n",
    "    # For call to str(). Prints readable form\n",
    "    def __str__(self):\n",
    "       return '%s + i%s' % (self.real, self.imag)    \n"
   ]
  },
  {
   "cell_type": "code",
   "execution_count": 8,
   "id": "f8eb43f6",
   "metadata": {},
   "outputs": [
    {
     "data": {
      "text/plain": [
       "'<__main__.Complex object at 0x0000016807A3BD90>'"
      ]
     },
     "execution_count": 8,
     "metadata": {},
     "output_type": "execute_result"
    }
   ],
   "source": [
    "c =Complex(1,2)\n",
    "repr(c)"
   ]
  },
  {
   "cell_type": "code",
   "execution_count": 9,
   "id": "75b7a211",
   "metadata": {},
   "outputs": [
    {
     "data": {
      "text/plain": [
       "'<__main__.Complex object at 0x0000016807A3BD90>'"
      ]
     },
     "execution_count": 9,
     "metadata": {},
     "output_type": "execute_result"
    }
   ],
   "source": [
    "str(c)"
   ]
  }
 ],
 "metadata": {
  "kernelspec": {
   "display_name": "Python 3 (ipykernel)",
   "language": "python",
   "name": "python3"
  },
  "language_info": {
   "codemirror_mode": {
    "name": "ipython",
    "version": 3
   },
   "file_extension": ".py",
   "mimetype": "text/x-python",
   "name": "python",
   "nbconvert_exporter": "python",
   "pygments_lexer": "ipython3",
   "version": "3.10.0"
  }
 },
 "nbformat": 4,
 "nbformat_minor": 5
}
